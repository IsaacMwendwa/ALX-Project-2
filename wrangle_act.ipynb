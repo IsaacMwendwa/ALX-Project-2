{
  "cells": [
    {
      "cell_type": "markdown",
      "metadata": {
        "extensions": {
          "jupyter_dashboards": {
            "version": 1,
            "views": {
              "grid_default": {
                "col": 0,
                "height": 4,
                "hidden": false,
                "row": 0,
                "width": 4
              },
              "report_default": {
                "hidden": false
              }
            }
          }
        },
        "id": "TOeRoZbd45q0"
      },
      "source": [
        "# Project: Wrangling and Analyze Data"
      ]
    },
    {
      "cell_type": "markdown",
      "source": [
        "## Importing Libraries"
      ],
      "metadata": {
        "id": "gVQ3gSy75tVD"
      }
    },
    {
      "cell_type": "code",
      "source": [
        "import pandas as pd\n",
        "import numpy as np\n",
        "import matplotlib.pyplot as plt\n",
        "import seaborn as sns\n",
        "import scipy\n",
        "import tweepy\n",
        "import json\n",
        "import requests\n",
        "import os\n",
        "%matplotlib inline"
      ],
      "metadata": {
        "id": "Kism0VaG57Xa"
      },
      "execution_count": 4,
      "outputs": []
    },
    {
      "cell_type": "markdown",
      "metadata": {
        "id": "xWz7J5gd45q5"
      },
      "source": [
        "# Data Gathering\n",
        "In the cell below, gather **all** three pieces of data for this project and load them in the notebook. **Note:** the methods required to gather each data are different.\n",
        "1. Directly download the WeRateDogs Twitter archive data (twitter_archive_enhanced.csv)"
      ]
    },
    {
      "cell_type": "code",
      "source": [
        ""
      ],
      "metadata": {
        "id": "rFUcYU977BtB"
      },
      "execution_count": null,
      "outputs": []
    },
    {
      "cell_type": "markdown",
      "metadata": {
        "id": "VKBGB58f5z6C"
      },
      "source": [
        "### Mounting Google Drive"
      ]
    },
    {
      "cell_type": "code",
      "metadata": {
        "id": "_e6hMqJu5xiH",
        "colab": {
          "base_uri": "https://localhost:8080/"
        },
        "outputId": "401bb4f7-8319-4e6d-b083-3421c47cacda"
      },
      "source": [
        "from google.colab import drive\n",
        "drive.mount('/content/drive')"
      ],
      "execution_count": 1,
      "outputs": [
        {
          "output_type": "stream",
          "name": "stdout",
          "text": [
            "Mounted at /content/drive\n"
          ]
        }
      ]
    },
    {
      "cell_type": "markdown",
      "source": [
        "### Defining Path of Working Directory"
      ],
      "metadata": {
        "id": "nRkbA0aGwj7Z"
      }
    },
    {
      "cell_type": "code",
      "source": [
        "# Working Directory Path\n",
        "working_dir = '/content/drive/My Drive/Colab_Notebooks/ALX_2/'"
      ],
      "metadata": {
        "id": "xTcX7j_uwjEy"
      },
      "execution_count": 2,
      "outputs": []
    },
    {
      "cell_type": "markdown",
      "source": [
        "## 1. Reading downloaded dataset into Pandas Dataframe"
      ],
      "metadata": {
        "id": "fKzuGwY55x9i"
      }
    },
    {
      "cell_type": "markdown",
      "source": [
        "#### Renaming file downloaded/provided: twitter-archive-enhanced.csv"
      ],
      "metadata": {
        "id": "Q2IbmfLywV9R"
      }
    },
    {
      "cell_type": "code",
      "source": [
        "# Defining File Path\n",
        "old_name = working_dir + 'twitter-archive-enhanced.csv' #filename with hyphen (-)\n",
        "new_name = working_dir + 'twitter_archive_enhanced.csv' #filename with undescore (_)\n",
        "\n",
        "# Renaming the file\n",
        "os.rename(old_name, new_name)"
      ],
      "metadata": {
        "id": "KqZ0qX5nwV9Y"
      },
      "execution_count": null,
      "outputs": []
    },
    {
      "cell_type": "code",
      "source": [
        "# Confirming file rename\n",
        "os.listdir(working_dir)"
      ],
      "metadata": {
        "colab": {
          "base_uri": "https://localhost:8080/"
        },
        "outputId": "ad167e9f-2b36-4014-cdcf-d2c103493469",
        "id": "L-F5Az83wV9e"
      },
      "execution_count": null,
      "outputs": [
        {
          "output_type": "execute_result",
          "data": {
            "text/plain": [
              "['wrangle_act.ipynb',\n",
              " 'project2.ipynb',\n",
              " 'twitter_archive_enhanced.csv',\n",
              " 'image_predictions_folder',\n",
              " 'tweet_json.txt']"
            ]
          },
          "metadata": {},
          "execution_count": 30
        }
      ]
    },
    {
      "cell_type": "code",
      "execution_count": null,
      "metadata": {
        "extensions": {
          "jupyter_dashboards": {
            "version": 1,
            "views": {
              "grid_default": {
                "hidden": true
              },
              "report_default": {
                "hidden": true
              }
            }
          }
        },
        "id": "pMP7fVAL45q-"
      },
      "outputs": [],
      "source": [
        "# Specifying path of twitter_archive dataset\n",
        "twitter_archive_path = '/content/drive/My Drive/Colab_Notebooks/ALX_2/twitter_archive_enhanced.csv'\n",
        "\n",
        "# Reading path\n",
        "twitter_archive_df = pd.read_csv(twitter_archive_path)"
      ]
    },
    {
      "cell_type": "code",
      "source": [
        "# Checking columns in dataframe\n",
        "\n",
        "twitter_archive_df.columns"
      ],
      "metadata": {
        "colab": {
          "base_uri": "https://localhost:8080/"
        },
        "id": "wN8WWT__MuC-",
        "outputId": "d08a6ccc-b32b-4950-eedd-3aa5817fd8fa"
      },
      "execution_count": null,
      "outputs": [
        {
          "output_type": "execute_result",
          "data": {
            "text/plain": [
              "Index(['tweet_id', 'in_reply_to_status_id', 'in_reply_to_user_id', 'timestamp',\n",
              "       'source', 'text', 'retweeted_status_id', 'retweeted_status_user_id',\n",
              "       'retweeted_status_timestamp', 'expanded_urls', 'rating_numerator',\n",
              "       'rating_denominator', 'name', 'doggo', 'floofer', 'pupper', 'puppo'],\n",
              "      dtype='object')"
            ]
          },
          "metadata": {},
          "execution_count": 4
        }
      ]
    },
    {
      "cell_type": "code",
      "source": [
        "twitter_archive_df.shape"
      ],
      "metadata": {
        "colab": {
          "base_uri": "https://localhost:8080/"
        },
        "id": "cv3aWtphNliv",
        "outputId": "cfacf0c2-0e1e-4e50-af36-ff5db5ffe592"
      },
      "execution_count": null,
      "outputs": [
        {
          "output_type": "execute_result",
          "data": {
            "text/plain": [
              "(2356, 17)"
            ]
          },
          "metadata": {},
          "execution_count": 5
        }
      ]
    },
    {
      "cell_type": "markdown",
      "metadata": {
        "id": "f7hhitBr45rB"
      },
      "source": [
        "## 2. Use the Requests library to download the tweet image prediction (image_predictions.tsv)"
      ]
    },
    {
      "cell_type": "code",
      "source": [
        "# Defining path of folder\n",
        "image_predictions_folder = '/content/drive/My Drive/Colab_Notebooks/ALX_2/image_predictions_folder'\n",
        "\n",
        "# Creating directory if non-existent\n",
        "if not os.path.exists(image_predictions_folder):\n",
        "    os.makedirs(image_predictions_folder)"
      ],
      "metadata": {
        "id": "zysStzel-fa8"
      },
      "execution_count": null,
      "outputs": []
    },
    {
      "cell_type": "code",
      "source": [
        "# Checking if directory was created\n",
        "os.listdir(working_dir)"
      ],
      "metadata": {
        "colab": {
          "base_uri": "https://localhost:8080/"
        },
        "id": "5_TMsTEHAZA5",
        "outputId": "951ad661-02a4-4c2c-dc4a-eb38f6db9c45"
      },
      "execution_count": null,
      "outputs": [
        {
          "output_type": "execute_result",
          "data": {
            "text/plain": [
              "['wrangle_act.ipynb',\n",
              " 'project2.ipynb',\n",
              " 'twitter-archive-enhanced.csv',\n",
              " 'image_predictions_folder',\n",
              " 'tweet_json.txt']"
            ]
          },
          "metadata": {},
          "execution_count": 8
        }
      ]
    },
    {
      "cell_type": "code",
      "source": [
        "# Checking contents of (created) directory\n",
        "os.listdir(image_predictions_folder)"
      ],
      "metadata": {
        "colab": {
          "base_uri": "https://localhost:8080/"
        },
        "id": "Ky56bgVEA-FT",
        "outputId": "e6738c7e-b441-4a54-d748-b368d9960373"
      },
      "execution_count": null,
      "outputs": [
        {
          "output_type": "execute_result",
          "data": {
            "text/plain": [
              "['image-predictions.tsv']"
            ]
          },
          "metadata": {},
          "execution_count": 9
        }
      ]
    },
    {
      "cell_type": "code",
      "execution_count": null,
      "metadata": {
        "id": "g1iIAvJ545rD"
      },
      "outputs": [],
      "source": [
        "# Defining URL\n",
        "url = \"https://d17h27t6h515a5.cloudfront.net/topher/2017/August/599fd2ad_image-predictions/image-predictions.tsv\"\n",
        "\n",
        "# Using get method\n",
        "image_predictions_resp = requests.get(url)"
      ]
    },
    {
      "cell_type": "code",
      "source": [
        "# Checking type of object returned\n",
        "type(image_predictions_resp)"
      ],
      "metadata": {
        "colab": {
          "base_uri": "https://localhost:8080/"
        },
        "id": "xhTfUKQl_GaF",
        "outputId": "081e21fc-225c-4e16-ffd9-77a4cedd0771"
      },
      "execution_count": null,
      "outputs": [
        {
          "output_type": "execute_result",
          "data": {
            "text/plain": [
              "requests.models.Response"
            ]
          },
          "metadata": {},
          "execution_count": 11
        }
      ]
    },
    {
      "cell_type": "code",
      "source": [
        "#print(image_predictions_resp.text)"
      ],
      "metadata": {
        "id": "v-cJIO7291HG"
      },
      "execution_count": null,
      "outputs": []
    },
    {
      "cell_type": "markdown",
      "source": [
        "#### Accessing Content and Writing to File"
      ],
      "metadata": {
        "id": "DJ_zfWRg_VlK"
      }
    },
    {
      "cell_type": "code",
      "source": [
        "# Writing to a file\n",
        "with open(os.path.join(image_predictions_folder, url.split('/')[-1]), mode = 'wb') as file:\n",
        "    file.write(image_predictions_resp.content)"
      ],
      "metadata": {
        "id": "QTSMvi0s_d7-"
      },
      "execution_count": null,
      "outputs": []
    },
    {
      "cell_type": "code",
      "source": [
        "# Checking file was saved to disk\n",
        "os.listdir(image_predictions_folder)"
      ],
      "metadata": {
        "colab": {
          "base_uri": "https://localhost:8080/"
        },
        "id": "eSwDFLc4CMwA",
        "outputId": "e01dde5d-d71f-43e0-b3d8-57132594b474"
      },
      "execution_count": null,
      "outputs": [
        {
          "output_type": "execute_result",
          "data": {
            "text/plain": [
              "['image_predictions.tsv']"
            ]
          },
          "metadata": {},
          "execution_count": 22
        }
      ]
    },
    {
      "cell_type": "markdown",
      "source": [
        "#### Renaming file downloaded programmatically: image-predictions.tsv"
      ],
      "metadata": {
        "id": "UZtlzuqAu5eV"
      }
    },
    {
      "cell_type": "code",
      "source": [
        "# Defining File Path\n",
        "old_name = working_dir + 'image_predictions_folder/image-predictions.tsv' #filename with hyphen (-)\n",
        "new_name = working_dir + 'image_predictions_folder/image_predictions.tsv' #filename with undescore (_)\n",
        "\n",
        "# Renaming the file\n",
        "os.rename(old_name, new_name)"
      ],
      "metadata": {
        "id": "2HAQ9NVKu2xu"
      },
      "execution_count": null,
      "outputs": []
    },
    {
      "cell_type": "code",
      "source": [
        "# Confirming file rename\n",
        "os.listdir(image_predictions_folder)"
      ],
      "metadata": {
        "colab": {
          "base_uri": "https://localhost:8080/"
        },
        "id": "8CISrWjov8nd",
        "outputId": "48cd2d2a-4653-4ffd-a345-22e70f999fd0"
      },
      "execution_count": null,
      "outputs": [
        {
          "output_type": "execute_result",
          "data": {
            "text/plain": [
              "['image_predictions.tsv']"
            ]
          },
          "metadata": {},
          "execution_count": 34
        }
      ]
    },
    {
      "cell_type": "markdown",
      "metadata": {
        "id": "tTEfNh9m45rE"
      },
      "source": [
        "## 3. Use the Tweepy library to query additional data via the Twitter API (tweet_json.txt)"
      ]
    },
    {
      "cell_type": "markdown",
      "source": [
        "### Defining Tweepy Credentials"
      ],
      "metadata": {
        "id": "luftIur4I2P5"
      }
    },
    {
      "cell_type": "code",
      "execution_count": null,
      "metadata": {
        "id": "Mr6EdiVZ45rF"
      },
      "outputs": [],
      "source": [
        "# Consumer (API) key authentication\n",
        "consumer_key = 'I1p0KOzJQYYJBJY1ajZIz7Yl5'\n",
        "consumer_secret = '2uxcBKVgFc4yYJg8hcZedC30kivBIU3Xoddgk0x2NYMWLsWFXe'\n",
        "\n",
        "auth = tweepy.OAuthHandler(consumer_key, consumer_secret)\n",
        "\n",
        "\n",
        "# Access key authentication\n",
        "access_token = '1193870818201264129-Q93Ow1UikBtBcFAkDW0pvEdnL3ylb9'\n",
        "access_secret = 'XUtzOZkoMR396ZEJBK12CkY2w8eDMgwsSBTUVdwXtvUMz'\n",
        "\n",
        "auth.set_access_token(access_token, access_secret)\n",
        "\n",
        "\n",
        "# Set up the API with the authentication handler\n",
        "api = tweepy.API(auth)"
      ]
    },
    {
      "cell_type": "code",
      "source": [
        ""
      ],
      "metadata": {
        "id": "l8dVAxM_J3jE"
      },
      "execution_count": null,
      "outputs": []
    },
    {
      "cell_type": "code",
      "source": [
        "tweet_id_list = twitter_archive_df['tweet_id'].tolist()"
      ],
      "metadata": {
        "id": "1FHr0tJoNC3H"
      },
      "execution_count": null,
      "outputs": []
    },
    {
      "cell_type": "code",
      "source": [
        "len(tweet_id_list)"
      ],
      "metadata": {
        "colab": {
          "base_uri": "https://localhost:8080/"
        },
        "id": "6LJmbKkeNSyd",
        "outputId": "a405ddb0-3e47-4bd1-8ce6-086a57d523bd"
      },
      "execution_count": null,
      "outputs": [
        {
          "output_type": "execute_result",
          "data": {
            "text/plain": [
              "2356"
            ]
          },
          "metadata": {},
          "execution_count": 18
        }
      ]
    },
    {
      "cell_type": "code",
      "source": [
        ""
      ],
      "metadata": {
        "id": "LP1jAxheNvyr"
      },
      "execution_count": null,
      "outputs": []
    },
    {
      "cell_type": "code",
      "source": [
        "# Creating list to hold Tweet JSON Objects\n",
        "tweet_status_json_list = []"
      ],
      "metadata": {
        "id": "pp6r7I3URBEl"
      },
      "execution_count": null,
      "outputs": []
    },
    {
      "cell_type": "code",
      "source": [
        "# Iterating to get tweet extended information from tweet_ids in tweet_id_list\n",
        "\n",
        "for tweet_id in tweet_id_list:\n",
        "\n",
        "  try:\n",
        "    # Getting Status Object from API by tweet_id\n",
        "    tweet_status = api.get_status(tweet_id, tweet_mode='extended') #Mode = Extended; for more information\n",
        "  except tweepy.TweepError:\n",
        "    continue\n",
        "\n",
        "  #Converting Status Object to JSON Object\n",
        "  json_str = json.dumps(tweet_status._json)\n",
        "\n",
        "  #Appending JSON Object to list of JSON Objects\n",
        "  tweet_status_json_list.append(json_str)\n"
      ],
      "metadata": {
        "id": "0eu8iUgdT6uq"
      },
      "execution_count": null,
      "outputs": []
    },
    {
      "cell_type": "code",
      "source": [
        "# Checking length of \n",
        "len(tweet_status_json_list)"
      ],
      "metadata": {
        "colab": {
          "base_uri": "https://localhost:8080/"
        },
        "id": "k3o0uj4FU_EX",
        "outputId": "4d6ee459-5449-441e-e2b8-a61ee22aba8f"
      },
      "execution_count": null,
      "outputs": [
        {
          "output_type": "execute_result",
          "data": {
            "text/plain": [
              "3230"
            ]
          },
          "metadata": {},
          "execution_count": 31
        }
      ]
    },
    {
      "cell_type": "code",
      "source": [
        "# Defining path of tweet_json.txt File\n",
        "\n",
        "path = working_dir + 'tweet_json.txt'"
      ],
      "metadata": {
        "id": "9M-rchJQZUAd"
      },
      "execution_count": null,
      "outputs": []
    },
    {
      "cell_type": "code",
      "source": [
        "# Saving List of JSON Objects to tweet_json.txt File\n",
        "\n",
        "with open(path, \"w\") as fhandle:\n",
        "  for line in tweet_status_json_list:\n",
        "    fhandle.write(f'{line}\\n')"
      ],
      "metadata": {
        "id": "KFu7P_FXYgG-"
      },
      "execution_count": null,
      "outputs": []
    },
    {
      "cell_type": "markdown",
      "metadata": {
        "extensions": {
          "jupyter_dashboards": {
            "version": 1,
            "views": {
              "grid_default": {
                "col": 4,
                "height": 4,
                "hidden": false,
                "row": 28,
                "width": 4
              },
              "report_default": {
                "hidden": false
              }
            }
          }
        },
        "id": "FSAjJ8Bh45rF"
      },
      "source": [
        "## Assessing Data\n",
        "In this section, detect and document at least **eight (8) quality issues and two (2) tidiness issue**. You must use **both** visual assessment\n",
        "programmatic assessement to assess the data.\n",
        "\n",
        "**Note:** pay attention to the following key points when you access the data.\n",
        "\n",
        "* You only want original ratings (no retweets) that have images. Though there are 5000+ tweets in the dataset, not all are dog ratings and some are retweets.\n",
        "* Assessing and cleaning the entire dataset completely would require a lot of time, and is not necessary to practice and demonstrate your skills in data wrangling. Therefore, the requirements of this project are only to assess and clean at least 8 quality issues and at least 2 tidiness issues in this dataset.\n",
        "* The fact that the rating numerators are greater than the denominators does not need to be cleaned. This [unique rating system](http://knowyourmeme.com/memes/theyre-good-dogs-brent) is a big part of the popularity of WeRateDogs.\n",
        "* You do not need to gather the tweets beyond August 1st, 2017. You can, but note that you won't be able to gather the image predictions for these tweets since you don't have access to the algorithm used.\n",
        "\n"
      ]
    },
    {
      "cell_type": "markdown",
      "source": [
        "### Reading Datasets Gathered"
      ],
      "metadata": {
        "id": "YMQVv3ZTnckK"
      }
    },
    {
      "cell_type": "markdown",
      "source": [
        "####1.   Reading twitter-archive-enhanced.csv Dataset (File provided)"
      ],
      "metadata": {
        "id": "WRZ5eU8moj23"
      }
    },
    {
      "cell_type": "code",
      "source": [
        "# Reading dataset: twitter-archive-enhanced.csv\n",
        "twitter_archive_df = pd.read_csv(working_dir + 'twitter_archive_enhanced.csv')"
      ],
      "metadata": {
        "id": "2TvJvw5R7U3P"
      },
      "execution_count": 5,
      "outputs": []
    },
    {
      "cell_type": "code",
      "source": [
        "# Checking columns in dataframe\n",
        "twitter_archive_df.columns"
      ],
      "metadata": {
        "colab": {
          "base_uri": "https://localhost:8080/"
        },
        "id": "MCkTB5UCoRUG",
        "outputId": "8ba097ef-a6ed-4a71-d782-fc8312cdb7e6"
      },
      "execution_count": 6,
      "outputs": [
        {
          "output_type": "execute_result",
          "data": {
            "text/plain": [
              "Index(['tweet_id', 'in_reply_to_status_id', 'in_reply_to_user_id', 'timestamp',\n",
              "       'source', 'text', 'retweeted_status_id', 'retweeted_status_user_id',\n",
              "       'retweeted_status_timestamp', 'expanded_urls', 'rating_numerator',\n",
              "       'rating_denominator', 'name', 'doggo', 'floofer', 'pupper', 'puppo'],\n",
              "      dtype='object')"
            ]
          },
          "metadata": {},
          "execution_count": 6
        }
      ]
    },
    {
      "cell_type": "code",
      "source": [
        "# Shape of Dataframe\n",
        "twitter_archive_df.shape"
      ],
      "metadata": {
        "colab": {
          "base_uri": "https://localhost:8080/"
        },
        "id": "JiQdaw3aoUfy",
        "outputId": "1f58d57f-8cc3-48eb-9c47-9c531bcb53c5"
      },
      "execution_count": 7,
      "outputs": [
        {
          "output_type": "execute_result",
          "data": {
            "text/plain": [
              "(2356, 17)"
            ]
          },
          "metadata": {},
          "execution_count": 7
        }
      ]
    },
    {
      "cell_type": "code",
      "source": [
        "# Checking info\n",
        "twitter_archive_df.info()"
      ],
      "metadata": {
        "colab": {
          "base_uri": "https://localhost:8080/"
        },
        "id": "PC1dWenl7-a4",
        "outputId": "f8d84650-ce30-44a8-9d7d-f86df780a9ad"
      },
      "execution_count": 9,
      "outputs": [
        {
          "output_type": "stream",
          "name": "stdout",
          "text": [
            "<class 'pandas.core.frame.DataFrame'>\n",
            "RangeIndex: 2356 entries, 0 to 2355\n",
            "Data columns (total 17 columns):\n",
            " #   Column                      Non-Null Count  Dtype  \n",
            "---  ------                      --------------  -----  \n",
            " 0   tweet_id                    2356 non-null   int64  \n",
            " 1   in_reply_to_status_id       78 non-null     float64\n",
            " 2   in_reply_to_user_id         78 non-null     float64\n",
            " 3   timestamp                   2356 non-null   object \n",
            " 4   source                      2356 non-null   object \n",
            " 5   text                        2356 non-null   object \n",
            " 6   retweeted_status_id         181 non-null    float64\n",
            " 7   retweeted_status_user_id    181 non-null    float64\n",
            " 8   retweeted_status_timestamp  181 non-null    object \n",
            " 9   expanded_urls               2297 non-null   object \n",
            " 10  rating_numerator            2356 non-null   int64  \n",
            " 11  rating_denominator          2356 non-null   int64  \n",
            " 12  name                        2356 non-null   object \n",
            " 13  doggo                       2356 non-null   object \n",
            " 14  floofer                     2356 non-null   object \n",
            " 15  pupper                      2356 non-null   object \n",
            " 16  puppo                       2356 non-null   object \n",
            "dtypes: float64(4), int64(3), object(10)\n",
            "memory usage: 313.0+ KB\n"
          ]
        }
      ]
    },
    {
      "cell_type": "code",
      "source": [
        "# Checking first 5 rows\n",
        "twitter_archive_df.head()"
      ],
      "metadata": {
        "colab": {
          "base_uri": "https://localhost:8080/",
          "height": 635
        },
        "id": "yIFReJY_Ab_d",
        "outputId": "25942965-3c1a-4632-bb81-0e674a135a5e"
      },
      "execution_count": null,
      "outputs": [
        {
          "output_type": "execute_result",
          "data": {
            "text/plain": [
              "             tweet_id  in_reply_to_status_id  in_reply_to_user_id  \\\n",
              "0  892420643555336193                    NaN                  NaN   \n",
              "1  892177421306343426                    NaN                  NaN   \n",
              "2  891815181378084864                    NaN                  NaN   \n",
              "3  891689557279858688                    NaN                  NaN   \n",
              "4  891327558926688256                    NaN                  NaN   \n",
              "\n",
              "                   timestamp  \\\n",
              "0  2017-08-01 16:23:56 +0000   \n",
              "1  2017-08-01 00:17:27 +0000   \n",
              "2  2017-07-31 00:18:03 +0000   \n",
              "3  2017-07-30 15:58:51 +0000   \n",
              "4  2017-07-29 16:00:24 +0000   \n",
              "\n",
              "                                              source  \\\n",
              "0  <a href=\"http://twitter.com/download/iphone\" r...   \n",
              "1  <a href=\"http://twitter.com/download/iphone\" r...   \n",
              "2  <a href=\"http://twitter.com/download/iphone\" r...   \n",
              "3  <a href=\"http://twitter.com/download/iphone\" r...   \n",
              "4  <a href=\"http://twitter.com/download/iphone\" r...   \n",
              "\n",
              "                                                text  retweeted_status_id  \\\n",
              "0  This is Phineas. He's a mystical boy. Only eve...                  NaN   \n",
              "1  This is Tilly. She's just checking pup on you....                  NaN   \n",
              "2  This is Archie. He is a rare Norwegian Pouncin...                  NaN   \n",
              "3  This is Darla. She commenced a snooze mid meal...                  NaN   \n",
              "4  This is Franklin. He would like you to stop ca...                  NaN   \n",
              "\n",
              "   retweeted_status_user_id retweeted_status_timestamp  \\\n",
              "0                       NaN                        NaN   \n",
              "1                       NaN                        NaN   \n",
              "2                       NaN                        NaN   \n",
              "3                       NaN                        NaN   \n",
              "4                       NaN                        NaN   \n",
              "\n",
              "                                       expanded_urls  rating_numerator  \\\n",
              "0  https://twitter.com/dog_rates/status/892420643...                13   \n",
              "1  https://twitter.com/dog_rates/status/892177421...                13   \n",
              "2  https://twitter.com/dog_rates/status/891815181...                12   \n",
              "3  https://twitter.com/dog_rates/status/891689557...                13   \n",
              "4  https://twitter.com/dog_rates/status/891327558...                12   \n",
              "\n",
              "   rating_denominator      name doggo floofer pupper puppo  \n",
              "0                  10   Phineas  None    None   None  None  \n",
              "1                  10     Tilly  None    None   None  None  \n",
              "2                  10    Archie  None    None   None  None  \n",
              "3                  10     Darla  None    None   None  None  \n",
              "4                  10  Franklin  None    None   None  None  "
            ],
            "text/html": [
              "\n",
              "  <div id=\"df-2a4e310d-c578-4d3f-81b4-7eea3f6ef2d6\">\n",
              "    <div class=\"colab-df-container\">\n",
              "      <div>\n",
              "<style scoped>\n",
              "    .dataframe tbody tr th:only-of-type {\n",
              "        vertical-align: middle;\n",
              "    }\n",
              "\n",
              "    .dataframe tbody tr th {\n",
              "        vertical-align: top;\n",
              "    }\n",
              "\n",
              "    .dataframe thead th {\n",
              "        text-align: right;\n",
              "    }\n",
              "</style>\n",
              "<table border=\"1\" class=\"dataframe\">\n",
              "  <thead>\n",
              "    <tr style=\"text-align: right;\">\n",
              "      <th></th>\n",
              "      <th>tweet_id</th>\n",
              "      <th>in_reply_to_status_id</th>\n",
              "      <th>in_reply_to_user_id</th>\n",
              "      <th>timestamp</th>\n",
              "      <th>source</th>\n",
              "      <th>text</th>\n",
              "      <th>retweeted_status_id</th>\n",
              "      <th>retweeted_status_user_id</th>\n",
              "      <th>retweeted_status_timestamp</th>\n",
              "      <th>expanded_urls</th>\n",
              "      <th>rating_numerator</th>\n",
              "      <th>rating_denominator</th>\n",
              "      <th>name</th>\n",
              "      <th>doggo</th>\n",
              "      <th>floofer</th>\n",
              "      <th>pupper</th>\n",
              "      <th>puppo</th>\n",
              "    </tr>\n",
              "  </thead>\n",
              "  <tbody>\n",
              "    <tr>\n",
              "      <th>0</th>\n",
              "      <td>892420643555336193</td>\n",
              "      <td>NaN</td>\n",
              "      <td>NaN</td>\n",
              "      <td>2017-08-01 16:23:56 +0000</td>\n",
              "      <td>&lt;a href=\"http://twitter.com/download/iphone\" r...</td>\n",
              "      <td>This is Phineas. He's a mystical boy. Only eve...</td>\n",
              "      <td>NaN</td>\n",
              "      <td>NaN</td>\n",
              "      <td>NaN</td>\n",
              "      <td>https://twitter.com/dog_rates/status/892420643...</td>\n",
              "      <td>13</td>\n",
              "      <td>10</td>\n",
              "      <td>Phineas</td>\n",
              "      <td>None</td>\n",
              "      <td>None</td>\n",
              "      <td>None</td>\n",
              "      <td>None</td>\n",
              "    </tr>\n",
              "    <tr>\n",
              "      <th>1</th>\n",
              "      <td>892177421306343426</td>\n",
              "      <td>NaN</td>\n",
              "      <td>NaN</td>\n",
              "      <td>2017-08-01 00:17:27 +0000</td>\n",
              "      <td>&lt;a href=\"http://twitter.com/download/iphone\" r...</td>\n",
              "      <td>This is Tilly. She's just checking pup on you....</td>\n",
              "      <td>NaN</td>\n",
              "      <td>NaN</td>\n",
              "      <td>NaN</td>\n",
              "      <td>https://twitter.com/dog_rates/status/892177421...</td>\n",
              "      <td>13</td>\n",
              "      <td>10</td>\n",
              "      <td>Tilly</td>\n",
              "      <td>None</td>\n",
              "      <td>None</td>\n",
              "      <td>None</td>\n",
              "      <td>None</td>\n",
              "    </tr>\n",
              "    <tr>\n",
              "      <th>2</th>\n",
              "      <td>891815181378084864</td>\n",
              "      <td>NaN</td>\n",
              "      <td>NaN</td>\n",
              "      <td>2017-07-31 00:18:03 +0000</td>\n",
              "      <td>&lt;a href=\"http://twitter.com/download/iphone\" r...</td>\n",
              "      <td>This is Archie. He is a rare Norwegian Pouncin...</td>\n",
              "      <td>NaN</td>\n",
              "      <td>NaN</td>\n",
              "      <td>NaN</td>\n",
              "      <td>https://twitter.com/dog_rates/status/891815181...</td>\n",
              "      <td>12</td>\n",
              "      <td>10</td>\n",
              "      <td>Archie</td>\n",
              "      <td>None</td>\n",
              "      <td>None</td>\n",
              "      <td>None</td>\n",
              "      <td>None</td>\n",
              "    </tr>\n",
              "    <tr>\n",
              "      <th>3</th>\n",
              "      <td>891689557279858688</td>\n",
              "      <td>NaN</td>\n",
              "      <td>NaN</td>\n",
              "      <td>2017-07-30 15:58:51 +0000</td>\n",
              "      <td>&lt;a href=\"http://twitter.com/download/iphone\" r...</td>\n",
              "      <td>This is Darla. She commenced a snooze mid meal...</td>\n",
              "      <td>NaN</td>\n",
              "      <td>NaN</td>\n",
              "      <td>NaN</td>\n",
              "      <td>https://twitter.com/dog_rates/status/891689557...</td>\n",
              "      <td>13</td>\n",
              "      <td>10</td>\n",
              "      <td>Darla</td>\n",
              "      <td>None</td>\n",
              "      <td>None</td>\n",
              "      <td>None</td>\n",
              "      <td>None</td>\n",
              "    </tr>\n",
              "    <tr>\n",
              "      <th>4</th>\n",
              "      <td>891327558926688256</td>\n",
              "      <td>NaN</td>\n",
              "      <td>NaN</td>\n",
              "      <td>2017-07-29 16:00:24 +0000</td>\n",
              "      <td>&lt;a href=\"http://twitter.com/download/iphone\" r...</td>\n",
              "      <td>This is Franklin. He would like you to stop ca...</td>\n",
              "      <td>NaN</td>\n",
              "      <td>NaN</td>\n",
              "      <td>NaN</td>\n",
              "      <td>https://twitter.com/dog_rates/status/891327558...</td>\n",
              "      <td>12</td>\n",
              "      <td>10</td>\n",
              "      <td>Franklin</td>\n",
              "      <td>None</td>\n",
              "      <td>None</td>\n",
              "      <td>None</td>\n",
              "      <td>None</td>\n",
              "    </tr>\n",
              "  </tbody>\n",
              "</table>\n",
              "</div>\n",
              "      <button class=\"colab-df-convert\" onclick=\"convertToInteractive('df-2a4e310d-c578-4d3f-81b4-7eea3f6ef2d6')\"\n",
              "              title=\"Convert this dataframe to an interactive table.\"\n",
              "              style=\"display:none;\">\n",
              "        \n",
              "  <svg xmlns=\"http://www.w3.org/2000/svg\" height=\"24px\"viewBox=\"0 0 24 24\"\n",
              "       width=\"24px\">\n",
              "    <path d=\"M0 0h24v24H0V0z\" fill=\"none\"/>\n",
              "    <path d=\"M18.56 5.44l.94 2.06.94-2.06 2.06-.94-2.06-.94-.94-2.06-.94 2.06-2.06.94zm-11 1L8.5 8.5l.94-2.06 2.06-.94-2.06-.94L8.5 2.5l-.94 2.06-2.06.94zm10 10l.94 2.06.94-2.06 2.06-.94-2.06-.94-.94-2.06-.94 2.06-2.06.94z\"/><path d=\"M17.41 7.96l-1.37-1.37c-.4-.4-.92-.59-1.43-.59-.52 0-1.04.2-1.43.59L10.3 9.45l-7.72 7.72c-.78.78-.78 2.05 0 2.83L4 21.41c.39.39.9.59 1.41.59.51 0 1.02-.2 1.41-.59l7.78-7.78 2.81-2.81c.8-.78.8-2.07 0-2.86zM5.41 20L4 18.59l7.72-7.72 1.47 1.35L5.41 20z\"/>\n",
              "  </svg>\n",
              "      </button>\n",
              "      \n",
              "  <style>\n",
              "    .colab-df-container {\n",
              "      display:flex;\n",
              "      flex-wrap:wrap;\n",
              "      gap: 12px;\n",
              "    }\n",
              "\n",
              "    .colab-df-convert {\n",
              "      background-color: #E8F0FE;\n",
              "      border: none;\n",
              "      border-radius: 50%;\n",
              "      cursor: pointer;\n",
              "      display: none;\n",
              "      fill: #1967D2;\n",
              "      height: 32px;\n",
              "      padding: 0 0 0 0;\n",
              "      width: 32px;\n",
              "    }\n",
              "\n",
              "    .colab-df-convert:hover {\n",
              "      background-color: #E2EBFA;\n",
              "      box-shadow: 0px 1px 2px rgba(60, 64, 67, 0.3), 0px 1px 3px 1px rgba(60, 64, 67, 0.15);\n",
              "      fill: #174EA6;\n",
              "    }\n",
              "\n",
              "    [theme=dark] .colab-df-convert {\n",
              "      background-color: #3B4455;\n",
              "      fill: #D2E3FC;\n",
              "    }\n",
              "\n",
              "    [theme=dark] .colab-df-convert:hover {\n",
              "      background-color: #434B5C;\n",
              "      box-shadow: 0px 1px 3px 1px rgba(0, 0, 0, 0.15);\n",
              "      filter: drop-shadow(0px 1px 2px rgba(0, 0, 0, 0.3));\n",
              "      fill: #FFFFFF;\n",
              "    }\n",
              "  </style>\n",
              "\n",
              "      <script>\n",
              "        const buttonEl =\n",
              "          document.querySelector('#df-2a4e310d-c578-4d3f-81b4-7eea3f6ef2d6 button.colab-df-convert');\n",
              "        buttonEl.style.display =\n",
              "          google.colab.kernel.accessAllowed ? 'block' : 'none';\n",
              "\n",
              "        async function convertToInteractive(key) {\n",
              "          const element = document.querySelector('#df-2a4e310d-c578-4d3f-81b4-7eea3f6ef2d6');\n",
              "          const dataTable =\n",
              "            await google.colab.kernel.invokeFunction('convertToInteractive',\n",
              "                                                     [key], {});\n",
              "          if (!dataTable) return;\n",
              "\n",
              "          const docLinkHtml = 'Like what you see? Visit the ' +\n",
              "            '<a target=\"_blank\" href=https://colab.research.google.com/notebooks/data_table.ipynb>data table notebook</a>'\n",
              "            + ' to learn more about interactive tables.';\n",
              "          element.innerHTML = '';\n",
              "          dataTable['output_type'] = 'display_data';\n",
              "          await google.colab.output.renderOutput(dataTable, element);\n",
              "          const docLink = document.createElement('div');\n",
              "          docLink.innerHTML = docLinkHtml;\n",
              "          element.appendChild(docLink);\n",
              "        }\n",
              "      </script>\n",
              "    </div>\n",
              "  </div>\n",
              "  "
            ]
          },
          "metadata": {},
          "execution_count": 10
        }
      ]
    },
    {
      "cell_type": "code",
      "source": [
        "# Checking datatypes of columns\n",
        "twitter_archive_df.dtypes"
      ],
      "metadata": {
        "colab": {
          "base_uri": "https://localhost:8080/"
        },
        "id": "egLscRDIIQVH",
        "outputId": "789c8be2-edee-44c8-941c-85302907d588"
      },
      "execution_count": null,
      "outputs": [
        {
          "output_type": "execute_result",
          "data": {
            "text/plain": [
              "tweet_id                        int64\n",
              "in_reply_to_status_id         float64\n",
              "in_reply_to_user_id           float64\n",
              "timestamp                      object\n",
              "source                         object\n",
              "text                           object\n",
              "retweeted_status_id           float64\n",
              "retweeted_status_user_id      float64\n",
              "retweeted_status_timestamp     object\n",
              "expanded_urls                  object\n",
              "rating_numerator                int64\n",
              "rating_denominator              int64\n",
              "name                           object\n",
              "doggo                          object\n",
              "floofer                        object\n",
              "pupper                         object\n",
              "puppo                          object\n",
              "dtype: object"
            ]
          },
          "metadata": {},
          "execution_count": 9
        }
      ]
    },
    {
      "cell_type": "code",
      "source": [
        "# Summary statistics of rating_numerator column\n",
        "twitter_archive_df['rating_numerator'].describe()"
      ],
      "metadata": {
        "colab": {
          "base_uri": "https://localhost:8080/"
        },
        "id": "RgepkfKld9uO",
        "outputId": "c8308f67-d8d7-4b85-f5fb-0ae47c553e4c"
      },
      "execution_count": 53,
      "outputs": [
        {
          "output_type": "execute_result",
          "data": {
            "text/plain": [
              "count    2356.000000\n",
              "mean       13.126486\n",
              "std        45.876648\n",
              "min         0.000000\n",
              "25%        10.000000\n",
              "50%        11.000000\n",
              "75%        12.000000\n",
              "max      1776.000000\n",
              "Name: rating_numerator, dtype: float64"
            ]
          },
          "metadata": {},
          "execution_count": 53
        }
      ]
    },
    {
      "cell_type": "markdown",
      "source": [
        "* The rating_numerator is allowed to go past 10 (maximum is 1776), as the rating account permits that (\"they're good dogs Brent\")\n",
        "* Hence, bigger values aren't inaccurate, therefore no cleaning required"
      ],
      "metadata": {
        "id": "ddaPVWOWerij"
      }
    },
    {
      "cell_type": "code",
      "source": [
        "# Summary statistics of rating_denominator column\n",
        "twitter_archive_df['rating_denominator'].describe()"
      ],
      "metadata": {
        "colab": {
          "base_uri": "https://localhost:8080/"
        },
        "outputId": "a9eec3b6-5588-43ee-a281-df033eefa47b",
        "id": "qKrOAkBOeSJp"
      },
      "execution_count": 54,
      "outputs": [
        {
          "output_type": "execute_result",
          "data": {
            "text/plain": [
              "count    2356.000000\n",
              "mean       10.455433\n",
              "std         6.745237\n",
              "min         0.000000\n",
              "25%        10.000000\n",
              "50%        10.000000\n",
              "75%        10.000000\n",
              "max       170.000000\n",
              "Name: rating_denominator, dtype: float64"
            ]
          },
          "metadata": {},
          "execution_count": 54
        }
      ]
    },
    {
      "cell_type": "markdown",
      "source": [
        "* The rating_denominator should always be 10 (maximum in the dataset is 170, minimum is 0)\n",
        "* Hence, values greater/lesser than 10 are inaccurate, therefore cleaning is required"
      ],
      "metadata": {
        "id": "Fp9WGc7Zf7Ay"
      }
    },
    {
      "cell_type": "code",
      "source": [
        "#check names in twitter archive dataset\n",
        "twitter_archive_df['name'].value_counts()"
      ],
      "metadata": {
        "colab": {
          "base_uri": "https://localhost:8080/"
        },
        "id": "XQJ3FQgCuaTw",
        "outputId": "9d777756-7cf3-4ba0-83ef-a9d7e5722623"
      },
      "execution_count": 68,
      "outputs": [
        {
          "output_type": "execute_result",
          "data": {
            "text/plain": [
              "None          745\n",
              "a              55\n",
              "Charlie        12\n",
              "Cooper         11\n",
              "Lucy           11\n",
              "             ... \n",
              "Dex             1\n",
              "Ace             1\n",
              "Tayzie          1\n",
              "Grizzie         1\n",
              "Christoper      1\n",
              "Name: name, Length: 957, dtype: int64"
            ]
          },
          "metadata": {},
          "execution_count": 68
        }
      ]
    },
    {
      "cell_type": "markdown",
      "source": [
        "* Majority of the names are \"None\"\n",
        "* Explore the names further below"
      ],
      "metadata": {
        "id": "2ugE2xl3u06P"
      }
    },
    {
      "cell_type": "code",
      "source": [
        "none_names_df = twitter_archive_df[twitter_archive_df['name'] == 'None']\n",
        "none_names_df.shape"
      ],
      "metadata": {
        "colab": {
          "base_uri": "https://localhost:8080/"
        },
        "id": "JUYl93Q5fkE4",
        "outputId": "5d14270f-9b6f-40a5-fa08-eafe4b5f6b6c"
      },
      "execution_count": 69,
      "outputs": [
        {
          "output_type": "execute_result",
          "data": {
            "text/plain": [
              "(745, 17)"
            ]
          },
          "metadata": {},
          "execution_count": 69
        }
      ]
    },
    {
      "cell_type": "code",
      "source": [
        "# Displaying some of the records with none names\n",
        "none_names_df.sample(5)"
      ],
      "metadata": {
        "colab": {
          "base_uri": "https://localhost:8080/",
          "height": 565
        },
        "id": "f-O-q44huY-Z",
        "outputId": "430937d4-e998-409d-9c72-21fafdab4bc1"
      },
      "execution_count": 71,
      "outputs": [
        {
          "output_type": "execute_result",
          "data": {
            "text/plain": [
              "                tweet_id  in_reply_to_status_id  in_reply_to_user_id  \\\n",
              "1051  742534281772302336                    NaN                  NaN   \n",
              "2166  669363888236994561                    NaN                  NaN   \n",
              "1622  684914660081053696                    NaN                  NaN   \n",
              "1834  676121918416756736                    NaN                  NaN   \n",
              "814   771014301343748096                    NaN                  NaN   \n",
              "\n",
              "                      timestamp  \\\n",
              "1051  2016-06-14 01:49:03 +0000   \n",
              "2166  2015-11-25 03:56:01 +0000   \n",
              "1622  2016-01-07 01:49:14 +0000   \n",
              "1834  2015-12-13 19:30:01 +0000   \n",
              "814   2016-08-31 15:58:28 +0000   \n",
              "\n",
              "                                                 source  \\\n",
              "1051  <a href=\"http://vine.co\" rel=\"nofollow\">Vine -...   \n",
              "2166  <a href=\"http://twitter.com/download/iphone\" r...   \n",
              "1622  <a href=\"http://twitter.com/download/iphone\" r...   \n",
              "1834  <a href=\"http://vine.co\" rel=\"nofollow\">Vine -...   \n",
              "814   <a href=\"http://twitter.com/download/iphone\" r...   \n",
              "\n",
              "                                                   text  retweeted_status_id  \\\n",
              "1051  For anyone who's wondering, this is what happe...                  NaN   \n",
              "2166  Here we have a Gingivitis Pumpernickel named Z...                  NaN   \n",
              "1622  \"Hello yes I'll just get one of each color tha...                  NaN   \n",
              "1834  Here we are witnessing a very excited dog. Cle...                  NaN   \n",
              "814   Another pic without a dog in it? What am I sup...                  NaN   \n",
              "\n",
              "      retweeted_status_user_id retweeted_status_timestamp  \\\n",
              "1051                       NaN                        NaN   \n",
              "2166                       NaN                        NaN   \n",
              "1622                       NaN                        NaN   \n",
              "1834                       NaN                        NaN   \n",
              "814                        NaN                        NaN   \n",
              "\n",
              "                                          expanded_urls  rating_numerator  \\\n",
              "1051                      https://vine.co/v/iLTZmtE1FTB                11   \n",
              "2166  https://twitter.com/dog_rates/status/669363888...                10   \n",
              "1622  https://twitter.com/dog_rates/status/684914660...                12   \n",
              "1834                      https://vine.co/v/iZXg7VpeDAv                 8   \n",
              "814   https://twitter.com/dog_rates/status/771014301...                 7   \n",
              "\n",
              "      rating_denominator  name  doggo floofer pupper puppo  \n",
              "1051                  10  None  doggo    None   None  None  \n",
              "2166                  10  None   None    None   None  None  \n",
              "1622                  10  None   None    None   None  None  \n",
              "1834                  10  None   None    None   None  None  \n",
              "814                   10  None   None    None   None  None  "
            ],
            "text/html": [
              "\n",
              "  <div id=\"df-b9c9d37e-05c4-4945-8543-d2ddd46f2235\">\n",
              "    <div class=\"colab-df-container\">\n",
              "      <div>\n",
              "<style scoped>\n",
              "    .dataframe tbody tr th:only-of-type {\n",
              "        vertical-align: middle;\n",
              "    }\n",
              "\n",
              "    .dataframe tbody tr th {\n",
              "        vertical-align: top;\n",
              "    }\n",
              "\n",
              "    .dataframe thead th {\n",
              "        text-align: right;\n",
              "    }\n",
              "</style>\n",
              "<table border=\"1\" class=\"dataframe\">\n",
              "  <thead>\n",
              "    <tr style=\"text-align: right;\">\n",
              "      <th></th>\n",
              "      <th>tweet_id</th>\n",
              "      <th>in_reply_to_status_id</th>\n",
              "      <th>in_reply_to_user_id</th>\n",
              "      <th>timestamp</th>\n",
              "      <th>source</th>\n",
              "      <th>text</th>\n",
              "      <th>retweeted_status_id</th>\n",
              "      <th>retweeted_status_user_id</th>\n",
              "      <th>retweeted_status_timestamp</th>\n",
              "      <th>expanded_urls</th>\n",
              "      <th>rating_numerator</th>\n",
              "      <th>rating_denominator</th>\n",
              "      <th>name</th>\n",
              "      <th>doggo</th>\n",
              "      <th>floofer</th>\n",
              "      <th>pupper</th>\n",
              "      <th>puppo</th>\n",
              "    </tr>\n",
              "  </thead>\n",
              "  <tbody>\n",
              "    <tr>\n",
              "      <th>1051</th>\n",
              "      <td>742534281772302336</td>\n",
              "      <td>NaN</td>\n",
              "      <td>NaN</td>\n",
              "      <td>2016-06-14 01:49:03 +0000</td>\n",
              "      <td>&lt;a href=\"http://vine.co\" rel=\"nofollow\"&gt;Vine -...</td>\n",
              "      <td>For anyone who's wondering, this is what happe...</td>\n",
              "      <td>NaN</td>\n",
              "      <td>NaN</td>\n",
              "      <td>NaN</td>\n",
              "      <td>https://vine.co/v/iLTZmtE1FTB</td>\n",
              "      <td>11</td>\n",
              "      <td>10</td>\n",
              "      <td>None</td>\n",
              "      <td>doggo</td>\n",
              "      <td>None</td>\n",
              "      <td>None</td>\n",
              "      <td>None</td>\n",
              "    </tr>\n",
              "    <tr>\n",
              "      <th>2166</th>\n",
              "      <td>669363888236994561</td>\n",
              "      <td>NaN</td>\n",
              "      <td>NaN</td>\n",
              "      <td>2015-11-25 03:56:01 +0000</td>\n",
              "      <td>&lt;a href=\"http://twitter.com/download/iphone\" r...</td>\n",
              "      <td>Here we have a Gingivitis Pumpernickel named Z...</td>\n",
              "      <td>NaN</td>\n",
              "      <td>NaN</td>\n",
              "      <td>NaN</td>\n",
              "      <td>https://twitter.com/dog_rates/status/669363888...</td>\n",
              "      <td>10</td>\n",
              "      <td>10</td>\n",
              "      <td>None</td>\n",
              "      <td>None</td>\n",
              "      <td>None</td>\n",
              "      <td>None</td>\n",
              "      <td>None</td>\n",
              "    </tr>\n",
              "    <tr>\n",
              "      <th>1622</th>\n",
              "      <td>684914660081053696</td>\n",
              "      <td>NaN</td>\n",
              "      <td>NaN</td>\n",
              "      <td>2016-01-07 01:49:14 +0000</td>\n",
              "      <td>&lt;a href=\"http://twitter.com/download/iphone\" r...</td>\n",
              "      <td>\"Hello yes I'll just get one of each color tha...</td>\n",
              "      <td>NaN</td>\n",
              "      <td>NaN</td>\n",
              "      <td>NaN</td>\n",
              "      <td>https://twitter.com/dog_rates/status/684914660...</td>\n",
              "      <td>12</td>\n",
              "      <td>10</td>\n",
              "      <td>None</td>\n",
              "      <td>None</td>\n",
              "      <td>None</td>\n",
              "      <td>None</td>\n",
              "      <td>None</td>\n",
              "    </tr>\n",
              "    <tr>\n",
              "      <th>1834</th>\n",
              "      <td>676121918416756736</td>\n",
              "      <td>NaN</td>\n",
              "      <td>NaN</td>\n",
              "      <td>2015-12-13 19:30:01 +0000</td>\n",
              "      <td>&lt;a href=\"http://vine.co\" rel=\"nofollow\"&gt;Vine -...</td>\n",
              "      <td>Here we are witnessing a very excited dog. Cle...</td>\n",
              "      <td>NaN</td>\n",
              "      <td>NaN</td>\n",
              "      <td>NaN</td>\n",
              "      <td>https://vine.co/v/iZXg7VpeDAv</td>\n",
              "      <td>8</td>\n",
              "      <td>10</td>\n",
              "      <td>None</td>\n",
              "      <td>None</td>\n",
              "      <td>None</td>\n",
              "      <td>None</td>\n",
              "      <td>None</td>\n",
              "    </tr>\n",
              "    <tr>\n",
              "      <th>814</th>\n",
              "      <td>771014301343748096</td>\n",
              "      <td>NaN</td>\n",
              "      <td>NaN</td>\n",
              "      <td>2016-08-31 15:58:28 +0000</td>\n",
              "      <td>&lt;a href=\"http://twitter.com/download/iphone\" r...</td>\n",
              "      <td>Another pic without a dog in it? What am I sup...</td>\n",
              "      <td>NaN</td>\n",
              "      <td>NaN</td>\n",
              "      <td>NaN</td>\n",
              "      <td>https://twitter.com/dog_rates/status/771014301...</td>\n",
              "      <td>7</td>\n",
              "      <td>10</td>\n",
              "      <td>None</td>\n",
              "      <td>None</td>\n",
              "      <td>None</td>\n",
              "      <td>None</td>\n",
              "      <td>None</td>\n",
              "    </tr>\n",
              "  </tbody>\n",
              "</table>\n",
              "</div>\n",
              "      <button class=\"colab-df-convert\" onclick=\"convertToInteractive('df-b9c9d37e-05c4-4945-8543-d2ddd46f2235')\"\n",
              "              title=\"Convert this dataframe to an interactive table.\"\n",
              "              style=\"display:none;\">\n",
              "        \n",
              "  <svg xmlns=\"http://www.w3.org/2000/svg\" height=\"24px\"viewBox=\"0 0 24 24\"\n",
              "       width=\"24px\">\n",
              "    <path d=\"M0 0h24v24H0V0z\" fill=\"none\"/>\n",
              "    <path d=\"M18.56 5.44l.94 2.06.94-2.06 2.06-.94-2.06-.94-.94-2.06-.94 2.06-2.06.94zm-11 1L8.5 8.5l.94-2.06 2.06-.94-2.06-.94L8.5 2.5l-.94 2.06-2.06.94zm10 10l.94 2.06.94-2.06 2.06-.94-2.06-.94-.94-2.06-.94 2.06-2.06.94z\"/><path d=\"M17.41 7.96l-1.37-1.37c-.4-.4-.92-.59-1.43-.59-.52 0-1.04.2-1.43.59L10.3 9.45l-7.72 7.72c-.78.78-.78 2.05 0 2.83L4 21.41c.39.39.9.59 1.41.59.51 0 1.02-.2 1.41-.59l7.78-7.78 2.81-2.81c.8-.78.8-2.07 0-2.86zM5.41 20L4 18.59l7.72-7.72 1.47 1.35L5.41 20z\"/>\n",
              "  </svg>\n",
              "      </button>\n",
              "      \n",
              "  <style>\n",
              "    .colab-df-container {\n",
              "      display:flex;\n",
              "      flex-wrap:wrap;\n",
              "      gap: 12px;\n",
              "    }\n",
              "\n",
              "    .colab-df-convert {\n",
              "      background-color: #E8F0FE;\n",
              "      border: none;\n",
              "      border-radius: 50%;\n",
              "      cursor: pointer;\n",
              "      display: none;\n",
              "      fill: #1967D2;\n",
              "      height: 32px;\n",
              "      padding: 0 0 0 0;\n",
              "      width: 32px;\n",
              "    }\n",
              "\n",
              "    .colab-df-convert:hover {\n",
              "      background-color: #E2EBFA;\n",
              "      box-shadow: 0px 1px 2px rgba(60, 64, 67, 0.3), 0px 1px 3px 1px rgba(60, 64, 67, 0.15);\n",
              "      fill: #174EA6;\n",
              "    }\n",
              "\n",
              "    [theme=dark] .colab-df-convert {\n",
              "      background-color: #3B4455;\n",
              "      fill: #D2E3FC;\n",
              "    }\n",
              "\n",
              "    [theme=dark] .colab-df-convert:hover {\n",
              "      background-color: #434B5C;\n",
              "      box-shadow: 0px 1px 3px 1px rgba(0, 0, 0, 0.15);\n",
              "      filter: drop-shadow(0px 1px 2px rgba(0, 0, 0, 0.3));\n",
              "      fill: #FFFFFF;\n",
              "    }\n",
              "  </style>\n",
              "\n",
              "      <script>\n",
              "        const buttonEl =\n",
              "          document.querySelector('#df-b9c9d37e-05c4-4945-8543-d2ddd46f2235 button.colab-df-convert');\n",
              "        buttonEl.style.display =\n",
              "          google.colab.kernel.accessAllowed ? 'block' : 'none';\n",
              "\n",
              "        async function convertToInteractive(key) {\n",
              "          const element = document.querySelector('#df-b9c9d37e-05c4-4945-8543-d2ddd46f2235');\n",
              "          const dataTable =\n",
              "            await google.colab.kernel.invokeFunction('convertToInteractive',\n",
              "                                                     [key], {});\n",
              "          if (!dataTable) return;\n",
              "\n",
              "          const docLinkHtml = 'Like what you see? Visit the ' +\n",
              "            '<a target=\"_blank\" href=https://colab.research.google.com/notebooks/data_table.ipynb>data table notebook</a>'\n",
              "            + ' to learn more about interactive tables.';\n",
              "          element.innerHTML = '';\n",
              "          dataTable['output_type'] = 'display_data';\n",
              "          await google.colab.output.renderOutput(dataTable, element);\n",
              "          const docLink = document.createElement('div');\n",
              "          docLink.innerHTML = docLinkHtml;\n",
              "          element.appendChild(docLink);\n",
              "        }\n",
              "      </script>\n",
              "    </div>\n",
              "  </div>\n",
              "  "
            ]
          },
          "metadata": {},
          "execution_count": 71
        }
      ]
    },
    {
      "cell_type": "markdown",
      "source": [
        "* The records with \"None\" names need to be cleaned, as there is no dog with a \"None\" name; by convention"
      ],
      "metadata": {
        "id": "ExzU5SkOvLqP"
      }
    },
    {
      "cell_type": "code",
      "source": [
        "# Checking if there are retweets\n",
        "retweets_archive_df = twitter_archive_df[twitter_archive_df['text'].str.contains(\"RT @\")]\n",
        "retweets_archive_df.shape"
      ],
      "metadata": {
        "colab": {
          "base_uri": "https://localhost:8080/"
        },
        "id": "p1QeyB_ql0Q_",
        "outputId": "b7099811-4193-4a35-bf5f-00300a818eb7"
      },
      "execution_count": 55,
      "outputs": [
        {
          "output_type": "execute_result",
          "data": {
            "text/plain": [
              "(181, 17)"
            ]
          },
          "metadata": {},
          "execution_count": 55
        }
      ]
    },
    {
      "cell_type": "code",
      "source": [
        "# Displaying retweets\n",
        "retweets_archive_df.head(3)"
      ],
      "metadata": {
        "colab": {
          "base_uri": "https://localhost:8080/",
          "height": 364
        },
        "id": "E20ir1YlmPYm",
        "outputId": "eb0c8253-9a14-456b-b894-6517da67fc3f"
      },
      "execution_count": 56,
      "outputs": [
        {
          "output_type": "execute_result",
          "data": {
            "text/plain": [
              "              tweet_id  in_reply_to_status_id  in_reply_to_user_id  \\\n",
              "19  888202515573088257                    NaN                  NaN   \n",
              "32  886054160059072513                    NaN                  NaN   \n",
              "36  885311592912609280                    NaN                  NaN   \n",
              "\n",
              "                    timestamp  \\\n",
              "19  2017-07-21 01:02:36 +0000   \n",
              "32  2017-07-15 02:45:48 +0000   \n",
              "36  2017-07-13 01:35:06 +0000   \n",
              "\n",
              "                                               source  \\\n",
              "19  <a href=\"http://twitter.com/download/iphone\" r...   \n",
              "32  <a href=\"http://twitter.com/download/iphone\" r...   \n",
              "36  <a href=\"http://twitter.com/download/iphone\" r...   \n",
              "\n",
              "                                                 text  retweeted_status_id  \\\n",
              "19  RT @dog_rates: This is Canela. She attempted s...         8.874740e+17   \n",
              "32  RT @Athletics: 12/10 #BATP https://t.co/WxwJmv...         8.860537e+17   \n",
              "36  RT @dog_rates: This is Lilly. She just paralle...         8.305833e+17   \n",
              "\n",
              "    retweeted_status_user_id retweeted_status_timestamp  \\\n",
              "19              4.196984e+09  2017-07-19 00:47:34 +0000   \n",
              "32              1.960740e+07  2017-07-15 02:44:07 +0000   \n",
              "36              4.196984e+09  2017-02-12 01:04:29 +0000   \n",
              "\n",
              "                                        expanded_urls  rating_numerator  \\\n",
              "19  https://twitter.com/dog_rates/status/887473957...                13   \n",
              "32  https://twitter.com/dog_rates/status/886053434...                12   \n",
              "36  https://twitter.com/dog_rates/status/830583320...                13   \n",
              "\n",
              "    rating_denominator    name doggo floofer pupper puppo  \n",
              "19                  10  Canela  None    None   None  None  \n",
              "32                  10    None  None    None   None  None  \n",
              "36                  10   Lilly  None    None   None  None  "
            ],
            "text/html": [
              "\n",
              "  <div id=\"df-2f20d0a7-1353-43eb-bf8d-71b9a2e15347\">\n",
              "    <div class=\"colab-df-container\">\n",
              "      <div>\n",
              "<style scoped>\n",
              "    .dataframe tbody tr th:only-of-type {\n",
              "        vertical-align: middle;\n",
              "    }\n",
              "\n",
              "    .dataframe tbody tr th {\n",
              "        vertical-align: top;\n",
              "    }\n",
              "\n",
              "    .dataframe thead th {\n",
              "        text-align: right;\n",
              "    }\n",
              "</style>\n",
              "<table border=\"1\" class=\"dataframe\">\n",
              "  <thead>\n",
              "    <tr style=\"text-align: right;\">\n",
              "      <th></th>\n",
              "      <th>tweet_id</th>\n",
              "      <th>in_reply_to_status_id</th>\n",
              "      <th>in_reply_to_user_id</th>\n",
              "      <th>timestamp</th>\n",
              "      <th>source</th>\n",
              "      <th>text</th>\n",
              "      <th>retweeted_status_id</th>\n",
              "      <th>retweeted_status_user_id</th>\n",
              "      <th>retweeted_status_timestamp</th>\n",
              "      <th>expanded_urls</th>\n",
              "      <th>rating_numerator</th>\n",
              "      <th>rating_denominator</th>\n",
              "      <th>name</th>\n",
              "      <th>doggo</th>\n",
              "      <th>floofer</th>\n",
              "      <th>pupper</th>\n",
              "      <th>puppo</th>\n",
              "    </tr>\n",
              "  </thead>\n",
              "  <tbody>\n",
              "    <tr>\n",
              "      <th>19</th>\n",
              "      <td>888202515573088257</td>\n",
              "      <td>NaN</td>\n",
              "      <td>NaN</td>\n",
              "      <td>2017-07-21 01:02:36 +0000</td>\n",
              "      <td>&lt;a href=\"http://twitter.com/download/iphone\" r...</td>\n",
              "      <td>RT @dog_rates: This is Canela. She attempted s...</td>\n",
              "      <td>8.874740e+17</td>\n",
              "      <td>4.196984e+09</td>\n",
              "      <td>2017-07-19 00:47:34 +0000</td>\n",
              "      <td>https://twitter.com/dog_rates/status/887473957...</td>\n",
              "      <td>13</td>\n",
              "      <td>10</td>\n",
              "      <td>Canela</td>\n",
              "      <td>None</td>\n",
              "      <td>None</td>\n",
              "      <td>None</td>\n",
              "      <td>None</td>\n",
              "    </tr>\n",
              "    <tr>\n",
              "      <th>32</th>\n",
              "      <td>886054160059072513</td>\n",
              "      <td>NaN</td>\n",
              "      <td>NaN</td>\n",
              "      <td>2017-07-15 02:45:48 +0000</td>\n",
              "      <td>&lt;a href=\"http://twitter.com/download/iphone\" r...</td>\n",
              "      <td>RT @Athletics: 12/10 #BATP https://t.co/WxwJmv...</td>\n",
              "      <td>8.860537e+17</td>\n",
              "      <td>1.960740e+07</td>\n",
              "      <td>2017-07-15 02:44:07 +0000</td>\n",
              "      <td>https://twitter.com/dog_rates/status/886053434...</td>\n",
              "      <td>12</td>\n",
              "      <td>10</td>\n",
              "      <td>None</td>\n",
              "      <td>None</td>\n",
              "      <td>None</td>\n",
              "      <td>None</td>\n",
              "      <td>None</td>\n",
              "    </tr>\n",
              "    <tr>\n",
              "      <th>36</th>\n",
              "      <td>885311592912609280</td>\n",
              "      <td>NaN</td>\n",
              "      <td>NaN</td>\n",
              "      <td>2017-07-13 01:35:06 +0000</td>\n",
              "      <td>&lt;a href=\"http://twitter.com/download/iphone\" r...</td>\n",
              "      <td>RT @dog_rates: This is Lilly. She just paralle...</td>\n",
              "      <td>8.305833e+17</td>\n",
              "      <td>4.196984e+09</td>\n",
              "      <td>2017-02-12 01:04:29 +0000</td>\n",
              "      <td>https://twitter.com/dog_rates/status/830583320...</td>\n",
              "      <td>13</td>\n",
              "      <td>10</td>\n",
              "      <td>Lilly</td>\n",
              "      <td>None</td>\n",
              "      <td>None</td>\n",
              "      <td>None</td>\n",
              "      <td>None</td>\n",
              "    </tr>\n",
              "  </tbody>\n",
              "</table>\n",
              "</div>\n",
              "      <button class=\"colab-df-convert\" onclick=\"convertToInteractive('df-2f20d0a7-1353-43eb-bf8d-71b9a2e15347')\"\n",
              "              title=\"Convert this dataframe to an interactive table.\"\n",
              "              style=\"display:none;\">\n",
              "        \n",
              "  <svg xmlns=\"http://www.w3.org/2000/svg\" height=\"24px\"viewBox=\"0 0 24 24\"\n",
              "       width=\"24px\">\n",
              "    <path d=\"M0 0h24v24H0V0z\" fill=\"none\"/>\n",
              "    <path d=\"M18.56 5.44l.94 2.06.94-2.06 2.06-.94-2.06-.94-.94-2.06-.94 2.06-2.06.94zm-11 1L8.5 8.5l.94-2.06 2.06-.94-2.06-.94L8.5 2.5l-.94 2.06-2.06.94zm10 10l.94 2.06.94-2.06 2.06-.94-2.06-.94-.94-2.06-.94 2.06-2.06.94z\"/><path d=\"M17.41 7.96l-1.37-1.37c-.4-.4-.92-.59-1.43-.59-.52 0-1.04.2-1.43.59L10.3 9.45l-7.72 7.72c-.78.78-.78 2.05 0 2.83L4 21.41c.39.39.9.59 1.41.59.51 0 1.02-.2 1.41-.59l7.78-7.78 2.81-2.81c.8-.78.8-2.07 0-2.86zM5.41 20L4 18.59l7.72-7.72 1.47 1.35L5.41 20z\"/>\n",
              "  </svg>\n",
              "      </button>\n",
              "      \n",
              "  <style>\n",
              "    .colab-df-container {\n",
              "      display:flex;\n",
              "      flex-wrap:wrap;\n",
              "      gap: 12px;\n",
              "    }\n",
              "\n",
              "    .colab-df-convert {\n",
              "      background-color: #E8F0FE;\n",
              "      border: none;\n",
              "      border-radius: 50%;\n",
              "      cursor: pointer;\n",
              "      display: none;\n",
              "      fill: #1967D2;\n",
              "      height: 32px;\n",
              "      padding: 0 0 0 0;\n",
              "      width: 32px;\n",
              "    }\n",
              "\n",
              "    .colab-df-convert:hover {\n",
              "      background-color: #E2EBFA;\n",
              "      box-shadow: 0px 1px 2px rgba(60, 64, 67, 0.3), 0px 1px 3px 1px rgba(60, 64, 67, 0.15);\n",
              "      fill: #174EA6;\n",
              "    }\n",
              "\n",
              "    [theme=dark] .colab-df-convert {\n",
              "      background-color: #3B4455;\n",
              "      fill: #D2E3FC;\n",
              "    }\n",
              "\n",
              "    [theme=dark] .colab-df-convert:hover {\n",
              "      background-color: #434B5C;\n",
              "      box-shadow: 0px 1px 3px 1px rgba(0, 0, 0, 0.15);\n",
              "      filter: drop-shadow(0px 1px 2px rgba(0, 0, 0, 0.3));\n",
              "      fill: #FFFFFF;\n",
              "    }\n",
              "  </style>\n",
              "\n",
              "      <script>\n",
              "        const buttonEl =\n",
              "          document.querySelector('#df-2f20d0a7-1353-43eb-bf8d-71b9a2e15347 button.colab-df-convert');\n",
              "        buttonEl.style.display =\n",
              "          google.colab.kernel.accessAllowed ? 'block' : 'none';\n",
              "\n",
              "        async function convertToInteractive(key) {\n",
              "          const element = document.querySelector('#df-2f20d0a7-1353-43eb-bf8d-71b9a2e15347');\n",
              "          const dataTable =\n",
              "            await google.colab.kernel.invokeFunction('convertToInteractive',\n",
              "                                                     [key], {});\n",
              "          if (!dataTable) return;\n",
              "\n",
              "          const docLinkHtml = 'Like what you see? Visit the ' +\n",
              "            '<a target=\"_blank\" href=https://colab.research.google.com/notebooks/data_table.ipynb>data table notebook</a>'\n",
              "            + ' to learn more about interactive tables.';\n",
              "          element.innerHTML = '';\n",
              "          dataTable['output_type'] = 'display_data';\n",
              "          await google.colab.output.renderOutput(dataTable, element);\n",
              "          const docLink = document.createElement('div');\n",
              "          docLink.innerHTML = docLinkHtml;\n",
              "          element.appendChild(docLink);\n",
              "        }\n",
              "      </script>\n",
              "    </div>\n",
              "  </div>\n",
              "  "
            ]
          },
          "metadata": {},
          "execution_count": 56
        }
      ]
    },
    {
      "cell_type": "markdown",
      "source": [
        "* There are retweets in the twitter_archive dataset, which require cleaning"
      ],
      "metadata": {
        "id": "iVEHmk9gmYCu"
      }
    },
    {
      "cell_type": "markdown",
      "source": [
        "#### Checking Dog Stages Columns"
      ],
      "metadata": {
        "id": "P4RiLNXIZh89"
      }
    },
    {
      "cell_type": "code",
      "source": [
        "twitter_archive_df.sample(10)"
      ],
      "metadata": {
        "colab": {
          "base_uri": "https://localhost:8080/",
          "height": 948
        },
        "id": "XAJVW_bxWykr",
        "outputId": "752fc851-1eac-4302-8bda-fe77f6fc20e3"
      },
      "execution_count": 45,
      "outputs": [
        {
          "output_type": "execute_result",
          "data": {
            "text/plain": [
              "                tweet_id  in_reply_to_status_id  in_reply_to_user_id  \\\n",
              "420   822163064745328640                    NaN                  NaN   \n",
              "32    886054160059072513                    NaN                  NaN   \n",
              "483   814986499976527872                    NaN                  NaN   \n",
              "2200  668655139528511488                    NaN                  NaN   \n",
              "1756  678767140346941444                    NaN                  NaN   \n",
              "759   778396591732486144                    NaN                  NaN   \n",
              "830   768855141948723200                    NaN                  NaN   \n",
              "1327  705975130514706432                    NaN                  NaN   \n",
              "1254  710658690886586372                    NaN                  NaN   \n",
              "1035  744995568523612160                    NaN                  NaN   \n",
              "\n",
              "                      timestamp  \\\n",
              "420   2017-01-19 19:25:24 +0000   \n",
              "32    2017-07-15 02:45:48 +0000   \n",
              "483   2016-12-31 00:08:17 +0000   \n",
              "2200  2015-11-23 04:59:42 +0000   \n",
              "1756  2015-12-21 02:41:11 +0000   \n",
              "759   2016-09-21 00:53:04 +0000   \n",
              "830   2016-08-25 16:58:45 +0000   \n",
              "1327  2016-03-05 04:36:02 +0000   \n",
              "1254  2016-03-18 02:46:49 +0000   \n",
              "1035  2016-06-20 20:49:19 +0000   \n",
              "\n",
              "                                                 source  \\\n",
              "420   <a href=\"http://twitter.com/download/iphone\" r...   \n",
              "32    <a href=\"http://twitter.com/download/iphone\" r...   \n",
              "483   <a href=\"http://twitter.com/download/iphone\" r...   \n",
              "2200  <a href=\"http://twitter.com/download/iphone\" r...   \n",
              "1756  <a href=\"http://twitter.com/download/iphone\" r...   \n",
              "759   <a href=\"http://twitter.com/download/iphone\" r...   \n",
              "830   <a href=\"http://twitter.com/download/iphone\" r...   \n",
              "1327  <a href=\"http://twitter.com/download/iphone\" r...   \n",
              "1254  <a href=\"http://twitter.com/download/iphone\" r...   \n",
              "1035  <a href=\"http://twitter.com/download/iphone\" r...   \n",
              "\n",
              "                                                   text  retweeted_status_id  \\\n",
              "420   RT @dog_rates: This is Mattie. She's extremely...         7.862340e+17   \n",
              "32    RT @Athletics: 12/10 #BATP https://t.co/WxwJmv...         8.860537e+17   \n",
              "483   This is Cooper. Someone attacked him with a sh...                  NaN   \n",
              "2200  Say hello to Winifred. He is a Papyrus Hydrang...                  NaN   \n",
              "1756  This is Mia. She makes awful decisions. 8/10 h...                  NaN   \n",
              "759   RT @dog_rates: This is an East African Chalupa...         7.030419e+17   \n",
              "830   This is Jesse. He really wants a belly rub. Wi...                  NaN   \n",
              "1327  This is Adele. Her tongue flies out of her mou...                  NaN   \n",
              "1254  Here's a brigade of puppers. All look very pre...                  NaN   \n",
              "1035  This is Abby. She got her face stuck in a glas...                  NaN   \n",
              "\n",
              "      retweeted_status_user_id retweeted_status_timestamp  \\\n",
              "420               4.196984e+09  2016-10-12 15:55:59 +0000   \n",
              "32                1.960740e+07  2017-07-15 02:44:07 +0000   \n",
              "483                        NaN                        NaN   \n",
              "2200                       NaN                        NaN   \n",
              "1756                       NaN                        NaN   \n",
              "759               4.196984e+09  2016-02-26 02:20:37 +0000   \n",
              "830                        NaN                        NaN   \n",
              "1327                       NaN                        NaN   \n",
              "1254                       NaN                        NaN   \n",
              "1035                       NaN                        NaN   \n",
              "\n",
              "                                          expanded_urls  rating_numerator  \\\n",
              "420   https://twitter.com/dog_rates/status/786233965...                11   \n",
              "32    https://twitter.com/dog_rates/status/886053434...                12   \n",
              "483   https://twitter.com/dog_rates/status/814986499...                11   \n",
              "2200  https://twitter.com/dog_rates/status/668655139...                11   \n",
              "1756  https://twitter.com/dog_rates/status/678767140...                 8   \n",
              "759   https://twitter.com/dog_rates/status/703041949...                10   \n",
              "830   https://twitter.com/dog_rates/status/768855141...                11   \n",
              "1327  https://twitter.com/dog_rates/status/705975130...                10   \n",
              "1254  https://twitter.com/dog_rates/status/710658690...                80   \n",
              "1035  https://twitter.com/dog_rates/status/744995568...                 9   \n",
              "\n",
              "      rating_denominator      name doggo floofer  pupper  puppo  \n",
              "420                   10    Mattie  None    None    None   None  \n",
              "32                    10      None  None    None    None   None  \n",
              "483                   10    Cooper  None    None  pupper   None  \n",
              "2200                  10  Winifred  None    None    None   None  \n",
              "1756                  10       Mia  None    None    None   None  \n",
              "759                   10        an  None    None    None   None  \n",
              "830                   10     Jesse  None    None    None   None  \n",
              "1327                  10     Adele  None    None  pupper   None  \n",
              "1254                  80      None  None    None    None   None  \n",
              "1035                  10      Abby  None    None    None  puppo  "
            ],
            "text/html": [
              "\n",
              "  <div id=\"df-cd552dca-d0b3-4f11-bbd9-2011ded84027\">\n",
              "    <div class=\"colab-df-container\">\n",
              "      <div>\n",
              "<style scoped>\n",
              "    .dataframe tbody tr th:only-of-type {\n",
              "        vertical-align: middle;\n",
              "    }\n",
              "\n",
              "    .dataframe tbody tr th {\n",
              "        vertical-align: top;\n",
              "    }\n",
              "\n",
              "    .dataframe thead th {\n",
              "        text-align: right;\n",
              "    }\n",
              "</style>\n",
              "<table border=\"1\" class=\"dataframe\">\n",
              "  <thead>\n",
              "    <tr style=\"text-align: right;\">\n",
              "      <th></th>\n",
              "      <th>tweet_id</th>\n",
              "      <th>in_reply_to_status_id</th>\n",
              "      <th>in_reply_to_user_id</th>\n",
              "      <th>timestamp</th>\n",
              "      <th>source</th>\n",
              "      <th>text</th>\n",
              "      <th>retweeted_status_id</th>\n",
              "      <th>retweeted_status_user_id</th>\n",
              "      <th>retweeted_status_timestamp</th>\n",
              "      <th>expanded_urls</th>\n",
              "      <th>rating_numerator</th>\n",
              "      <th>rating_denominator</th>\n",
              "      <th>name</th>\n",
              "      <th>doggo</th>\n",
              "      <th>floofer</th>\n",
              "      <th>pupper</th>\n",
              "      <th>puppo</th>\n",
              "    </tr>\n",
              "  </thead>\n",
              "  <tbody>\n",
              "    <tr>\n",
              "      <th>420</th>\n",
              "      <td>822163064745328640</td>\n",
              "      <td>NaN</td>\n",
              "      <td>NaN</td>\n",
              "      <td>2017-01-19 19:25:24 +0000</td>\n",
              "      <td>&lt;a href=\"http://twitter.com/download/iphone\" r...</td>\n",
              "      <td>RT @dog_rates: This is Mattie. She's extremely...</td>\n",
              "      <td>7.862340e+17</td>\n",
              "      <td>4.196984e+09</td>\n",
              "      <td>2016-10-12 15:55:59 +0000</td>\n",
              "      <td>https://twitter.com/dog_rates/status/786233965...</td>\n",
              "      <td>11</td>\n",
              "      <td>10</td>\n",
              "      <td>Mattie</td>\n",
              "      <td>None</td>\n",
              "      <td>None</td>\n",
              "      <td>None</td>\n",
              "      <td>None</td>\n",
              "    </tr>\n",
              "    <tr>\n",
              "      <th>32</th>\n",
              "      <td>886054160059072513</td>\n",
              "      <td>NaN</td>\n",
              "      <td>NaN</td>\n",
              "      <td>2017-07-15 02:45:48 +0000</td>\n",
              "      <td>&lt;a href=\"http://twitter.com/download/iphone\" r...</td>\n",
              "      <td>RT @Athletics: 12/10 #BATP https://t.co/WxwJmv...</td>\n",
              "      <td>8.860537e+17</td>\n",
              "      <td>1.960740e+07</td>\n",
              "      <td>2017-07-15 02:44:07 +0000</td>\n",
              "      <td>https://twitter.com/dog_rates/status/886053434...</td>\n",
              "      <td>12</td>\n",
              "      <td>10</td>\n",
              "      <td>None</td>\n",
              "      <td>None</td>\n",
              "      <td>None</td>\n",
              "      <td>None</td>\n",
              "      <td>None</td>\n",
              "    </tr>\n",
              "    <tr>\n",
              "      <th>483</th>\n",
              "      <td>814986499976527872</td>\n",
              "      <td>NaN</td>\n",
              "      <td>NaN</td>\n",
              "      <td>2016-12-31 00:08:17 +0000</td>\n",
              "      <td>&lt;a href=\"http://twitter.com/download/iphone\" r...</td>\n",
              "      <td>This is Cooper. Someone attacked him with a sh...</td>\n",
              "      <td>NaN</td>\n",
              "      <td>NaN</td>\n",
              "      <td>NaN</td>\n",
              "      <td>https://twitter.com/dog_rates/status/814986499...</td>\n",
              "      <td>11</td>\n",
              "      <td>10</td>\n",
              "      <td>Cooper</td>\n",
              "      <td>None</td>\n",
              "      <td>None</td>\n",
              "      <td>pupper</td>\n",
              "      <td>None</td>\n",
              "    </tr>\n",
              "    <tr>\n",
              "      <th>2200</th>\n",
              "      <td>668655139528511488</td>\n",
              "      <td>NaN</td>\n",
              "      <td>NaN</td>\n",
              "      <td>2015-11-23 04:59:42 +0000</td>\n",
              "      <td>&lt;a href=\"http://twitter.com/download/iphone\" r...</td>\n",
              "      <td>Say hello to Winifred. He is a Papyrus Hydrang...</td>\n",
              "      <td>NaN</td>\n",
              "      <td>NaN</td>\n",
              "      <td>NaN</td>\n",
              "      <td>https://twitter.com/dog_rates/status/668655139...</td>\n",
              "      <td>11</td>\n",
              "      <td>10</td>\n",
              "      <td>Winifred</td>\n",
              "      <td>None</td>\n",
              "      <td>None</td>\n",
              "      <td>None</td>\n",
              "      <td>None</td>\n",
              "    </tr>\n",
              "    <tr>\n",
              "      <th>1756</th>\n",
              "      <td>678767140346941444</td>\n",
              "      <td>NaN</td>\n",
              "      <td>NaN</td>\n",
              "      <td>2015-12-21 02:41:11 +0000</td>\n",
              "      <td>&lt;a href=\"http://twitter.com/download/iphone\" r...</td>\n",
              "      <td>This is Mia. She makes awful decisions. 8/10 h...</td>\n",
              "      <td>NaN</td>\n",
              "      <td>NaN</td>\n",
              "      <td>NaN</td>\n",
              "      <td>https://twitter.com/dog_rates/status/678767140...</td>\n",
              "      <td>8</td>\n",
              "      <td>10</td>\n",
              "      <td>Mia</td>\n",
              "      <td>None</td>\n",
              "      <td>None</td>\n",
              "      <td>None</td>\n",
              "      <td>None</td>\n",
              "    </tr>\n",
              "    <tr>\n",
              "      <th>759</th>\n",
              "      <td>778396591732486144</td>\n",
              "      <td>NaN</td>\n",
              "      <td>NaN</td>\n",
              "      <td>2016-09-21 00:53:04 +0000</td>\n",
              "      <td>&lt;a href=\"http://twitter.com/download/iphone\" r...</td>\n",
              "      <td>RT @dog_rates: This is an East African Chalupa...</td>\n",
              "      <td>7.030419e+17</td>\n",
              "      <td>4.196984e+09</td>\n",
              "      <td>2016-02-26 02:20:37 +0000</td>\n",
              "      <td>https://twitter.com/dog_rates/status/703041949...</td>\n",
              "      <td>10</td>\n",
              "      <td>10</td>\n",
              "      <td>an</td>\n",
              "      <td>None</td>\n",
              "      <td>None</td>\n",
              "      <td>None</td>\n",
              "      <td>None</td>\n",
              "    </tr>\n",
              "    <tr>\n",
              "      <th>830</th>\n",
              "      <td>768855141948723200</td>\n",
              "      <td>NaN</td>\n",
              "      <td>NaN</td>\n",
              "      <td>2016-08-25 16:58:45 +0000</td>\n",
              "      <td>&lt;a href=\"http://twitter.com/download/iphone\" r...</td>\n",
              "      <td>This is Jesse. He really wants a belly rub. Wi...</td>\n",
              "      <td>NaN</td>\n",
              "      <td>NaN</td>\n",
              "      <td>NaN</td>\n",
              "      <td>https://twitter.com/dog_rates/status/768855141...</td>\n",
              "      <td>11</td>\n",
              "      <td>10</td>\n",
              "      <td>Jesse</td>\n",
              "      <td>None</td>\n",
              "      <td>None</td>\n",
              "      <td>None</td>\n",
              "      <td>None</td>\n",
              "    </tr>\n",
              "    <tr>\n",
              "      <th>1327</th>\n",
              "      <td>705975130514706432</td>\n",
              "      <td>NaN</td>\n",
              "      <td>NaN</td>\n",
              "      <td>2016-03-05 04:36:02 +0000</td>\n",
              "      <td>&lt;a href=\"http://twitter.com/download/iphone\" r...</td>\n",
              "      <td>This is Adele. Her tongue flies out of her mou...</td>\n",
              "      <td>NaN</td>\n",
              "      <td>NaN</td>\n",
              "      <td>NaN</td>\n",
              "      <td>https://twitter.com/dog_rates/status/705975130...</td>\n",
              "      <td>10</td>\n",
              "      <td>10</td>\n",
              "      <td>Adele</td>\n",
              "      <td>None</td>\n",
              "      <td>None</td>\n",
              "      <td>pupper</td>\n",
              "      <td>None</td>\n",
              "    </tr>\n",
              "    <tr>\n",
              "      <th>1254</th>\n",
              "      <td>710658690886586372</td>\n",
              "      <td>NaN</td>\n",
              "      <td>NaN</td>\n",
              "      <td>2016-03-18 02:46:49 +0000</td>\n",
              "      <td>&lt;a href=\"http://twitter.com/download/iphone\" r...</td>\n",
              "      <td>Here's a brigade of puppers. All look very pre...</td>\n",
              "      <td>NaN</td>\n",
              "      <td>NaN</td>\n",
              "      <td>NaN</td>\n",
              "      <td>https://twitter.com/dog_rates/status/710658690...</td>\n",
              "      <td>80</td>\n",
              "      <td>80</td>\n",
              "      <td>None</td>\n",
              "      <td>None</td>\n",
              "      <td>None</td>\n",
              "      <td>None</td>\n",
              "      <td>None</td>\n",
              "    </tr>\n",
              "    <tr>\n",
              "      <th>1035</th>\n",
              "      <td>744995568523612160</td>\n",
              "      <td>NaN</td>\n",
              "      <td>NaN</td>\n",
              "      <td>2016-06-20 20:49:19 +0000</td>\n",
              "      <td>&lt;a href=\"http://twitter.com/download/iphone\" r...</td>\n",
              "      <td>This is Abby. She got her face stuck in a glas...</td>\n",
              "      <td>NaN</td>\n",
              "      <td>NaN</td>\n",
              "      <td>NaN</td>\n",
              "      <td>https://twitter.com/dog_rates/status/744995568...</td>\n",
              "      <td>9</td>\n",
              "      <td>10</td>\n",
              "      <td>Abby</td>\n",
              "      <td>None</td>\n",
              "      <td>None</td>\n",
              "      <td>None</td>\n",
              "      <td>puppo</td>\n",
              "    </tr>\n",
              "  </tbody>\n",
              "</table>\n",
              "</div>\n",
              "      <button class=\"colab-df-convert\" onclick=\"convertToInteractive('df-cd552dca-d0b3-4f11-bbd9-2011ded84027')\"\n",
              "              title=\"Convert this dataframe to an interactive table.\"\n",
              "              style=\"display:none;\">\n",
              "        \n",
              "  <svg xmlns=\"http://www.w3.org/2000/svg\" height=\"24px\"viewBox=\"0 0 24 24\"\n",
              "       width=\"24px\">\n",
              "    <path d=\"M0 0h24v24H0V0z\" fill=\"none\"/>\n",
              "    <path d=\"M18.56 5.44l.94 2.06.94-2.06 2.06-.94-2.06-.94-.94-2.06-.94 2.06-2.06.94zm-11 1L8.5 8.5l.94-2.06 2.06-.94-2.06-.94L8.5 2.5l-.94 2.06-2.06.94zm10 10l.94 2.06.94-2.06 2.06-.94-2.06-.94-.94-2.06-.94 2.06-2.06.94z\"/><path d=\"M17.41 7.96l-1.37-1.37c-.4-.4-.92-.59-1.43-.59-.52 0-1.04.2-1.43.59L10.3 9.45l-7.72 7.72c-.78.78-.78 2.05 0 2.83L4 21.41c.39.39.9.59 1.41.59.51 0 1.02-.2 1.41-.59l7.78-7.78 2.81-2.81c.8-.78.8-2.07 0-2.86zM5.41 20L4 18.59l7.72-7.72 1.47 1.35L5.41 20z\"/>\n",
              "  </svg>\n",
              "      </button>\n",
              "      \n",
              "  <style>\n",
              "    .colab-df-container {\n",
              "      display:flex;\n",
              "      flex-wrap:wrap;\n",
              "      gap: 12px;\n",
              "    }\n",
              "\n",
              "    .colab-df-convert {\n",
              "      background-color: #E8F0FE;\n",
              "      border: none;\n",
              "      border-radius: 50%;\n",
              "      cursor: pointer;\n",
              "      display: none;\n",
              "      fill: #1967D2;\n",
              "      height: 32px;\n",
              "      padding: 0 0 0 0;\n",
              "      width: 32px;\n",
              "    }\n",
              "\n",
              "    .colab-df-convert:hover {\n",
              "      background-color: #E2EBFA;\n",
              "      box-shadow: 0px 1px 2px rgba(60, 64, 67, 0.3), 0px 1px 3px 1px rgba(60, 64, 67, 0.15);\n",
              "      fill: #174EA6;\n",
              "    }\n",
              "\n",
              "    [theme=dark] .colab-df-convert {\n",
              "      background-color: #3B4455;\n",
              "      fill: #D2E3FC;\n",
              "    }\n",
              "\n",
              "    [theme=dark] .colab-df-convert:hover {\n",
              "      background-color: #434B5C;\n",
              "      box-shadow: 0px 1px 3px 1px rgba(0, 0, 0, 0.15);\n",
              "      filter: drop-shadow(0px 1px 2px rgba(0, 0, 0, 0.3));\n",
              "      fill: #FFFFFF;\n",
              "    }\n",
              "  </style>\n",
              "\n",
              "      <script>\n",
              "        const buttonEl =\n",
              "          document.querySelector('#df-cd552dca-d0b3-4f11-bbd9-2011ded84027 button.colab-df-convert');\n",
              "        buttonEl.style.display =\n",
              "          google.colab.kernel.accessAllowed ? 'block' : 'none';\n",
              "\n",
              "        async function convertToInteractive(key) {\n",
              "          const element = document.querySelector('#df-cd552dca-d0b3-4f11-bbd9-2011ded84027');\n",
              "          const dataTable =\n",
              "            await google.colab.kernel.invokeFunction('convertToInteractive',\n",
              "                                                     [key], {});\n",
              "          if (!dataTable) return;\n",
              "\n",
              "          const docLinkHtml = 'Like what you see? Visit the ' +\n",
              "            '<a target=\"_blank\" href=https://colab.research.google.com/notebooks/data_table.ipynb>data table notebook</a>'\n",
              "            + ' to learn more about interactive tables.';\n",
              "          element.innerHTML = '';\n",
              "          dataTable['output_type'] = 'display_data';\n",
              "          await google.colab.output.renderOutput(dataTable, element);\n",
              "          const docLink = document.createElement('div');\n",
              "          docLink.innerHTML = docLinkHtml;\n",
              "          element.appendChild(docLink);\n",
              "        }\n",
              "      </script>\n",
              "    </div>\n",
              "  </div>\n",
              "  "
            ]
          },
          "metadata": {},
          "execution_count": 45
        }
      ]
    },
    {
      "cell_type": "code",
      "source": [
        "# Pupper Stage\n",
        "pupper_df = twitter_archive_df[twitter_archive_df['pupper'] == 'pupper']\n",
        "pupper_df.shape"
      ],
      "metadata": {
        "colab": {
          "base_uri": "https://localhost:8080/"
        },
        "id": "VU63ixX_Y3ps",
        "outputId": "6184fbde-bc7f-4b67-8556-d8cce667c11d"
      },
      "execution_count": 48,
      "outputs": [
        {
          "output_type": "execute_result",
          "data": {
            "text/plain": [
              "(257, 17)"
            ]
          },
          "metadata": {},
          "execution_count": 48
        }
      ]
    },
    {
      "cell_type": "code",
      "source": [
        "# Puppo Stage\n",
        "puppo_df = twitter_archive_df[twitter_archive_df['puppo'] == 'puppo']\n",
        "puppo_df.shape"
      ],
      "metadata": {
        "colab": {
          "base_uri": "https://localhost:8080/"
        },
        "id": "NqVfPhQTZfKd",
        "outputId": "20cf59e8-509f-4f9f-be3c-2c69d40aa53a"
      },
      "execution_count": 49,
      "outputs": [
        {
          "output_type": "execute_result",
          "data": {
            "text/plain": [
              "(30, 17)"
            ]
          },
          "metadata": {},
          "execution_count": 49
        }
      ]
    },
    {
      "cell_type": "code",
      "source": [
        "# Doggo Stage\n",
        "doggo_df = twitter_archive_df[twitter_archive_df['doggo'] == 'doggo']\n",
        "doggo_df.shape"
      ],
      "metadata": {
        "colab": {
          "base_uri": "https://localhost:8080/"
        },
        "id": "OHEDPkNOaPvT",
        "outputId": "74c0bd8a-8cee-4669-9f72-35669a24daf0"
      },
      "execution_count": 50,
      "outputs": [
        {
          "output_type": "execute_result",
          "data": {
            "text/plain": [
              "(97, 17)"
            ]
          },
          "metadata": {},
          "execution_count": 50
        }
      ]
    },
    {
      "cell_type": "code",
      "source": [
        "# Pupper Stage\n",
        "floofer_df = twitter_archive_df[twitter_archive_df['floofer'] == 'floofer']\n",
        "floofer_df.shape"
      ],
      "metadata": {
        "colab": {
          "base_uri": "https://localhost:8080/"
        },
        "id": "TGqVbRb3aQyj",
        "outputId": "b11388a4-a075-47f9-d4ee-c3ba625adb4d"
      },
      "execution_count": 51,
      "outputs": [
        {
          "output_type": "execute_result",
          "data": {
            "text/plain": [
              "(10, 17)"
            ]
          },
          "metadata": {},
          "execution_count": 51
        }
      ]
    },
    {
      "cell_type": "markdown",
      "source": [
        "* The dog stages are pivoted into different columns, which requires cleaning (unpivoting)"
      ],
      "metadata": {
        "id": "FnsI9H6LnOW_"
      }
    },
    {
      "cell_type": "markdown",
      "source": [
        "####2.  Reading image_predictions.tsv Dataset (File Downloaded Programmatically)"
      ],
      "metadata": {
        "id": "HyS4ySj9ovNc"
      }
    },
    {
      "cell_type": "code",
      "source": [
        "# Reading dataset: image_predictions.tsv\n",
        "image_pred_df = pd.read_csv(working_dir + 'image_predictions_folder/image_predictions.tsv', sep='\\t', header=0)"
      ],
      "metadata": {
        "id": "bc7nbRdipff4"
      },
      "execution_count": 10,
      "outputs": []
    },
    {
      "cell_type": "code",
      "source": [
        "# Checking columns in dataframe\n",
        "image_pred_df.columns"
      ],
      "metadata": {
        "colab": {
          "base_uri": "https://localhost:8080/"
        },
        "id": "v1M9e35jrmMr",
        "outputId": "cec71dcf-c65b-4096-fe5c-2a25d72f39be"
      },
      "execution_count": 11,
      "outputs": [
        {
          "output_type": "execute_result",
          "data": {
            "text/plain": [
              "Index(['tweet_id', 'jpg_url', 'img_num', 'p1', 'p1_conf', 'p1_dog', 'p2',\n",
              "       'p2_conf', 'p2_dog', 'p3', 'p3_conf', 'p3_dog'],\n",
              "      dtype='object')"
            ]
          },
          "metadata": {},
          "execution_count": 11
        }
      ]
    },
    {
      "cell_type": "code",
      "source": [
        "# Shape of Dataframe\n",
        "image_pred_df.shape"
      ],
      "metadata": {
        "colab": {
          "base_uri": "https://localhost:8080/"
        },
        "id": "0qVuwma2so0N",
        "outputId": "6a1902c1-57c9-4ba0-dee5-4becd2a33ad0"
      },
      "execution_count": 12,
      "outputs": [
        {
          "output_type": "execute_result",
          "data": {
            "text/plain": [
              "(2075, 12)"
            ]
          },
          "metadata": {},
          "execution_count": 12
        }
      ]
    },
    {
      "cell_type": "code",
      "source": [
        "# Checking info\n",
        "image_pred_df.info()"
      ],
      "metadata": {
        "colab": {
          "base_uri": "https://localhost:8080/"
        },
        "id": "40y2HVF_8Xjj",
        "outputId": "dacaceab-0c65-41dc-8224-044916f2d3e9"
      },
      "execution_count": 13,
      "outputs": [
        {
          "output_type": "stream",
          "name": "stdout",
          "text": [
            "<class 'pandas.core.frame.DataFrame'>\n",
            "RangeIndex: 2075 entries, 0 to 2074\n",
            "Data columns (total 12 columns):\n",
            " #   Column    Non-Null Count  Dtype  \n",
            "---  ------    --------------  -----  \n",
            " 0   tweet_id  2075 non-null   int64  \n",
            " 1   jpg_url   2075 non-null   object \n",
            " 2   img_num   2075 non-null   int64  \n",
            " 3   p1        2075 non-null   object \n",
            " 4   p1_conf   2075 non-null   float64\n",
            " 5   p1_dog    2075 non-null   bool   \n",
            " 6   p2        2075 non-null   object \n",
            " 7   p2_conf   2075 non-null   float64\n",
            " 8   p2_dog    2075 non-null   bool   \n",
            " 9   p3        2075 non-null   object \n",
            " 10  p3_conf   2075 non-null   float64\n",
            " 11  p3_dog    2075 non-null   bool   \n",
            "dtypes: bool(3), float64(3), int64(2), object(4)\n",
            "memory usage: 152.1+ KB\n"
          ]
        }
      ]
    },
    {
      "cell_type": "code",
      "source": [
        "# Checking datatypes of columns\n",
        "image_pred_df.dtypes"
      ],
      "metadata": {
        "colab": {
          "base_uri": "https://localhost:8080/"
        },
        "id": "1DtL9LJ4IkF-",
        "outputId": "d779dee5-103e-4681-8c41-392cfda3d75b"
      },
      "execution_count": 14,
      "outputs": [
        {
          "output_type": "execute_result",
          "data": {
            "text/plain": [
              "tweet_id      int64\n",
              "jpg_url      object\n",
              "img_num       int64\n",
              "p1           object\n",
              "p1_conf     float64\n",
              "p1_dog         bool\n",
              "p2           object\n",
              "p2_conf     float64\n",
              "p2_dog         bool\n",
              "p3           object\n",
              "p3_conf     float64\n",
              "p3_dog         bool\n",
              "dtype: object"
            ]
          },
          "metadata": {},
          "execution_count": 14
        }
      ]
    },
    {
      "cell_type": "code",
      "source": [
        "# Checking first 5 rows\n",
        "image_pred_df.head()"
      ],
      "metadata": {
        "colab": {
          "base_uri": "https://localhost:8080/",
          "height": 270
        },
        "id": "YIUVehYEAUMG",
        "outputId": "57f188fe-7c59-4f01-bc65-ec1eaf6fc5ba"
      },
      "execution_count": 15,
      "outputs": [
        {
          "output_type": "execute_result",
          "data": {
            "text/plain": [
              "             tweet_id                                          jpg_url  \\\n",
              "0  666020888022790149  https://pbs.twimg.com/media/CT4udn0WwAA0aMy.jpg   \n",
              "1  666029285002620928  https://pbs.twimg.com/media/CT42GRgUYAA5iDo.jpg   \n",
              "2  666033412701032449  https://pbs.twimg.com/media/CT4521TWwAEvMyu.jpg   \n",
              "3  666044226329800704  https://pbs.twimg.com/media/CT5Dr8HUEAA-lEu.jpg   \n",
              "4  666049248165822465  https://pbs.twimg.com/media/CT5IQmsXIAAKY4A.jpg   \n",
              "\n",
              "   img_num                      p1   p1_conf  p1_dog                  p2  \\\n",
              "0        1  Welsh_springer_spaniel  0.465074    True              collie   \n",
              "1        1                 redbone  0.506826    True  miniature_pinscher   \n",
              "2        1         German_shepherd  0.596461    True            malinois   \n",
              "3        1     Rhodesian_ridgeback  0.408143    True             redbone   \n",
              "4        1      miniature_pinscher  0.560311    True          Rottweiler   \n",
              "\n",
              "    p2_conf  p2_dog                   p3   p3_conf  p3_dog  \n",
              "0  0.156665    True    Shetland_sheepdog  0.061428    True  \n",
              "1  0.074192    True  Rhodesian_ridgeback  0.072010    True  \n",
              "2  0.138584    True           bloodhound  0.116197    True  \n",
              "3  0.360687    True   miniature_pinscher  0.222752    True  \n",
              "4  0.243682    True             Doberman  0.154629    True  "
            ],
            "text/html": [
              "\n",
              "  <div id=\"df-e191a0df-d58b-45f6-afed-34b351171294\">\n",
              "    <div class=\"colab-df-container\">\n",
              "      <div>\n",
              "<style scoped>\n",
              "    .dataframe tbody tr th:only-of-type {\n",
              "        vertical-align: middle;\n",
              "    }\n",
              "\n",
              "    .dataframe tbody tr th {\n",
              "        vertical-align: top;\n",
              "    }\n",
              "\n",
              "    .dataframe thead th {\n",
              "        text-align: right;\n",
              "    }\n",
              "</style>\n",
              "<table border=\"1\" class=\"dataframe\">\n",
              "  <thead>\n",
              "    <tr style=\"text-align: right;\">\n",
              "      <th></th>\n",
              "      <th>tweet_id</th>\n",
              "      <th>jpg_url</th>\n",
              "      <th>img_num</th>\n",
              "      <th>p1</th>\n",
              "      <th>p1_conf</th>\n",
              "      <th>p1_dog</th>\n",
              "      <th>p2</th>\n",
              "      <th>p2_conf</th>\n",
              "      <th>p2_dog</th>\n",
              "      <th>p3</th>\n",
              "      <th>p3_conf</th>\n",
              "      <th>p3_dog</th>\n",
              "    </tr>\n",
              "  </thead>\n",
              "  <tbody>\n",
              "    <tr>\n",
              "      <th>0</th>\n",
              "      <td>666020888022790149</td>\n",
              "      <td>https://pbs.twimg.com/media/CT4udn0WwAA0aMy.jpg</td>\n",
              "      <td>1</td>\n",
              "      <td>Welsh_springer_spaniel</td>\n",
              "      <td>0.465074</td>\n",
              "      <td>True</td>\n",
              "      <td>collie</td>\n",
              "      <td>0.156665</td>\n",
              "      <td>True</td>\n",
              "      <td>Shetland_sheepdog</td>\n",
              "      <td>0.061428</td>\n",
              "      <td>True</td>\n",
              "    </tr>\n",
              "    <tr>\n",
              "      <th>1</th>\n",
              "      <td>666029285002620928</td>\n",
              "      <td>https://pbs.twimg.com/media/CT42GRgUYAA5iDo.jpg</td>\n",
              "      <td>1</td>\n",
              "      <td>redbone</td>\n",
              "      <td>0.506826</td>\n",
              "      <td>True</td>\n",
              "      <td>miniature_pinscher</td>\n",
              "      <td>0.074192</td>\n",
              "      <td>True</td>\n",
              "      <td>Rhodesian_ridgeback</td>\n",
              "      <td>0.072010</td>\n",
              "      <td>True</td>\n",
              "    </tr>\n",
              "    <tr>\n",
              "      <th>2</th>\n",
              "      <td>666033412701032449</td>\n",
              "      <td>https://pbs.twimg.com/media/CT4521TWwAEvMyu.jpg</td>\n",
              "      <td>1</td>\n",
              "      <td>German_shepherd</td>\n",
              "      <td>0.596461</td>\n",
              "      <td>True</td>\n",
              "      <td>malinois</td>\n",
              "      <td>0.138584</td>\n",
              "      <td>True</td>\n",
              "      <td>bloodhound</td>\n",
              "      <td>0.116197</td>\n",
              "      <td>True</td>\n",
              "    </tr>\n",
              "    <tr>\n",
              "      <th>3</th>\n",
              "      <td>666044226329800704</td>\n",
              "      <td>https://pbs.twimg.com/media/CT5Dr8HUEAA-lEu.jpg</td>\n",
              "      <td>1</td>\n",
              "      <td>Rhodesian_ridgeback</td>\n",
              "      <td>0.408143</td>\n",
              "      <td>True</td>\n",
              "      <td>redbone</td>\n",
              "      <td>0.360687</td>\n",
              "      <td>True</td>\n",
              "      <td>miniature_pinscher</td>\n",
              "      <td>0.222752</td>\n",
              "      <td>True</td>\n",
              "    </tr>\n",
              "    <tr>\n",
              "      <th>4</th>\n",
              "      <td>666049248165822465</td>\n",
              "      <td>https://pbs.twimg.com/media/CT5IQmsXIAAKY4A.jpg</td>\n",
              "      <td>1</td>\n",
              "      <td>miniature_pinscher</td>\n",
              "      <td>0.560311</td>\n",
              "      <td>True</td>\n",
              "      <td>Rottweiler</td>\n",
              "      <td>0.243682</td>\n",
              "      <td>True</td>\n",
              "      <td>Doberman</td>\n",
              "      <td>0.154629</td>\n",
              "      <td>True</td>\n",
              "    </tr>\n",
              "  </tbody>\n",
              "</table>\n",
              "</div>\n",
              "      <button class=\"colab-df-convert\" onclick=\"convertToInteractive('df-e191a0df-d58b-45f6-afed-34b351171294')\"\n",
              "              title=\"Convert this dataframe to an interactive table.\"\n",
              "              style=\"display:none;\">\n",
              "        \n",
              "  <svg xmlns=\"http://www.w3.org/2000/svg\" height=\"24px\"viewBox=\"0 0 24 24\"\n",
              "       width=\"24px\">\n",
              "    <path d=\"M0 0h24v24H0V0z\" fill=\"none\"/>\n",
              "    <path d=\"M18.56 5.44l.94 2.06.94-2.06 2.06-.94-2.06-.94-.94-2.06-.94 2.06-2.06.94zm-11 1L8.5 8.5l.94-2.06 2.06-.94-2.06-.94L8.5 2.5l-.94 2.06-2.06.94zm10 10l.94 2.06.94-2.06 2.06-.94-2.06-.94-.94-2.06-.94 2.06-2.06.94z\"/><path d=\"M17.41 7.96l-1.37-1.37c-.4-.4-.92-.59-1.43-.59-.52 0-1.04.2-1.43.59L10.3 9.45l-7.72 7.72c-.78.78-.78 2.05 0 2.83L4 21.41c.39.39.9.59 1.41.59.51 0 1.02-.2 1.41-.59l7.78-7.78 2.81-2.81c.8-.78.8-2.07 0-2.86zM5.41 20L4 18.59l7.72-7.72 1.47 1.35L5.41 20z\"/>\n",
              "  </svg>\n",
              "      </button>\n",
              "      \n",
              "  <style>\n",
              "    .colab-df-container {\n",
              "      display:flex;\n",
              "      flex-wrap:wrap;\n",
              "      gap: 12px;\n",
              "    }\n",
              "\n",
              "    .colab-df-convert {\n",
              "      background-color: #E8F0FE;\n",
              "      border: none;\n",
              "      border-radius: 50%;\n",
              "      cursor: pointer;\n",
              "      display: none;\n",
              "      fill: #1967D2;\n",
              "      height: 32px;\n",
              "      padding: 0 0 0 0;\n",
              "      width: 32px;\n",
              "    }\n",
              "\n",
              "    .colab-df-convert:hover {\n",
              "      background-color: #E2EBFA;\n",
              "      box-shadow: 0px 1px 2px rgba(60, 64, 67, 0.3), 0px 1px 3px 1px rgba(60, 64, 67, 0.15);\n",
              "      fill: #174EA6;\n",
              "    }\n",
              "\n",
              "    [theme=dark] .colab-df-convert {\n",
              "      background-color: #3B4455;\n",
              "      fill: #D2E3FC;\n",
              "    }\n",
              "\n",
              "    [theme=dark] .colab-df-convert:hover {\n",
              "      background-color: #434B5C;\n",
              "      box-shadow: 0px 1px 3px 1px rgba(0, 0, 0, 0.15);\n",
              "      filter: drop-shadow(0px 1px 2px rgba(0, 0, 0, 0.3));\n",
              "      fill: #FFFFFF;\n",
              "    }\n",
              "  </style>\n",
              "\n",
              "      <script>\n",
              "        const buttonEl =\n",
              "          document.querySelector('#df-e191a0df-d58b-45f6-afed-34b351171294 button.colab-df-convert');\n",
              "        buttonEl.style.display =\n",
              "          google.colab.kernel.accessAllowed ? 'block' : 'none';\n",
              "\n",
              "        async function convertToInteractive(key) {\n",
              "          const element = document.querySelector('#df-e191a0df-d58b-45f6-afed-34b351171294');\n",
              "          const dataTable =\n",
              "            await google.colab.kernel.invokeFunction('convertToInteractive',\n",
              "                                                     [key], {});\n",
              "          if (!dataTable) return;\n",
              "\n",
              "          const docLinkHtml = 'Like what you see? Visit the ' +\n",
              "            '<a target=\"_blank\" href=https://colab.research.google.com/notebooks/data_table.ipynb>data table notebook</a>'\n",
              "            + ' to learn more about interactive tables.';\n",
              "          element.innerHTML = '';\n",
              "          dataTable['output_type'] = 'display_data';\n",
              "          await google.colab.output.renderOutput(dataTable, element);\n",
              "          const docLink = document.createElement('div');\n",
              "          docLink.innerHTML = docLinkHtml;\n",
              "          element.appendChild(docLink);\n",
              "        }\n",
              "      </script>\n",
              "    </div>\n",
              "  </div>\n",
              "  "
            ]
          },
          "metadata": {},
          "execution_count": 15
        }
      ]
    },
    {
      "cell_type": "code",
      "source": [
        "# Checking sampled rows\n",
        "image_pred_df.sample(10)"
      ],
      "metadata": {
        "colab": {
          "base_uri": "https://localhost:8080/",
          "height": 427
        },
        "id": "52LWqoyHpvXm",
        "outputId": "c009b850-0827-4110-81b1-dbdd35a7f4f3"
      },
      "execution_count": 61,
      "outputs": [
        {
          "output_type": "execute_result",
          "data": {
            "text/plain": [
              "                tweet_id                                            jpg_url  \\\n",
              "1556  793210959003287553    https://pbs.twimg.com/media/CwINKJeW8AYHVkn.jpg   \n",
              "539   676957860086095872  https://pbs.twimg.com/ext_tw_video_thumb/67695...   \n",
              "465   675006312288268288    https://pbs.twimg.com/media/CV4aqCwWsAIi3OP.jpg   \n",
              "429   674265582246694913    https://pbs.twimg.com/media/CVt49k_WsAAtNYC.jpg   \n",
              "41    666701168228331520    https://pbs.twimg.com/media/CUCZLHlUAAAeAig.jpg   \n",
              "1425  772193107915964416    https://pbs.twimg.com/media/Crdhh_1XEAAHKHi.jpg   \n",
              "1569  794355576146903043    https://pbs.twimg.com/media/CvJCabcWgAIoUxW.jpg   \n",
              "1732  821149554670182400  https://pbs.twimg.com/ext_tw_video_thumb/82114...   \n",
              "1272  750011400160841729    https://pbs.twimg.com/media/CmfmvGUWgAAuVKD.jpg   \n",
              "1258  748692773788876800    https://pbs.twimg.com/media/CmPkGhFXEAABO1n.jpg   \n",
              "\n",
              "      img_num                  p1   p1_conf  p1_dog                p2  \\\n",
              "1556        1             doormat  0.874431   False    French_bulldog   \n",
              "539         1  Labrador_retriever  0.772423    True            beagle   \n",
              "465         1               boxer  0.654697    True      space_heater   \n",
              "429         1                slug  0.998075   False         ice_lolly   \n",
              "41          1  Labrador_retriever  0.887707    True         Chihuahua   \n",
              "1425        1            Pembroke  0.367945    True         Chihuahua   \n",
              "1569        1      cocker_spaniel  0.500509    True  golden_retriever   \n",
              "1732        1     German_shepherd  0.515933    True          malinois   \n",
              "1272        1              muzzle  0.237620   False       Boston_bull   \n",
              "1258        1                  ox  0.337871   False              plow   \n",
              "\n",
              "       p2_conf  p2_dog                p3   p3_conf  p3_dog  \n",
              "1556  0.018759    True       Boston_bull  0.015134    True  \n",
              "539   0.055902    True  golden_retriever  0.031152    True  \n",
              "465   0.043389   False            beagle  0.042848    True  \n",
              "429   0.000984   False        leafhopper  0.000097   False  \n",
              "41    0.029307    True    French_bulldog  0.020756    True  \n",
              "1425  0.223522    True          Pekinese  0.164871    True  \n",
              "1569  0.272734    True     jigsaw_puzzle  0.041476   False  \n",
              "1732  0.203651    True      Irish_setter  0.091055    True  \n",
              "1272  0.087150    True          sombrero  0.068510   False  \n",
              "1258  0.269287   False            oxcart  0.245653   False  "
            ],
            "text/html": [
              "\n",
              "  <div id=\"df-bee3e905-b380-42b5-9171-a89804b0819d\">\n",
              "    <div class=\"colab-df-container\">\n",
              "      <div>\n",
              "<style scoped>\n",
              "    .dataframe tbody tr th:only-of-type {\n",
              "        vertical-align: middle;\n",
              "    }\n",
              "\n",
              "    .dataframe tbody tr th {\n",
              "        vertical-align: top;\n",
              "    }\n",
              "\n",
              "    .dataframe thead th {\n",
              "        text-align: right;\n",
              "    }\n",
              "</style>\n",
              "<table border=\"1\" class=\"dataframe\">\n",
              "  <thead>\n",
              "    <tr style=\"text-align: right;\">\n",
              "      <th></th>\n",
              "      <th>tweet_id</th>\n",
              "      <th>jpg_url</th>\n",
              "      <th>img_num</th>\n",
              "      <th>p1</th>\n",
              "      <th>p1_conf</th>\n",
              "      <th>p1_dog</th>\n",
              "      <th>p2</th>\n",
              "      <th>p2_conf</th>\n",
              "      <th>p2_dog</th>\n",
              "      <th>p3</th>\n",
              "      <th>p3_conf</th>\n",
              "      <th>p3_dog</th>\n",
              "    </tr>\n",
              "  </thead>\n",
              "  <tbody>\n",
              "    <tr>\n",
              "      <th>1556</th>\n",
              "      <td>793210959003287553</td>\n",
              "      <td>https://pbs.twimg.com/media/CwINKJeW8AYHVkn.jpg</td>\n",
              "      <td>1</td>\n",
              "      <td>doormat</td>\n",
              "      <td>0.874431</td>\n",
              "      <td>False</td>\n",
              "      <td>French_bulldog</td>\n",
              "      <td>0.018759</td>\n",
              "      <td>True</td>\n",
              "      <td>Boston_bull</td>\n",
              "      <td>0.015134</td>\n",
              "      <td>True</td>\n",
              "    </tr>\n",
              "    <tr>\n",
              "      <th>539</th>\n",
              "      <td>676957860086095872</td>\n",
              "      <td>https://pbs.twimg.com/ext_tw_video_thumb/67695...</td>\n",
              "      <td>1</td>\n",
              "      <td>Labrador_retriever</td>\n",
              "      <td>0.772423</td>\n",
              "      <td>True</td>\n",
              "      <td>beagle</td>\n",
              "      <td>0.055902</td>\n",
              "      <td>True</td>\n",
              "      <td>golden_retriever</td>\n",
              "      <td>0.031152</td>\n",
              "      <td>True</td>\n",
              "    </tr>\n",
              "    <tr>\n",
              "      <th>465</th>\n",
              "      <td>675006312288268288</td>\n",
              "      <td>https://pbs.twimg.com/media/CV4aqCwWsAIi3OP.jpg</td>\n",
              "      <td>1</td>\n",
              "      <td>boxer</td>\n",
              "      <td>0.654697</td>\n",
              "      <td>True</td>\n",
              "      <td>space_heater</td>\n",
              "      <td>0.043389</td>\n",
              "      <td>False</td>\n",
              "      <td>beagle</td>\n",
              "      <td>0.042848</td>\n",
              "      <td>True</td>\n",
              "    </tr>\n",
              "    <tr>\n",
              "      <th>429</th>\n",
              "      <td>674265582246694913</td>\n",
              "      <td>https://pbs.twimg.com/media/CVt49k_WsAAtNYC.jpg</td>\n",
              "      <td>1</td>\n",
              "      <td>slug</td>\n",
              "      <td>0.998075</td>\n",
              "      <td>False</td>\n",
              "      <td>ice_lolly</td>\n",
              "      <td>0.000984</td>\n",
              "      <td>False</td>\n",
              "      <td>leafhopper</td>\n",
              "      <td>0.000097</td>\n",
              "      <td>False</td>\n",
              "    </tr>\n",
              "    <tr>\n",
              "      <th>41</th>\n",
              "      <td>666701168228331520</td>\n",
              "      <td>https://pbs.twimg.com/media/CUCZLHlUAAAeAig.jpg</td>\n",
              "      <td>1</td>\n",
              "      <td>Labrador_retriever</td>\n",
              "      <td>0.887707</td>\n",
              "      <td>True</td>\n",
              "      <td>Chihuahua</td>\n",
              "      <td>0.029307</td>\n",
              "      <td>True</td>\n",
              "      <td>French_bulldog</td>\n",
              "      <td>0.020756</td>\n",
              "      <td>True</td>\n",
              "    </tr>\n",
              "    <tr>\n",
              "      <th>1425</th>\n",
              "      <td>772193107915964416</td>\n",
              "      <td>https://pbs.twimg.com/media/Crdhh_1XEAAHKHi.jpg</td>\n",
              "      <td>1</td>\n",
              "      <td>Pembroke</td>\n",
              "      <td>0.367945</td>\n",
              "      <td>True</td>\n",
              "      <td>Chihuahua</td>\n",
              "      <td>0.223522</td>\n",
              "      <td>True</td>\n",
              "      <td>Pekinese</td>\n",
              "      <td>0.164871</td>\n",
              "      <td>True</td>\n",
              "    </tr>\n",
              "    <tr>\n",
              "      <th>1569</th>\n",
              "      <td>794355576146903043</td>\n",
              "      <td>https://pbs.twimg.com/media/CvJCabcWgAIoUxW.jpg</td>\n",
              "      <td>1</td>\n",
              "      <td>cocker_spaniel</td>\n",
              "      <td>0.500509</td>\n",
              "      <td>True</td>\n",
              "      <td>golden_retriever</td>\n",
              "      <td>0.272734</td>\n",
              "      <td>True</td>\n",
              "      <td>jigsaw_puzzle</td>\n",
              "      <td>0.041476</td>\n",
              "      <td>False</td>\n",
              "    </tr>\n",
              "    <tr>\n",
              "      <th>1732</th>\n",
              "      <td>821149554670182400</td>\n",
              "      <td>https://pbs.twimg.com/ext_tw_video_thumb/82114...</td>\n",
              "      <td>1</td>\n",
              "      <td>German_shepherd</td>\n",
              "      <td>0.515933</td>\n",
              "      <td>True</td>\n",
              "      <td>malinois</td>\n",
              "      <td>0.203651</td>\n",
              "      <td>True</td>\n",
              "      <td>Irish_setter</td>\n",
              "      <td>0.091055</td>\n",
              "      <td>True</td>\n",
              "    </tr>\n",
              "    <tr>\n",
              "      <th>1272</th>\n",
              "      <td>750011400160841729</td>\n",
              "      <td>https://pbs.twimg.com/media/CmfmvGUWgAAuVKD.jpg</td>\n",
              "      <td>1</td>\n",
              "      <td>muzzle</td>\n",
              "      <td>0.237620</td>\n",
              "      <td>False</td>\n",
              "      <td>Boston_bull</td>\n",
              "      <td>0.087150</td>\n",
              "      <td>True</td>\n",
              "      <td>sombrero</td>\n",
              "      <td>0.068510</td>\n",
              "      <td>False</td>\n",
              "    </tr>\n",
              "    <tr>\n",
              "      <th>1258</th>\n",
              "      <td>748692773788876800</td>\n",
              "      <td>https://pbs.twimg.com/media/CmPkGhFXEAABO1n.jpg</td>\n",
              "      <td>1</td>\n",
              "      <td>ox</td>\n",
              "      <td>0.337871</td>\n",
              "      <td>False</td>\n",
              "      <td>plow</td>\n",
              "      <td>0.269287</td>\n",
              "      <td>False</td>\n",
              "      <td>oxcart</td>\n",
              "      <td>0.245653</td>\n",
              "      <td>False</td>\n",
              "    </tr>\n",
              "  </tbody>\n",
              "</table>\n",
              "</div>\n",
              "      <button class=\"colab-df-convert\" onclick=\"convertToInteractive('df-bee3e905-b380-42b5-9171-a89804b0819d')\"\n",
              "              title=\"Convert this dataframe to an interactive table.\"\n",
              "              style=\"display:none;\">\n",
              "        \n",
              "  <svg xmlns=\"http://www.w3.org/2000/svg\" height=\"24px\"viewBox=\"0 0 24 24\"\n",
              "       width=\"24px\">\n",
              "    <path d=\"M0 0h24v24H0V0z\" fill=\"none\"/>\n",
              "    <path d=\"M18.56 5.44l.94 2.06.94-2.06 2.06-.94-2.06-.94-.94-2.06-.94 2.06-2.06.94zm-11 1L8.5 8.5l.94-2.06 2.06-.94-2.06-.94L8.5 2.5l-.94 2.06-2.06.94zm10 10l.94 2.06.94-2.06 2.06-.94-2.06-.94-.94-2.06-.94 2.06-2.06.94z\"/><path d=\"M17.41 7.96l-1.37-1.37c-.4-.4-.92-.59-1.43-.59-.52 0-1.04.2-1.43.59L10.3 9.45l-7.72 7.72c-.78.78-.78 2.05 0 2.83L4 21.41c.39.39.9.59 1.41.59.51 0 1.02-.2 1.41-.59l7.78-7.78 2.81-2.81c.8-.78.8-2.07 0-2.86zM5.41 20L4 18.59l7.72-7.72 1.47 1.35L5.41 20z\"/>\n",
              "  </svg>\n",
              "      </button>\n",
              "      \n",
              "  <style>\n",
              "    .colab-df-container {\n",
              "      display:flex;\n",
              "      flex-wrap:wrap;\n",
              "      gap: 12px;\n",
              "    }\n",
              "\n",
              "    .colab-df-convert {\n",
              "      background-color: #E8F0FE;\n",
              "      border: none;\n",
              "      border-radius: 50%;\n",
              "      cursor: pointer;\n",
              "      display: none;\n",
              "      fill: #1967D2;\n",
              "      height: 32px;\n",
              "      padding: 0 0 0 0;\n",
              "      width: 32px;\n",
              "    }\n",
              "\n",
              "    .colab-df-convert:hover {\n",
              "      background-color: #E2EBFA;\n",
              "      box-shadow: 0px 1px 2px rgba(60, 64, 67, 0.3), 0px 1px 3px 1px rgba(60, 64, 67, 0.15);\n",
              "      fill: #174EA6;\n",
              "    }\n",
              "\n",
              "    [theme=dark] .colab-df-convert {\n",
              "      background-color: #3B4455;\n",
              "      fill: #D2E3FC;\n",
              "    }\n",
              "\n",
              "    [theme=dark] .colab-df-convert:hover {\n",
              "      background-color: #434B5C;\n",
              "      box-shadow: 0px 1px 3px 1px rgba(0, 0, 0, 0.15);\n",
              "      filter: drop-shadow(0px 1px 2px rgba(0, 0, 0, 0.3));\n",
              "      fill: #FFFFFF;\n",
              "    }\n",
              "  </style>\n",
              "\n",
              "      <script>\n",
              "        const buttonEl =\n",
              "          document.querySelector('#df-bee3e905-b380-42b5-9171-a89804b0819d button.colab-df-convert');\n",
              "        buttonEl.style.display =\n",
              "          google.colab.kernel.accessAllowed ? 'block' : 'none';\n",
              "\n",
              "        async function convertToInteractive(key) {\n",
              "          const element = document.querySelector('#df-bee3e905-b380-42b5-9171-a89804b0819d');\n",
              "          const dataTable =\n",
              "            await google.colab.kernel.invokeFunction('convertToInteractive',\n",
              "                                                     [key], {});\n",
              "          if (!dataTable) return;\n",
              "\n",
              "          const docLinkHtml = 'Like what you see? Visit the ' +\n",
              "            '<a target=\"_blank\" href=https://colab.research.google.com/notebooks/data_table.ipynb>data table notebook</a>'\n",
              "            + ' to learn more about interactive tables.';\n",
              "          element.innerHTML = '';\n",
              "          dataTable['output_type'] = 'display_data';\n",
              "          await google.colab.output.renderOutput(dataTable, element);\n",
              "          const docLink = document.createElement('div');\n",
              "          docLink.innerHTML = docLinkHtml;\n",
              "          element.appendChild(docLink);\n",
              "        }\n",
              "      </script>\n",
              "    </div>\n",
              "  </div>\n",
              "  "
            ]
          },
          "metadata": {},
          "execution_count": 61
        }
      ]
    },
    {
      "cell_type": "markdown",
      "source": [
        "* Some of the breed names in p1, p2, p3 columns are having the first letter as lowercase. This requires cleaning"
      ],
      "metadata": {
        "id": "i-Rb_J6gp70y"
      }
    },
    {
      "cell_type": "markdown",
      "source": [
        "####3.   Reading tweet_json.txt Dataset (Dataset of tweets queried using Twitter API)"
      ],
      "metadata": {
        "id": "MM7rGVqDpgOK"
      }
    },
    {
      "cell_type": "code",
      "source": [
        "# create pandas DataFrame: \n",
        "tweet_json_df = pd.read_json(working_dir + 'tweet_json.txt', lines=True)"
      ],
      "metadata": {
        "id": "vQIJRRt19-o5"
      },
      "execution_count": 16,
      "outputs": []
    },
    {
      "cell_type": "code",
      "source": [
        "# Checking columns in dataframe\n",
        "tweet_json_df.columns"
      ],
      "metadata": {
        "colab": {
          "base_uri": "https://localhost:8080/"
        },
        "id": "7QMjexbK_-jO",
        "outputId": "c958963d-dc25-4e10-99bd-9dc126c1d261"
      },
      "execution_count": 17,
      "outputs": [
        {
          "output_type": "execute_result",
          "data": {
            "text/plain": [
              "Index(['created_at', 'id', 'id_str', 'full_text', 'truncated',\n",
              "       'display_text_range', 'entities', 'extended_entities', 'source',\n",
              "       'in_reply_to_status_id', 'in_reply_to_status_id_str',\n",
              "       'in_reply_to_user_id', 'in_reply_to_user_id_str',\n",
              "       'in_reply_to_screen_name', 'user', 'geo', 'coordinates', 'place',\n",
              "       'contributors', 'is_quote_status', 'retweet_count', 'favorite_count',\n",
              "       'favorited', 'retweeted', 'possibly_sensitive',\n",
              "       'possibly_sensitive_appealable', 'lang', 'retweeted_status',\n",
              "       'quoted_status_id', 'quoted_status_id_str', 'quoted_status_permalink',\n",
              "       'quoted_status'],\n",
              "      dtype='object')"
            ]
          },
          "metadata": {},
          "execution_count": 17
        }
      ]
    },
    {
      "cell_type": "code",
      "source": [
        "# Shape of Dataframe\n",
        "tweet_json_df.shape"
      ],
      "metadata": {
        "colab": {
          "base_uri": "https://localhost:8080/"
        },
        "id": "mqpWIGdOAIHU",
        "outputId": "bd5380b4-a7d2-4c5f-d16c-12a2ed1a0b52"
      },
      "execution_count": 18,
      "outputs": [
        {
          "output_type": "execute_result",
          "data": {
            "text/plain": [
              "(3230, 32)"
            ]
          },
          "metadata": {},
          "execution_count": 18
        }
      ]
    },
    {
      "cell_type": "code",
      "source": [
        "# Checking info\n",
        "tweet_json_df.info()"
      ],
      "metadata": {
        "colab": {
          "base_uri": "https://localhost:8080/"
        },
        "id": "-ZocsIwN8g6w",
        "outputId": "c3af51ff-2b72-467b-865b-50c41489da68"
      },
      "execution_count": 19,
      "outputs": [
        {
          "output_type": "stream",
          "name": "stdout",
          "text": [
            "<class 'pandas.core.frame.DataFrame'>\n",
            "RangeIndex: 3230 entries, 0 to 3229\n",
            "Data columns (total 32 columns):\n",
            " #   Column                         Non-Null Count  Dtype              \n",
            "---  ------                         --------------  -----              \n",
            " 0   created_at                     3230 non-null   datetime64[ns, UTC]\n",
            " 1   id                             3230 non-null   int64              \n",
            " 2   id_str                         3230 non-null   int64              \n",
            " 3   full_text                      3230 non-null   object             \n",
            " 4   truncated                      3230 non-null   bool               \n",
            " 5   display_text_range             3230 non-null   object             \n",
            " 6   entities                       3230 non-null   object             \n",
            " 7   extended_entities              2917 non-null   object             \n",
            " 8   source                         3230 non-null   object             \n",
            " 9   in_reply_to_status_id          66 non-null     float64            \n",
            " 10  in_reply_to_status_id_str      66 non-null     float64            \n",
            " 11  in_reply_to_user_id            66 non-null     float64            \n",
            " 12  in_reply_to_user_id_str        66 non-null     float64            \n",
            " 13  in_reply_to_screen_name        66 non-null     object             \n",
            " 14  user                           3230 non-null   object             \n",
            " 15  geo                            0 non-null      float64            \n",
            " 16  coordinates                    0 non-null      float64            \n",
            " 17  place                          2 non-null      object             \n",
            " 18  contributors                   0 non-null      float64            \n",
            " 19  is_quote_status                3230 non-null   bool               \n",
            " 20  retweet_count                  3230 non-null   int64              \n",
            " 21  favorite_count                 3230 non-null   int64              \n",
            " 22  favorited                      3230 non-null   bool               \n",
            " 23  retweeted                      3230 non-null   bool               \n",
            " 24  possibly_sensitive             3027 non-null   float64            \n",
            " 25  possibly_sensitive_appealable  3027 non-null   float64            \n",
            " 26  lang                           3230 non-null   object             \n",
            " 27  retweeted_status               297 non-null    object             \n",
            " 28  quoted_status_id               42 non-null     float64            \n",
            " 29  quoted_status_id_str           42 non-null     float64            \n",
            " 30  quoted_status_permalink        42 non-null     object             \n",
            " 31  quoted_status                  40 non-null     object             \n",
            "dtypes: bool(4), datetime64[ns, UTC](1), float64(11), int64(4), object(12)\n",
            "memory usage: 719.3+ KB\n"
          ]
        }
      ]
    },
    {
      "cell_type": "code",
      "source": [
        "# Checking datatypes of columns\n",
        "tweet_json_df.dtypes"
      ],
      "metadata": {
        "colab": {
          "base_uri": "https://localhost:8080/"
        },
        "id": "4RAa1B3mIzpt",
        "outputId": "7609dd19-0778-4c95-8d3e-8abd89f68072"
      },
      "execution_count": 20,
      "outputs": [
        {
          "output_type": "execute_result",
          "data": {
            "text/plain": [
              "created_at                       datetime64[ns, UTC]\n",
              "id                                             int64\n",
              "id_str                                         int64\n",
              "full_text                                     object\n",
              "truncated                                       bool\n",
              "display_text_range                            object\n",
              "entities                                      object\n",
              "extended_entities                             object\n",
              "source                                        object\n",
              "in_reply_to_status_id                        float64\n",
              "in_reply_to_status_id_str                    float64\n",
              "in_reply_to_user_id                          float64\n",
              "in_reply_to_user_id_str                      float64\n",
              "in_reply_to_screen_name                       object\n",
              "user                                          object\n",
              "geo                                          float64\n",
              "coordinates                                  float64\n",
              "place                                         object\n",
              "contributors                                 float64\n",
              "is_quote_status                                 bool\n",
              "retweet_count                                  int64\n",
              "favorite_count                                 int64\n",
              "favorited                                       bool\n",
              "retweeted                                       bool\n",
              "possibly_sensitive                           float64\n",
              "possibly_sensitive_appealable                float64\n",
              "lang                                          object\n",
              "retweeted_status                              object\n",
              "quoted_status_id                             float64\n",
              "quoted_status_id_str                         float64\n",
              "quoted_status_permalink                       object\n",
              "quoted_status                                 object\n",
              "dtype: object"
            ]
          },
          "metadata": {},
          "execution_count": 20
        }
      ]
    },
    {
      "cell_type": "code",
      "source": [
        "# Checking first 5 rows\n",
        "tweet_json_df.head()"
      ],
      "metadata": {
        "colab": {
          "base_uri": "https://localhost:8080/",
          "height": 664
        },
        "id": "U7Z9HaKU-SGG",
        "outputId": "cb4426c6-526f-4495-c299-9a6908b5c2b1"
      },
      "execution_count": 21,
      "outputs": [
        {
          "output_type": "execute_result",
          "data": {
            "text/plain": [
              "                 created_at                  id              id_str  \\\n",
              "0 2017-08-01 16:23:56+00:00  892420643555336193  892420643555336192   \n",
              "1 2017-08-01 00:17:27+00:00  892177421306343426  892177421306343424   \n",
              "2 2017-07-31 00:18:03+00:00  891815181378084864  891815181378084864   \n",
              "3 2017-07-30 15:58:51+00:00  891689557279858688  891689557279858688   \n",
              "4 2017-07-29 16:00:24+00:00  891327558926688256  891327558926688256   \n",
              "\n",
              "                                           full_text  truncated  \\\n",
              "0  This is Phineas. He's a mystical boy. Only eve...      False   \n",
              "1  This is Tilly. She's just checking pup on you....      False   \n",
              "2  This is Archie. He is a rare Norwegian Pouncin...      False   \n",
              "3  This is Darla. She commenced a snooze mid meal...      False   \n",
              "4  This is Franklin. He would like you to stop ca...      False   \n",
              "\n",
              "  display_text_range                                           entities  \\\n",
              "0            [0, 85]  {'hashtags': [], 'symbols': [], 'user_mentions...   \n",
              "1           [0, 138]  {'hashtags': [], 'symbols': [], 'user_mentions...   \n",
              "2           [0, 121]  {'hashtags': [], 'symbols': [], 'user_mentions...   \n",
              "3            [0, 79]  {'hashtags': [], 'symbols': [], 'user_mentions...   \n",
              "4           [0, 138]  {'hashtags': [{'text': 'BarkWeek', 'indices': ...   \n",
              "\n",
              "                                   extended_entities  \\\n",
              "0  {'media': [{'id': 892420639486877696, 'id_str'...   \n",
              "1  {'media': [{'id': 892177413194625024, 'id_str'...   \n",
              "2  {'media': [{'id': 891815175371796480, 'id_str'...   \n",
              "3  {'media': [{'id': 891689552724799489, 'id_str'...   \n",
              "4  {'media': [{'id': 891327551943041024, 'id_str'...   \n",
              "\n",
              "                                              source  in_reply_to_status_id  \\\n",
              "0  <a href=\"http://twitter.com/download/iphone\" r...                    NaN   \n",
              "1  <a href=\"http://twitter.com/download/iphone\" r...                    NaN   \n",
              "2  <a href=\"http://twitter.com/download/iphone\" r...                    NaN   \n",
              "3  <a href=\"http://twitter.com/download/iphone\" r...                    NaN   \n",
              "4  <a href=\"http://twitter.com/download/iphone\" r...                    NaN   \n",
              "\n",
              "   ...  favorited  retweeted  possibly_sensitive  \\\n",
              "0  ...      False      False                 0.0   \n",
              "1  ...      False      False                 0.0   \n",
              "2  ...      False      False                 0.0   \n",
              "3  ...      False      False                 0.0   \n",
              "4  ...      False      False                 0.0   \n",
              "\n",
              "  possibly_sensitive_appealable lang  retweeted_status  quoted_status_id  \\\n",
              "0                           0.0   en               NaN               NaN   \n",
              "1                           0.0   en               NaN               NaN   \n",
              "2                           0.0   en               NaN               NaN   \n",
              "3                           0.0   en               NaN               NaN   \n",
              "4                           0.0   en               NaN               NaN   \n",
              "\n",
              "  quoted_status_id_str  quoted_status_permalink  quoted_status  \n",
              "0                  NaN                      NaN            NaN  \n",
              "1                  NaN                      NaN            NaN  \n",
              "2                  NaN                      NaN            NaN  \n",
              "3                  NaN                      NaN            NaN  \n",
              "4                  NaN                      NaN            NaN  \n",
              "\n",
              "[5 rows x 32 columns]"
            ],
            "text/html": [
              "\n",
              "  <div id=\"df-7c713c69-884a-4217-a8f3-508071760779\">\n",
              "    <div class=\"colab-df-container\">\n",
              "      <div>\n",
              "<style scoped>\n",
              "    .dataframe tbody tr th:only-of-type {\n",
              "        vertical-align: middle;\n",
              "    }\n",
              "\n",
              "    .dataframe tbody tr th {\n",
              "        vertical-align: top;\n",
              "    }\n",
              "\n",
              "    .dataframe thead th {\n",
              "        text-align: right;\n",
              "    }\n",
              "</style>\n",
              "<table border=\"1\" class=\"dataframe\">\n",
              "  <thead>\n",
              "    <tr style=\"text-align: right;\">\n",
              "      <th></th>\n",
              "      <th>created_at</th>\n",
              "      <th>id</th>\n",
              "      <th>id_str</th>\n",
              "      <th>full_text</th>\n",
              "      <th>truncated</th>\n",
              "      <th>display_text_range</th>\n",
              "      <th>entities</th>\n",
              "      <th>extended_entities</th>\n",
              "      <th>source</th>\n",
              "      <th>in_reply_to_status_id</th>\n",
              "      <th>...</th>\n",
              "      <th>favorited</th>\n",
              "      <th>retweeted</th>\n",
              "      <th>possibly_sensitive</th>\n",
              "      <th>possibly_sensitive_appealable</th>\n",
              "      <th>lang</th>\n",
              "      <th>retweeted_status</th>\n",
              "      <th>quoted_status_id</th>\n",
              "      <th>quoted_status_id_str</th>\n",
              "      <th>quoted_status_permalink</th>\n",
              "      <th>quoted_status</th>\n",
              "    </tr>\n",
              "  </thead>\n",
              "  <tbody>\n",
              "    <tr>\n",
              "      <th>0</th>\n",
              "      <td>2017-08-01 16:23:56+00:00</td>\n",
              "      <td>892420643555336193</td>\n",
              "      <td>892420643555336192</td>\n",
              "      <td>This is Phineas. He's a mystical boy. Only eve...</td>\n",
              "      <td>False</td>\n",
              "      <td>[0, 85]</td>\n",
              "      <td>{'hashtags': [], 'symbols': [], 'user_mentions...</td>\n",
              "      <td>{'media': [{'id': 892420639486877696, 'id_str'...</td>\n",
              "      <td>&lt;a href=\"http://twitter.com/download/iphone\" r...</td>\n",
              "      <td>NaN</td>\n",
              "      <td>...</td>\n",
              "      <td>False</td>\n",
              "      <td>False</td>\n",
              "      <td>0.0</td>\n",
              "      <td>0.0</td>\n",
              "      <td>en</td>\n",
              "      <td>NaN</td>\n",
              "      <td>NaN</td>\n",
              "      <td>NaN</td>\n",
              "      <td>NaN</td>\n",
              "      <td>NaN</td>\n",
              "    </tr>\n",
              "    <tr>\n",
              "      <th>1</th>\n",
              "      <td>2017-08-01 00:17:27+00:00</td>\n",
              "      <td>892177421306343426</td>\n",
              "      <td>892177421306343424</td>\n",
              "      <td>This is Tilly. She's just checking pup on you....</td>\n",
              "      <td>False</td>\n",
              "      <td>[0, 138]</td>\n",
              "      <td>{'hashtags': [], 'symbols': [], 'user_mentions...</td>\n",
              "      <td>{'media': [{'id': 892177413194625024, 'id_str'...</td>\n",
              "      <td>&lt;a href=\"http://twitter.com/download/iphone\" r...</td>\n",
              "      <td>NaN</td>\n",
              "      <td>...</td>\n",
              "      <td>False</td>\n",
              "      <td>False</td>\n",
              "      <td>0.0</td>\n",
              "      <td>0.0</td>\n",
              "      <td>en</td>\n",
              "      <td>NaN</td>\n",
              "      <td>NaN</td>\n",
              "      <td>NaN</td>\n",
              "      <td>NaN</td>\n",
              "      <td>NaN</td>\n",
              "    </tr>\n",
              "    <tr>\n",
              "      <th>2</th>\n",
              "      <td>2017-07-31 00:18:03+00:00</td>\n",
              "      <td>891815181378084864</td>\n",
              "      <td>891815181378084864</td>\n",
              "      <td>This is Archie. He is a rare Norwegian Pouncin...</td>\n",
              "      <td>False</td>\n",
              "      <td>[0, 121]</td>\n",
              "      <td>{'hashtags': [], 'symbols': [], 'user_mentions...</td>\n",
              "      <td>{'media': [{'id': 891815175371796480, 'id_str'...</td>\n",
              "      <td>&lt;a href=\"http://twitter.com/download/iphone\" r...</td>\n",
              "      <td>NaN</td>\n",
              "      <td>...</td>\n",
              "      <td>False</td>\n",
              "      <td>False</td>\n",
              "      <td>0.0</td>\n",
              "      <td>0.0</td>\n",
              "      <td>en</td>\n",
              "      <td>NaN</td>\n",
              "      <td>NaN</td>\n",
              "      <td>NaN</td>\n",
              "      <td>NaN</td>\n",
              "      <td>NaN</td>\n",
              "    </tr>\n",
              "    <tr>\n",
              "      <th>3</th>\n",
              "      <td>2017-07-30 15:58:51+00:00</td>\n",
              "      <td>891689557279858688</td>\n",
              "      <td>891689557279858688</td>\n",
              "      <td>This is Darla. She commenced a snooze mid meal...</td>\n",
              "      <td>False</td>\n",
              "      <td>[0, 79]</td>\n",
              "      <td>{'hashtags': [], 'symbols': [], 'user_mentions...</td>\n",
              "      <td>{'media': [{'id': 891689552724799489, 'id_str'...</td>\n",
              "      <td>&lt;a href=\"http://twitter.com/download/iphone\" r...</td>\n",
              "      <td>NaN</td>\n",
              "      <td>...</td>\n",
              "      <td>False</td>\n",
              "      <td>False</td>\n",
              "      <td>0.0</td>\n",
              "      <td>0.0</td>\n",
              "      <td>en</td>\n",
              "      <td>NaN</td>\n",
              "      <td>NaN</td>\n",
              "      <td>NaN</td>\n",
              "      <td>NaN</td>\n",
              "      <td>NaN</td>\n",
              "    </tr>\n",
              "    <tr>\n",
              "      <th>4</th>\n",
              "      <td>2017-07-29 16:00:24+00:00</td>\n",
              "      <td>891327558926688256</td>\n",
              "      <td>891327558926688256</td>\n",
              "      <td>This is Franklin. He would like you to stop ca...</td>\n",
              "      <td>False</td>\n",
              "      <td>[0, 138]</td>\n",
              "      <td>{'hashtags': [{'text': 'BarkWeek', 'indices': ...</td>\n",
              "      <td>{'media': [{'id': 891327551943041024, 'id_str'...</td>\n",
              "      <td>&lt;a href=\"http://twitter.com/download/iphone\" r...</td>\n",
              "      <td>NaN</td>\n",
              "      <td>...</td>\n",
              "      <td>False</td>\n",
              "      <td>False</td>\n",
              "      <td>0.0</td>\n",
              "      <td>0.0</td>\n",
              "      <td>en</td>\n",
              "      <td>NaN</td>\n",
              "      <td>NaN</td>\n",
              "      <td>NaN</td>\n",
              "      <td>NaN</td>\n",
              "      <td>NaN</td>\n",
              "    </tr>\n",
              "  </tbody>\n",
              "</table>\n",
              "<p>5 rows × 32 columns</p>\n",
              "</div>\n",
              "      <button class=\"colab-df-convert\" onclick=\"convertToInteractive('df-7c713c69-884a-4217-a8f3-508071760779')\"\n",
              "              title=\"Convert this dataframe to an interactive table.\"\n",
              "              style=\"display:none;\">\n",
              "        \n",
              "  <svg xmlns=\"http://www.w3.org/2000/svg\" height=\"24px\"viewBox=\"0 0 24 24\"\n",
              "       width=\"24px\">\n",
              "    <path d=\"M0 0h24v24H0V0z\" fill=\"none\"/>\n",
              "    <path d=\"M18.56 5.44l.94 2.06.94-2.06 2.06-.94-2.06-.94-.94-2.06-.94 2.06-2.06.94zm-11 1L8.5 8.5l.94-2.06 2.06-.94-2.06-.94L8.5 2.5l-.94 2.06-2.06.94zm10 10l.94 2.06.94-2.06 2.06-.94-2.06-.94-.94-2.06-.94 2.06-2.06.94z\"/><path d=\"M17.41 7.96l-1.37-1.37c-.4-.4-.92-.59-1.43-.59-.52 0-1.04.2-1.43.59L10.3 9.45l-7.72 7.72c-.78.78-.78 2.05 0 2.83L4 21.41c.39.39.9.59 1.41.59.51 0 1.02-.2 1.41-.59l7.78-7.78 2.81-2.81c.8-.78.8-2.07 0-2.86zM5.41 20L4 18.59l7.72-7.72 1.47 1.35L5.41 20z\"/>\n",
              "  </svg>\n",
              "      </button>\n",
              "      \n",
              "  <style>\n",
              "    .colab-df-container {\n",
              "      display:flex;\n",
              "      flex-wrap:wrap;\n",
              "      gap: 12px;\n",
              "    }\n",
              "\n",
              "    .colab-df-convert {\n",
              "      background-color: #E8F0FE;\n",
              "      border: none;\n",
              "      border-radius: 50%;\n",
              "      cursor: pointer;\n",
              "      display: none;\n",
              "      fill: #1967D2;\n",
              "      height: 32px;\n",
              "      padding: 0 0 0 0;\n",
              "      width: 32px;\n",
              "    }\n",
              "\n",
              "    .colab-df-convert:hover {\n",
              "      background-color: #E2EBFA;\n",
              "      box-shadow: 0px 1px 2px rgba(60, 64, 67, 0.3), 0px 1px 3px 1px rgba(60, 64, 67, 0.15);\n",
              "      fill: #174EA6;\n",
              "    }\n",
              "\n",
              "    [theme=dark] .colab-df-convert {\n",
              "      background-color: #3B4455;\n",
              "      fill: #D2E3FC;\n",
              "    }\n",
              "\n",
              "    [theme=dark] .colab-df-convert:hover {\n",
              "      background-color: #434B5C;\n",
              "      box-shadow: 0px 1px 3px 1px rgba(0, 0, 0, 0.15);\n",
              "      filter: drop-shadow(0px 1px 2px rgba(0, 0, 0, 0.3));\n",
              "      fill: #FFFFFF;\n",
              "    }\n",
              "  </style>\n",
              "\n",
              "      <script>\n",
              "        const buttonEl =\n",
              "          document.querySelector('#df-7c713c69-884a-4217-a8f3-508071760779 button.colab-df-convert');\n",
              "        buttonEl.style.display =\n",
              "          google.colab.kernel.accessAllowed ? 'block' : 'none';\n",
              "\n",
              "        async function convertToInteractive(key) {\n",
              "          const element = document.querySelector('#df-7c713c69-884a-4217-a8f3-508071760779');\n",
              "          const dataTable =\n",
              "            await google.colab.kernel.invokeFunction('convertToInteractive',\n",
              "                                                     [key], {});\n",
              "          if (!dataTable) return;\n",
              "\n",
              "          const docLinkHtml = 'Like what you see? Visit the ' +\n",
              "            '<a target=\"_blank\" href=https://colab.research.google.com/notebooks/data_table.ipynb>data table notebook</a>'\n",
              "            + ' to learn more about interactive tables.';\n",
              "          element.innerHTML = '';\n",
              "          dataTable['output_type'] = 'display_data';\n",
              "          await google.colab.output.renderOutput(dataTable, element);\n",
              "          const docLink = document.createElement('div');\n",
              "          docLink.innerHTML = docLinkHtml;\n",
              "          element.appendChild(docLink);\n",
              "        }\n",
              "      </script>\n",
              "    </div>\n",
              "  </div>\n",
              "  "
            ]
          },
          "metadata": {},
          "execution_count": 21
        }
      ]
    },
    {
      "cell_type": "markdown",
      "source": [
        "#### Checking Tweets Gathered Beyond August 1st, 2017"
      ],
      "metadata": {
        "id": "RMcfm-EEJd5Y"
      }
    },
    {
      "cell_type": "code",
      "source": [
        "max(tweet_json_df['created_at'])"
      ],
      "metadata": {
        "colab": {
          "base_uri": "https://localhost:8080/"
        },
        "id": "ecbmlf9HLFKV",
        "outputId": "655beebe-852b-4078-8280-c30bbdee826d"
      },
      "execution_count": 22,
      "outputs": [
        {
          "output_type": "execute_result",
          "data": {
            "text/plain": [
              "Timestamp('2017-08-01 16:23:56+0000', tz='UTC')"
            ]
          },
          "metadata": {},
          "execution_count": 22
        }
      ]
    },
    {
      "cell_type": "code",
      "source": [
        "max(twitter_archive_df['timestamp'])"
      ],
      "metadata": {
        "colab": {
          "base_uri": "https://localhost:8080/",
          "height": 35
        },
        "id": "BQRTaxSfLWyW",
        "outputId": "3d977f70-b6a7-4489-8242-2de92c95c478"
      },
      "execution_count": 23,
      "outputs": [
        {
          "output_type": "execute_result",
          "data": {
            "text/plain": [
              "'2017-08-01 16:23:56 +0000'"
            ],
            "application/vnd.google.colaboratory.intrinsic+json": {
              "type": "string"
            }
          },
          "metadata": {},
          "execution_count": 23
        }
      ]
    },
    {
      "cell_type": "markdown",
      "source": [
        "* There are no tweets gathered beyind August 1st, 2017\n",
        "* Hence, the datasets conform to given specification of time window"
      ],
      "metadata": {
        "id": "JCpH8Lax8tty"
      }
    },
    {
      "cell_type": "markdown",
      "source": [
        "#### Checking if there are duplicates by ID"
      ],
      "metadata": {
        "id": "I7u5hrM8OX5F"
      }
    },
    {
      "cell_type": "code",
      "source": [
        "# counting unique values by 'tweet_id': twitter_archive dataset\n",
        "n = len(pd.unique(twitter_archive_df['tweet_id']))\n",
        "  \n",
        "print(\"Number of unique values :\", n)"
      ],
      "metadata": {
        "colab": {
          "base_uri": "https://localhost:8080/"
        },
        "id": "1J_gVO4CVpym",
        "outputId": "f718316e-f4df-403b-91c6-5ad62cc03753"
      },
      "execution_count": 24,
      "outputs": [
        {
          "output_type": "stream",
          "name": "stdout",
          "text": [
            "Number of unique values : 2356\n"
          ]
        }
      ]
    },
    {
      "cell_type": "markdown",
      "source": [
        "* There are no duplicates by tweet_id in the dataset (number of unique values (2356) corresponds to number of records (2356) in the dataset)"
      ],
      "metadata": {
        "id": "PITi0nK3V7sG"
      }
    },
    {
      "cell_type": "code",
      "source": [
        "# counting unique values by 'tweet_id': image_pred dataset\n",
        "n = len(pd.unique(image_pred_df['tweet_id']))\n",
        "  \n",
        "print(\"Number of unique values :\", n)"
      ],
      "metadata": {
        "colab": {
          "base_uri": "https://localhost:8080/"
        },
        "id": "KWS1GctNVqt-",
        "outputId": "cd85bd47-a542-47dd-9a15-3cde2f172f74"
      },
      "execution_count": 25,
      "outputs": [
        {
          "output_type": "stream",
          "name": "stdout",
          "text": [
            "Number of unique values : 2075\n"
          ]
        }
      ]
    },
    {
      "cell_type": "markdown",
      "source": [
        "* There are no duplicates by tweet_id in the dataset (number of unique values (2075) corresponds to number of records (2075) in the dataset)"
      ],
      "metadata": {
        "id": "y1QnmZklWqlf"
      }
    },
    {
      "cell_type": "code",
      "source": [
        "# counting unique values by 'id': tweet_json dataset\n",
        "n = len(pd.unique(tweet_json_df['id']))\n",
        "  \n",
        "print(\"Number of unique values :\", n)"
      ],
      "metadata": {
        "colab": {
          "base_uri": "https://localhost:8080/"
        },
        "id": "fT4v7IsHQ4zl",
        "outputId": "55799983-497f-42db-8683-a8a5e4e2f5bd"
      },
      "execution_count": 26,
      "outputs": [
        {
          "output_type": "stream",
          "name": "stdout",
          "text": [
            "Number of unique values : 874\n"
          ]
        }
      ]
    },
    {
      "cell_type": "markdown",
      "source": [
        "* There are many duplicates by id in the dataset (number of unique values (874) is less than number of records(3230) in the dataset)"
      ],
      "metadata": {
        "id": "XjoVGPiqWvD-"
      }
    },
    {
      "cell_type": "code",
      "source": [
        "# Chceking counts of unique values in tweet_json dataset\n",
        "item_counts = tweet_json_df['id'].value_counts()\n",
        "item_counts"
      ],
      "metadata": {
        "colab": {
          "base_uri": "https://localhost:8080/"
        },
        "id": "7rdZ6-6vX3Wx",
        "outputId": "4700beb0-9b2c-414f-a08e-6ae8dd0e8556"
      },
      "execution_count": 27,
      "outputs": [
        {
          "output_type": "execute_result",
          "data": {
            "text/plain": [
              "758828659922702336    1458\n",
              "852189679701164033       4\n",
              "812781120811126785       3\n",
              "872486979161796608       3\n",
              "872820683541237760       3\n",
              "                      ... \n",
              "834458053273591808       2\n",
              "834209720923721728       2\n",
              "834167344700198914       2\n",
              "834089966724603904       2\n",
              "716439118184652801       1\n",
              "Name: id, Length: 874, dtype: int64"
            ]
          },
          "metadata": {},
          "execution_count": 27
        }
      ]
    },
    {
      "cell_type": "markdown",
      "source": [
        "#### Checking rows of one duplicated ID: tweet_json dataset"
      ],
      "metadata": {
        "id": "xMY6PLra1AyR"
      }
    },
    {
      "cell_type": "code",
      "source": [
        "df_dup_id = tweet_json_df.loc[tweet_json_df['id'] == 852189679701164033]"
      ],
      "metadata": {
        "id": "W9dBKqUw0Bpr"
      },
      "execution_count": 28,
      "outputs": []
    },
    {
      "cell_type": "code",
      "source": [
        "df_dup_id"
      ],
      "metadata": {
        "colab": {
          "base_uri": "https://localhost:8080/",
          "height": 615
        },
        "id": "C_j8xEla1Ui8",
        "outputId": "3ba2352e-a08c-46e9-b3f2-9906a68ee3ad"
      },
      "execution_count": 39,
      "outputs": [
        {
          "output_type": "execute_result",
          "data": {
            "text/plain": [
              "                    created_at                  id              id_str  \\\n",
              "210  2017-04-12 16:00:27+00:00  852189679701164033  852189679701164032   \n",
              "211  2017-04-12 16:00:27+00:00  852189679701164033  852189679701164032   \n",
              "212  2017-04-12 16:00:27+00:00  852189679701164033  852189679701164032   \n",
              "2557 2017-04-12 16:00:27+00:00  852189679701164033  852189679701164032   \n",
              "\n",
              "                                              full_text  truncated  \\\n",
              "210   This is Sailor. He has collected the best dirt...      False   \n",
              "211   This is Sailor. He has collected the best dirt...      False   \n",
              "212   This is Sailor. He has collected the best dirt...      False   \n",
              "2557  This is Sailor. He has collected the best dirt...      False   \n",
              "\n",
              "     display_text_range                                           entities  \\\n",
              "210            [0, 135]  {'hashtags': [], 'symbols': [], 'user_mentions...   \n",
              "211            [0, 135]  {'hashtags': [], 'symbols': [], 'user_mentions...   \n",
              "212            [0, 135]  {'hashtags': [], 'symbols': [], 'user_mentions...   \n",
              "2557           [0, 135]  {'hashtags': [], 'symbols': [], 'user_mentions...   \n",
              "\n",
              "                                      extended_entities  \\\n",
              "210   {'media': [{'id': 852189646159327233, 'id_str'...   \n",
              "211   {'media': [{'id': 852189646159327233, 'id_str'...   \n",
              "212   {'media': [{'id': 852189646159327233, 'id_str'...   \n",
              "2557  {'media': [{'id': 852189646159327233, 'id_str'...   \n",
              "\n",
              "                                                 source  \\\n",
              "210   <a href=\"http://twitter.com/download/iphone\" r...   \n",
              "211   <a href=\"http://twitter.com/download/iphone\" r...   \n",
              "212   <a href=\"http://twitter.com/download/iphone\" r...   \n",
              "2557  <a href=\"http://twitter.com/download/iphone\" r...   \n",
              "\n",
              "      in_reply_to_status_id  ...  favorited  retweeted  possibly_sensitive  \\\n",
              "210                     NaN  ...      False      False                 0.0   \n",
              "211                     NaN  ...      False      False                 0.0   \n",
              "212                     NaN  ...      False      False                 0.0   \n",
              "2557                    NaN  ...      False      False                 0.0   \n",
              "\n",
              "     possibly_sensitive_appealable lang  retweeted_status  quoted_status_id  \\\n",
              "210                            0.0   en               NaN               NaN   \n",
              "211                            0.0   en               NaN               NaN   \n",
              "212                            0.0   en               NaN               NaN   \n",
              "2557                           0.0   en               NaN               NaN   \n",
              "\n",
              "     quoted_status_id_str  quoted_status_permalink  quoted_status  \n",
              "210                   NaN                      NaN            NaN  \n",
              "211                   NaN                      NaN            NaN  \n",
              "212                   NaN                      NaN            NaN  \n",
              "2557                  NaN                      NaN            NaN  \n",
              "\n",
              "[4 rows x 32 columns]"
            ],
            "text/html": [
              "\n",
              "  <div id=\"df-67a43616-f439-486c-9250-8486692839a8\">\n",
              "    <div class=\"colab-df-container\">\n",
              "      <div>\n",
              "<style scoped>\n",
              "    .dataframe tbody tr th:only-of-type {\n",
              "        vertical-align: middle;\n",
              "    }\n",
              "\n",
              "    .dataframe tbody tr th {\n",
              "        vertical-align: top;\n",
              "    }\n",
              "\n",
              "    .dataframe thead th {\n",
              "        text-align: right;\n",
              "    }\n",
              "</style>\n",
              "<table border=\"1\" class=\"dataframe\">\n",
              "  <thead>\n",
              "    <tr style=\"text-align: right;\">\n",
              "      <th></th>\n",
              "      <th>created_at</th>\n",
              "      <th>id</th>\n",
              "      <th>id_str</th>\n",
              "      <th>full_text</th>\n",
              "      <th>truncated</th>\n",
              "      <th>display_text_range</th>\n",
              "      <th>entities</th>\n",
              "      <th>extended_entities</th>\n",
              "      <th>source</th>\n",
              "      <th>in_reply_to_status_id</th>\n",
              "      <th>...</th>\n",
              "      <th>favorited</th>\n",
              "      <th>retweeted</th>\n",
              "      <th>possibly_sensitive</th>\n",
              "      <th>possibly_sensitive_appealable</th>\n",
              "      <th>lang</th>\n",
              "      <th>retweeted_status</th>\n",
              "      <th>quoted_status_id</th>\n",
              "      <th>quoted_status_id_str</th>\n",
              "      <th>quoted_status_permalink</th>\n",
              "      <th>quoted_status</th>\n",
              "    </tr>\n",
              "  </thead>\n",
              "  <tbody>\n",
              "    <tr>\n",
              "      <th>210</th>\n",
              "      <td>2017-04-12 16:00:27+00:00</td>\n",
              "      <td>852189679701164033</td>\n",
              "      <td>852189679701164032</td>\n",
              "      <td>This is Sailor. He has collected the best dirt...</td>\n",
              "      <td>False</td>\n",
              "      <td>[0, 135]</td>\n",
              "      <td>{'hashtags': [], 'symbols': [], 'user_mentions...</td>\n",
              "      <td>{'media': [{'id': 852189646159327233, 'id_str'...</td>\n",
              "      <td>&lt;a href=\"http://twitter.com/download/iphone\" r...</td>\n",
              "      <td>NaN</td>\n",
              "      <td>...</td>\n",
              "      <td>False</td>\n",
              "      <td>False</td>\n",
              "      <td>0.0</td>\n",
              "      <td>0.0</td>\n",
              "      <td>en</td>\n",
              "      <td>NaN</td>\n",
              "      <td>NaN</td>\n",
              "      <td>NaN</td>\n",
              "      <td>NaN</td>\n",
              "      <td>NaN</td>\n",
              "    </tr>\n",
              "    <tr>\n",
              "      <th>211</th>\n",
              "      <td>2017-04-12 16:00:27+00:00</td>\n",
              "      <td>852189679701164033</td>\n",
              "      <td>852189679701164032</td>\n",
              "      <td>This is Sailor. He has collected the best dirt...</td>\n",
              "      <td>False</td>\n",
              "      <td>[0, 135]</td>\n",
              "      <td>{'hashtags': [], 'symbols': [], 'user_mentions...</td>\n",
              "      <td>{'media': [{'id': 852189646159327233, 'id_str'...</td>\n",
              "      <td>&lt;a href=\"http://twitter.com/download/iphone\" r...</td>\n",
              "      <td>NaN</td>\n",
              "      <td>...</td>\n",
              "      <td>False</td>\n",
              "      <td>False</td>\n",
              "      <td>0.0</td>\n",
              "      <td>0.0</td>\n",
              "      <td>en</td>\n",
              "      <td>NaN</td>\n",
              "      <td>NaN</td>\n",
              "      <td>NaN</td>\n",
              "      <td>NaN</td>\n",
              "      <td>NaN</td>\n",
              "    </tr>\n",
              "    <tr>\n",
              "      <th>212</th>\n",
              "      <td>2017-04-12 16:00:27+00:00</td>\n",
              "      <td>852189679701164033</td>\n",
              "      <td>852189679701164032</td>\n",
              "      <td>This is Sailor. He has collected the best dirt...</td>\n",
              "      <td>False</td>\n",
              "      <td>[0, 135]</td>\n",
              "      <td>{'hashtags': [], 'symbols': [], 'user_mentions...</td>\n",
              "      <td>{'media': [{'id': 852189646159327233, 'id_str'...</td>\n",
              "      <td>&lt;a href=\"http://twitter.com/download/iphone\" r...</td>\n",
              "      <td>NaN</td>\n",
              "      <td>...</td>\n",
              "      <td>False</td>\n",
              "      <td>False</td>\n",
              "      <td>0.0</td>\n",
              "      <td>0.0</td>\n",
              "      <td>en</td>\n",
              "      <td>NaN</td>\n",
              "      <td>NaN</td>\n",
              "      <td>NaN</td>\n",
              "      <td>NaN</td>\n",
              "      <td>NaN</td>\n",
              "    </tr>\n",
              "    <tr>\n",
              "      <th>2557</th>\n",
              "      <td>2017-04-12 16:00:27+00:00</td>\n",
              "      <td>852189679701164033</td>\n",
              "      <td>852189679701164032</td>\n",
              "      <td>This is Sailor. He has collected the best dirt...</td>\n",
              "      <td>False</td>\n",
              "      <td>[0, 135]</td>\n",
              "      <td>{'hashtags': [], 'symbols': [], 'user_mentions...</td>\n",
              "      <td>{'media': [{'id': 852189646159327233, 'id_str'...</td>\n",
              "      <td>&lt;a href=\"http://twitter.com/download/iphone\" r...</td>\n",
              "      <td>NaN</td>\n",
              "      <td>...</td>\n",
              "      <td>False</td>\n",
              "      <td>False</td>\n",
              "      <td>0.0</td>\n",
              "      <td>0.0</td>\n",
              "      <td>en</td>\n",
              "      <td>NaN</td>\n",
              "      <td>NaN</td>\n",
              "      <td>NaN</td>\n",
              "      <td>NaN</td>\n",
              "      <td>NaN</td>\n",
              "    </tr>\n",
              "  </tbody>\n",
              "</table>\n",
              "<p>4 rows × 32 columns</p>\n",
              "</div>\n",
              "      <button class=\"colab-df-convert\" onclick=\"convertToInteractive('df-67a43616-f439-486c-9250-8486692839a8')\"\n",
              "              title=\"Convert this dataframe to an interactive table.\"\n",
              "              style=\"display:none;\">\n",
              "        \n",
              "  <svg xmlns=\"http://www.w3.org/2000/svg\" height=\"24px\"viewBox=\"0 0 24 24\"\n",
              "       width=\"24px\">\n",
              "    <path d=\"M0 0h24v24H0V0z\" fill=\"none\"/>\n",
              "    <path d=\"M18.56 5.44l.94 2.06.94-2.06 2.06-.94-2.06-.94-.94-2.06-.94 2.06-2.06.94zm-11 1L8.5 8.5l.94-2.06 2.06-.94-2.06-.94L8.5 2.5l-.94 2.06-2.06.94zm10 10l.94 2.06.94-2.06 2.06-.94-2.06-.94-.94-2.06-.94 2.06-2.06.94z\"/><path d=\"M17.41 7.96l-1.37-1.37c-.4-.4-.92-.59-1.43-.59-.52 0-1.04.2-1.43.59L10.3 9.45l-7.72 7.72c-.78.78-.78 2.05 0 2.83L4 21.41c.39.39.9.59 1.41.59.51 0 1.02-.2 1.41-.59l7.78-7.78 2.81-2.81c.8-.78.8-2.07 0-2.86zM5.41 20L4 18.59l7.72-7.72 1.47 1.35L5.41 20z\"/>\n",
              "  </svg>\n",
              "      </button>\n",
              "      \n",
              "  <style>\n",
              "    .colab-df-container {\n",
              "      display:flex;\n",
              "      flex-wrap:wrap;\n",
              "      gap: 12px;\n",
              "    }\n",
              "\n",
              "    .colab-df-convert {\n",
              "      background-color: #E8F0FE;\n",
              "      border: none;\n",
              "      border-radius: 50%;\n",
              "      cursor: pointer;\n",
              "      display: none;\n",
              "      fill: #1967D2;\n",
              "      height: 32px;\n",
              "      padding: 0 0 0 0;\n",
              "      width: 32px;\n",
              "    }\n",
              "\n",
              "    .colab-df-convert:hover {\n",
              "      background-color: #E2EBFA;\n",
              "      box-shadow: 0px 1px 2px rgba(60, 64, 67, 0.3), 0px 1px 3px 1px rgba(60, 64, 67, 0.15);\n",
              "      fill: #174EA6;\n",
              "    }\n",
              "\n",
              "    [theme=dark] .colab-df-convert {\n",
              "      background-color: #3B4455;\n",
              "      fill: #D2E3FC;\n",
              "    }\n",
              "\n",
              "    [theme=dark] .colab-df-convert:hover {\n",
              "      background-color: #434B5C;\n",
              "      box-shadow: 0px 1px 3px 1px rgba(0, 0, 0, 0.15);\n",
              "      filter: drop-shadow(0px 1px 2px rgba(0, 0, 0, 0.3));\n",
              "      fill: #FFFFFF;\n",
              "    }\n",
              "  </style>\n",
              "\n",
              "      <script>\n",
              "        const buttonEl =\n",
              "          document.querySelector('#df-67a43616-f439-486c-9250-8486692839a8 button.colab-df-convert');\n",
              "        buttonEl.style.display =\n",
              "          google.colab.kernel.accessAllowed ? 'block' : 'none';\n",
              "\n",
              "        async function convertToInteractive(key) {\n",
              "          const element = document.querySelector('#df-67a43616-f439-486c-9250-8486692839a8');\n",
              "          const dataTable =\n",
              "            await google.colab.kernel.invokeFunction('convertToInteractive',\n",
              "                                                     [key], {});\n",
              "          if (!dataTable) return;\n",
              "\n",
              "          const docLinkHtml = 'Like what you see? Visit the ' +\n",
              "            '<a target=\"_blank\" href=https://colab.research.google.com/notebooks/data_table.ipynb>data table notebook</a>'\n",
              "            + ' to learn more about interactive tables.';\n",
              "          element.innerHTML = '';\n",
              "          dataTable['output_type'] = 'display_data';\n",
              "          await google.colab.output.renderOutput(dataTable, element);\n",
              "          const docLink = document.createElement('div');\n",
              "          docLink.innerHTML = docLinkHtml;\n",
              "          element.appendChild(docLink);\n",
              "        }\n",
              "      </script>\n",
              "    </div>\n",
              "  </div>\n",
              "  "
            ]
          },
          "metadata": {},
          "execution_count": 39
        }
      ]
    },
    {
      "cell_type": "code",
      "source": [
        "# Checking if there are retweets in tweet_json dataset\n",
        "df_retweeted_json = tweet_json_df[tweet_json_df['full_text'].str.contains(\"RT @\")]\n",
        "df_retweeted_json.shape"
      ],
      "metadata": {
        "colab": {
          "base_uri": "https://localhost:8080/"
        },
        "id": "mNB0uun9nptn",
        "outputId": "7156fe97-0d6a-4a73-936c-bab67106b9d9"
      },
      "execution_count": 58,
      "outputs": [
        {
          "output_type": "execute_result",
          "data": {
            "text/plain": [
              "(297, 32)"
            ]
          },
          "metadata": {},
          "execution_count": 58
        }
      ]
    },
    {
      "cell_type": "code",
      "source": [
        "# Displaying retweets\n",
        "df_retweeted_json.head(3)"
      ],
      "metadata": {
        "colab": {
          "base_uri": "https://localhost:8080/",
          "height": 341
        },
        "id": "e_y2MUv1oRqv",
        "outputId": "a0aff6ca-294d-4ee7-9a39-de2cf3dabd78"
      },
      "execution_count": 60,
      "outputs": [
        {
          "output_type": "execute_result",
          "data": {
            "text/plain": [
              "                  created_at                  id              id_str  \\\n",
              "32 2017-07-15 02:45:48+00:00  886054160059072513  886054160059072512   \n",
              "36 2017-07-13 01:35:06+00:00  885311592912609280  885311592912609280   \n",
              "68 2017-06-26 00:13:58+00:00  879130579576475649  879130579576475648   \n",
              "\n",
              "                                            full_text  truncated  \\\n",
              "32  RT @Athletics: 12/10 #BATP https://t.co/WxwJmv...      False   \n",
              "36  RT @dog_rates: This is Lilly. She just paralle...      False   \n",
              "68  RT @dog_rates: This is Emmy. She was adopted t...      False   \n",
              "\n",
              "   display_text_range                                           entities  \\\n",
              "32            [0, 50]  {'hashtags': [{'text': 'BATP', 'indices': [21,...   \n",
              "36           [0, 133]  {'hashtags': [], 'symbols': [], 'user_mentions...   \n",
              "68           [0, 140]  {'hashtags': [], 'symbols': [], 'user_mentions...   \n",
              "\n",
              "                                    extended_entities  \\\n",
              "32                                                NaN   \n",
              "36  {'media': [{'id': 830583314243268608, 'id_str'...   \n",
              "68                                                NaN   \n",
              "\n",
              "                                               source  in_reply_to_status_id  \\\n",
              "32  <a href=\"http://twitter.com/download/iphone\" r...                    NaN   \n",
              "36  <a href=\"http://twitter.com/download/iphone\" r...                    NaN   \n",
              "68  <a href=\"http://twitter.com/download/iphone\" r...                    NaN   \n",
              "\n",
              "    ...  favorited  retweeted  possibly_sensitive  \\\n",
              "32  ...      False      False                 0.0   \n",
              "36  ...      False      False                 0.0   \n",
              "68  ...      False      False                 NaN   \n",
              "\n",
              "   possibly_sensitive_appealable lang  \\\n",
              "32                           0.0  und   \n",
              "36                           0.0   en   \n",
              "68                           NaN   en   \n",
              "\n",
              "                                     retweeted_status  quoted_status_id  \\\n",
              "32  {'created_at': 'Sat Jul 15 02:44:07 +0000 2017...      8.860534e+17   \n",
              "36  {'created_at': 'Sun Feb 12 01:04:29 +0000 2017...               NaN   \n",
              "68  {'created_at': 'Fri Jun 23 01:10:23 +0000 2017...               NaN   \n",
              "\n",
              "   quoted_status_id_str                            quoted_status_permalink  \\\n",
              "32         8.860534e+17  {'url': 'https://t.co/WxwJmvjfxo', 'expanded':...   \n",
              "36                  NaN                                                NaN   \n",
              "68                  NaN                                                NaN   \n",
              "\n",
              "    quoted_status  \n",
              "32            NaN  \n",
              "36            NaN  \n",
              "68            NaN  \n",
              "\n",
              "[3 rows x 32 columns]"
            ],
            "text/html": [
              "\n",
              "  <div id=\"df-ce674614-7ab5-4739-889b-4b4bc22772c2\">\n",
              "    <div class=\"colab-df-container\">\n",
              "      <div>\n",
              "<style scoped>\n",
              "    .dataframe tbody tr th:only-of-type {\n",
              "        vertical-align: middle;\n",
              "    }\n",
              "\n",
              "    .dataframe tbody tr th {\n",
              "        vertical-align: top;\n",
              "    }\n",
              "\n",
              "    .dataframe thead th {\n",
              "        text-align: right;\n",
              "    }\n",
              "</style>\n",
              "<table border=\"1\" class=\"dataframe\">\n",
              "  <thead>\n",
              "    <tr style=\"text-align: right;\">\n",
              "      <th></th>\n",
              "      <th>created_at</th>\n",
              "      <th>id</th>\n",
              "      <th>id_str</th>\n",
              "      <th>full_text</th>\n",
              "      <th>truncated</th>\n",
              "      <th>display_text_range</th>\n",
              "      <th>entities</th>\n",
              "      <th>extended_entities</th>\n",
              "      <th>source</th>\n",
              "      <th>in_reply_to_status_id</th>\n",
              "      <th>...</th>\n",
              "      <th>favorited</th>\n",
              "      <th>retweeted</th>\n",
              "      <th>possibly_sensitive</th>\n",
              "      <th>possibly_sensitive_appealable</th>\n",
              "      <th>lang</th>\n",
              "      <th>retweeted_status</th>\n",
              "      <th>quoted_status_id</th>\n",
              "      <th>quoted_status_id_str</th>\n",
              "      <th>quoted_status_permalink</th>\n",
              "      <th>quoted_status</th>\n",
              "    </tr>\n",
              "  </thead>\n",
              "  <tbody>\n",
              "    <tr>\n",
              "      <th>32</th>\n",
              "      <td>2017-07-15 02:45:48+00:00</td>\n",
              "      <td>886054160059072513</td>\n",
              "      <td>886054160059072512</td>\n",
              "      <td>RT @Athletics: 12/10 #BATP https://t.co/WxwJmv...</td>\n",
              "      <td>False</td>\n",
              "      <td>[0, 50]</td>\n",
              "      <td>{'hashtags': [{'text': 'BATP', 'indices': [21,...</td>\n",
              "      <td>NaN</td>\n",
              "      <td>&lt;a href=\"http://twitter.com/download/iphone\" r...</td>\n",
              "      <td>NaN</td>\n",
              "      <td>...</td>\n",
              "      <td>False</td>\n",
              "      <td>False</td>\n",
              "      <td>0.0</td>\n",
              "      <td>0.0</td>\n",
              "      <td>und</td>\n",
              "      <td>{'created_at': 'Sat Jul 15 02:44:07 +0000 2017...</td>\n",
              "      <td>8.860534e+17</td>\n",
              "      <td>8.860534e+17</td>\n",
              "      <td>{'url': 'https://t.co/WxwJmvjfxo', 'expanded':...</td>\n",
              "      <td>NaN</td>\n",
              "    </tr>\n",
              "    <tr>\n",
              "      <th>36</th>\n",
              "      <td>2017-07-13 01:35:06+00:00</td>\n",
              "      <td>885311592912609280</td>\n",
              "      <td>885311592912609280</td>\n",
              "      <td>RT @dog_rates: This is Lilly. She just paralle...</td>\n",
              "      <td>False</td>\n",
              "      <td>[0, 133]</td>\n",
              "      <td>{'hashtags': [], 'symbols': [], 'user_mentions...</td>\n",
              "      <td>{'media': [{'id': 830583314243268608, 'id_str'...</td>\n",
              "      <td>&lt;a href=\"http://twitter.com/download/iphone\" r...</td>\n",
              "      <td>NaN</td>\n",
              "      <td>...</td>\n",
              "      <td>False</td>\n",
              "      <td>False</td>\n",
              "      <td>0.0</td>\n",
              "      <td>0.0</td>\n",
              "      <td>en</td>\n",
              "      <td>{'created_at': 'Sun Feb 12 01:04:29 +0000 2017...</td>\n",
              "      <td>NaN</td>\n",
              "      <td>NaN</td>\n",
              "      <td>NaN</td>\n",
              "      <td>NaN</td>\n",
              "    </tr>\n",
              "    <tr>\n",
              "      <th>68</th>\n",
              "      <td>2017-06-26 00:13:58+00:00</td>\n",
              "      <td>879130579576475649</td>\n",
              "      <td>879130579576475648</td>\n",
              "      <td>RT @dog_rates: This is Emmy. She was adopted t...</td>\n",
              "      <td>False</td>\n",
              "      <td>[0, 140]</td>\n",
              "      <td>{'hashtags': [], 'symbols': [], 'user_mentions...</td>\n",
              "      <td>NaN</td>\n",
              "      <td>&lt;a href=\"http://twitter.com/download/iphone\" r...</td>\n",
              "      <td>NaN</td>\n",
              "      <td>...</td>\n",
              "      <td>False</td>\n",
              "      <td>False</td>\n",
              "      <td>NaN</td>\n",
              "      <td>NaN</td>\n",
              "      <td>en</td>\n",
              "      <td>{'created_at': 'Fri Jun 23 01:10:23 +0000 2017...</td>\n",
              "      <td>NaN</td>\n",
              "      <td>NaN</td>\n",
              "      <td>NaN</td>\n",
              "      <td>NaN</td>\n",
              "    </tr>\n",
              "  </tbody>\n",
              "</table>\n",
              "<p>3 rows × 32 columns</p>\n",
              "</div>\n",
              "      <button class=\"colab-df-convert\" onclick=\"convertToInteractive('df-ce674614-7ab5-4739-889b-4b4bc22772c2')\"\n",
              "              title=\"Convert this dataframe to an interactive table.\"\n",
              "              style=\"display:none;\">\n",
              "        \n",
              "  <svg xmlns=\"http://www.w3.org/2000/svg\" height=\"24px\"viewBox=\"0 0 24 24\"\n",
              "       width=\"24px\">\n",
              "    <path d=\"M0 0h24v24H0V0z\" fill=\"none\"/>\n",
              "    <path d=\"M18.56 5.44l.94 2.06.94-2.06 2.06-.94-2.06-.94-.94-2.06-.94 2.06-2.06.94zm-11 1L8.5 8.5l.94-2.06 2.06-.94-2.06-.94L8.5 2.5l-.94 2.06-2.06.94zm10 10l.94 2.06.94-2.06 2.06-.94-2.06-.94-.94-2.06-.94 2.06-2.06.94z\"/><path d=\"M17.41 7.96l-1.37-1.37c-.4-.4-.92-.59-1.43-.59-.52 0-1.04.2-1.43.59L10.3 9.45l-7.72 7.72c-.78.78-.78 2.05 0 2.83L4 21.41c.39.39.9.59 1.41.59.51 0 1.02-.2 1.41-.59l7.78-7.78 2.81-2.81c.8-.78.8-2.07 0-2.86zM5.41 20L4 18.59l7.72-7.72 1.47 1.35L5.41 20z\"/>\n",
              "  </svg>\n",
              "      </button>\n",
              "      \n",
              "  <style>\n",
              "    .colab-df-container {\n",
              "      display:flex;\n",
              "      flex-wrap:wrap;\n",
              "      gap: 12px;\n",
              "    }\n",
              "\n",
              "    .colab-df-convert {\n",
              "      background-color: #E8F0FE;\n",
              "      border: none;\n",
              "      border-radius: 50%;\n",
              "      cursor: pointer;\n",
              "      display: none;\n",
              "      fill: #1967D2;\n",
              "      height: 32px;\n",
              "      padding: 0 0 0 0;\n",
              "      width: 32px;\n",
              "    }\n",
              "\n",
              "    .colab-df-convert:hover {\n",
              "      background-color: #E2EBFA;\n",
              "      box-shadow: 0px 1px 2px rgba(60, 64, 67, 0.3), 0px 1px 3px 1px rgba(60, 64, 67, 0.15);\n",
              "      fill: #174EA6;\n",
              "    }\n",
              "\n",
              "    [theme=dark] .colab-df-convert {\n",
              "      background-color: #3B4455;\n",
              "      fill: #D2E3FC;\n",
              "    }\n",
              "\n",
              "    [theme=dark] .colab-df-convert:hover {\n",
              "      background-color: #434B5C;\n",
              "      box-shadow: 0px 1px 3px 1px rgba(0, 0, 0, 0.15);\n",
              "      filter: drop-shadow(0px 1px 2px rgba(0, 0, 0, 0.3));\n",
              "      fill: #FFFFFF;\n",
              "    }\n",
              "  </style>\n",
              "\n",
              "      <script>\n",
              "        const buttonEl =\n",
              "          document.querySelector('#df-ce674614-7ab5-4739-889b-4b4bc22772c2 button.colab-df-convert');\n",
              "        buttonEl.style.display =\n",
              "          google.colab.kernel.accessAllowed ? 'block' : 'none';\n",
              "\n",
              "        async function convertToInteractive(key) {\n",
              "          const element = document.querySelector('#df-ce674614-7ab5-4739-889b-4b4bc22772c2');\n",
              "          const dataTable =\n",
              "            await google.colab.kernel.invokeFunction('convertToInteractive',\n",
              "                                                     [key], {});\n",
              "          if (!dataTable) return;\n",
              "\n",
              "          const docLinkHtml = 'Like what you see? Visit the ' +\n",
              "            '<a target=\"_blank\" href=https://colab.research.google.com/notebooks/data_table.ipynb>data table notebook</a>'\n",
              "            + ' to learn more about interactive tables.';\n",
              "          element.innerHTML = '';\n",
              "          dataTable['output_type'] = 'display_data';\n",
              "          await google.colab.output.renderOutput(dataTable, element);\n",
              "          const docLink = document.createElement('div');\n",
              "          docLink.innerHTML = docLinkHtml;\n",
              "          element.appendChild(docLink);\n",
              "        }\n",
              "      </script>\n",
              "    </div>\n",
              "  </div>\n",
              "  "
            ]
          },
          "metadata": {},
          "execution_count": 60
        }
      ]
    },
    {
      "cell_type": "markdown",
      "source": [
        "* There are retweets in the tweet_json dataset, which require cleaning"
      ],
      "metadata": {
        "id": "HERvuXCsmzom"
      }
    },
    {
      "cell_type": "markdown",
      "metadata": {
        "id": "DyoEdePP45rI"
      },
      "source": [
        "### Quality issues\n",
        "1. The identifier (ID) column name in tweet_json dataset (id) is not corresponding to the ID name in both the twitter_archive and image_pred datasets (tweet_id) [Consistency Issue]\n",
        "\n",
        "2. Time columns are denoted with different names in the twitter_archive dataset (timestamp) and the tweet_json dataset (created_at) [Consistency Issue]\n",
        "\n",
        "3. The timestamp column in twitter_archive dataset is of datatype \"object\"; while the created_at column in the tweet_json dataset is of datatype \"datetime64\" [Validity Issue]\n",
        "\n",
        "4. The \"id\" column in the tweet_json dataset has a lot of duplicated values [Validity Issue]\n",
        "\n",
        "5. The image_pred dataset has missing records, as compared to the twitter_archive dataset (2075 instead of 2356) [Completeness Issue]\n",
        "\n",
        "6. The dog stages (doggo, puppo, fluffy) in twitter_archive dataset are in separate columns instead of one column [Consistency Issue]\n",
        "\n",
        "7. There are values in the rating_denominator column in twitter_archive dataset which are greater/lesser than 10. However, the rating_denominator should always be 10 (maximum in the dataset is 170, minimum is 0) [Accuracy Issue]\n",
        "\n",
        "8. There are retweets in both the twitter_archive dataset and the tweet_json dataset, which require cleaning [Accuracy/Validity Issue]\n",
        "\n",
        "9. Some of the breed names in p1, p2, p3 columns are having the first letter as lowercase [Consistency Issue]"
      ]
    },
    {
      "cell_type": "markdown",
      "metadata": {
        "extensions": {
          "jupyter_dashboards": {
            "version": 1,
            "views": {
              "grid_default": {
                "col": 0,
                "height": 7,
                "hidden": false,
                "row": 40,
                "width": 12
              },
              "report_default": {
                "hidden": false
              }
            }
          }
        },
        "id": "-DU5O76l45rJ"
      },
      "source": [
        "### Tidiness issues\n",
        "1.\n",
        "\n",
        "2."
      ]
    },
    {
      "cell_type": "markdown",
      "metadata": {
        "extensions": {
          "jupyter_dashboards": {
            "version": 1,
            "views": {
              "grid_default": {
                "col": 4,
                "height": 4,
                "hidden": false,
                "row": 32,
                "width": 4
              },
              "report_default": {
                "hidden": false
              }
            }
          }
        },
        "id": "A6kttt5N45rK"
      },
      "source": [
        "## Cleaning Data\n",
        "In this section, clean **all** of the issues you documented while assessing. \n",
        "\n",
        "**Note:** Make a copy of the original data before cleaning. Cleaning includes merging individual pieces of data according to the rules of [tidy data](https://cran.r-project.org/web/packages/tidyr/vignettes/tidy-data.html). The result should be a high-quality and tidy master pandas DataFrame (or DataFrames, if appropriate)."
      ]
    },
    {
      "cell_type": "code",
      "execution_count": null,
      "metadata": {
        "id": "w6lLL9mU45rL"
      },
      "outputs": [],
      "source": [
        "# Make copies of original pieces of data\n"
      ]
    },
    {
      "cell_type": "markdown",
      "metadata": {
        "id": "_UzcgPrU45rL"
      },
      "source": [
        "### Issue #1:"
      ]
    },
    {
      "cell_type": "markdown",
      "metadata": {
        "id": "_JJtgRSF45rM"
      },
      "source": [
        "#### Define:"
      ]
    },
    {
      "cell_type": "markdown",
      "metadata": {
        "id": "dF84QH6L45rN"
      },
      "source": [
        "#### Code"
      ]
    },
    {
      "cell_type": "code",
      "execution_count": null,
      "metadata": {
        "id": "zyp3Y9Bp45rN"
      },
      "outputs": [],
      "source": [
        ""
      ]
    },
    {
      "cell_type": "markdown",
      "metadata": {
        "id": "XqHwAYE745rO"
      },
      "source": [
        "#### Test"
      ]
    },
    {
      "cell_type": "code",
      "execution_count": null,
      "metadata": {
        "id": "Q59Oka9k45rQ"
      },
      "outputs": [],
      "source": [
        ""
      ]
    },
    {
      "cell_type": "markdown",
      "metadata": {
        "id": "t1rCCsF145rS"
      },
      "source": [
        "### Issue #2:"
      ]
    },
    {
      "cell_type": "markdown",
      "metadata": {
        "collapsed": true,
        "extensions": {
          "jupyter_dashboards": {
            "version": 1,
            "views": {
              "grid_default": {
                "hidden": true
              },
              "report_default": {
                "hidden": true
              }
            }
          }
        },
        "id": "3IkHUXel45rT"
      },
      "source": [
        "#### Define"
      ]
    },
    {
      "cell_type": "markdown",
      "metadata": {
        "id": "Dk8l7lXF45rT"
      },
      "source": [
        "#### Code"
      ]
    },
    {
      "cell_type": "code",
      "execution_count": null,
      "metadata": {
        "id": "8vz0VcMo45rU"
      },
      "outputs": [],
      "source": [
        ""
      ]
    },
    {
      "cell_type": "markdown",
      "metadata": {
        "id": "ghobfJSD45rU"
      },
      "source": [
        "#### Test"
      ]
    },
    {
      "cell_type": "code",
      "execution_count": null,
      "metadata": {
        "id": "86onlC2145rV"
      },
      "outputs": [],
      "source": [
        ""
      ]
    },
    {
      "cell_type": "markdown",
      "metadata": {
        "id": "SkXHi0kz45rV"
      },
      "source": [
        "## Storing Data\n",
        "Save gathered, assessed, and cleaned master dataset to a CSV file named \"twitter_archive_master.csv\"."
      ]
    },
    {
      "cell_type": "code",
      "execution_count": null,
      "metadata": {
        "id": "BugPCBtN45rV"
      },
      "outputs": [],
      "source": [
        ""
      ]
    },
    {
      "cell_type": "markdown",
      "metadata": {
        "id": "woWm2c-045rV"
      },
      "source": [
        "## Analyzing and Visualizing Data\n",
        "In this section, analyze and visualize your wrangled data. You must produce at least **three (3) insights and one (1) visualization.**"
      ]
    },
    {
      "cell_type": "code",
      "execution_count": null,
      "metadata": {
        "id": "JrP0LMH945rW"
      },
      "outputs": [],
      "source": [
        ""
      ]
    },
    {
      "cell_type": "markdown",
      "metadata": {
        "id": "nl4OZY-Q45rW"
      },
      "source": [
        "### Insights:\n",
        "1.\n",
        "\n",
        "2.\n",
        "\n",
        "3."
      ]
    },
    {
      "cell_type": "markdown",
      "metadata": {
        "collapsed": true,
        "id": "0jXqLD0K45rW"
      },
      "source": [
        "### Visualization"
      ]
    },
    {
      "cell_type": "code",
      "execution_count": null,
      "metadata": {
        "id": "CaBpOqfV45rX"
      },
      "outputs": [],
      "source": [
        ""
      ]
    }
  ],
  "metadata": {
    "extensions": {
      "jupyter_dashboards": {
        "activeView": "report_default",
        "version": 1,
        "views": {
          "grid_default": {
            "cellMargin": 10,
            "defaultCellHeight": 20,
            "maxColumns": 12,
            "name": "grid",
            "type": "grid"
          },
          "report_default": {
            "name": "report",
            "type": "report"
          }
        }
      }
    },
    "kernelspec": {
      "display_name": "Python 3",
      "language": "python",
      "name": "python3"
    },
    "language_info": {
      "codemirror_mode": {
        "name": "ipython",
        "version": 3
      },
      "file_extension": ".py",
      "mimetype": "text/x-python",
      "name": "python",
      "nbconvert_exporter": "python",
      "pygments_lexer": "ipython3",
      "version": "3.6.3"
    },
    "colab": {
      "name": "wrangle_act.ipynb",
      "provenance": [],
      "collapsed_sections": [
        "nRkbA0aGwj7Z",
        "fKzuGwY55x9i",
        "f7hhitBr45rB",
        "tTEfNh9m45rE"
      ]
    }
  },
  "nbformat": 4,
  "nbformat_minor": 0
}