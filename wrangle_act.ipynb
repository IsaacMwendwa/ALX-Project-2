{
  "cells": [
    {
      "cell_type": "markdown",
      "metadata": {
        "extensions": {
          "jupyter_dashboards": {
            "version": 1,
            "views": {
              "grid_default": {
                "col": 0,
                "height": 4,
                "hidden": false,
                "row": 0,
                "width": 4
              },
              "report_default": {
                "hidden": false
              }
            }
          }
        },
        "id": "TOeRoZbd45q0"
      },
      "source": [
        "# Project: Wrangling and Analyze Data"
      ]
    },
    {
      "cell_type": "markdown",
      "source": [
        "## Importing Libraries"
      ],
      "metadata": {
        "id": "gVQ3gSy75tVD"
      }
    },
    {
      "cell_type": "code",
      "source": [
        "import pandas as pd\n",
        "import numpy as np\n",
        "import matplotlib.pyplot as plt\n",
        "import seaborn as sns\n",
        "import scipy\n",
        "import tweepy\n",
        "import json\n",
        "import requests\n",
        "import os\n",
        "from datetime import datetime\n",
        "%matplotlib inline"
      ],
      "metadata": {
        "id": "Kism0VaG57Xa"
      },
      "execution_count": 525,
      "outputs": []
    },
    {
      "cell_type": "markdown",
      "metadata": {
        "id": "xWz7J5gd45q5"
      },
      "source": [
        "# Data Gathering\n",
        "In the cell below, gather **all** three pieces of data for this project and load them in the notebook. **Note:** the methods required to gather each data are different.\n",
        "1. Directly download the WeRateDogs Twitter archive data (twitter_archive_enhanced.csv)"
      ]
    },
    {
      "cell_type": "markdown",
      "source": [
        "### Defining Path of Working Directory"
      ],
      "metadata": {
        "id": "nRkbA0aGwj7Z"
      }
    },
    {
      "cell_type": "code",
      "source": [
        "# Working Directory Path\n",
        "working_dir = '/'"
      ],
      "metadata": {
        "id": "xTcX7j_uwjEy"
      },
      "execution_count": 5,
      "outputs": []
    },
    {
      "cell_type": "markdown",
      "source": [
        "## 1. Reading downloaded dataset into Pandas Dataframe"
      ],
      "metadata": {
        "id": "fKzuGwY55x9i"
      }
    },
    {
      "cell_type": "markdown",
      "source": [
        "#### Renaming file downloaded/provided: twitter-archive-enhanced.csv"
      ],
      "metadata": {
        "id": "Q2IbmfLywV9R"
      }
    },
    {
      "cell_type": "code",
      "source": [
        "# Defining File Path\n",
        "old_name = working_dir + 'twitter-archive-enhanced.csv' #filename with hyphen (-)\n",
        "new_name = working_dir + 'twitter_archive_enhanced.csv' #filename with undescore (_)\n",
        "\n",
        "# Renaming the file\n",
        "os.rename(old_name, new_name)"
      ],
      "metadata": {
        "id": "KqZ0qX5nwV9Y"
      },
      "execution_count": null,
      "outputs": []
    },
    {
      "cell_type": "code",
      "source": [
        "# Confirming file rename\n",
        "os.listdir(working_dir)"
      ],
      "metadata": {
        "colab": {
          "base_uri": "https://localhost:8080/"
        },
        "outputId": "ad167e9f-2b36-4014-cdcf-d2c103493469",
        "id": "L-F5Az83wV9e"
      },
      "execution_count": null,
      "outputs": [
        {
          "output_type": "execute_result",
          "data": {
            "text/plain": [
              "['wrangle_act.ipynb',\n",
              " 'project2.ipynb',\n",
              " 'twitter_archive_enhanced.csv',\n",
              " 'image_predictions_folder',\n",
              " 'tweet_json.txt']"
            ]
          },
          "metadata": {},
          "execution_count": 30
        }
      ]
    },
    {
      "cell_type": "code",
      "execution_count": null,
      "metadata": {
        "extensions": {
          "jupyter_dashboards": {
            "version": 1,
            "views": {
              "grid_default": {
                "hidden": true
              },
              "report_default": {
                "hidden": true
              }
            }
          }
        },
        "id": "pMP7fVAL45q-"
      },
      "outputs": [],
      "source": [
        "# Specifying path of twitter_archive dataset\n",
        "twitter_archive_path = '/content/drive/My Drive/Colab_Notebooks/ALX_2/twitter_archive_enhanced.csv'\n",
        "\n",
        "# Reading path\n",
        "twitter_archive_df = pd.read_csv(twitter_archive_path)"
      ]
    },
    {
      "cell_type": "code",
      "source": [
        "# Checking columns in dataframe\n",
        "\n",
        "twitter_archive_df.columns"
      ],
      "metadata": {
        "colab": {
          "base_uri": "https://localhost:8080/"
        },
        "id": "wN8WWT__MuC-",
        "outputId": "d08a6ccc-b32b-4950-eedd-3aa5817fd8fa"
      },
      "execution_count": null,
      "outputs": [
        {
          "output_type": "execute_result",
          "data": {
            "text/plain": [
              "Index(['tweet_id', 'in_reply_to_status_id', 'in_reply_to_user_id', 'timestamp',\n",
              "       'source', 'text', 'retweeted_status_id', 'retweeted_status_user_id',\n",
              "       'retweeted_status_timestamp', 'expanded_urls', 'rating_numerator',\n",
              "       'rating_denominator', 'name', 'doggo', 'floofer', 'pupper', 'puppo'],\n",
              "      dtype='object')"
            ]
          },
          "metadata": {},
          "execution_count": 4
        }
      ]
    },
    {
      "cell_type": "code",
      "source": [
        "twitter_archive_df.shape"
      ],
      "metadata": {
        "colab": {
          "base_uri": "https://localhost:8080/"
        },
        "id": "cv3aWtphNliv",
        "outputId": "cfacf0c2-0e1e-4e50-af36-ff5db5ffe592"
      },
      "execution_count": null,
      "outputs": [
        {
          "output_type": "execute_result",
          "data": {
            "text/plain": [
              "(2356, 17)"
            ]
          },
          "metadata": {},
          "execution_count": 5
        }
      ]
    },
    {
      "cell_type": "markdown",
      "metadata": {
        "id": "f7hhitBr45rB"
      },
      "source": [
        "## 2. Use the Requests library to download the tweet image prediction (image_predictions.tsv)"
      ]
    },
    {
      "cell_type": "code",
      "source": [
        "# Defining path of folder\n",
        "image_predictions_folder = '/content/drive/My Drive/Colab_Notebooks/ALX_2/image_predictions_folder'\n",
        "\n",
        "# Creating directory if non-existent\n",
        "if not os.path.exists(image_predictions_folder):\n",
        "    os.makedirs(image_predictions_folder)"
      ],
      "metadata": {
        "id": "zysStzel-fa8"
      },
      "execution_count": null,
      "outputs": []
    },
    {
      "cell_type": "code",
      "source": [
        "# Checking if directory was created\n",
        "os.listdir(working_dir)"
      ],
      "metadata": {
        "colab": {
          "base_uri": "https://localhost:8080/"
        },
        "id": "5_TMsTEHAZA5",
        "outputId": "951ad661-02a4-4c2c-dc4a-eb38f6db9c45"
      },
      "execution_count": null,
      "outputs": [
        {
          "output_type": "execute_result",
          "data": {
            "text/plain": [
              "['wrangle_act.ipynb',\n",
              " 'project2.ipynb',\n",
              " 'twitter-archive-enhanced.csv',\n",
              " 'image_predictions_folder',\n",
              " 'tweet_json.txt']"
            ]
          },
          "metadata": {},
          "execution_count": 8
        }
      ]
    },
    {
      "cell_type": "code",
      "source": [
        "# Checking contents of (created) directory\n",
        "os.listdir(image_predictions_folder)"
      ],
      "metadata": {
        "colab": {
          "base_uri": "https://localhost:8080/"
        },
        "id": "Ky56bgVEA-FT",
        "outputId": "e6738c7e-b441-4a54-d748-b368d9960373"
      },
      "execution_count": null,
      "outputs": [
        {
          "output_type": "execute_result",
          "data": {
            "text/plain": [
              "['image-predictions.tsv']"
            ]
          },
          "metadata": {},
          "execution_count": 9
        }
      ]
    },
    {
      "cell_type": "code",
      "execution_count": null,
      "metadata": {
        "id": "g1iIAvJ545rD"
      },
      "outputs": [],
      "source": [
        "# Defining URL\n",
        "url = \"https://d17h27t6h515a5.cloudfront.net/topher/2017/August/599fd2ad_image-predictions/image-predictions.tsv\"\n",
        "\n",
        "# Using get method\n",
        "image_predictions_resp = requests.get(url)"
      ]
    },
    {
      "cell_type": "code",
      "source": [
        "# Checking type of object returned\n",
        "type(image_predictions_resp)"
      ],
      "metadata": {
        "colab": {
          "base_uri": "https://localhost:8080/"
        },
        "id": "xhTfUKQl_GaF",
        "outputId": "081e21fc-225c-4e16-ffd9-77a4cedd0771"
      },
      "execution_count": null,
      "outputs": [
        {
          "output_type": "execute_result",
          "data": {
            "text/plain": [
              "requests.models.Response"
            ]
          },
          "metadata": {},
          "execution_count": 11
        }
      ]
    },
    {
      "cell_type": "code",
      "source": [
        "#print(image_predictions_resp.text)"
      ],
      "metadata": {
        "id": "v-cJIO7291HG"
      },
      "execution_count": null,
      "outputs": []
    },
    {
      "cell_type": "markdown",
      "source": [
        "#### Accessing Content and Writing to File"
      ],
      "metadata": {
        "id": "DJ_zfWRg_VlK"
      }
    },
    {
      "cell_type": "code",
      "source": [
        "# Writing to a file\n",
        "with open(os.path.join(image_predictions_folder, url.split('/')[-1]), mode = 'wb') as file:\n",
        "    file.write(image_predictions_resp.content)"
      ],
      "metadata": {
        "id": "QTSMvi0s_d7-"
      },
      "execution_count": null,
      "outputs": []
    },
    {
      "cell_type": "code",
      "source": [
        "# Checking file was saved to disk\n",
        "os.listdir(image_predictions_folder)"
      ],
      "metadata": {
        "colab": {
          "base_uri": "https://localhost:8080/"
        },
        "id": "eSwDFLc4CMwA",
        "outputId": "e01dde5d-d71f-43e0-b3d8-57132594b474"
      },
      "execution_count": null,
      "outputs": [
        {
          "output_type": "execute_result",
          "data": {
            "text/plain": [
              "['image_predictions.tsv']"
            ]
          },
          "metadata": {},
          "execution_count": 22
        }
      ]
    },
    {
      "cell_type": "markdown",
      "source": [
        "#### Renaming file downloaded programmatically: image-predictions.tsv"
      ],
      "metadata": {
        "id": "UZtlzuqAu5eV"
      }
    },
    {
      "cell_type": "code",
      "source": [
        "# Defining File Path\n",
        "old_name = working_dir + 'image_predictions_folder/image-predictions.tsv' #filename with hyphen (-)\n",
        "new_name = working_dir + 'image_predictions_folder/image_predictions.tsv' #filename with undescore (_)\n",
        "\n",
        "# Renaming the file\n",
        "os.rename(old_name, new_name)"
      ],
      "metadata": {
        "id": "2HAQ9NVKu2xu"
      },
      "execution_count": null,
      "outputs": []
    },
    {
      "cell_type": "code",
      "source": [
        "# Confirming file rename\n",
        "os.listdir(image_predictions_folder)"
      ],
      "metadata": {
        "colab": {
          "base_uri": "https://localhost:8080/"
        },
        "id": "8CISrWjov8nd",
        "outputId": "48cd2d2a-4653-4ffd-a345-22e70f999fd0"
      },
      "execution_count": null,
      "outputs": [
        {
          "output_type": "execute_result",
          "data": {
            "text/plain": [
              "['image_predictions.tsv']"
            ]
          },
          "metadata": {},
          "execution_count": 34
        }
      ]
    },
    {
      "cell_type": "markdown",
      "metadata": {
        "id": "tTEfNh9m45rE"
      },
      "source": [
        "## 3. Use the Tweepy library to query additional data via the Twitter API (tweet_json.txt)"
      ]
    },
    {
      "cell_type": "markdown",
      "source": [
        "### Defining Tweepy Credentials"
      ],
      "metadata": {
        "id": "luftIur4I2P5"
      }
    },
    {
      "cell_type": "code",
      "execution_count": null,
      "metadata": {
        "id": "Mr6EdiVZ45rF"
      },
      "outputs": [],
      "source": [
        "# Consumer (API) key authentication\n",
        "consumer_key = 'I1p0KOzJQYYJBJY1ajZIz7Yl5'\n",
        "consumer_secret = '2uxcBKVgFc4yYJg8hcZedC30kivBIU3Xoddgk0x2NYMWLsWFXe'\n",
        "\n",
        "auth = tweepy.OAuthHandler(consumer_key, consumer_secret)\n",
        "\n",
        "\n",
        "# Access key authentication\n",
        "access_token = '1193870818201264129-Q93Ow1UikBtBcFAkDW0pvEdnL3ylb9'\n",
        "access_secret = 'XUtzOZkoMR396ZEJBK12CkY2w8eDMgwsSBTUVdwXtvUMz'\n",
        "\n",
        "auth.set_access_token(access_token, access_secret)\n",
        "\n",
        "\n",
        "# Set up the API with the authentication handler\n",
        "api = tweepy.API(auth)"
      ]
    },
    {
      "cell_type": "code",
      "source": [
        ""
      ],
      "metadata": {
        "id": "l8dVAxM_J3jE"
      },
      "execution_count": null,
      "outputs": []
    },
    {
      "cell_type": "code",
      "source": [
        "tweet_id_list = twitter_archive_df['tweet_id'].tolist()"
      ],
      "metadata": {
        "id": "1FHr0tJoNC3H"
      },
      "execution_count": null,
      "outputs": []
    },
    {
      "cell_type": "code",
      "source": [
        "len(tweet_id_list)"
      ],
      "metadata": {
        "colab": {
          "base_uri": "https://localhost:8080/"
        },
        "id": "6LJmbKkeNSyd",
        "outputId": "a405ddb0-3e47-4bd1-8ce6-086a57d523bd"
      },
      "execution_count": null,
      "outputs": [
        {
          "output_type": "execute_result",
          "data": {
            "text/plain": [
              "2356"
            ]
          },
          "metadata": {},
          "execution_count": 18
        }
      ]
    },
    {
      "cell_type": "code",
      "source": [
        ""
      ],
      "metadata": {
        "id": "LP1jAxheNvyr"
      },
      "execution_count": null,
      "outputs": []
    },
    {
      "cell_type": "code",
      "source": [
        "# Creating list to hold Tweet JSON Objects\n",
        "tweet_status_json_list = []"
      ],
      "metadata": {
        "id": "pp6r7I3URBEl"
      },
      "execution_count": null,
      "outputs": []
    },
    {
      "cell_type": "code",
      "source": [
        "# Iterating to get tweet extended information from tweet_ids in tweet_id_list\n",
        "\n",
        "for tweet_id in tweet_id_list:\n",
        "\n",
        "  try:\n",
        "    # Getting Status Object from API by tweet_id\n",
        "    tweet_status = api.get_status(tweet_id, tweet_mode='extended') #Mode = Extended; for more information\n",
        "  except tweepy.TweepError:\n",
        "    continue\n",
        "\n",
        "  #Converting Status Object to JSON Object\n",
        "  json_str = json.dumps(tweet_status._json)\n",
        "\n",
        "  #Appending JSON Object to list of JSON Objects\n",
        "  tweet_status_json_list.append(json_str)\n"
      ],
      "metadata": {
        "id": "0eu8iUgdT6uq"
      },
      "execution_count": null,
      "outputs": []
    },
    {
      "cell_type": "code",
      "source": [
        "# Checking length of \n",
        "len(tweet_status_json_list)"
      ],
      "metadata": {
        "colab": {
          "base_uri": "https://localhost:8080/"
        },
        "id": "k3o0uj4FU_EX",
        "outputId": "4d6ee459-5449-441e-e2b8-a61ee22aba8f"
      },
      "execution_count": null,
      "outputs": [
        {
          "output_type": "execute_result",
          "data": {
            "text/plain": [
              "3230"
            ]
          },
          "metadata": {},
          "execution_count": 31
        }
      ]
    },
    {
      "cell_type": "code",
      "source": [
        "# Defining path of tweet_json.txt File\n",
        "\n",
        "path = working_dir + 'tweet_json.txt'"
      ],
      "metadata": {
        "id": "9M-rchJQZUAd"
      },
      "execution_count": null,
      "outputs": []
    },
    {
      "cell_type": "code",
      "source": [
        "# Saving List of JSON Objects to tweet_json.txt File\n",
        "\n",
        "with open(path, \"w\") as fhandle:\n",
        "  for line in tweet_status_json_list:\n",
        "    fhandle.write(f'{line}\\n')"
      ],
      "metadata": {
        "id": "KFu7P_FXYgG-"
      },
      "execution_count": null,
      "outputs": []
    },
    {
      "cell_type": "markdown",
      "metadata": {
        "extensions": {
          "jupyter_dashboards": {
            "version": 1,
            "views": {
              "grid_default": {
                "col": 4,
                "height": 4,
                "hidden": false,
                "row": 28,
                "width": 4
              },
              "report_default": {
                "hidden": false
              }
            }
          }
        },
        "id": "FSAjJ8Bh45rF"
      },
      "source": [
        "# Assessing Data\n",
        "In this section, detect and document at least **eight (8) quality issues and two (2) tidiness issue**. You must use **both** visual assessment\n",
        "programmatic assessement to assess the data.\n",
        "\n",
        "**Note:** pay attention to the following key points when you access the data.\n",
        "\n",
        "* You only want original ratings (no retweets) that have images. Though there are 5000+ tweets in the dataset, not all are dog ratings and some are retweets.\n",
        "* Assessing and cleaning the entire dataset completely would require a lot of time, and is not necessary to practice and demonstrate your skills in data wrangling. Therefore, the requirements of this project are only to assess and clean at least 8 quality issues and at least 2 tidiness issues in this dataset.\n",
        "* The fact that the rating numerators are greater than the denominators does not need to be cleaned. This [unique rating system](http://knowyourmeme.com/memes/theyre-good-dogs-brent) is a big part of the popularity of WeRateDogs.\n",
        "* You do not need to gather the tweets beyond August 1st, 2017. You can, but note that you won't be able to gather the image predictions for these tweets since you don't have access to the algorithm used.\n",
        "\n"
      ]
    },
    {
      "cell_type": "markdown",
      "source": [
        "### Reading Datasets Gathered"
      ],
      "metadata": {
        "id": "YMQVv3ZTnckK"
      }
    },
    {
      "cell_type": "markdown",
      "source": [
        "####1.   Reading twitter-archive-enhanced.csv Dataset (File provided)"
      ],
      "metadata": {
        "id": "WRZ5eU8moj23"
      }
    },
    {
      "cell_type": "code",
      "source": [
        "# Reading dataset: twitter-archive-enhanced.csv\n",
        "twitter_archive_df = pd.read_csv(working_dir + 'twitter_archive_enhanced.csv')"
      ],
      "metadata": {
        "id": "2TvJvw5R7U3P"
      },
      "execution_count": 393,
      "outputs": []
    },
    {
      "cell_type": "code",
      "source": [
        "# Checking columns in dataframe\n",
        "twitter_archive_df.columns"
      ],
      "metadata": {
        "id": "MCkTB5UCoRUG",
        "colab": {
          "base_uri": "https://localhost:8080/"
        },
        "outputId": "68fb25ce-89ca-422d-f398-93a81649d98c"
      },
      "execution_count": 394,
      "outputs": [
        {
          "output_type": "execute_result",
          "data": {
            "text/plain": [
              "Index(['tweet_id', 'in_reply_to_status_id', 'in_reply_to_user_id', 'timestamp',\n",
              "       'source', 'text', 'retweeted_status_id', 'retweeted_status_user_id',\n",
              "       'retweeted_status_timestamp', 'expanded_urls', 'rating_numerator',\n",
              "       'rating_denominator', 'name', 'doggo', 'floofer', 'pupper', 'puppo'],\n",
              "      dtype='object')"
            ]
          },
          "metadata": {},
          "execution_count": 394
        }
      ]
    },
    {
      "cell_type": "code",
      "source": [
        "# Shape of Dataframe\n",
        "twitter_archive_df.shape"
      ],
      "metadata": {
        "colab": {
          "base_uri": "https://localhost:8080/"
        },
        "id": "JiQdaw3aoUfy",
        "outputId": "f571a4e3-73ab-4411-aa94-e4e28acd2171"
      },
      "execution_count": 395,
      "outputs": [
        {
          "output_type": "execute_result",
          "data": {
            "text/plain": [
              "(2356, 17)"
            ]
          },
          "metadata": {},
          "execution_count": 395
        }
      ]
    },
    {
      "cell_type": "code",
      "source": [
        "# Checking info\n",
        "twitter_archive_df.info()"
      ],
      "metadata": {
        "colab": {
          "base_uri": "https://localhost:8080/"
        },
        "id": "PC1dWenl7-a4",
        "outputId": "9782a76c-5783-4675-95bc-cde2667309a1"
      },
      "execution_count": 396,
      "outputs": [
        {
          "output_type": "stream",
          "name": "stdout",
          "text": [
            "<class 'pandas.core.frame.DataFrame'>\n",
            "RangeIndex: 2356 entries, 0 to 2355\n",
            "Data columns (total 17 columns):\n",
            " #   Column                      Non-Null Count  Dtype  \n",
            "---  ------                      --------------  -----  \n",
            " 0   tweet_id                    2356 non-null   int64  \n",
            " 1   in_reply_to_status_id       78 non-null     float64\n",
            " 2   in_reply_to_user_id         78 non-null     float64\n",
            " 3   timestamp                   2356 non-null   object \n",
            " 4   source                      2356 non-null   object \n",
            " 5   text                        2356 non-null   object \n",
            " 6   retweeted_status_id         181 non-null    float64\n",
            " 7   retweeted_status_user_id    181 non-null    float64\n",
            " 8   retweeted_status_timestamp  181 non-null    object \n",
            " 9   expanded_urls               2297 non-null   object \n",
            " 10  rating_numerator            2356 non-null   int64  \n",
            " 11  rating_denominator          2356 non-null   int64  \n",
            " 12  name                        2356 non-null   object \n",
            " 13  doggo                       2356 non-null   object \n",
            " 14  floofer                     2356 non-null   object \n",
            " 15  pupper                      2356 non-null   object \n",
            " 16  puppo                       2356 non-null   object \n",
            "dtypes: float64(4), int64(3), object(10)\n",
            "memory usage: 313.0+ KB\n"
          ]
        }
      ]
    },
    {
      "cell_type": "code",
      "source": [
        "# Checking first 5 rows\n",
        "twitter_archive_df.head()"
      ],
      "metadata": {
        "colab": {
          "base_uri": "https://localhost:8080/",
          "height": 635
        },
        "id": "yIFReJY_Ab_d",
        "outputId": "46e88dc4-db81-4808-f912-0a933af7c443"
      },
      "execution_count": 397,
      "outputs": [
        {
          "output_type": "execute_result",
          "data": {
            "text/plain": [
              "             tweet_id  in_reply_to_status_id  in_reply_to_user_id  \\\n",
              "0  892420643555336193                    NaN                  NaN   \n",
              "1  892177421306343426                    NaN                  NaN   \n",
              "2  891815181378084864                    NaN                  NaN   \n",
              "3  891689557279858688                    NaN                  NaN   \n",
              "4  891327558926688256                    NaN                  NaN   \n",
              "\n",
              "                   timestamp  \\\n",
              "0  2017-08-01 16:23:56 +0000   \n",
              "1  2017-08-01 00:17:27 +0000   \n",
              "2  2017-07-31 00:18:03 +0000   \n",
              "3  2017-07-30 15:58:51 +0000   \n",
              "4  2017-07-29 16:00:24 +0000   \n",
              "\n",
              "                                              source  \\\n",
              "0  <a href=\"http://twitter.com/download/iphone\" r...   \n",
              "1  <a href=\"http://twitter.com/download/iphone\" r...   \n",
              "2  <a href=\"http://twitter.com/download/iphone\" r...   \n",
              "3  <a href=\"http://twitter.com/download/iphone\" r...   \n",
              "4  <a href=\"http://twitter.com/download/iphone\" r...   \n",
              "\n",
              "                                                text  retweeted_status_id  \\\n",
              "0  This is Phineas. He's a mystical boy. Only eve...                  NaN   \n",
              "1  This is Tilly. She's just checking pup on you....                  NaN   \n",
              "2  This is Archie. He is a rare Norwegian Pouncin...                  NaN   \n",
              "3  This is Darla. She commenced a snooze mid meal...                  NaN   \n",
              "4  This is Franklin. He would like you to stop ca...                  NaN   \n",
              "\n",
              "   retweeted_status_user_id retweeted_status_timestamp  \\\n",
              "0                       NaN                        NaN   \n",
              "1                       NaN                        NaN   \n",
              "2                       NaN                        NaN   \n",
              "3                       NaN                        NaN   \n",
              "4                       NaN                        NaN   \n",
              "\n",
              "                                       expanded_urls  rating_numerator  \\\n",
              "0  https://twitter.com/dog_rates/status/892420643...                13   \n",
              "1  https://twitter.com/dog_rates/status/892177421...                13   \n",
              "2  https://twitter.com/dog_rates/status/891815181...                12   \n",
              "3  https://twitter.com/dog_rates/status/891689557...                13   \n",
              "4  https://twitter.com/dog_rates/status/891327558...                12   \n",
              "\n",
              "   rating_denominator      name doggo floofer pupper puppo  \n",
              "0                  10   Phineas  None    None   None  None  \n",
              "1                  10     Tilly  None    None   None  None  \n",
              "2                  10    Archie  None    None   None  None  \n",
              "3                  10     Darla  None    None   None  None  \n",
              "4                  10  Franklin  None    None   None  None  "
            ],
            "text/html": [
              "\n",
              "  <div id=\"df-0a54603b-30c7-4618-ade4-ae1298ba43d9\">\n",
              "    <div class=\"colab-df-container\">\n",
              "      <div>\n",
              "<style scoped>\n",
              "    .dataframe tbody tr th:only-of-type {\n",
              "        vertical-align: middle;\n",
              "    }\n",
              "\n",
              "    .dataframe tbody tr th {\n",
              "        vertical-align: top;\n",
              "    }\n",
              "\n",
              "    .dataframe thead th {\n",
              "        text-align: right;\n",
              "    }\n",
              "</style>\n",
              "<table border=\"1\" class=\"dataframe\">\n",
              "  <thead>\n",
              "    <tr style=\"text-align: right;\">\n",
              "      <th></th>\n",
              "      <th>tweet_id</th>\n",
              "      <th>in_reply_to_status_id</th>\n",
              "      <th>in_reply_to_user_id</th>\n",
              "      <th>timestamp</th>\n",
              "      <th>source</th>\n",
              "      <th>text</th>\n",
              "      <th>retweeted_status_id</th>\n",
              "      <th>retweeted_status_user_id</th>\n",
              "      <th>retweeted_status_timestamp</th>\n",
              "      <th>expanded_urls</th>\n",
              "      <th>rating_numerator</th>\n",
              "      <th>rating_denominator</th>\n",
              "      <th>name</th>\n",
              "      <th>doggo</th>\n",
              "      <th>floofer</th>\n",
              "      <th>pupper</th>\n",
              "      <th>puppo</th>\n",
              "    </tr>\n",
              "  </thead>\n",
              "  <tbody>\n",
              "    <tr>\n",
              "      <th>0</th>\n",
              "      <td>892420643555336193</td>\n",
              "      <td>NaN</td>\n",
              "      <td>NaN</td>\n",
              "      <td>2017-08-01 16:23:56 +0000</td>\n",
              "      <td>&lt;a href=\"http://twitter.com/download/iphone\" r...</td>\n",
              "      <td>This is Phineas. He's a mystical boy. Only eve...</td>\n",
              "      <td>NaN</td>\n",
              "      <td>NaN</td>\n",
              "      <td>NaN</td>\n",
              "      <td>https://twitter.com/dog_rates/status/892420643...</td>\n",
              "      <td>13</td>\n",
              "      <td>10</td>\n",
              "      <td>Phineas</td>\n",
              "      <td>None</td>\n",
              "      <td>None</td>\n",
              "      <td>None</td>\n",
              "      <td>None</td>\n",
              "    </tr>\n",
              "    <tr>\n",
              "      <th>1</th>\n",
              "      <td>892177421306343426</td>\n",
              "      <td>NaN</td>\n",
              "      <td>NaN</td>\n",
              "      <td>2017-08-01 00:17:27 +0000</td>\n",
              "      <td>&lt;a href=\"http://twitter.com/download/iphone\" r...</td>\n",
              "      <td>This is Tilly. She's just checking pup on you....</td>\n",
              "      <td>NaN</td>\n",
              "      <td>NaN</td>\n",
              "      <td>NaN</td>\n",
              "      <td>https://twitter.com/dog_rates/status/892177421...</td>\n",
              "      <td>13</td>\n",
              "      <td>10</td>\n",
              "      <td>Tilly</td>\n",
              "      <td>None</td>\n",
              "      <td>None</td>\n",
              "      <td>None</td>\n",
              "      <td>None</td>\n",
              "    </tr>\n",
              "    <tr>\n",
              "      <th>2</th>\n",
              "      <td>891815181378084864</td>\n",
              "      <td>NaN</td>\n",
              "      <td>NaN</td>\n",
              "      <td>2017-07-31 00:18:03 +0000</td>\n",
              "      <td>&lt;a href=\"http://twitter.com/download/iphone\" r...</td>\n",
              "      <td>This is Archie. He is a rare Norwegian Pouncin...</td>\n",
              "      <td>NaN</td>\n",
              "      <td>NaN</td>\n",
              "      <td>NaN</td>\n",
              "      <td>https://twitter.com/dog_rates/status/891815181...</td>\n",
              "      <td>12</td>\n",
              "      <td>10</td>\n",
              "      <td>Archie</td>\n",
              "      <td>None</td>\n",
              "      <td>None</td>\n",
              "      <td>None</td>\n",
              "      <td>None</td>\n",
              "    </tr>\n",
              "    <tr>\n",
              "      <th>3</th>\n",
              "      <td>891689557279858688</td>\n",
              "      <td>NaN</td>\n",
              "      <td>NaN</td>\n",
              "      <td>2017-07-30 15:58:51 +0000</td>\n",
              "      <td>&lt;a href=\"http://twitter.com/download/iphone\" r...</td>\n",
              "      <td>This is Darla. She commenced a snooze mid meal...</td>\n",
              "      <td>NaN</td>\n",
              "      <td>NaN</td>\n",
              "      <td>NaN</td>\n",
              "      <td>https://twitter.com/dog_rates/status/891689557...</td>\n",
              "      <td>13</td>\n",
              "      <td>10</td>\n",
              "      <td>Darla</td>\n",
              "      <td>None</td>\n",
              "      <td>None</td>\n",
              "      <td>None</td>\n",
              "      <td>None</td>\n",
              "    </tr>\n",
              "    <tr>\n",
              "      <th>4</th>\n",
              "      <td>891327558926688256</td>\n",
              "      <td>NaN</td>\n",
              "      <td>NaN</td>\n",
              "      <td>2017-07-29 16:00:24 +0000</td>\n",
              "      <td>&lt;a href=\"http://twitter.com/download/iphone\" r...</td>\n",
              "      <td>This is Franklin. He would like you to stop ca...</td>\n",
              "      <td>NaN</td>\n",
              "      <td>NaN</td>\n",
              "      <td>NaN</td>\n",
              "      <td>https://twitter.com/dog_rates/status/891327558...</td>\n",
              "      <td>12</td>\n",
              "      <td>10</td>\n",
              "      <td>Franklin</td>\n",
              "      <td>None</td>\n",
              "      <td>None</td>\n",
              "      <td>None</td>\n",
              "      <td>None</td>\n",
              "    </tr>\n",
              "  </tbody>\n",
              "</table>\n",
              "</div>\n",
              "      <button class=\"colab-df-convert\" onclick=\"convertToInteractive('df-0a54603b-30c7-4618-ade4-ae1298ba43d9')\"\n",
              "              title=\"Convert this dataframe to an interactive table.\"\n",
              "              style=\"display:none;\">\n",
              "        \n",
              "  <svg xmlns=\"http://www.w3.org/2000/svg\" height=\"24px\"viewBox=\"0 0 24 24\"\n",
              "       width=\"24px\">\n",
              "    <path d=\"M0 0h24v24H0V0z\" fill=\"none\"/>\n",
              "    <path d=\"M18.56 5.44l.94 2.06.94-2.06 2.06-.94-2.06-.94-.94-2.06-.94 2.06-2.06.94zm-11 1L8.5 8.5l.94-2.06 2.06-.94-2.06-.94L8.5 2.5l-.94 2.06-2.06.94zm10 10l.94 2.06.94-2.06 2.06-.94-2.06-.94-.94-2.06-.94 2.06-2.06.94z\"/><path d=\"M17.41 7.96l-1.37-1.37c-.4-.4-.92-.59-1.43-.59-.52 0-1.04.2-1.43.59L10.3 9.45l-7.72 7.72c-.78.78-.78 2.05 0 2.83L4 21.41c.39.39.9.59 1.41.59.51 0 1.02-.2 1.41-.59l7.78-7.78 2.81-2.81c.8-.78.8-2.07 0-2.86zM5.41 20L4 18.59l7.72-7.72 1.47 1.35L5.41 20z\"/>\n",
              "  </svg>\n",
              "      </button>\n",
              "      \n",
              "  <style>\n",
              "    .colab-df-container {\n",
              "      display:flex;\n",
              "      flex-wrap:wrap;\n",
              "      gap: 12px;\n",
              "    }\n",
              "\n",
              "    .colab-df-convert {\n",
              "      background-color: #E8F0FE;\n",
              "      border: none;\n",
              "      border-radius: 50%;\n",
              "      cursor: pointer;\n",
              "      display: none;\n",
              "      fill: #1967D2;\n",
              "      height: 32px;\n",
              "      padding: 0 0 0 0;\n",
              "      width: 32px;\n",
              "    }\n",
              "\n",
              "    .colab-df-convert:hover {\n",
              "      background-color: #E2EBFA;\n",
              "      box-shadow: 0px 1px 2px rgba(60, 64, 67, 0.3), 0px 1px 3px 1px rgba(60, 64, 67, 0.15);\n",
              "      fill: #174EA6;\n",
              "    }\n",
              "\n",
              "    [theme=dark] .colab-df-convert {\n",
              "      background-color: #3B4455;\n",
              "      fill: #D2E3FC;\n",
              "    }\n",
              "\n",
              "    [theme=dark] .colab-df-convert:hover {\n",
              "      background-color: #434B5C;\n",
              "      box-shadow: 0px 1px 3px 1px rgba(0, 0, 0, 0.15);\n",
              "      filter: drop-shadow(0px 1px 2px rgba(0, 0, 0, 0.3));\n",
              "      fill: #FFFFFF;\n",
              "    }\n",
              "  </style>\n",
              "\n",
              "      <script>\n",
              "        const buttonEl =\n",
              "          document.querySelector('#df-0a54603b-30c7-4618-ade4-ae1298ba43d9 button.colab-df-convert');\n",
              "        buttonEl.style.display =\n",
              "          google.colab.kernel.accessAllowed ? 'block' : 'none';\n",
              "\n",
              "        async function convertToInteractive(key) {\n",
              "          const element = document.querySelector('#df-0a54603b-30c7-4618-ade4-ae1298ba43d9');\n",
              "          const dataTable =\n",
              "            await google.colab.kernel.invokeFunction('convertToInteractive',\n",
              "                                                     [key], {});\n",
              "          if (!dataTable) return;\n",
              "\n",
              "          const docLinkHtml = 'Like what you see? Visit the ' +\n",
              "            '<a target=\"_blank\" href=https://colab.research.google.com/notebooks/data_table.ipynb>data table notebook</a>'\n",
              "            + ' to learn more about interactive tables.';\n",
              "          element.innerHTML = '';\n",
              "          dataTable['output_type'] = 'display_data';\n",
              "          await google.colab.output.renderOutput(dataTable, element);\n",
              "          const docLink = document.createElement('div');\n",
              "          docLink.innerHTML = docLinkHtml;\n",
              "          element.appendChild(docLink);\n",
              "        }\n",
              "      </script>\n",
              "    </div>\n",
              "  </div>\n",
              "  "
            ]
          },
          "metadata": {},
          "execution_count": 397
        }
      ]
    },
    {
      "cell_type": "code",
      "source": [
        "# Checking datatypes of columns\n",
        "twitter_archive_df.dtypes"
      ],
      "metadata": {
        "colab": {
          "base_uri": "https://localhost:8080/"
        },
        "id": "egLscRDIIQVH",
        "outputId": "f969ec41-d311-4532-89a4-7142ea7221f1"
      },
      "execution_count": 398,
      "outputs": [
        {
          "output_type": "execute_result",
          "data": {
            "text/plain": [
              "tweet_id                        int64\n",
              "in_reply_to_status_id         float64\n",
              "in_reply_to_user_id           float64\n",
              "timestamp                      object\n",
              "source                         object\n",
              "text                           object\n",
              "retweeted_status_id           float64\n",
              "retweeted_status_user_id      float64\n",
              "retweeted_status_timestamp     object\n",
              "expanded_urls                  object\n",
              "rating_numerator                int64\n",
              "rating_denominator              int64\n",
              "name                           object\n",
              "doggo                          object\n",
              "floofer                        object\n",
              "pupper                         object\n",
              "puppo                          object\n",
              "dtype: object"
            ]
          },
          "metadata": {},
          "execution_count": 398
        }
      ]
    },
    {
      "cell_type": "code",
      "source": [
        "# Summary statistics of rating_numerator column\n",
        "twitter_archive_df['rating_numerator'].describe()"
      ],
      "metadata": {
        "colab": {
          "base_uri": "https://localhost:8080/"
        },
        "id": "RgepkfKld9uO",
        "outputId": "0647d603-e90b-407a-e3e7-8f6e08309b63"
      },
      "execution_count": 399,
      "outputs": [
        {
          "output_type": "execute_result",
          "data": {
            "text/plain": [
              "count    2356.000000\n",
              "mean       13.126486\n",
              "std        45.876648\n",
              "min         0.000000\n",
              "25%        10.000000\n",
              "50%        11.000000\n",
              "75%        12.000000\n",
              "max      1776.000000\n",
              "Name: rating_numerator, dtype: float64"
            ]
          },
          "metadata": {},
          "execution_count": 399
        }
      ]
    },
    {
      "cell_type": "markdown",
      "source": [
        "* The rating_numerator is allowed to go past 10 (maximum is 1776), as the rating account permits that (\"they're good dogs Brent\")\n",
        "* Hence, bigger values aren't inaccurate, therefore no cleaning required"
      ],
      "metadata": {
        "id": "ddaPVWOWerij"
      }
    },
    {
      "cell_type": "code",
      "source": [
        "# Summary statistics of rating_denominator column\n",
        "twitter_archive_df['rating_denominator'].describe()"
      ],
      "metadata": {
        "colab": {
          "base_uri": "https://localhost:8080/"
        },
        "outputId": "edca8330-b570-435f-9653-986528a8811f",
        "id": "qKrOAkBOeSJp"
      },
      "execution_count": 400,
      "outputs": [
        {
          "output_type": "execute_result",
          "data": {
            "text/plain": [
              "count    2356.000000\n",
              "mean       10.455433\n",
              "std         6.745237\n",
              "min         0.000000\n",
              "25%        10.000000\n",
              "50%        10.000000\n",
              "75%        10.000000\n",
              "max       170.000000\n",
              "Name: rating_denominator, dtype: float64"
            ]
          },
          "metadata": {},
          "execution_count": 400
        }
      ]
    },
    {
      "cell_type": "markdown",
      "source": [
        "* The rating_denominator should always be 10 (maximum in the dataset is 170, minimum is 0)\n",
        "* Hence, values greater/lesser than 10 are inaccurate, therefore cleaning is required"
      ],
      "metadata": {
        "id": "Fp9WGc7Zf7Ay"
      }
    },
    {
      "cell_type": "code",
      "source": [
        "#check names in twitter archive dataset\n",
        "twitter_archive_df['name'].value_counts()"
      ],
      "metadata": {
        "colab": {
          "base_uri": "https://localhost:8080/"
        },
        "id": "XQJ3FQgCuaTw",
        "outputId": "380ea380-6f14-4476-92da-c42731c30e62"
      },
      "execution_count": 401,
      "outputs": [
        {
          "output_type": "execute_result",
          "data": {
            "text/plain": [
              "None          745\n",
              "a              55\n",
              "Charlie        12\n",
              "Cooper         11\n",
              "Lucy           11\n",
              "             ... \n",
              "Dex             1\n",
              "Ace             1\n",
              "Tayzie          1\n",
              "Grizzie         1\n",
              "Christoper      1\n",
              "Name: name, Length: 957, dtype: int64"
            ]
          },
          "metadata": {},
          "execution_count": 401
        }
      ]
    },
    {
      "cell_type": "markdown",
      "source": [
        "* Majority of the names are \"None\"\n",
        "* Explore the names further below"
      ],
      "metadata": {
        "id": "2ugE2xl3u06P"
      }
    },
    {
      "cell_type": "code",
      "source": [
        "none_names_df = twitter_archive_df[twitter_archive_df['name'] == 'None']\n",
        "none_names_df.shape"
      ],
      "metadata": {
        "colab": {
          "base_uri": "https://localhost:8080/"
        },
        "id": "JUYl93Q5fkE4",
        "outputId": "987f9d24-2460-4424-8b78-1e4fa05c18af"
      },
      "execution_count": 402,
      "outputs": [
        {
          "output_type": "execute_result",
          "data": {
            "text/plain": [
              "(745, 17)"
            ]
          },
          "metadata": {},
          "execution_count": 402
        }
      ]
    },
    {
      "cell_type": "code",
      "source": [
        "# Displaying some of the records with none names\n",
        "none_names_df.sample(5)"
      ],
      "metadata": {
        "colab": {
          "base_uri": "https://localhost:8080/",
          "height": 565
        },
        "id": "f-O-q44huY-Z",
        "outputId": "8205bd3e-66ce-446b-f934-de77448caae5"
      },
      "execution_count": 403,
      "outputs": [
        {
          "output_type": "execute_result",
          "data": {
            "text/plain": [
              "                tweet_id  in_reply_to_status_id  in_reply_to_user_id  \\\n",
              "1506  691756958957883396                    NaN                  NaN   \n",
              "655   791784077045166082                    NaN                  NaN   \n",
              "334   832682457690300417                    NaN                  NaN   \n",
              "1718  680176173301628928                    NaN                  NaN   \n",
              "2145  669926384437997569                    NaN                  NaN   \n",
              "\n",
              "                      timestamp  \\\n",
              "1506  2016-01-25 22:58:05 +0000   \n",
              "655   2016-10-27 23:30:09 +0000   \n",
              "334   2017-02-17 20:05:43 +0000   \n",
              "1718  2015-12-25 00:00:11 +0000   \n",
              "2145  2015-11-26 17:11:11 +0000   \n",
              "\n",
              "                                                 source  \\\n",
              "1506  <a href=\"http://twitter.com/download/iphone\" r...   \n",
              "655   <a href=\"http://twitter.com/download/iphone\" r...   \n",
              "334   <a href=\"http://twitter.com/download/iphone\" r...   \n",
              "1718  <a href=\"http://twitter.com/download/iphone\" r...   \n",
              "2145  <a href=\"http://twitter.com/download/iphone\" r...   \n",
              "\n",
              "                                                   text  retweeted_status_id  \\\n",
              "1506  THE BRITISH ARE COMING\\nTHE BRITISH ARE COMING...                  NaN   \n",
              "655   RT @dog_rates: I'm not sure what this dog is d...         6.820881e+17   \n",
              "334   Prosperous good boy 13/10 socioeconomic af htt...                  NaN   \n",
              "1718  This pupper is patiently waiting to scare the ...                  NaN   \n",
              "2145  I've never seen a dog so genuinely happy about...                  NaN   \n",
              "\n",
              "      retweeted_status_user_id retweeted_status_timestamp  \\\n",
              "1506                       NaN                        NaN   \n",
              "655               4.196984e+09  2015-12-30 06:37:25 +0000   \n",
              "334                        NaN                        NaN   \n",
              "1718                       NaN                        NaN   \n",
              "2145                       NaN                        NaN   \n",
              "\n",
              "                                          expanded_urls  rating_numerator  \\\n",
              "1506  https://twitter.com/dog_rates/status/691756958...                10   \n",
              "655   https://vine.co/v/iqMjlxULzbn,https://vine.co/...                12   \n",
              "334   https://twitter.com/telegraph/status/832268302...                13   \n",
              "1718  https://twitter.com/dog_rates/status/680176173...                10   \n",
              "2145  https://twitter.com/dog_rates/status/669926384...                12   \n",
              "\n",
              "      rating_denominator  name doggo floofer  pupper puppo  \n",
              "1506                  10  None  None    None    None  None  \n",
              "655                   10  None  None    None    None  None  \n",
              "334                   10  None  None    None    None  None  \n",
              "1718                  10  None  None    None  pupper  None  \n",
              "2145                  10  None  None    None    None  None  "
            ],
            "text/html": [
              "\n",
              "  <div id=\"df-68103077-bbb2-4e79-a2b0-75459b877361\">\n",
              "    <div class=\"colab-df-container\">\n",
              "      <div>\n",
              "<style scoped>\n",
              "    .dataframe tbody tr th:only-of-type {\n",
              "        vertical-align: middle;\n",
              "    }\n",
              "\n",
              "    .dataframe tbody tr th {\n",
              "        vertical-align: top;\n",
              "    }\n",
              "\n",
              "    .dataframe thead th {\n",
              "        text-align: right;\n",
              "    }\n",
              "</style>\n",
              "<table border=\"1\" class=\"dataframe\">\n",
              "  <thead>\n",
              "    <tr style=\"text-align: right;\">\n",
              "      <th></th>\n",
              "      <th>tweet_id</th>\n",
              "      <th>in_reply_to_status_id</th>\n",
              "      <th>in_reply_to_user_id</th>\n",
              "      <th>timestamp</th>\n",
              "      <th>source</th>\n",
              "      <th>text</th>\n",
              "      <th>retweeted_status_id</th>\n",
              "      <th>retweeted_status_user_id</th>\n",
              "      <th>retweeted_status_timestamp</th>\n",
              "      <th>expanded_urls</th>\n",
              "      <th>rating_numerator</th>\n",
              "      <th>rating_denominator</th>\n",
              "      <th>name</th>\n",
              "      <th>doggo</th>\n",
              "      <th>floofer</th>\n",
              "      <th>pupper</th>\n",
              "      <th>puppo</th>\n",
              "    </tr>\n",
              "  </thead>\n",
              "  <tbody>\n",
              "    <tr>\n",
              "      <th>1506</th>\n",
              "      <td>691756958957883396</td>\n",
              "      <td>NaN</td>\n",
              "      <td>NaN</td>\n",
              "      <td>2016-01-25 22:58:05 +0000</td>\n",
              "      <td>&lt;a href=\"http://twitter.com/download/iphone\" r...</td>\n",
              "      <td>THE BRITISH ARE COMING\\nTHE BRITISH ARE COMING...</td>\n",
              "      <td>NaN</td>\n",
              "      <td>NaN</td>\n",
              "      <td>NaN</td>\n",
              "      <td>https://twitter.com/dog_rates/status/691756958...</td>\n",
              "      <td>10</td>\n",
              "      <td>10</td>\n",
              "      <td>None</td>\n",
              "      <td>None</td>\n",
              "      <td>None</td>\n",
              "      <td>None</td>\n",
              "      <td>None</td>\n",
              "    </tr>\n",
              "    <tr>\n",
              "      <th>655</th>\n",
              "      <td>791784077045166082</td>\n",
              "      <td>NaN</td>\n",
              "      <td>NaN</td>\n",
              "      <td>2016-10-27 23:30:09 +0000</td>\n",
              "      <td>&lt;a href=\"http://twitter.com/download/iphone\" r...</td>\n",
              "      <td>RT @dog_rates: I'm not sure what this dog is d...</td>\n",
              "      <td>6.820881e+17</td>\n",
              "      <td>4.196984e+09</td>\n",
              "      <td>2015-12-30 06:37:25 +0000</td>\n",
              "      <td>https://vine.co/v/iqMjlxULzbn,https://vine.co/...</td>\n",
              "      <td>12</td>\n",
              "      <td>10</td>\n",
              "      <td>None</td>\n",
              "      <td>None</td>\n",
              "      <td>None</td>\n",
              "      <td>None</td>\n",
              "      <td>None</td>\n",
              "    </tr>\n",
              "    <tr>\n",
              "      <th>334</th>\n",
              "      <td>832682457690300417</td>\n",
              "      <td>NaN</td>\n",
              "      <td>NaN</td>\n",
              "      <td>2017-02-17 20:05:43 +0000</td>\n",
              "      <td>&lt;a href=\"http://twitter.com/download/iphone\" r...</td>\n",
              "      <td>Prosperous good boy 13/10 socioeconomic af htt...</td>\n",
              "      <td>NaN</td>\n",
              "      <td>NaN</td>\n",
              "      <td>NaN</td>\n",
              "      <td>https://twitter.com/telegraph/status/832268302...</td>\n",
              "      <td>13</td>\n",
              "      <td>10</td>\n",
              "      <td>None</td>\n",
              "      <td>None</td>\n",
              "      <td>None</td>\n",
              "      <td>None</td>\n",
              "      <td>None</td>\n",
              "    </tr>\n",
              "    <tr>\n",
              "      <th>1718</th>\n",
              "      <td>680176173301628928</td>\n",
              "      <td>NaN</td>\n",
              "      <td>NaN</td>\n",
              "      <td>2015-12-25 00:00:11 +0000</td>\n",
              "      <td>&lt;a href=\"http://twitter.com/download/iphone\" r...</td>\n",
              "      <td>This pupper is patiently waiting to scare the ...</td>\n",
              "      <td>NaN</td>\n",
              "      <td>NaN</td>\n",
              "      <td>NaN</td>\n",
              "      <td>https://twitter.com/dog_rates/status/680176173...</td>\n",
              "      <td>10</td>\n",
              "      <td>10</td>\n",
              "      <td>None</td>\n",
              "      <td>None</td>\n",
              "      <td>None</td>\n",
              "      <td>pupper</td>\n",
              "      <td>None</td>\n",
              "    </tr>\n",
              "    <tr>\n",
              "      <th>2145</th>\n",
              "      <td>669926384437997569</td>\n",
              "      <td>NaN</td>\n",
              "      <td>NaN</td>\n",
              "      <td>2015-11-26 17:11:11 +0000</td>\n",
              "      <td>&lt;a href=\"http://twitter.com/download/iphone\" r...</td>\n",
              "      <td>I've never seen a dog so genuinely happy about...</td>\n",
              "      <td>NaN</td>\n",
              "      <td>NaN</td>\n",
              "      <td>NaN</td>\n",
              "      <td>https://twitter.com/dog_rates/status/669926384...</td>\n",
              "      <td>12</td>\n",
              "      <td>10</td>\n",
              "      <td>None</td>\n",
              "      <td>None</td>\n",
              "      <td>None</td>\n",
              "      <td>None</td>\n",
              "      <td>None</td>\n",
              "    </tr>\n",
              "  </tbody>\n",
              "</table>\n",
              "</div>\n",
              "      <button class=\"colab-df-convert\" onclick=\"convertToInteractive('df-68103077-bbb2-4e79-a2b0-75459b877361')\"\n",
              "              title=\"Convert this dataframe to an interactive table.\"\n",
              "              style=\"display:none;\">\n",
              "        \n",
              "  <svg xmlns=\"http://www.w3.org/2000/svg\" height=\"24px\"viewBox=\"0 0 24 24\"\n",
              "       width=\"24px\">\n",
              "    <path d=\"M0 0h24v24H0V0z\" fill=\"none\"/>\n",
              "    <path d=\"M18.56 5.44l.94 2.06.94-2.06 2.06-.94-2.06-.94-.94-2.06-.94 2.06-2.06.94zm-11 1L8.5 8.5l.94-2.06 2.06-.94-2.06-.94L8.5 2.5l-.94 2.06-2.06.94zm10 10l.94 2.06.94-2.06 2.06-.94-2.06-.94-.94-2.06-.94 2.06-2.06.94z\"/><path d=\"M17.41 7.96l-1.37-1.37c-.4-.4-.92-.59-1.43-.59-.52 0-1.04.2-1.43.59L10.3 9.45l-7.72 7.72c-.78.78-.78 2.05 0 2.83L4 21.41c.39.39.9.59 1.41.59.51 0 1.02-.2 1.41-.59l7.78-7.78 2.81-2.81c.8-.78.8-2.07 0-2.86zM5.41 20L4 18.59l7.72-7.72 1.47 1.35L5.41 20z\"/>\n",
              "  </svg>\n",
              "      </button>\n",
              "      \n",
              "  <style>\n",
              "    .colab-df-container {\n",
              "      display:flex;\n",
              "      flex-wrap:wrap;\n",
              "      gap: 12px;\n",
              "    }\n",
              "\n",
              "    .colab-df-convert {\n",
              "      background-color: #E8F0FE;\n",
              "      border: none;\n",
              "      border-radius: 50%;\n",
              "      cursor: pointer;\n",
              "      display: none;\n",
              "      fill: #1967D2;\n",
              "      height: 32px;\n",
              "      padding: 0 0 0 0;\n",
              "      width: 32px;\n",
              "    }\n",
              "\n",
              "    .colab-df-convert:hover {\n",
              "      background-color: #E2EBFA;\n",
              "      box-shadow: 0px 1px 2px rgba(60, 64, 67, 0.3), 0px 1px 3px 1px rgba(60, 64, 67, 0.15);\n",
              "      fill: #174EA6;\n",
              "    }\n",
              "\n",
              "    [theme=dark] .colab-df-convert {\n",
              "      background-color: #3B4455;\n",
              "      fill: #D2E3FC;\n",
              "    }\n",
              "\n",
              "    [theme=dark] .colab-df-convert:hover {\n",
              "      background-color: #434B5C;\n",
              "      box-shadow: 0px 1px 3px 1px rgba(0, 0, 0, 0.15);\n",
              "      filter: drop-shadow(0px 1px 2px rgba(0, 0, 0, 0.3));\n",
              "      fill: #FFFFFF;\n",
              "    }\n",
              "  </style>\n",
              "\n",
              "      <script>\n",
              "        const buttonEl =\n",
              "          document.querySelector('#df-68103077-bbb2-4e79-a2b0-75459b877361 button.colab-df-convert');\n",
              "        buttonEl.style.display =\n",
              "          google.colab.kernel.accessAllowed ? 'block' : 'none';\n",
              "\n",
              "        async function convertToInteractive(key) {\n",
              "          const element = document.querySelector('#df-68103077-bbb2-4e79-a2b0-75459b877361');\n",
              "          const dataTable =\n",
              "            await google.colab.kernel.invokeFunction('convertToInteractive',\n",
              "                                                     [key], {});\n",
              "          if (!dataTable) return;\n",
              "\n",
              "          const docLinkHtml = 'Like what you see? Visit the ' +\n",
              "            '<a target=\"_blank\" href=https://colab.research.google.com/notebooks/data_table.ipynb>data table notebook</a>'\n",
              "            + ' to learn more about interactive tables.';\n",
              "          element.innerHTML = '';\n",
              "          dataTable['output_type'] = 'display_data';\n",
              "          await google.colab.output.renderOutput(dataTable, element);\n",
              "          const docLink = document.createElement('div');\n",
              "          docLink.innerHTML = docLinkHtml;\n",
              "          element.appendChild(docLink);\n",
              "        }\n",
              "      </script>\n",
              "    </div>\n",
              "  </div>\n",
              "  "
            ]
          },
          "metadata": {},
          "execution_count": 403
        }
      ]
    },
    {
      "cell_type": "markdown",
      "source": [
        "* The records with \"None\" names need to be cleaned, as there is no dog with a \"None\" name; by convention"
      ],
      "metadata": {
        "id": "ExzU5SkOvLqP"
      }
    },
    {
      "cell_type": "code",
      "source": [
        "# Checking if there are retweets\n",
        "retweets_archive_df = twitter_archive_df[twitter_archive_df['text'].str.contains(\"RT @\")]\n",
        "retweets_archive_df.shape"
      ],
      "metadata": {
        "colab": {
          "base_uri": "https://localhost:8080/"
        },
        "id": "p1QeyB_ql0Q_",
        "outputId": "b4369b14-7eb0-4ca9-af18-c51d0348eb90"
      },
      "execution_count": 404,
      "outputs": [
        {
          "output_type": "execute_result",
          "data": {
            "text/plain": [
              "(181, 17)"
            ]
          },
          "metadata": {},
          "execution_count": 404
        }
      ]
    },
    {
      "cell_type": "code",
      "source": [
        "# Displaying retweets\n",
        "retweets_archive_df.head(3)"
      ],
      "metadata": {
        "colab": {
          "base_uri": "https://localhost:8080/",
          "height": 364
        },
        "id": "E20ir1YlmPYm",
        "outputId": "97443ad7-9f62-45f7-9f72-91d068a23a6b"
      },
      "execution_count": 405,
      "outputs": [
        {
          "output_type": "execute_result",
          "data": {
            "text/plain": [
              "              tweet_id  in_reply_to_status_id  in_reply_to_user_id  \\\n",
              "19  888202515573088257                    NaN                  NaN   \n",
              "32  886054160059072513                    NaN                  NaN   \n",
              "36  885311592912609280                    NaN                  NaN   \n",
              "\n",
              "                    timestamp  \\\n",
              "19  2017-07-21 01:02:36 +0000   \n",
              "32  2017-07-15 02:45:48 +0000   \n",
              "36  2017-07-13 01:35:06 +0000   \n",
              "\n",
              "                                               source  \\\n",
              "19  <a href=\"http://twitter.com/download/iphone\" r...   \n",
              "32  <a href=\"http://twitter.com/download/iphone\" r...   \n",
              "36  <a href=\"http://twitter.com/download/iphone\" r...   \n",
              "\n",
              "                                                 text  retweeted_status_id  \\\n",
              "19  RT @dog_rates: This is Canela. She attempted s...         8.874740e+17   \n",
              "32  RT @Athletics: 12/10 #BATP https://t.co/WxwJmv...         8.860537e+17   \n",
              "36  RT @dog_rates: This is Lilly. She just paralle...         8.305833e+17   \n",
              "\n",
              "    retweeted_status_user_id retweeted_status_timestamp  \\\n",
              "19              4.196984e+09  2017-07-19 00:47:34 +0000   \n",
              "32              1.960740e+07  2017-07-15 02:44:07 +0000   \n",
              "36              4.196984e+09  2017-02-12 01:04:29 +0000   \n",
              "\n",
              "                                        expanded_urls  rating_numerator  \\\n",
              "19  https://twitter.com/dog_rates/status/887473957...                13   \n",
              "32  https://twitter.com/dog_rates/status/886053434...                12   \n",
              "36  https://twitter.com/dog_rates/status/830583320...                13   \n",
              "\n",
              "    rating_denominator    name doggo floofer pupper puppo  \n",
              "19                  10  Canela  None    None   None  None  \n",
              "32                  10    None  None    None   None  None  \n",
              "36                  10   Lilly  None    None   None  None  "
            ],
            "text/html": [
              "\n",
              "  <div id=\"df-ec3d510b-8e30-4b02-92c2-9ff9e12b1008\">\n",
              "    <div class=\"colab-df-container\">\n",
              "      <div>\n",
              "<style scoped>\n",
              "    .dataframe tbody tr th:only-of-type {\n",
              "        vertical-align: middle;\n",
              "    }\n",
              "\n",
              "    .dataframe tbody tr th {\n",
              "        vertical-align: top;\n",
              "    }\n",
              "\n",
              "    .dataframe thead th {\n",
              "        text-align: right;\n",
              "    }\n",
              "</style>\n",
              "<table border=\"1\" class=\"dataframe\">\n",
              "  <thead>\n",
              "    <tr style=\"text-align: right;\">\n",
              "      <th></th>\n",
              "      <th>tweet_id</th>\n",
              "      <th>in_reply_to_status_id</th>\n",
              "      <th>in_reply_to_user_id</th>\n",
              "      <th>timestamp</th>\n",
              "      <th>source</th>\n",
              "      <th>text</th>\n",
              "      <th>retweeted_status_id</th>\n",
              "      <th>retweeted_status_user_id</th>\n",
              "      <th>retweeted_status_timestamp</th>\n",
              "      <th>expanded_urls</th>\n",
              "      <th>rating_numerator</th>\n",
              "      <th>rating_denominator</th>\n",
              "      <th>name</th>\n",
              "      <th>doggo</th>\n",
              "      <th>floofer</th>\n",
              "      <th>pupper</th>\n",
              "      <th>puppo</th>\n",
              "    </tr>\n",
              "  </thead>\n",
              "  <tbody>\n",
              "    <tr>\n",
              "      <th>19</th>\n",
              "      <td>888202515573088257</td>\n",
              "      <td>NaN</td>\n",
              "      <td>NaN</td>\n",
              "      <td>2017-07-21 01:02:36 +0000</td>\n",
              "      <td>&lt;a href=\"http://twitter.com/download/iphone\" r...</td>\n",
              "      <td>RT @dog_rates: This is Canela. She attempted s...</td>\n",
              "      <td>8.874740e+17</td>\n",
              "      <td>4.196984e+09</td>\n",
              "      <td>2017-07-19 00:47:34 +0000</td>\n",
              "      <td>https://twitter.com/dog_rates/status/887473957...</td>\n",
              "      <td>13</td>\n",
              "      <td>10</td>\n",
              "      <td>Canela</td>\n",
              "      <td>None</td>\n",
              "      <td>None</td>\n",
              "      <td>None</td>\n",
              "      <td>None</td>\n",
              "    </tr>\n",
              "    <tr>\n",
              "      <th>32</th>\n",
              "      <td>886054160059072513</td>\n",
              "      <td>NaN</td>\n",
              "      <td>NaN</td>\n",
              "      <td>2017-07-15 02:45:48 +0000</td>\n",
              "      <td>&lt;a href=\"http://twitter.com/download/iphone\" r...</td>\n",
              "      <td>RT @Athletics: 12/10 #BATP https://t.co/WxwJmv...</td>\n",
              "      <td>8.860537e+17</td>\n",
              "      <td>1.960740e+07</td>\n",
              "      <td>2017-07-15 02:44:07 +0000</td>\n",
              "      <td>https://twitter.com/dog_rates/status/886053434...</td>\n",
              "      <td>12</td>\n",
              "      <td>10</td>\n",
              "      <td>None</td>\n",
              "      <td>None</td>\n",
              "      <td>None</td>\n",
              "      <td>None</td>\n",
              "      <td>None</td>\n",
              "    </tr>\n",
              "    <tr>\n",
              "      <th>36</th>\n",
              "      <td>885311592912609280</td>\n",
              "      <td>NaN</td>\n",
              "      <td>NaN</td>\n",
              "      <td>2017-07-13 01:35:06 +0000</td>\n",
              "      <td>&lt;a href=\"http://twitter.com/download/iphone\" r...</td>\n",
              "      <td>RT @dog_rates: This is Lilly. She just paralle...</td>\n",
              "      <td>8.305833e+17</td>\n",
              "      <td>4.196984e+09</td>\n",
              "      <td>2017-02-12 01:04:29 +0000</td>\n",
              "      <td>https://twitter.com/dog_rates/status/830583320...</td>\n",
              "      <td>13</td>\n",
              "      <td>10</td>\n",
              "      <td>Lilly</td>\n",
              "      <td>None</td>\n",
              "      <td>None</td>\n",
              "      <td>None</td>\n",
              "      <td>None</td>\n",
              "    </tr>\n",
              "  </tbody>\n",
              "</table>\n",
              "</div>\n",
              "      <button class=\"colab-df-convert\" onclick=\"convertToInteractive('df-ec3d510b-8e30-4b02-92c2-9ff9e12b1008')\"\n",
              "              title=\"Convert this dataframe to an interactive table.\"\n",
              "              style=\"display:none;\">\n",
              "        \n",
              "  <svg xmlns=\"http://www.w3.org/2000/svg\" height=\"24px\"viewBox=\"0 0 24 24\"\n",
              "       width=\"24px\">\n",
              "    <path d=\"M0 0h24v24H0V0z\" fill=\"none\"/>\n",
              "    <path d=\"M18.56 5.44l.94 2.06.94-2.06 2.06-.94-2.06-.94-.94-2.06-.94 2.06-2.06.94zm-11 1L8.5 8.5l.94-2.06 2.06-.94-2.06-.94L8.5 2.5l-.94 2.06-2.06.94zm10 10l.94 2.06.94-2.06 2.06-.94-2.06-.94-.94-2.06-.94 2.06-2.06.94z\"/><path d=\"M17.41 7.96l-1.37-1.37c-.4-.4-.92-.59-1.43-.59-.52 0-1.04.2-1.43.59L10.3 9.45l-7.72 7.72c-.78.78-.78 2.05 0 2.83L4 21.41c.39.39.9.59 1.41.59.51 0 1.02-.2 1.41-.59l7.78-7.78 2.81-2.81c.8-.78.8-2.07 0-2.86zM5.41 20L4 18.59l7.72-7.72 1.47 1.35L5.41 20z\"/>\n",
              "  </svg>\n",
              "      </button>\n",
              "      \n",
              "  <style>\n",
              "    .colab-df-container {\n",
              "      display:flex;\n",
              "      flex-wrap:wrap;\n",
              "      gap: 12px;\n",
              "    }\n",
              "\n",
              "    .colab-df-convert {\n",
              "      background-color: #E8F0FE;\n",
              "      border: none;\n",
              "      border-radius: 50%;\n",
              "      cursor: pointer;\n",
              "      display: none;\n",
              "      fill: #1967D2;\n",
              "      height: 32px;\n",
              "      padding: 0 0 0 0;\n",
              "      width: 32px;\n",
              "    }\n",
              "\n",
              "    .colab-df-convert:hover {\n",
              "      background-color: #E2EBFA;\n",
              "      box-shadow: 0px 1px 2px rgba(60, 64, 67, 0.3), 0px 1px 3px 1px rgba(60, 64, 67, 0.15);\n",
              "      fill: #174EA6;\n",
              "    }\n",
              "\n",
              "    [theme=dark] .colab-df-convert {\n",
              "      background-color: #3B4455;\n",
              "      fill: #D2E3FC;\n",
              "    }\n",
              "\n",
              "    [theme=dark] .colab-df-convert:hover {\n",
              "      background-color: #434B5C;\n",
              "      box-shadow: 0px 1px 3px 1px rgba(0, 0, 0, 0.15);\n",
              "      filter: drop-shadow(0px 1px 2px rgba(0, 0, 0, 0.3));\n",
              "      fill: #FFFFFF;\n",
              "    }\n",
              "  </style>\n",
              "\n",
              "      <script>\n",
              "        const buttonEl =\n",
              "          document.querySelector('#df-ec3d510b-8e30-4b02-92c2-9ff9e12b1008 button.colab-df-convert');\n",
              "        buttonEl.style.display =\n",
              "          google.colab.kernel.accessAllowed ? 'block' : 'none';\n",
              "\n",
              "        async function convertToInteractive(key) {\n",
              "          const element = document.querySelector('#df-ec3d510b-8e30-4b02-92c2-9ff9e12b1008');\n",
              "          const dataTable =\n",
              "            await google.colab.kernel.invokeFunction('convertToInteractive',\n",
              "                                                     [key], {});\n",
              "          if (!dataTable) return;\n",
              "\n",
              "          const docLinkHtml = 'Like what you see? Visit the ' +\n",
              "            '<a target=\"_blank\" href=https://colab.research.google.com/notebooks/data_table.ipynb>data table notebook</a>'\n",
              "            + ' to learn more about interactive tables.';\n",
              "          element.innerHTML = '';\n",
              "          dataTable['output_type'] = 'display_data';\n",
              "          await google.colab.output.renderOutput(dataTable, element);\n",
              "          const docLink = document.createElement('div');\n",
              "          docLink.innerHTML = docLinkHtml;\n",
              "          element.appendChild(docLink);\n",
              "        }\n",
              "      </script>\n",
              "    </div>\n",
              "  </div>\n",
              "  "
            ]
          },
          "metadata": {},
          "execution_count": 405
        }
      ]
    },
    {
      "cell_type": "markdown",
      "source": [
        "* There are retweets in the twitter_archive dataset, which require cleaning"
      ],
      "metadata": {
        "id": "iVEHmk9gmYCu"
      }
    },
    {
      "cell_type": "markdown",
      "source": [
        "#### Checking Dog Stages Columns"
      ],
      "metadata": {
        "id": "P4RiLNXIZh89"
      }
    },
    {
      "cell_type": "code",
      "source": [
        "twitter_archive_df.sample(10)"
      ],
      "metadata": {
        "colab": {
          "base_uri": "https://localhost:8080/",
          "height": 965
        },
        "id": "XAJVW_bxWykr",
        "outputId": "c57485e6-b54b-4b33-f833-526e23e90d82"
      },
      "execution_count": 406,
      "outputs": [
        {
          "output_type": "execute_result",
          "data": {
            "text/plain": [
              "                tweet_id  in_reply_to_status_id  in_reply_to_user_id  \\\n",
              "863   762471784394268675                    NaN                  NaN   \n",
              "636   793500921481273345                    NaN                  NaN   \n",
              "695   786709082849828864                    NaN                  NaN   \n",
              "2289  667174963120574464                    NaN                  NaN   \n",
              "179   857214891891077121           8.571567e+17          180670967.0   \n",
              "233   847842811428974592                    NaN                  NaN   \n",
              "281   839290600511926273                    NaN                  NaN   \n",
              "2132  670079681849372674                    NaN                  NaN   \n",
              "1147  726935089318363137                    NaN                  NaN   \n",
              "1095  736392552031657984                    NaN                  NaN   \n",
              "\n",
              "                      timestamp  \\\n",
              "863   2016-08-08 02:13:34 +0000   \n",
              "636   2016-11-01 17:12:16 +0000   \n",
              "695   2016-10-13 23:23:56 +0000   \n",
              "2289  2015-11-19 02:58:01 +0000   \n",
              "179   2017-04-26 12:48:51 +0000   \n",
              "233   2017-03-31 16:07:33 +0000   \n",
              "281   2017-03-08 01:44:07 +0000   \n",
              "2132  2015-11-27 03:20:20 +0000   \n",
              "1147  2016-05-02 00:43:25 +0000   \n",
              "1095  2016-05-28 03:04:00 +0000   \n",
              "\n",
              "                                                 source  \\\n",
              "863   <a href=\"http://twitter.com/download/iphone\" r...   \n",
              "636   <a href=\"http://twitter.com/download/iphone\" r...   \n",
              "695   <a href=\"http://twitter.com/download/iphone\" r...   \n",
              "2289  <a href=\"http://twitter.com/download/iphone\" r...   \n",
              "179   <a href=\"http://twitter.com/download/iphone\" r...   \n",
              "233   <a href=\"http://twitter.com/download/iphone\" r...   \n",
              "281   <a href=\"http://twitter.com/download/iphone\" r...   \n",
              "2132  <a href=\"http://twitter.com/download/iphone\" r...   \n",
              "1147  <a href=\"http://twitter.com/download/iphone\" r...   \n",
              "1095  <a href=\"http://vine.co\" rel=\"nofollow\">Vine -...   \n",
              "\n",
              "                                                   text  retweeted_status_id  \\\n",
              "863   Meet Glenn. Being in public scares him. Fright...                  NaN   \n",
              "636   This is Fiona. She's an extremely mediocre cop...                  NaN   \n",
              "695   This is Logan, the Chow who lived. He solemnly...                  NaN   \n",
              "2289  This is Clarence. His face says he doesn't wan...                  NaN   \n",
              "179                        @Marc_IRL pixelated af 12/10                  NaN   \n",
              "233   This is Rontu. He is described as a pal, cuddl...                  NaN   \n",
              "281   RT @alexmartindawg: THE DRINK IS DR. PUPPER 10...         8.392899e+17   \n",
              "2132  Meet Fabio. He's a wonderful pup. Can't stay a...                  NaN   \n",
              "1147  This is Sprout. He's just precious af. 12/10 I...                  NaN   \n",
              "1095  Say hello to mad pupper. You know what you did...                  NaN   \n",
              "\n",
              "      retweeted_status_user_id retweeted_status_timestamp  \\\n",
              "863                        NaN                        NaN   \n",
              "636                        NaN                        NaN   \n",
              "695                        NaN                        NaN   \n",
              "2289                       NaN                        NaN   \n",
              "179                        NaN                        NaN   \n",
              "233                        NaN                        NaN   \n",
              "281                 41198418.0  2017-03-08 01:41:24 +0000   \n",
              "2132                       NaN                        NaN   \n",
              "1147                       NaN                        NaN   \n",
              "1095                       NaN                        NaN   \n",
              "\n",
              "                                          expanded_urls  rating_numerator  \\\n",
              "863   https://twitter.com/dog_rates/status/762471784...                12   \n",
              "636   https://twitter.com/dog_rates/status/793500921...                12   \n",
              "695   https://twitter.com/dog_rates/status/786709082...                75   \n",
              "2289  https://twitter.com/dog_rates/status/667174963...                 9   \n",
              "179                                                 NaN                12   \n",
              "233   https://www.gofundme.com/help-save-rontu,https...                12   \n",
              "281   https://twitter.com/alexmartindawg/status/8392...                10   \n",
              "2132  https://twitter.com/dog_rates/status/670079681...                10   \n",
              "1147  https://twitter.com/dog_rates/status/726935089...                12   \n",
              "1095                      https://vine.co/v/iEggaEOiLO3                13   \n",
              "\n",
              "      rating_denominator      name doggo floofer  pupper puppo  \n",
              "863                   10     Glenn  None    None    None  None  \n",
              "636                   10     Fiona  None    None    None  None  \n",
              "695                   10     Logan  None    None    None  None  \n",
              "2289                  10  Clarence  None    None    None  None  \n",
              "179                   10      None  None    None    None  None  \n",
              "233                   10     Rontu  None    None    None  None  \n",
              "281                   10      None  None    None  pupper  None  \n",
              "2132                  10     Fabio  None    None    None  None  \n",
              "1147                  10    Sprout  None    None    None  None  \n",
              "1095                  10       mad  None    None  pupper  None  "
            ],
            "text/html": [
              "\n",
              "  <div id=\"df-8d2b8e5e-389c-4c10-84b6-57c433a7f571\">\n",
              "    <div class=\"colab-df-container\">\n",
              "      <div>\n",
              "<style scoped>\n",
              "    .dataframe tbody tr th:only-of-type {\n",
              "        vertical-align: middle;\n",
              "    }\n",
              "\n",
              "    .dataframe tbody tr th {\n",
              "        vertical-align: top;\n",
              "    }\n",
              "\n",
              "    .dataframe thead th {\n",
              "        text-align: right;\n",
              "    }\n",
              "</style>\n",
              "<table border=\"1\" class=\"dataframe\">\n",
              "  <thead>\n",
              "    <tr style=\"text-align: right;\">\n",
              "      <th></th>\n",
              "      <th>tweet_id</th>\n",
              "      <th>in_reply_to_status_id</th>\n",
              "      <th>in_reply_to_user_id</th>\n",
              "      <th>timestamp</th>\n",
              "      <th>source</th>\n",
              "      <th>text</th>\n",
              "      <th>retweeted_status_id</th>\n",
              "      <th>retweeted_status_user_id</th>\n",
              "      <th>retweeted_status_timestamp</th>\n",
              "      <th>expanded_urls</th>\n",
              "      <th>rating_numerator</th>\n",
              "      <th>rating_denominator</th>\n",
              "      <th>name</th>\n",
              "      <th>doggo</th>\n",
              "      <th>floofer</th>\n",
              "      <th>pupper</th>\n",
              "      <th>puppo</th>\n",
              "    </tr>\n",
              "  </thead>\n",
              "  <tbody>\n",
              "    <tr>\n",
              "      <th>863</th>\n",
              "      <td>762471784394268675</td>\n",
              "      <td>NaN</td>\n",
              "      <td>NaN</td>\n",
              "      <td>2016-08-08 02:13:34 +0000</td>\n",
              "      <td>&lt;a href=\"http://twitter.com/download/iphone\" r...</td>\n",
              "      <td>Meet Glenn. Being in public scares him. Fright...</td>\n",
              "      <td>NaN</td>\n",
              "      <td>NaN</td>\n",
              "      <td>NaN</td>\n",
              "      <td>https://twitter.com/dog_rates/status/762471784...</td>\n",
              "      <td>12</td>\n",
              "      <td>10</td>\n",
              "      <td>Glenn</td>\n",
              "      <td>None</td>\n",
              "      <td>None</td>\n",
              "      <td>None</td>\n",
              "      <td>None</td>\n",
              "    </tr>\n",
              "    <tr>\n",
              "      <th>636</th>\n",
              "      <td>793500921481273345</td>\n",
              "      <td>NaN</td>\n",
              "      <td>NaN</td>\n",
              "      <td>2016-11-01 17:12:16 +0000</td>\n",
              "      <td>&lt;a href=\"http://twitter.com/download/iphone\" r...</td>\n",
              "      <td>This is Fiona. She's an extremely mediocre cop...</td>\n",
              "      <td>NaN</td>\n",
              "      <td>NaN</td>\n",
              "      <td>NaN</td>\n",
              "      <td>https://twitter.com/dog_rates/status/793500921...</td>\n",
              "      <td>12</td>\n",
              "      <td>10</td>\n",
              "      <td>Fiona</td>\n",
              "      <td>None</td>\n",
              "      <td>None</td>\n",
              "      <td>None</td>\n",
              "      <td>None</td>\n",
              "    </tr>\n",
              "    <tr>\n",
              "      <th>695</th>\n",
              "      <td>786709082849828864</td>\n",
              "      <td>NaN</td>\n",
              "      <td>NaN</td>\n",
              "      <td>2016-10-13 23:23:56 +0000</td>\n",
              "      <td>&lt;a href=\"http://twitter.com/download/iphone\" r...</td>\n",
              "      <td>This is Logan, the Chow who lived. He solemnly...</td>\n",
              "      <td>NaN</td>\n",
              "      <td>NaN</td>\n",
              "      <td>NaN</td>\n",
              "      <td>https://twitter.com/dog_rates/status/786709082...</td>\n",
              "      <td>75</td>\n",
              "      <td>10</td>\n",
              "      <td>Logan</td>\n",
              "      <td>None</td>\n",
              "      <td>None</td>\n",
              "      <td>None</td>\n",
              "      <td>None</td>\n",
              "    </tr>\n",
              "    <tr>\n",
              "      <th>2289</th>\n",
              "      <td>667174963120574464</td>\n",
              "      <td>NaN</td>\n",
              "      <td>NaN</td>\n",
              "      <td>2015-11-19 02:58:01 +0000</td>\n",
              "      <td>&lt;a href=\"http://twitter.com/download/iphone\" r...</td>\n",
              "      <td>This is Clarence. His face says he doesn't wan...</td>\n",
              "      <td>NaN</td>\n",
              "      <td>NaN</td>\n",
              "      <td>NaN</td>\n",
              "      <td>https://twitter.com/dog_rates/status/667174963...</td>\n",
              "      <td>9</td>\n",
              "      <td>10</td>\n",
              "      <td>Clarence</td>\n",
              "      <td>None</td>\n",
              "      <td>None</td>\n",
              "      <td>None</td>\n",
              "      <td>None</td>\n",
              "    </tr>\n",
              "    <tr>\n",
              "      <th>179</th>\n",
              "      <td>857214891891077121</td>\n",
              "      <td>8.571567e+17</td>\n",
              "      <td>180670967.0</td>\n",
              "      <td>2017-04-26 12:48:51 +0000</td>\n",
              "      <td>&lt;a href=\"http://twitter.com/download/iphone\" r...</td>\n",
              "      <td>@Marc_IRL pixelated af 12/10</td>\n",
              "      <td>NaN</td>\n",
              "      <td>NaN</td>\n",
              "      <td>NaN</td>\n",
              "      <td>NaN</td>\n",
              "      <td>12</td>\n",
              "      <td>10</td>\n",
              "      <td>None</td>\n",
              "      <td>None</td>\n",
              "      <td>None</td>\n",
              "      <td>None</td>\n",
              "      <td>None</td>\n",
              "    </tr>\n",
              "    <tr>\n",
              "      <th>233</th>\n",
              "      <td>847842811428974592</td>\n",
              "      <td>NaN</td>\n",
              "      <td>NaN</td>\n",
              "      <td>2017-03-31 16:07:33 +0000</td>\n",
              "      <td>&lt;a href=\"http://twitter.com/download/iphone\" r...</td>\n",
              "      <td>This is Rontu. He is described as a pal, cuddl...</td>\n",
              "      <td>NaN</td>\n",
              "      <td>NaN</td>\n",
              "      <td>NaN</td>\n",
              "      <td>https://www.gofundme.com/help-save-rontu,https...</td>\n",
              "      <td>12</td>\n",
              "      <td>10</td>\n",
              "      <td>Rontu</td>\n",
              "      <td>None</td>\n",
              "      <td>None</td>\n",
              "      <td>None</td>\n",
              "      <td>None</td>\n",
              "    </tr>\n",
              "    <tr>\n",
              "      <th>281</th>\n",
              "      <td>839290600511926273</td>\n",
              "      <td>NaN</td>\n",
              "      <td>NaN</td>\n",
              "      <td>2017-03-08 01:44:07 +0000</td>\n",
              "      <td>&lt;a href=\"http://twitter.com/download/iphone\" r...</td>\n",
              "      <td>RT @alexmartindawg: THE DRINK IS DR. PUPPER 10...</td>\n",
              "      <td>8.392899e+17</td>\n",
              "      <td>41198418.0</td>\n",
              "      <td>2017-03-08 01:41:24 +0000</td>\n",
              "      <td>https://twitter.com/alexmartindawg/status/8392...</td>\n",
              "      <td>10</td>\n",
              "      <td>10</td>\n",
              "      <td>None</td>\n",
              "      <td>None</td>\n",
              "      <td>None</td>\n",
              "      <td>pupper</td>\n",
              "      <td>None</td>\n",
              "    </tr>\n",
              "    <tr>\n",
              "      <th>2132</th>\n",
              "      <td>670079681849372674</td>\n",
              "      <td>NaN</td>\n",
              "      <td>NaN</td>\n",
              "      <td>2015-11-27 03:20:20 +0000</td>\n",
              "      <td>&lt;a href=\"http://twitter.com/download/iphone\" r...</td>\n",
              "      <td>Meet Fabio. He's a wonderful pup. Can't stay a...</td>\n",
              "      <td>NaN</td>\n",
              "      <td>NaN</td>\n",
              "      <td>NaN</td>\n",
              "      <td>https://twitter.com/dog_rates/status/670079681...</td>\n",
              "      <td>10</td>\n",
              "      <td>10</td>\n",
              "      <td>Fabio</td>\n",
              "      <td>None</td>\n",
              "      <td>None</td>\n",
              "      <td>None</td>\n",
              "      <td>None</td>\n",
              "    </tr>\n",
              "    <tr>\n",
              "      <th>1147</th>\n",
              "      <td>726935089318363137</td>\n",
              "      <td>NaN</td>\n",
              "      <td>NaN</td>\n",
              "      <td>2016-05-02 00:43:25 +0000</td>\n",
              "      <td>&lt;a href=\"http://twitter.com/download/iphone\" r...</td>\n",
              "      <td>This is Sprout. He's just precious af. 12/10 I...</td>\n",
              "      <td>NaN</td>\n",
              "      <td>NaN</td>\n",
              "      <td>NaN</td>\n",
              "      <td>https://twitter.com/dog_rates/status/726935089...</td>\n",
              "      <td>12</td>\n",
              "      <td>10</td>\n",
              "      <td>Sprout</td>\n",
              "      <td>None</td>\n",
              "      <td>None</td>\n",
              "      <td>None</td>\n",
              "      <td>None</td>\n",
              "    </tr>\n",
              "    <tr>\n",
              "      <th>1095</th>\n",
              "      <td>736392552031657984</td>\n",
              "      <td>NaN</td>\n",
              "      <td>NaN</td>\n",
              "      <td>2016-05-28 03:04:00 +0000</td>\n",
              "      <td>&lt;a href=\"http://vine.co\" rel=\"nofollow\"&gt;Vine -...</td>\n",
              "      <td>Say hello to mad pupper. You know what you did...</td>\n",
              "      <td>NaN</td>\n",
              "      <td>NaN</td>\n",
              "      <td>NaN</td>\n",
              "      <td>https://vine.co/v/iEggaEOiLO3</td>\n",
              "      <td>13</td>\n",
              "      <td>10</td>\n",
              "      <td>mad</td>\n",
              "      <td>None</td>\n",
              "      <td>None</td>\n",
              "      <td>pupper</td>\n",
              "      <td>None</td>\n",
              "    </tr>\n",
              "  </tbody>\n",
              "</table>\n",
              "</div>\n",
              "      <button class=\"colab-df-convert\" onclick=\"convertToInteractive('df-8d2b8e5e-389c-4c10-84b6-57c433a7f571')\"\n",
              "              title=\"Convert this dataframe to an interactive table.\"\n",
              "              style=\"display:none;\">\n",
              "        \n",
              "  <svg xmlns=\"http://www.w3.org/2000/svg\" height=\"24px\"viewBox=\"0 0 24 24\"\n",
              "       width=\"24px\">\n",
              "    <path d=\"M0 0h24v24H0V0z\" fill=\"none\"/>\n",
              "    <path d=\"M18.56 5.44l.94 2.06.94-2.06 2.06-.94-2.06-.94-.94-2.06-.94 2.06-2.06.94zm-11 1L8.5 8.5l.94-2.06 2.06-.94-2.06-.94L8.5 2.5l-.94 2.06-2.06.94zm10 10l.94 2.06.94-2.06 2.06-.94-2.06-.94-.94-2.06-.94 2.06-2.06.94z\"/><path d=\"M17.41 7.96l-1.37-1.37c-.4-.4-.92-.59-1.43-.59-.52 0-1.04.2-1.43.59L10.3 9.45l-7.72 7.72c-.78.78-.78 2.05 0 2.83L4 21.41c.39.39.9.59 1.41.59.51 0 1.02-.2 1.41-.59l7.78-7.78 2.81-2.81c.8-.78.8-2.07 0-2.86zM5.41 20L4 18.59l7.72-7.72 1.47 1.35L5.41 20z\"/>\n",
              "  </svg>\n",
              "      </button>\n",
              "      \n",
              "  <style>\n",
              "    .colab-df-container {\n",
              "      display:flex;\n",
              "      flex-wrap:wrap;\n",
              "      gap: 12px;\n",
              "    }\n",
              "\n",
              "    .colab-df-convert {\n",
              "      background-color: #E8F0FE;\n",
              "      border: none;\n",
              "      border-radius: 50%;\n",
              "      cursor: pointer;\n",
              "      display: none;\n",
              "      fill: #1967D2;\n",
              "      height: 32px;\n",
              "      padding: 0 0 0 0;\n",
              "      width: 32px;\n",
              "    }\n",
              "\n",
              "    .colab-df-convert:hover {\n",
              "      background-color: #E2EBFA;\n",
              "      box-shadow: 0px 1px 2px rgba(60, 64, 67, 0.3), 0px 1px 3px 1px rgba(60, 64, 67, 0.15);\n",
              "      fill: #174EA6;\n",
              "    }\n",
              "\n",
              "    [theme=dark] .colab-df-convert {\n",
              "      background-color: #3B4455;\n",
              "      fill: #D2E3FC;\n",
              "    }\n",
              "\n",
              "    [theme=dark] .colab-df-convert:hover {\n",
              "      background-color: #434B5C;\n",
              "      box-shadow: 0px 1px 3px 1px rgba(0, 0, 0, 0.15);\n",
              "      filter: drop-shadow(0px 1px 2px rgba(0, 0, 0, 0.3));\n",
              "      fill: #FFFFFF;\n",
              "    }\n",
              "  </style>\n",
              "\n",
              "      <script>\n",
              "        const buttonEl =\n",
              "          document.querySelector('#df-8d2b8e5e-389c-4c10-84b6-57c433a7f571 button.colab-df-convert');\n",
              "        buttonEl.style.display =\n",
              "          google.colab.kernel.accessAllowed ? 'block' : 'none';\n",
              "\n",
              "        async function convertToInteractive(key) {\n",
              "          const element = document.querySelector('#df-8d2b8e5e-389c-4c10-84b6-57c433a7f571');\n",
              "          const dataTable =\n",
              "            await google.colab.kernel.invokeFunction('convertToInteractive',\n",
              "                                                     [key], {});\n",
              "          if (!dataTable) return;\n",
              "\n",
              "          const docLinkHtml = 'Like what you see? Visit the ' +\n",
              "            '<a target=\"_blank\" href=https://colab.research.google.com/notebooks/data_table.ipynb>data table notebook</a>'\n",
              "            + ' to learn more about interactive tables.';\n",
              "          element.innerHTML = '';\n",
              "          dataTable['output_type'] = 'display_data';\n",
              "          await google.colab.output.renderOutput(dataTable, element);\n",
              "          const docLink = document.createElement('div');\n",
              "          docLink.innerHTML = docLinkHtml;\n",
              "          element.appendChild(docLink);\n",
              "        }\n",
              "      </script>\n",
              "    </div>\n",
              "  </div>\n",
              "  "
            ]
          },
          "metadata": {},
          "execution_count": 406
        }
      ]
    },
    {
      "cell_type": "code",
      "source": [
        "# Pupper Stage\n",
        "pupper_df = twitter_archive_df[twitter_archive_df['pupper'] == 'pupper']\n",
        "pupper_df.shape"
      ],
      "metadata": {
        "colab": {
          "base_uri": "https://localhost:8080/"
        },
        "id": "VU63ixX_Y3ps",
        "outputId": "3fd07035-0bf6-402c-8aa5-83ecf61fdc01"
      },
      "execution_count": 407,
      "outputs": [
        {
          "output_type": "execute_result",
          "data": {
            "text/plain": [
              "(257, 17)"
            ]
          },
          "metadata": {},
          "execution_count": 407
        }
      ]
    },
    {
      "cell_type": "code",
      "source": [
        "# Puppo Stage\n",
        "puppo_df = twitter_archive_df[twitter_archive_df['puppo'] == 'puppo']\n",
        "puppo_df.shape"
      ],
      "metadata": {
        "colab": {
          "base_uri": "https://localhost:8080/"
        },
        "id": "NqVfPhQTZfKd",
        "outputId": "91d392dc-b135-4b3d-f737-42909365b0fb"
      },
      "execution_count": 408,
      "outputs": [
        {
          "output_type": "execute_result",
          "data": {
            "text/plain": [
              "(30, 17)"
            ]
          },
          "metadata": {},
          "execution_count": 408
        }
      ]
    },
    {
      "cell_type": "code",
      "source": [
        "# Doggo Stage\n",
        "doggo_df = twitter_archive_df[twitter_archive_df['doggo'] == 'doggo']\n",
        "doggo_df.shape"
      ],
      "metadata": {
        "colab": {
          "base_uri": "https://localhost:8080/"
        },
        "id": "OHEDPkNOaPvT",
        "outputId": "ae806005-150a-463c-863c-0817868c45f5"
      },
      "execution_count": 409,
      "outputs": [
        {
          "output_type": "execute_result",
          "data": {
            "text/plain": [
              "(97, 17)"
            ]
          },
          "metadata": {},
          "execution_count": 409
        }
      ]
    },
    {
      "cell_type": "code",
      "source": [
        "# Pupper Stage\n",
        "floofer_df = twitter_archive_df[twitter_archive_df['floofer'] == 'floofer']\n",
        "floofer_df.shape"
      ],
      "metadata": {
        "colab": {
          "base_uri": "https://localhost:8080/"
        },
        "id": "TGqVbRb3aQyj",
        "outputId": "05b89bd0-8db5-48c3-deb0-146ae7a826f3"
      },
      "execution_count": 410,
      "outputs": [
        {
          "output_type": "execute_result",
          "data": {
            "text/plain": [
              "(10, 17)"
            ]
          },
          "metadata": {},
          "execution_count": 410
        }
      ]
    },
    {
      "cell_type": "markdown",
      "source": [
        "* The dog stages are pivoted into different columns, which requires cleaning (unpivoting)"
      ],
      "metadata": {
        "id": "FnsI9H6LnOW_"
      }
    },
    {
      "cell_type": "markdown",
      "source": [
        "####2.  Reading image_predictions.tsv Dataset (File Downloaded Programmatically)"
      ],
      "metadata": {
        "id": "HyS4ySj9ovNc"
      }
    },
    {
      "cell_type": "code",
      "source": [
        "# Reading dataset: image_predictions.tsv\n",
        "image_pred_df = pd.read_csv(working_dir + 'image_predictions_folder/image_predictions.tsv', sep='\\t', header=0)"
      ],
      "metadata": {
        "id": "bc7nbRdipff4"
      },
      "execution_count": 411,
      "outputs": []
    },
    {
      "cell_type": "code",
      "source": [
        "# Checking columns in dataframe\n",
        "image_pred_df.columns"
      ],
      "metadata": {
        "colab": {
          "base_uri": "https://localhost:8080/"
        },
        "id": "v1M9e35jrmMr",
        "outputId": "51e30807-6ce1-4c47-9e0f-29cfe52d8fb3"
      },
      "execution_count": 412,
      "outputs": [
        {
          "output_type": "execute_result",
          "data": {
            "text/plain": [
              "Index(['tweet_id', 'jpg_url', 'img_num', 'p1', 'p1_conf', 'p1_dog', 'p2',\n",
              "       'p2_conf', 'p2_dog', 'p3', 'p3_conf', 'p3_dog'],\n",
              "      dtype='object')"
            ]
          },
          "metadata": {},
          "execution_count": 412
        }
      ]
    },
    {
      "cell_type": "code",
      "source": [
        "# Shape of Dataframe\n",
        "image_pred_df.shape"
      ],
      "metadata": {
        "colab": {
          "base_uri": "https://localhost:8080/"
        },
        "id": "0qVuwma2so0N",
        "outputId": "2c2ae064-11d0-4df7-9c18-0a449df53f0f"
      },
      "execution_count": 413,
      "outputs": [
        {
          "output_type": "execute_result",
          "data": {
            "text/plain": [
              "(2075, 12)"
            ]
          },
          "metadata": {},
          "execution_count": 413
        }
      ]
    },
    {
      "cell_type": "code",
      "source": [
        "# Checking info\n",
        "image_pred_df.info()"
      ],
      "metadata": {
        "colab": {
          "base_uri": "https://localhost:8080/"
        },
        "id": "40y2HVF_8Xjj",
        "outputId": "12be4275-eaaf-459e-c4fb-5639e5ff66b3"
      },
      "execution_count": 414,
      "outputs": [
        {
          "output_type": "stream",
          "name": "stdout",
          "text": [
            "<class 'pandas.core.frame.DataFrame'>\n",
            "RangeIndex: 2075 entries, 0 to 2074\n",
            "Data columns (total 12 columns):\n",
            " #   Column    Non-Null Count  Dtype  \n",
            "---  ------    --------------  -----  \n",
            " 0   tweet_id  2075 non-null   int64  \n",
            " 1   jpg_url   2075 non-null   object \n",
            " 2   img_num   2075 non-null   int64  \n",
            " 3   p1        2075 non-null   object \n",
            " 4   p1_conf   2075 non-null   float64\n",
            " 5   p1_dog    2075 non-null   bool   \n",
            " 6   p2        2075 non-null   object \n",
            " 7   p2_conf   2075 non-null   float64\n",
            " 8   p2_dog    2075 non-null   bool   \n",
            " 9   p3        2075 non-null   object \n",
            " 10  p3_conf   2075 non-null   float64\n",
            " 11  p3_dog    2075 non-null   bool   \n",
            "dtypes: bool(3), float64(3), int64(2), object(4)\n",
            "memory usage: 152.1+ KB\n"
          ]
        }
      ]
    },
    {
      "cell_type": "code",
      "source": [
        "# Checking datatypes of columns\n",
        "image_pred_df.dtypes"
      ],
      "metadata": {
        "colab": {
          "base_uri": "https://localhost:8080/"
        },
        "id": "1DtL9LJ4IkF-",
        "outputId": "ee08605e-0830-4086-c0f7-ad858a4119a4"
      },
      "execution_count": 415,
      "outputs": [
        {
          "output_type": "execute_result",
          "data": {
            "text/plain": [
              "tweet_id      int64\n",
              "jpg_url      object\n",
              "img_num       int64\n",
              "p1           object\n",
              "p1_conf     float64\n",
              "p1_dog         bool\n",
              "p2           object\n",
              "p2_conf     float64\n",
              "p2_dog         bool\n",
              "p3           object\n",
              "p3_conf     float64\n",
              "p3_dog         bool\n",
              "dtype: object"
            ]
          },
          "metadata": {},
          "execution_count": 415
        }
      ]
    },
    {
      "cell_type": "code",
      "source": [
        "# Checking first 5 rows\n",
        "image_pred_df.head()"
      ],
      "metadata": {
        "colab": {
          "base_uri": "https://localhost:8080/",
          "height": 0
        },
        "id": "YIUVehYEAUMG",
        "outputId": "cee01b33-a460-46c2-91e1-92ed1f7eff53"
      },
      "execution_count": 416,
      "outputs": [
        {
          "output_type": "execute_result",
          "data": {
            "text/plain": [
              "             tweet_id                                          jpg_url  \\\n",
              "0  666020888022790149  https://pbs.twimg.com/media/CT4udn0WwAA0aMy.jpg   \n",
              "1  666029285002620928  https://pbs.twimg.com/media/CT42GRgUYAA5iDo.jpg   \n",
              "2  666033412701032449  https://pbs.twimg.com/media/CT4521TWwAEvMyu.jpg   \n",
              "3  666044226329800704  https://pbs.twimg.com/media/CT5Dr8HUEAA-lEu.jpg   \n",
              "4  666049248165822465  https://pbs.twimg.com/media/CT5IQmsXIAAKY4A.jpg   \n",
              "\n",
              "   img_num                      p1   p1_conf  p1_dog                  p2  \\\n",
              "0        1  Welsh_springer_spaniel  0.465074    True              collie   \n",
              "1        1                 redbone  0.506826    True  miniature_pinscher   \n",
              "2        1         German_shepherd  0.596461    True            malinois   \n",
              "3        1     Rhodesian_ridgeback  0.408143    True             redbone   \n",
              "4        1      miniature_pinscher  0.560311    True          Rottweiler   \n",
              "\n",
              "    p2_conf  p2_dog                   p3   p3_conf  p3_dog  \n",
              "0  0.156665    True    Shetland_sheepdog  0.061428    True  \n",
              "1  0.074192    True  Rhodesian_ridgeback  0.072010    True  \n",
              "2  0.138584    True           bloodhound  0.116197    True  \n",
              "3  0.360687    True   miniature_pinscher  0.222752    True  \n",
              "4  0.243682    True             Doberman  0.154629    True  "
            ],
            "text/html": [
              "\n",
              "  <div id=\"df-4cf1a504-954f-4916-9052-6572d9096de8\">\n",
              "    <div class=\"colab-df-container\">\n",
              "      <div>\n",
              "<style scoped>\n",
              "    .dataframe tbody tr th:only-of-type {\n",
              "        vertical-align: middle;\n",
              "    }\n",
              "\n",
              "    .dataframe tbody tr th {\n",
              "        vertical-align: top;\n",
              "    }\n",
              "\n",
              "    .dataframe thead th {\n",
              "        text-align: right;\n",
              "    }\n",
              "</style>\n",
              "<table border=\"1\" class=\"dataframe\">\n",
              "  <thead>\n",
              "    <tr style=\"text-align: right;\">\n",
              "      <th></th>\n",
              "      <th>tweet_id</th>\n",
              "      <th>jpg_url</th>\n",
              "      <th>img_num</th>\n",
              "      <th>p1</th>\n",
              "      <th>p1_conf</th>\n",
              "      <th>p1_dog</th>\n",
              "      <th>p2</th>\n",
              "      <th>p2_conf</th>\n",
              "      <th>p2_dog</th>\n",
              "      <th>p3</th>\n",
              "      <th>p3_conf</th>\n",
              "      <th>p3_dog</th>\n",
              "    </tr>\n",
              "  </thead>\n",
              "  <tbody>\n",
              "    <tr>\n",
              "      <th>0</th>\n",
              "      <td>666020888022790149</td>\n",
              "      <td>https://pbs.twimg.com/media/CT4udn0WwAA0aMy.jpg</td>\n",
              "      <td>1</td>\n",
              "      <td>Welsh_springer_spaniel</td>\n",
              "      <td>0.465074</td>\n",
              "      <td>True</td>\n",
              "      <td>collie</td>\n",
              "      <td>0.156665</td>\n",
              "      <td>True</td>\n",
              "      <td>Shetland_sheepdog</td>\n",
              "      <td>0.061428</td>\n",
              "      <td>True</td>\n",
              "    </tr>\n",
              "    <tr>\n",
              "      <th>1</th>\n",
              "      <td>666029285002620928</td>\n",
              "      <td>https://pbs.twimg.com/media/CT42GRgUYAA5iDo.jpg</td>\n",
              "      <td>1</td>\n",
              "      <td>redbone</td>\n",
              "      <td>0.506826</td>\n",
              "      <td>True</td>\n",
              "      <td>miniature_pinscher</td>\n",
              "      <td>0.074192</td>\n",
              "      <td>True</td>\n",
              "      <td>Rhodesian_ridgeback</td>\n",
              "      <td>0.072010</td>\n",
              "      <td>True</td>\n",
              "    </tr>\n",
              "    <tr>\n",
              "      <th>2</th>\n",
              "      <td>666033412701032449</td>\n",
              "      <td>https://pbs.twimg.com/media/CT4521TWwAEvMyu.jpg</td>\n",
              "      <td>1</td>\n",
              "      <td>German_shepherd</td>\n",
              "      <td>0.596461</td>\n",
              "      <td>True</td>\n",
              "      <td>malinois</td>\n",
              "      <td>0.138584</td>\n",
              "      <td>True</td>\n",
              "      <td>bloodhound</td>\n",
              "      <td>0.116197</td>\n",
              "      <td>True</td>\n",
              "    </tr>\n",
              "    <tr>\n",
              "      <th>3</th>\n",
              "      <td>666044226329800704</td>\n",
              "      <td>https://pbs.twimg.com/media/CT5Dr8HUEAA-lEu.jpg</td>\n",
              "      <td>1</td>\n",
              "      <td>Rhodesian_ridgeback</td>\n",
              "      <td>0.408143</td>\n",
              "      <td>True</td>\n",
              "      <td>redbone</td>\n",
              "      <td>0.360687</td>\n",
              "      <td>True</td>\n",
              "      <td>miniature_pinscher</td>\n",
              "      <td>0.222752</td>\n",
              "      <td>True</td>\n",
              "    </tr>\n",
              "    <tr>\n",
              "      <th>4</th>\n",
              "      <td>666049248165822465</td>\n",
              "      <td>https://pbs.twimg.com/media/CT5IQmsXIAAKY4A.jpg</td>\n",
              "      <td>1</td>\n",
              "      <td>miniature_pinscher</td>\n",
              "      <td>0.560311</td>\n",
              "      <td>True</td>\n",
              "      <td>Rottweiler</td>\n",
              "      <td>0.243682</td>\n",
              "      <td>True</td>\n",
              "      <td>Doberman</td>\n",
              "      <td>0.154629</td>\n",
              "      <td>True</td>\n",
              "    </tr>\n",
              "  </tbody>\n",
              "</table>\n",
              "</div>\n",
              "      <button class=\"colab-df-convert\" onclick=\"convertToInteractive('df-4cf1a504-954f-4916-9052-6572d9096de8')\"\n",
              "              title=\"Convert this dataframe to an interactive table.\"\n",
              "              style=\"display:none;\">\n",
              "        \n",
              "  <svg xmlns=\"http://www.w3.org/2000/svg\" height=\"24px\"viewBox=\"0 0 24 24\"\n",
              "       width=\"24px\">\n",
              "    <path d=\"M0 0h24v24H0V0z\" fill=\"none\"/>\n",
              "    <path d=\"M18.56 5.44l.94 2.06.94-2.06 2.06-.94-2.06-.94-.94-2.06-.94 2.06-2.06.94zm-11 1L8.5 8.5l.94-2.06 2.06-.94-2.06-.94L8.5 2.5l-.94 2.06-2.06.94zm10 10l.94 2.06.94-2.06 2.06-.94-2.06-.94-.94-2.06-.94 2.06-2.06.94z\"/><path d=\"M17.41 7.96l-1.37-1.37c-.4-.4-.92-.59-1.43-.59-.52 0-1.04.2-1.43.59L10.3 9.45l-7.72 7.72c-.78.78-.78 2.05 0 2.83L4 21.41c.39.39.9.59 1.41.59.51 0 1.02-.2 1.41-.59l7.78-7.78 2.81-2.81c.8-.78.8-2.07 0-2.86zM5.41 20L4 18.59l7.72-7.72 1.47 1.35L5.41 20z\"/>\n",
              "  </svg>\n",
              "      </button>\n",
              "      \n",
              "  <style>\n",
              "    .colab-df-container {\n",
              "      display:flex;\n",
              "      flex-wrap:wrap;\n",
              "      gap: 12px;\n",
              "    }\n",
              "\n",
              "    .colab-df-convert {\n",
              "      background-color: #E8F0FE;\n",
              "      border: none;\n",
              "      border-radius: 50%;\n",
              "      cursor: pointer;\n",
              "      display: none;\n",
              "      fill: #1967D2;\n",
              "      height: 32px;\n",
              "      padding: 0 0 0 0;\n",
              "      width: 32px;\n",
              "    }\n",
              "\n",
              "    .colab-df-convert:hover {\n",
              "      background-color: #E2EBFA;\n",
              "      box-shadow: 0px 1px 2px rgba(60, 64, 67, 0.3), 0px 1px 3px 1px rgba(60, 64, 67, 0.15);\n",
              "      fill: #174EA6;\n",
              "    }\n",
              "\n",
              "    [theme=dark] .colab-df-convert {\n",
              "      background-color: #3B4455;\n",
              "      fill: #D2E3FC;\n",
              "    }\n",
              "\n",
              "    [theme=dark] .colab-df-convert:hover {\n",
              "      background-color: #434B5C;\n",
              "      box-shadow: 0px 1px 3px 1px rgba(0, 0, 0, 0.15);\n",
              "      filter: drop-shadow(0px 1px 2px rgba(0, 0, 0, 0.3));\n",
              "      fill: #FFFFFF;\n",
              "    }\n",
              "  </style>\n",
              "\n",
              "      <script>\n",
              "        const buttonEl =\n",
              "          document.querySelector('#df-4cf1a504-954f-4916-9052-6572d9096de8 button.colab-df-convert');\n",
              "        buttonEl.style.display =\n",
              "          google.colab.kernel.accessAllowed ? 'block' : 'none';\n",
              "\n",
              "        async function convertToInteractive(key) {\n",
              "          const element = document.querySelector('#df-4cf1a504-954f-4916-9052-6572d9096de8');\n",
              "          const dataTable =\n",
              "            await google.colab.kernel.invokeFunction('convertToInteractive',\n",
              "                                                     [key], {});\n",
              "          if (!dataTable) return;\n",
              "\n",
              "          const docLinkHtml = 'Like what you see? Visit the ' +\n",
              "            '<a target=\"_blank\" href=https://colab.research.google.com/notebooks/data_table.ipynb>data table notebook</a>'\n",
              "            + ' to learn more about interactive tables.';\n",
              "          element.innerHTML = '';\n",
              "          dataTable['output_type'] = 'display_data';\n",
              "          await google.colab.output.renderOutput(dataTable, element);\n",
              "          const docLink = document.createElement('div');\n",
              "          docLink.innerHTML = docLinkHtml;\n",
              "          element.appendChild(docLink);\n",
              "        }\n",
              "      </script>\n",
              "    </div>\n",
              "  </div>\n",
              "  "
            ]
          },
          "metadata": {},
          "execution_count": 416
        }
      ]
    },
    {
      "cell_type": "code",
      "source": [
        "# Checking sampled rows\n",
        "image_pred_df.sample(10)"
      ],
      "metadata": {
        "colab": {
          "base_uri": "https://localhost:8080/",
          "height": 0
        },
        "id": "52LWqoyHpvXm",
        "outputId": "96434132-83ec-438d-d911-438aef38db47"
      },
      "execution_count": 417,
      "outputs": [
        {
          "output_type": "execute_result",
          "data": {
            "text/plain": [
              "                tweet_id                                            jpg_url  \\\n",
              "1478  780601303617732608    https://pbs.twimg.com/media/CtVAvX-WIAAcGTf.jpg   \n",
              "1737  821886076407029760    https://pbs.twimg.com/media/C2ftAxnWIAEUdAR.jpg   \n",
              "342   672256522047614977    https://pbs.twimg.com/media/CVRVvRMWEAIBKOP.jpg   \n",
              "1610  801167903437357056    https://pbs.twimg.com/media/Cx5R8wPVEAALa9r.jpg   \n",
              "400   673688752737402881    https://pbs.twimg.com/media/CVlsVs3WIAAja6m.jpg   \n",
              "1297  752309394570878976  https://pbs.twimg.com/ext_tw_video_thumb/67535...   \n",
              "357   672609152938721280    https://pbs.twimg.com/media/CVWWdKLWEAEnSk7.jpg   \n",
              "1575  796031486298386433    https://pbs.twimg.com/media/CwwSaWJWIAASuoY.jpg   \n",
              "932   703268521220972544    https://pbs.twimg.com/media/CcKC-5LW4AAK-nb.jpg   \n",
              "888   699079609774645248    https://pbs.twimg.com/media/CbOhMUDXIAACIWR.jpg   \n",
              "\n",
              "      img_num                           p1   p1_conf  p1_dog  \\\n",
              "1478        1                Saint_Bernard  0.995143    True   \n",
              "1737        1             golden_retriever  0.266238    True   \n",
              "342         1                      ostrich  0.999004   False   \n",
              "1610        1               cocker_spaniel  0.740220    True   \n",
              "400         1  soft-coated_wheaten_terrier  0.340806    True   \n",
              "1297        1                      upright  0.303415   False   \n",
              "357         1                    microwave  0.981946   False   \n",
              "1575        1             golden_retriever  0.893775    True   \n",
              "932         1                         wool  0.525434   False   \n",
              "888         3                   schipperke  0.667324    True   \n",
              "\n",
              "                            p2   p2_conf  p2_dog                p3   p3_conf  \\\n",
              "1478                  Cardigan  0.003044    True  English_springer  0.001050   \n",
              "1737            cocker_spaniel  0.223325    True      Irish_setter  0.151631   \n",
              "342              Arabian_camel  0.000512   False             llama  0.000147   \n",
              "1610            Dandie_Dinmont  0.061604    True    English_setter  0.041331   \n",
              "400           Sealyham_terrier  0.234898    True            kuvasz  0.203495   \n",
              "1297          golden_retriever  0.181351    True  Brittany_spaniel  0.162084   \n",
              "357                 rotisserie  0.007472   False        television  0.005881   \n",
              "1575        Labrador_retriever  0.070140    True           doormat  0.008419   \n",
              "932                   fur_coat  0.236391   False            kuvasz  0.038243   \n",
              "888   Chesapeake_Bay_retriever  0.119550    True            kelpie  0.097600   \n",
              "\n",
              "      p3_dog  \n",
              "1478    True  \n",
              "1737    True  \n",
              "342    False  \n",
              "1610    True  \n",
              "400     True  \n",
              "1297    True  \n",
              "357    False  \n",
              "1575   False  \n",
              "932     True  \n",
              "888     True  "
            ],
            "text/html": [
              "\n",
              "  <div id=\"df-65fe9770-0ad7-43c1-8f02-bde8fe53938a\">\n",
              "    <div class=\"colab-df-container\">\n",
              "      <div>\n",
              "<style scoped>\n",
              "    .dataframe tbody tr th:only-of-type {\n",
              "        vertical-align: middle;\n",
              "    }\n",
              "\n",
              "    .dataframe tbody tr th {\n",
              "        vertical-align: top;\n",
              "    }\n",
              "\n",
              "    .dataframe thead th {\n",
              "        text-align: right;\n",
              "    }\n",
              "</style>\n",
              "<table border=\"1\" class=\"dataframe\">\n",
              "  <thead>\n",
              "    <tr style=\"text-align: right;\">\n",
              "      <th></th>\n",
              "      <th>tweet_id</th>\n",
              "      <th>jpg_url</th>\n",
              "      <th>img_num</th>\n",
              "      <th>p1</th>\n",
              "      <th>p1_conf</th>\n",
              "      <th>p1_dog</th>\n",
              "      <th>p2</th>\n",
              "      <th>p2_conf</th>\n",
              "      <th>p2_dog</th>\n",
              "      <th>p3</th>\n",
              "      <th>p3_conf</th>\n",
              "      <th>p3_dog</th>\n",
              "    </tr>\n",
              "  </thead>\n",
              "  <tbody>\n",
              "    <tr>\n",
              "      <th>1478</th>\n",
              "      <td>780601303617732608</td>\n",
              "      <td>https://pbs.twimg.com/media/CtVAvX-WIAAcGTf.jpg</td>\n",
              "      <td>1</td>\n",
              "      <td>Saint_Bernard</td>\n",
              "      <td>0.995143</td>\n",
              "      <td>True</td>\n",
              "      <td>Cardigan</td>\n",
              "      <td>0.003044</td>\n",
              "      <td>True</td>\n",
              "      <td>English_springer</td>\n",
              "      <td>0.001050</td>\n",
              "      <td>True</td>\n",
              "    </tr>\n",
              "    <tr>\n",
              "      <th>1737</th>\n",
              "      <td>821886076407029760</td>\n",
              "      <td>https://pbs.twimg.com/media/C2ftAxnWIAEUdAR.jpg</td>\n",
              "      <td>1</td>\n",
              "      <td>golden_retriever</td>\n",
              "      <td>0.266238</td>\n",
              "      <td>True</td>\n",
              "      <td>cocker_spaniel</td>\n",
              "      <td>0.223325</td>\n",
              "      <td>True</td>\n",
              "      <td>Irish_setter</td>\n",
              "      <td>0.151631</td>\n",
              "      <td>True</td>\n",
              "    </tr>\n",
              "    <tr>\n",
              "      <th>342</th>\n",
              "      <td>672256522047614977</td>\n",
              "      <td>https://pbs.twimg.com/media/CVRVvRMWEAIBKOP.jpg</td>\n",
              "      <td>1</td>\n",
              "      <td>ostrich</td>\n",
              "      <td>0.999004</td>\n",
              "      <td>False</td>\n",
              "      <td>Arabian_camel</td>\n",
              "      <td>0.000512</td>\n",
              "      <td>False</td>\n",
              "      <td>llama</td>\n",
              "      <td>0.000147</td>\n",
              "      <td>False</td>\n",
              "    </tr>\n",
              "    <tr>\n",
              "      <th>1610</th>\n",
              "      <td>801167903437357056</td>\n",
              "      <td>https://pbs.twimg.com/media/Cx5R8wPVEAALa9r.jpg</td>\n",
              "      <td>1</td>\n",
              "      <td>cocker_spaniel</td>\n",
              "      <td>0.740220</td>\n",
              "      <td>True</td>\n",
              "      <td>Dandie_Dinmont</td>\n",
              "      <td>0.061604</td>\n",
              "      <td>True</td>\n",
              "      <td>English_setter</td>\n",
              "      <td>0.041331</td>\n",
              "      <td>True</td>\n",
              "    </tr>\n",
              "    <tr>\n",
              "      <th>400</th>\n",
              "      <td>673688752737402881</td>\n",
              "      <td>https://pbs.twimg.com/media/CVlsVs3WIAAja6m.jpg</td>\n",
              "      <td>1</td>\n",
              "      <td>soft-coated_wheaten_terrier</td>\n",
              "      <td>0.340806</td>\n",
              "      <td>True</td>\n",
              "      <td>Sealyham_terrier</td>\n",
              "      <td>0.234898</td>\n",
              "      <td>True</td>\n",
              "      <td>kuvasz</td>\n",
              "      <td>0.203495</td>\n",
              "      <td>True</td>\n",
              "    </tr>\n",
              "    <tr>\n",
              "      <th>1297</th>\n",
              "      <td>752309394570878976</td>\n",
              "      <td>https://pbs.twimg.com/ext_tw_video_thumb/67535...</td>\n",
              "      <td>1</td>\n",
              "      <td>upright</td>\n",
              "      <td>0.303415</td>\n",
              "      <td>False</td>\n",
              "      <td>golden_retriever</td>\n",
              "      <td>0.181351</td>\n",
              "      <td>True</td>\n",
              "      <td>Brittany_spaniel</td>\n",
              "      <td>0.162084</td>\n",
              "      <td>True</td>\n",
              "    </tr>\n",
              "    <tr>\n",
              "      <th>357</th>\n",
              "      <td>672609152938721280</td>\n",
              "      <td>https://pbs.twimg.com/media/CVWWdKLWEAEnSk7.jpg</td>\n",
              "      <td>1</td>\n",
              "      <td>microwave</td>\n",
              "      <td>0.981946</td>\n",
              "      <td>False</td>\n",
              "      <td>rotisserie</td>\n",
              "      <td>0.007472</td>\n",
              "      <td>False</td>\n",
              "      <td>television</td>\n",
              "      <td>0.005881</td>\n",
              "      <td>False</td>\n",
              "    </tr>\n",
              "    <tr>\n",
              "      <th>1575</th>\n",
              "      <td>796031486298386433</td>\n",
              "      <td>https://pbs.twimg.com/media/CwwSaWJWIAASuoY.jpg</td>\n",
              "      <td>1</td>\n",
              "      <td>golden_retriever</td>\n",
              "      <td>0.893775</td>\n",
              "      <td>True</td>\n",
              "      <td>Labrador_retriever</td>\n",
              "      <td>0.070140</td>\n",
              "      <td>True</td>\n",
              "      <td>doormat</td>\n",
              "      <td>0.008419</td>\n",
              "      <td>False</td>\n",
              "    </tr>\n",
              "    <tr>\n",
              "      <th>932</th>\n",
              "      <td>703268521220972544</td>\n",
              "      <td>https://pbs.twimg.com/media/CcKC-5LW4AAK-nb.jpg</td>\n",
              "      <td>1</td>\n",
              "      <td>wool</td>\n",
              "      <td>0.525434</td>\n",
              "      <td>False</td>\n",
              "      <td>fur_coat</td>\n",
              "      <td>0.236391</td>\n",
              "      <td>False</td>\n",
              "      <td>kuvasz</td>\n",
              "      <td>0.038243</td>\n",
              "      <td>True</td>\n",
              "    </tr>\n",
              "    <tr>\n",
              "      <th>888</th>\n",
              "      <td>699079609774645248</td>\n",
              "      <td>https://pbs.twimg.com/media/CbOhMUDXIAACIWR.jpg</td>\n",
              "      <td>3</td>\n",
              "      <td>schipperke</td>\n",
              "      <td>0.667324</td>\n",
              "      <td>True</td>\n",
              "      <td>Chesapeake_Bay_retriever</td>\n",
              "      <td>0.119550</td>\n",
              "      <td>True</td>\n",
              "      <td>kelpie</td>\n",
              "      <td>0.097600</td>\n",
              "      <td>True</td>\n",
              "    </tr>\n",
              "  </tbody>\n",
              "</table>\n",
              "</div>\n",
              "      <button class=\"colab-df-convert\" onclick=\"convertToInteractive('df-65fe9770-0ad7-43c1-8f02-bde8fe53938a')\"\n",
              "              title=\"Convert this dataframe to an interactive table.\"\n",
              "              style=\"display:none;\">\n",
              "        \n",
              "  <svg xmlns=\"http://www.w3.org/2000/svg\" height=\"24px\"viewBox=\"0 0 24 24\"\n",
              "       width=\"24px\">\n",
              "    <path d=\"M0 0h24v24H0V0z\" fill=\"none\"/>\n",
              "    <path d=\"M18.56 5.44l.94 2.06.94-2.06 2.06-.94-2.06-.94-.94-2.06-.94 2.06-2.06.94zm-11 1L8.5 8.5l.94-2.06 2.06-.94-2.06-.94L8.5 2.5l-.94 2.06-2.06.94zm10 10l.94 2.06.94-2.06 2.06-.94-2.06-.94-.94-2.06-.94 2.06-2.06.94z\"/><path d=\"M17.41 7.96l-1.37-1.37c-.4-.4-.92-.59-1.43-.59-.52 0-1.04.2-1.43.59L10.3 9.45l-7.72 7.72c-.78.78-.78 2.05 0 2.83L4 21.41c.39.39.9.59 1.41.59.51 0 1.02-.2 1.41-.59l7.78-7.78 2.81-2.81c.8-.78.8-2.07 0-2.86zM5.41 20L4 18.59l7.72-7.72 1.47 1.35L5.41 20z\"/>\n",
              "  </svg>\n",
              "      </button>\n",
              "      \n",
              "  <style>\n",
              "    .colab-df-container {\n",
              "      display:flex;\n",
              "      flex-wrap:wrap;\n",
              "      gap: 12px;\n",
              "    }\n",
              "\n",
              "    .colab-df-convert {\n",
              "      background-color: #E8F0FE;\n",
              "      border: none;\n",
              "      border-radius: 50%;\n",
              "      cursor: pointer;\n",
              "      display: none;\n",
              "      fill: #1967D2;\n",
              "      height: 32px;\n",
              "      padding: 0 0 0 0;\n",
              "      width: 32px;\n",
              "    }\n",
              "\n",
              "    .colab-df-convert:hover {\n",
              "      background-color: #E2EBFA;\n",
              "      box-shadow: 0px 1px 2px rgba(60, 64, 67, 0.3), 0px 1px 3px 1px rgba(60, 64, 67, 0.15);\n",
              "      fill: #174EA6;\n",
              "    }\n",
              "\n",
              "    [theme=dark] .colab-df-convert {\n",
              "      background-color: #3B4455;\n",
              "      fill: #D2E3FC;\n",
              "    }\n",
              "\n",
              "    [theme=dark] .colab-df-convert:hover {\n",
              "      background-color: #434B5C;\n",
              "      box-shadow: 0px 1px 3px 1px rgba(0, 0, 0, 0.15);\n",
              "      filter: drop-shadow(0px 1px 2px rgba(0, 0, 0, 0.3));\n",
              "      fill: #FFFFFF;\n",
              "    }\n",
              "  </style>\n",
              "\n",
              "      <script>\n",
              "        const buttonEl =\n",
              "          document.querySelector('#df-65fe9770-0ad7-43c1-8f02-bde8fe53938a button.colab-df-convert');\n",
              "        buttonEl.style.display =\n",
              "          google.colab.kernel.accessAllowed ? 'block' : 'none';\n",
              "\n",
              "        async function convertToInteractive(key) {\n",
              "          const element = document.querySelector('#df-65fe9770-0ad7-43c1-8f02-bde8fe53938a');\n",
              "          const dataTable =\n",
              "            await google.colab.kernel.invokeFunction('convertToInteractive',\n",
              "                                                     [key], {});\n",
              "          if (!dataTable) return;\n",
              "\n",
              "          const docLinkHtml = 'Like what you see? Visit the ' +\n",
              "            '<a target=\"_blank\" href=https://colab.research.google.com/notebooks/data_table.ipynb>data table notebook</a>'\n",
              "            + ' to learn more about interactive tables.';\n",
              "          element.innerHTML = '';\n",
              "          dataTable['output_type'] = 'display_data';\n",
              "          await google.colab.output.renderOutput(dataTable, element);\n",
              "          const docLink = document.createElement('div');\n",
              "          docLink.innerHTML = docLinkHtml;\n",
              "          element.appendChild(docLink);\n",
              "        }\n",
              "      </script>\n",
              "    </div>\n",
              "  </div>\n",
              "  "
            ]
          },
          "metadata": {},
          "execution_count": 417
        }
      ]
    },
    {
      "cell_type": "markdown",
      "source": [
        "* Some of the breed names in p1, p2, p3 columns are having the first letter as lowercase. This requires cleaning"
      ],
      "metadata": {
        "id": "i-Rb_J6gp70y"
      }
    },
    {
      "cell_type": "markdown",
      "source": [
        "####3.   Reading tweet_json.txt Dataset (Dataset of tweets queried using Twitter API)"
      ],
      "metadata": {
        "id": "MM7rGVqDpgOK"
      }
    },
    {
      "cell_type": "code",
      "source": [
        "# create pandas DataFrame: \n",
        "tweet_json_df = pd.read_json(working_dir + 'tweet_json.txt', lines=True)"
      ],
      "metadata": {
        "id": "vQIJRRt19-o5"
      },
      "execution_count": 418,
      "outputs": []
    },
    {
      "cell_type": "code",
      "source": [
        "# Checking columns in dataframe\n",
        "tweet_json_df.columns"
      ],
      "metadata": {
        "colab": {
          "base_uri": "https://localhost:8080/"
        },
        "id": "7QMjexbK_-jO",
        "outputId": "59ac1963-9234-4205-d688-9853080a2406"
      },
      "execution_count": 419,
      "outputs": [
        {
          "output_type": "execute_result",
          "data": {
            "text/plain": [
              "Index(['created_at', 'id', 'id_str', 'full_text', 'truncated',\n",
              "       'display_text_range', 'entities', 'extended_entities', 'source',\n",
              "       'in_reply_to_status_id', 'in_reply_to_status_id_str',\n",
              "       'in_reply_to_user_id', 'in_reply_to_user_id_str',\n",
              "       'in_reply_to_screen_name', 'user', 'geo', 'coordinates', 'place',\n",
              "       'contributors', 'is_quote_status', 'retweet_count', 'favorite_count',\n",
              "       'favorited', 'retweeted', 'possibly_sensitive',\n",
              "       'possibly_sensitive_appealable', 'lang', 'retweeted_status',\n",
              "       'quoted_status_id', 'quoted_status_id_str', 'quoted_status_permalink',\n",
              "       'quoted_status'],\n",
              "      dtype='object')"
            ]
          },
          "metadata": {},
          "execution_count": 419
        }
      ]
    },
    {
      "cell_type": "code",
      "source": [
        "# Shape of Dataframe\n",
        "tweet_json_df.shape"
      ],
      "metadata": {
        "colab": {
          "base_uri": "https://localhost:8080/"
        },
        "id": "mqpWIGdOAIHU",
        "outputId": "9c3dbfe3-b05e-4ebe-c0e1-9f5e107ef203"
      },
      "execution_count": 420,
      "outputs": [
        {
          "output_type": "execute_result",
          "data": {
            "text/plain": [
              "(3230, 32)"
            ]
          },
          "metadata": {},
          "execution_count": 420
        }
      ]
    },
    {
      "cell_type": "code",
      "source": [
        "# Checking info\n",
        "tweet_json_df.info()"
      ],
      "metadata": {
        "colab": {
          "base_uri": "https://localhost:8080/"
        },
        "id": "-ZocsIwN8g6w",
        "outputId": "57fc48e5-069f-4c5e-cdb7-7aaef7cceca8"
      },
      "execution_count": 421,
      "outputs": [
        {
          "output_type": "stream",
          "name": "stdout",
          "text": [
            "<class 'pandas.core.frame.DataFrame'>\n",
            "RangeIndex: 3230 entries, 0 to 3229\n",
            "Data columns (total 32 columns):\n",
            " #   Column                         Non-Null Count  Dtype              \n",
            "---  ------                         --------------  -----              \n",
            " 0   created_at                     3230 non-null   datetime64[ns, UTC]\n",
            " 1   id                             3230 non-null   int64              \n",
            " 2   id_str                         3230 non-null   int64              \n",
            " 3   full_text                      3230 non-null   object             \n",
            " 4   truncated                      3230 non-null   bool               \n",
            " 5   display_text_range             3230 non-null   object             \n",
            " 6   entities                       3230 non-null   object             \n",
            " 7   extended_entities              2917 non-null   object             \n",
            " 8   source                         3230 non-null   object             \n",
            " 9   in_reply_to_status_id          66 non-null     float64            \n",
            " 10  in_reply_to_status_id_str      66 non-null     float64            \n",
            " 11  in_reply_to_user_id            66 non-null     float64            \n",
            " 12  in_reply_to_user_id_str        66 non-null     float64            \n",
            " 13  in_reply_to_screen_name        66 non-null     object             \n",
            " 14  user                           3230 non-null   object             \n",
            " 15  geo                            0 non-null      float64            \n",
            " 16  coordinates                    0 non-null      float64            \n",
            " 17  place                          2 non-null      object             \n",
            " 18  contributors                   0 non-null      float64            \n",
            " 19  is_quote_status                3230 non-null   bool               \n",
            " 20  retweet_count                  3230 non-null   int64              \n",
            " 21  favorite_count                 3230 non-null   int64              \n",
            " 22  favorited                      3230 non-null   bool               \n",
            " 23  retweeted                      3230 non-null   bool               \n",
            " 24  possibly_sensitive             3027 non-null   float64            \n",
            " 25  possibly_sensitive_appealable  3027 non-null   float64            \n",
            " 26  lang                           3230 non-null   object             \n",
            " 27  retweeted_status               297 non-null    object             \n",
            " 28  quoted_status_id               42 non-null     float64            \n",
            " 29  quoted_status_id_str           42 non-null     float64            \n",
            " 30  quoted_status_permalink        42 non-null     object             \n",
            " 31  quoted_status                  40 non-null     object             \n",
            "dtypes: bool(4), datetime64[ns, UTC](1), float64(11), int64(4), object(12)\n",
            "memory usage: 719.3+ KB\n"
          ]
        }
      ]
    },
    {
      "cell_type": "code",
      "source": [
        "# Checking datatypes of columns\n",
        "tweet_json_df.dtypes"
      ],
      "metadata": {
        "colab": {
          "base_uri": "https://localhost:8080/"
        },
        "id": "4RAa1B3mIzpt",
        "outputId": "17f997e0-5fd6-4164-e6b9-74cb69dde28e"
      },
      "execution_count": 422,
      "outputs": [
        {
          "output_type": "execute_result",
          "data": {
            "text/plain": [
              "created_at                       datetime64[ns, UTC]\n",
              "id                                             int64\n",
              "id_str                                         int64\n",
              "full_text                                     object\n",
              "truncated                                       bool\n",
              "display_text_range                            object\n",
              "entities                                      object\n",
              "extended_entities                             object\n",
              "source                                        object\n",
              "in_reply_to_status_id                        float64\n",
              "in_reply_to_status_id_str                    float64\n",
              "in_reply_to_user_id                          float64\n",
              "in_reply_to_user_id_str                      float64\n",
              "in_reply_to_screen_name                       object\n",
              "user                                          object\n",
              "geo                                          float64\n",
              "coordinates                                  float64\n",
              "place                                         object\n",
              "contributors                                 float64\n",
              "is_quote_status                                 bool\n",
              "retweet_count                                  int64\n",
              "favorite_count                                 int64\n",
              "favorited                                       bool\n",
              "retweeted                                       bool\n",
              "possibly_sensitive                           float64\n",
              "possibly_sensitive_appealable                float64\n",
              "lang                                          object\n",
              "retweeted_status                              object\n",
              "quoted_status_id                             float64\n",
              "quoted_status_id_str                         float64\n",
              "quoted_status_permalink                       object\n",
              "quoted_status                                 object\n",
              "dtype: object"
            ]
          },
          "metadata": {},
          "execution_count": 422
        }
      ]
    },
    {
      "cell_type": "code",
      "source": [
        "# Checking first 5 rows\n",
        "tweet_json_df.head()"
      ],
      "metadata": {
        "colab": {
          "base_uri": "https://localhost:8080/",
          "height": 0
        },
        "id": "U7Z9HaKU-SGG",
        "outputId": "6ac13913-c387-40c3-a2e2-a13951e3f5db"
      },
      "execution_count": 423,
      "outputs": [
        {
          "output_type": "execute_result",
          "data": {
            "text/plain": [
              "                 created_at                  id              id_str  \\\n",
              "0 2017-08-01 16:23:56+00:00  892420643555336193  892420643555336192   \n",
              "1 2017-08-01 00:17:27+00:00  892177421306343426  892177421306343424   \n",
              "2 2017-07-31 00:18:03+00:00  891815181378084864  891815181378084864   \n",
              "3 2017-07-30 15:58:51+00:00  891689557279858688  891689557279858688   \n",
              "4 2017-07-29 16:00:24+00:00  891327558926688256  891327558926688256   \n",
              "\n",
              "                                           full_text  truncated  \\\n",
              "0  This is Phineas. He's a mystical boy. Only eve...      False   \n",
              "1  This is Tilly. She's just checking pup on you....      False   \n",
              "2  This is Archie. He is a rare Norwegian Pouncin...      False   \n",
              "3  This is Darla. She commenced a snooze mid meal...      False   \n",
              "4  This is Franklin. He would like you to stop ca...      False   \n",
              "\n",
              "  display_text_range                                           entities  \\\n",
              "0            [0, 85]  {'hashtags': [], 'symbols': [], 'user_mentions...   \n",
              "1           [0, 138]  {'hashtags': [], 'symbols': [], 'user_mentions...   \n",
              "2           [0, 121]  {'hashtags': [], 'symbols': [], 'user_mentions...   \n",
              "3            [0, 79]  {'hashtags': [], 'symbols': [], 'user_mentions...   \n",
              "4           [0, 138]  {'hashtags': [{'text': 'BarkWeek', 'indices': ...   \n",
              "\n",
              "                                   extended_entities  \\\n",
              "0  {'media': [{'id': 892420639486877696, 'id_str'...   \n",
              "1  {'media': [{'id': 892177413194625024, 'id_str'...   \n",
              "2  {'media': [{'id': 891815175371796480, 'id_str'...   \n",
              "3  {'media': [{'id': 891689552724799489, 'id_str'...   \n",
              "4  {'media': [{'id': 891327551943041024, 'id_str'...   \n",
              "\n",
              "                                              source  in_reply_to_status_id  \\\n",
              "0  <a href=\"http://twitter.com/download/iphone\" r...                    NaN   \n",
              "1  <a href=\"http://twitter.com/download/iphone\" r...                    NaN   \n",
              "2  <a href=\"http://twitter.com/download/iphone\" r...                    NaN   \n",
              "3  <a href=\"http://twitter.com/download/iphone\" r...                    NaN   \n",
              "4  <a href=\"http://twitter.com/download/iphone\" r...                    NaN   \n",
              "\n",
              "   ...  favorited  retweeted  possibly_sensitive  \\\n",
              "0  ...      False      False                 0.0   \n",
              "1  ...      False      False                 0.0   \n",
              "2  ...      False      False                 0.0   \n",
              "3  ...      False      False                 0.0   \n",
              "4  ...      False      False                 0.0   \n",
              "\n",
              "  possibly_sensitive_appealable lang  retweeted_status  quoted_status_id  \\\n",
              "0                           0.0   en               NaN               NaN   \n",
              "1                           0.0   en               NaN               NaN   \n",
              "2                           0.0   en               NaN               NaN   \n",
              "3                           0.0   en               NaN               NaN   \n",
              "4                           0.0   en               NaN               NaN   \n",
              "\n",
              "  quoted_status_id_str  quoted_status_permalink  quoted_status  \n",
              "0                  NaN                      NaN            NaN  \n",
              "1                  NaN                      NaN            NaN  \n",
              "2                  NaN                      NaN            NaN  \n",
              "3                  NaN                      NaN            NaN  \n",
              "4                  NaN                      NaN            NaN  \n",
              "\n",
              "[5 rows x 32 columns]"
            ],
            "text/html": [
              "\n",
              "  <div id=\"df-66ea9f80-b119-406e-8aea-d7f27324dae1\">\n",
              "    <div class=\"colab-df-container\">\n",
              "      <div>\n",
              "<style scoped>\n",
              "    .dataframe tbody tr th:only-of-type {\n",
              "        vertical-align: middle;\n",
              "    }\n",
              "\n",
              "    .dataframe tbody tr th {\n",
              "        vertical-align: top;\n",
              "    }\n",
              "\n",
              "    .dataframe thead th {\n",
              "        text-align: right;\n",
              "    }\n",
              "</style>\n",
              "<table border=\"1\" class=\"dataframe\">\n",
              "  <thead>\n",
              "    <tr style=\"text-align: right;\">\n",
              "      <th></th>\n",
              "      <th>created_at</th>\n",
              "      <th>id</th>\n",
              "      <th>id_str</th>\n",
              "      <th>full_text</th>\n",
              "      <th>truncated</th>\n",
              "      <th>display_text_range</th>\n",
              "      <th>entities</th>\n",
              "      <th>extended_entities</th>\n",
              "      <th>source</th>\n",
              "      <th>in_reply_to_status_id</th>\n",
              "      <th>...</th>\n",
              "      <th>favorited</th>\n",
              "      <th>retweeted</th>\n",
              "      <th>possibly_sensitive</th>\n",
              "      <th>possibly_sensitive_appealable</th>\n",
              "      <th>lang</th>\n",
              "      <th>retweeted_status</th>\n",
              "      <th>quoted_status_id</th>\n",
              "      <th>quoted_status_id_str</th>\n",
              "      <th>quoted_status_permalink</th>\n",
              "      <th>quoted_status</th>\n",
              "    </tr>\n",
              "  </thead>\n",
              "  <tbody>\n",
              "    <tr>\n",
              "      <th>0</th>\n",
              "      <td>2017-08-01 16:23:56+00:00</td>\n",
              "      <td>892420643555336193</td>\n",
              "      <td>892420643555336192</td>\n",
              "      <td>This is Phineas. He's a mystical boy. Only eve...</td>\n",
              "      <td>False</td>\n",
              "      <td>[0, 85]</td>\n",
              "      <td>{'hashtags': [], 'symbols': [], 'user_mentions...</td>\n",
              "      <td>{'media': [{'id': 892420639486877696, 'id_str'...</td>\n",
              "      <td>&lt;a href=\"http://twitter.com/download/iphone\" r...</td>\n",
              "      <td>NaN</td>\n",
              "      <td>...</td>\n",
              "      <td>False</td>\n",
              "      <td>False</td>\n",
              "      <td>0.0</td>\n",
              "      <td>0.0</td>\n",
              "      <td>en</td>\n",
              "      <td>NaN</td>\n",
              "      <td>NaN</td>\n",
              "      <td>NaN</td>\n",
              "      <td>NaN</td>\n",
              "      <td>NaN</td>\n",
              "    </tr>\n",
              "    <tr>\n",
              "      <th>1</th>\n",
              "      <td>2017-08-01 00:17:27+00:00</td>\n",
              "      <td>892177421306343426</td>\n",
              "      <td>892177421306343424</td>\n",
              "      <td>This is Tilly. She's just checking pup on you....</td>\n",
              "      <td>False</td>\n",
              "      <td>[0, 138]</td>\n",
              "      <td>{'hashtags': [], 'symbols': [], 'user_mentions...</td>\n",
              "      <td>{'media': [{'id': 892177413194625024, 'id_str'...</td>\n",
              "      <td>&lt;a href=\"http://twitter.com/download/iphone\" r...</td>\n",
              "      <td>NaN</td>\n",
              "      <td>...</td>\n",
              "      <td>False</td>\n",
              "      <td>False</td>\n",
              "      <td>0.0</td>\n",
              "      <td>0.0</td>\n",
              "      <td>en</td>\n",
              "      <td>NaN</td>\n",
              "      <td>NaN</td>\n",
              "      <td>NaN</td>\n",
              "      <td>NaN</td>\n",
              "      <td>NaN</td>\n",
              "    </tr>\n",
              "    <tr>\n",
              "      <th>2</th>\n",
              "      <td>2017-07-31 00:18:03+00:00</td>\n",
              "      <td>891815181378084864</td>\n",
              "      <td>891815181378084864</td>\n",
              "      <td>This is Archie. He is a rare Norwegian Pouncin...</td>\n",
              "      <td>False</td>\n",
              "      <td>[0, 121]</td>\n",
              "      <td>{'hashtags': [], 'symbols': [], 'user_mentions...</td>\n",
              "      <td>{'media': [{'id': 891815175371796480, 'id_str'...</td>\n",
              "      <td>&lt;a href=\"http://twitter.com/download/iphone\" r...</td>\n",
              "      <td>NaN</td>\n",
              "      <td>...</td>\n",
              "      <td>False</td>\n",
              "      <td>False</td>\n",
              "      <td>0.0</td>\n",
              "      <td>0.0</td>\n",
              "      <td>en</td>\n",
              "      <td>NaN</td>\n",
              "      <td>NaN</td>\n",
              "      <td>NaN</td>\n",
              "      <td>NaN</td>\n",
              "      <td>NaN</td>\n",
              "    </tr>\n",
              "    <tr>\n",
              "      <th>3</th>\n",
              "      <td>2017-07-30 15:58:51+00:00</td>\n",
              "      <td>891689557279858688</td>\n",
              "      <td>891689557279858688</td>\n",
              "      <td>This is Darla. She commenced a snooze mid meal...</td>\n",
              "      <td>False</td>\n",
              "      <td>[0, 79]</td>\n",
              "      <td>{'hashtags': [], 'symbols': [], 'user_mentions...</td>\n",
              "      <td>{'media': [{'id': 891689552724799489, 'id_str'...</td>\n",
              "      <td>&lt;a href=\"http://twitter.com/download/iphone\" r...</td>\n",
              "      <td>NaN</td>\n",
              "      <td>...</td>\n",
              "      <td>False</td>\n",
              "      <td>False</td>\n",
              "      <td>0.0</td>\n",
              "      <td>0.0</td>\n",
              "      <td>en</td>\n",
              "      <td>NaN</td>\n",
              "      <td>NaN</td>\n",
              "      <td>NaN</td>\n",
              "      <td>NaN</td>\n",
              "      <td>NaN</td>\n",
              "    </tr>\n",
              "    <tr>\n",
              "      <th>4</th>\n",
              "      <td>2017-07-29 16:00:24+00:00</td>\n",
              "      <td>891327558926688256</td>\n",
              "      <td>891327558926688256</td>\n",
              "      <td>This is Franklin. He would like you to stop ca...</td>\n",
              "      <td>False</td>\n",
              "      <td>[0, 138]</td>\n",
              "      <td>{'hashtags': [{'text': 'BarkWeek', 'indices': ...</td>\n",
              "      <td>{'media': [{'id': 891327551943041024, 'id_str'...</td>\n",
              "      <td>&lt;a href=\"http://twitter.com/download/iphone\" r...</td>\n",
              "      <td>NaN</td>\n",
              "      <td>...</td>\n",
              "      <td>False</td>\n",
              "      <td>False</td>\n",
              "      <td>0.0</td>\n",
              "      <td>0.0</td>\n",
              "      <td>en</td>\n",
              "      <td>NaN</td>\n",
              "      <td>NaN</td>\n",
              "      <td>NaN</td>\n",
              "      <td>NaN</td>\n",
              "      <td>NaN</td>\n",
              "    </tr>\n",
              "  </tbody>\n",
              "</table>\n",
              "<p>5 rows × 32 columns</p>\n",
              "</div>\n",
              "      <button class=\"colab-df-convert\" onclick=\"convertToInteractive('df-66ea9f80-b119-406e-8aea-d7f27324dae1')\"\n",
              "              title=\"Convert this dataframe to an interactive table.\"\n",
              "              style=\"display:none;\">\n",
              "        \n",
              "  <svg xmlns=\"http://www.w3.org/2000/svg\" height=\"24px\"viewBox=\"0 0 24 24\"\n",
              "       width=\"24px\">\n",
              "    <path d=\"M0 0h24v24H0V0z\" fill=\"none\"/>\n",
              "    <path d=\"M18.56 5.44l.94 2.06.94-2.06 2.06-.94-2.06-.94-.94-2.06-.94 2.06-2.06.94zm-11 1L8.5 8.5l.94-2.06 2.06-.94-2.06-.94L8.5 2.5l-.94 2.06-2.06.94zm10 10l.94 2.06.94-2.06 2.06-.94-2.06-.94-.94-2.06-.94 2.06-2.06.94z\"/><path d=\"M17.41 7.96l-1.37-1.37c-.4-.4-.92-.59-1.43-.59-.52 0-1.04.2-1.43.59L10.3 9.45l-7.72 7.72c-.78.78-.78 2.05 0 2.83L4 21.41c.39.39.9.59 1.41.59.51 0 1.02-.2 1.41-.59l7.78-7.78 2.81-2.81c.8-.78.8-2.07 0-2.86zM5.41 20L4 18.59l7.72-7.72 1.47 1.35L5.41 20z\"/>\n",
              "  </svg>\n",
              "      </button>\n",
              "      \n",
              "  <style>\n",
              "    .colab-df-container {\n",
              "      display:flex;\n",
              "      flex-wrap:wrap;\n",
              "      gap: 12px;\n",
              "    }\n",
              "\n",
              "    .colab-df-convert {\n",
              "      background-color: #E8F0FE;\n",
              "      border: none;\n",
              "      border-radius: 50%;\n",
              "      cursor: pointer;\n",
              "      display: none;\n",
              "      fill: #1967D2;\n",
              "      height: 32px;\n",
              "      padding: 0 0 0 0;\n",
              "      width: 32px;\n",
              "    }\n",
              "\n",
              "    .colab-df-convert:hover {\n",
              "      background-color: #E2EBFA;\n",
              "      box-shadow: 0px 1px 2px rgba(60, 64, 67, 0.3), 0px 1px 3px 1px rgba(60, 64, 67, 0.15);\n",
              "      fill: #174EA6;\n",
              "    }\n",
              "\n",
              "    [theme=dark] .colab-df-convert {\n",
              "      background-color: #3B4455;\n",
              "      fill: #D2E3FC;\n",
              "    }\n",
              "\n",
              "    [theme=dark] .colab-df-convert:hover {\n",
              "      background-color: #434B5C;\n",
              "      box-shadow: 0px 1px 3px 1px rgba(0, 0, 0, 0.15);\n",
              "      filter: drop-shadow(0px 1px 2px rgba(0, 0, 0, 0.3));\n",
              "      fill: #FFFFFF;\n",
              "    }\n",
              "  </style>\n",
              "\n",
              "      <script>\n",
              "        const buttonEl =\n",
              "          document.querySelector('#df-66ea9f80-b119-406e-8aea-d7f27324dae1 button.colab-df-convert');\n",
              "        buttonEl.style.display =\n",
              "          google.colab.kernel.accessAllowed ? 'block' : 'none';\n",
              "\n",
              "        async function convertToInteractive(key) {\n",
              "          const element = document.querySelector('#df-66ea9f80-b119-406e-8aea-d7f27324dae1');\n",
              "          const dataTable =\n",
              "            await google.colab.kernel.invokeFunction('convertToInteractive',\n",
              "                                                     [key], {});\n",
              "          if (!dataTable) return;\n",
              "\n",
              "          const docLinkHtml = 'Like what you see? Visit the ' +\n",
              "            '<a target=\"_blank\" href=https://colab.research.google.com/notebooks/data_table.ipynb>data table notebook</a>'\n",
              "            + ' to learn more about interactive tables.';\n",
              "          element.innerHTML = '';\n",
              "          dataTable['output_type'] = 'display_data';\n",
              "          await google.colab.output.renderOutput(dataTable, element);\n",
              "          const docLink = document.createElement('div');\n",
              "          docLink.innerHTML = docLinkHtml;\n",
              "          element.appendChild(docLink);\n",
              "        }\n",
              "      </script>\n",
              "    </div>\n",
              "  </div>\n",
              "  "
            ]
          },
          "metadata": {},
          "execution_count": 423
        }
      ]
    },
    {
      "cell_type": "markdown",
      "source": [
        "#### Checking Tweets Gathered Beyond August 1st, 2017"
      ],
      "metadata": {
        "id": "RMcfm-EEJd5Y"
      }
    },
    {
      "cell_type": "code",
      "source": [
        "max(tweet_json_df['created_at'])"
      ],
      "metadata": {
        "colab": {
          "base_uri": "https://localhost:8080/"
        },
        "id": "ecbmlf9HLFKV",
        "outputId": "18810bb7-d327-40d3-ef51-6f8c4e9a9557"
      },
      "execution_count": 424,
      "outputs": [
        {
          "output_type": "execute_result",
          "data": {
            "text/plain": [
              "Timestamp('2017-08-01 16:23:56+0000', tz='UTC')"
            ]
          },
          "metadata": {},
          "execution_count": 424
        }
      ]
    },
    {
      "cell_type": "code",
      "source": [
        "max(twitter_archive_df['timestamp'])"
      ],
      "metadata": {
        "colab": {
          "base_uri": "https://localhost:8080/",
          "height": 0
        },
        "id": "BQRTaxSfLWyW",
        "outputId": "1163f364-888f-40c5-b848-1cdae14dbb0e"
      },
      "execution_count": 425,
      "outputs": [
        {
          "output_type": "execute_result",
          "data": {
            "text/plain": [
              "'2017-08-01 16:23:56 +0000'"
            ],
            "application/vnd.google.colaboratory.intrinsic+json": {
              "type": "string"
            }
          },
          "metadata": {},
          "execution_count": 425
        }
      ]
    },
    {
      "cell_type": "markdown",
      "source": [
        "* There are no tweets gathered beyind August 1st, 2017\n",
        "* Hence, the datasets conform to given specification of time window"
      ],
      "metadata": {
        "id": "JCpH8Lax8tty"
      }
    },
    {
      "cell_type": "markdown",
      "source": [
        "#### Checking if there are duplicates by ID"
      ],
      "metadata": {
        "id": "I7u5hrM8OX5F"
      }
    },
    {
      "cell_type": "code",
      "source": [
        "# counting unique values by 'tweet_id': twitter_archive dataset\n",
        "n = len(pd.unique(twitter_archive_df['tweet_id']))\n",
        "  \n",
        "print(\"Number of unique values :\", n)"
      ],
      "metadata": {
        "colab": {
          "base_uri": "https://localhost:8080/"
        },
        "id": "1J_gVO4CVpym",
        "outputId": "8e2a5c61-7e2e-4fe3-a4b9-6da7eee7fe07"
      },
      "execution_count": 426,
      "outputs": [
        {
          "output_type": "stream",
          "name": "stdout",
          "text": [
            "Number of unique values : 2356\n"
          ]
        }
      ]
    },
    {
      "cell_type": "markdown",
      "source": [
        "* There are no duplicates by tweet_id in the dataset (number of unique values (2356) corresponds to number of records (2356) in the dataset)"
      ],
      "metadata": {
        "id": "PITi0nK3V7sG"
      }
    },
    {
      "cell_type": "code",
      "source": [
        "# counting unique values by 'tweet_id': image_pred dataset\n",
        "n = len(pd.unique(image_pred_df['tweet_id']))\n",
        "  \n",
        "print(\"Number of unique values :\", n)"
      ],
      "metadata": {
        "colab": {
          "base_uri": "https://localhost:8080/"
        },
        "id": "KWS1GctNVqt-",
        "outputId": "269aa0cb-4b82-45c5-c2e0-723813f3bc49"
      },
      "execution_count": 427,
      "outputs": [
        {
          "output_type": "stream",
          "name": "stdout",
          "text": [
            "Number of unique values : 2075\n"
          ]
        }
      ]
    },
    {
      "cell_type": "markdown",
      "source": [
        "* There are no duplicates by tweet_id in the dataset (number of unique values (2075) corresponds to number of records (2075) in the dataset)"
      ],
      "metadata": {
        "id": "y1QnmZklWqlf"
      }
    },
    {
      "cell_type": "code",
      "source": [
        "# counting unique values by 'id': tweet_json dataset\n",
        "n = len(pd.unique(tweet_json_df['id']))\n",
        "  \n",
        "print(\"Number of unique values :\", n)"
      ],
      "metadata": {
        "colab": {
          "base_uri": "https://localhost:8080/"
        },
        "id": "fT4v7IsHQ4zl",
        "outputId": "929fb079-4e83-4904-82fd-7371eab53d52"
      },
      "execution_count": 428,
      "outputs": [
        {
          "output_type": "stream",
          "name": "stdout",
          "text": [
            "Number of unique values : 874\n"
          ]
        }
      ]
    },
    {
      "cell_type": "markdown",
      "source": [
        "* There are many duplicates by id in the dataset (number of unique values (874) is less than number of records(3230) in the dataset)"
      ],
      "metadata": {
        "id": "XjoVGPiqWvD-"
      }
    },
    {
      "cell_type": "code",
      "source": [
        "# Checking counts of unique values in tweet_json dataset\n",
        "item_counts = tweet_json_df['id'].value_counts()\n",
        "item_counts"
      ],
      "metadata": {
        "colab": {
          "base_uri": "https://localhost:8080/"
        },
        "id": "7rdZ6-6vX3Wx",
        "outputId": "ce496038-cd8a-4929-917d-1e5c8aae61c6"
      },
      "execution_count": 429,
      "outputs": [
        {
          "output_type": "execute_result",
          "data": {
            "text/plain": [
              "758828659922702336    1458\n",
              "852189679701164033       4\n",
              "812781120811126785       3\n",
              "872486979161796608       3\n",
              "872820683541237760       3\n",
              "                      ... \n",
              "834458053273591808       2\n",
              "834209720923721728       2\n",
              "834167344700198914       2\n",
              "834089966724603904       2\n",
              "716439118184652801       1\n",
              "Name: id, Length: 874, dtype: int64"
            ]
          },
          "metadata": {},
          "execution_count": 429
        }
      ]
    },
    {
      "cell_type": "markdown",
      "source": [
        "#### Checking rows of one duplicated ID: tweet_json dataset"
      ],
      "metadata": {
        "id": "xMY6PLra1AyR"
      }
    },
    {
      "cell_type": "code",
      "source": [
        "df_dup_id = tweet_json_df.loc[tweet_json_df['id'] == 852189679701164033]"
      ],
      "metadata": {
        "id": "W9dBKqUw0Bpr"
      },
      "execution_count": 430,
      "outputs": []
    },
    {
      "cell_type": "code",
      "source": [
        "df_dup_id"
      ],
      "metadata": {
        "colab": {
          "base_uri": "https://localhost:8080/",
          "height": 0
        },
        "id": "C_j8xEla1Ui8",
        "outputId": "e45a6067-96d2-482f-d041-6b8b0d7daaec"
      },
      "execution_count": 431,
      "outputs": [
        {
          "output_type": "execute_result",
          "data": {
            "text/plain": [
              "                    created_at                  id              id_str  \\\n",
              "210  2017-04-12 16:00:27+00:00  852189679701164033  852189679701164032   \n",
              "211  2017-04-12 16:00:27+00:00  852189679701164033  852189679701164032   \n",
              "212  2017-04-12 16:00:27+00:00  852189679701164033  852189679701164032   \n",
              "2557 2017-04-12 16:00:27+00:00  852189679701164033  852189679701164032   \n",
              "\n",
              "                                              full_text  truncated  \\\n",
              "210   This is Sailor. He has collected the best dirt...      False   \n",
              "211   This is Sailor. He has collected the best dirt...      False   \n",
              "212   This is Sailor. He has collected the best dirt...      False   \n",
              "2557  This is Sailor. He has collected the best dirt...      False   \n",
              "\n",
              "     display_text_range                                           entities  \\\n",
              "210            [0, 135]  {'hashtags': [], 'symbols': [], 'user_mentions...   \n",
              "211            [0, 135]  {'hashtags': [], 'symbols': [], 'user_mentions...   \n",
              "212            [0, 135]  {'hashtags': [], 'symbols': [], 'user_mentions...   \n",
              "2557           [0, 135]  {'hashtags': [], 'symbols': [], 'user_mentions...   \n",
              "\n",
              "                                      extended_entities  \\\n",
              "210   {'media': [{'id': 852189646159327233, 'id_str'...   \n",
              "211   {'media': [{'id': 852189646159327233, 'id_str'...   \n",
              "212   {'media': [{'id': 852189646159327233, 'id_str'...   \n",
              "2557  {'media': [{'id': 852189646159327233, 'id_str'...   \n",
              "\n",
              "                                                 source  \\\n",
              "210   <a href=\"http://twitter.com/download/iphone\" r...   \n",
              "211   <a href=\"http://twitter.com/download/iphone\" r...   \n",
              "212   <a href=\"http://twitter.com/download/iphone\" r...   \n",
              "2557  <a href=\"http://twitter.com/download/iphone\" r...   \n",
              "\n",
              "      in_reply_to_status_id  ...  favorited  retweeted  possibly_sensitive  \\\n",
              "210                     NaN  ...      False      False                 0.0   \n",
              "211                     NaN  ...      False      False                 0.0   \n",
              "212                     NaN  ...      False      False                 0.0   \n",
              "2557                    NaN  ...      False      False                 0.0   \n",
              "\n",
              "     possibly_sensitive_appealable lang  retweeted_status  quoted_status_id  \\\n",
              "210                            0.0   en               NaN               NaN   \n",
              "211                            0.0   en               NaN               NaN   \n",
              "212                            0.0   en               NaN               NaN   \n",
              "2557                           0.0   en               NaN               NaN   \n",
              "\n",
              "     quoted_status_id_str  quoted_status_permalink  quoted_status  \n",
              "210                   NaN                      NaN            NaN  \n",
              "211                   NaN                      NaN            NaN  \n",
              "212                   NaN                      NaN            NaN  \n",
              "2557                  NaN                      NaN            NaN  \n",
              "\n",
              "[4 rows x 32 columns]"
            ],
            "text/html": [
              "\n",
              "  <div id=\"df-a17c9045-de29-4378-91f7-ad9af9e6e651\">\n",
              "    <div class=\"colab-df-container\">\n",
              "      <div>\n",
              "<style scoped>\n",
              "    .dataframe tbody tr th:only-of-type {\n",
              "        vertical-align: middle;\n",
              "    }\n",
              "\n",
              "    .dataframe tbody tr th {\n",
              "        vertical-align: top;\n",
              "    }\n",
              "\n",
              "    .dataframe thead th {\n",
              "        text-align: right;\n",
              "    }\n",
              "</style>\n",
              "<table border=\"1\" class=\"dataframe\">\n",
              "  <thead>\n",
              "    <tr style=\"text-align: right;\">\n",
              "      <th></th>\n",
              "      <th>created_at</th>\n",
              "      <th>id</th>\n",
              "      <th>id_str</th>\n",
              "      <th>full_text</th>\n",
              "      <th>truncated</th>\n",
              "      <th>display_text_range</th>\n",
              "      <th>entities</th>\n",
              "      <th>extended_entities</th>\n",
              "      <th>source</th>\n",
              "      <th>in_reply_to_status_id</th>\n",
              "      <th>...</th>\n",
              "      <th>favorited</th>\n",
              "      <th>retweeted</th>\n",
              "      <th>possibly_sensitive</th>\n",
              "      <th>possibly_sensitive_appealable</th>\n",
              "      <th>lang</th>\n",
              "      <th>retweeted_status</th>\n",
              "      <th>quoted_status_id</th>\n",
              "      <th>quoted_status_id_str</th>\n",
              "      <th>quoted_status_permalink</th>\n",
              "      <th>quoted_status</th>\n",
              "    </tr>\n",
              "  </thead>\n",
              "  <tbody>\n",
              "    <tr>\n",
              "      <th>210</th>\n",
              "      <td>2017-04-12 16:00:27+00:00</td>\n",
              "      <td>852189679701164033</td>\n",
              "      <td>852189679701164032</td>\n",
              "      <td>This is Sailor. He has collected the best dirt...</td>\n",
              "      <td>False</td>\n",
              "      <td>[0, 135]</td>\n",
              "      <td>{'hashtags': [], 'symbols': [], 'user_mentions...</td>\n",
              "      <td>{'media': [{'id': 852189646159327233, 'id_str'...</td>\n",
              "      <td>&lt;a href=\"http://twitter.com/download/iphone\" r...</td>\n",
              "      <td>NaN</td>\n",
              "      <td>...</td>\n",
              "      <td>False</td>\n",
              "      <td>False</td>\n",
              "      <td>0.0</td>\n",
              "      <td>0.0</td>\n",
              "      <td>en</td>\n",
              "      <td>NaN</td>\n",
              "      <td>NaN</td>\n",
              "      <td>NaN</td>\n",
              "      <td>NaN</td>\n",
              "      <td>NaN</td>\n",
              "    </tr>\n",
              "    <tr>\n",
              "      <th>211</th>\n",
              "      <td>2017-04-12 16:00:27+00:00</td>\n",
              "      <td>852189679701164033</td>\n",
              "      <td>852189679701164032</td>\n",
              "      <td>This is Sailor. He has collected the best dirt...</td>\n",
              "      <td>False</td>\n",
              "      <td>[0, 135]</td>\n",
              "      <td>{'hashtags': [], 'symbols': [], 'user_mentions...</td>\n",
              "      <td>{'media': [{'id': 852189646159327233, 'id_str'...</td>\n",
              "      <td>&lt;a href=\"http://twitter.com/download/iphone\" r...</td>\n",
              "      <td>NaN</td>\n",
              "      <td>...</td>\n",
              "      <td>False</td>\n",
              "      <td>False</td>\n",
              "      <td>0.0</td>\n",
              "      <td>0.0</td>\n",
              "      <td>en</td>\n",
              "      <td>NaN</td>\n",
              "      <td>NaN</td>\n",
              "      <td>NaN</td>\n",
              "      <td>NaN</td>\n",
              "      <td>NaN</td>\n",
              "    </tr>\n",
              "    <tr>\n",
              "      <th>212</th>\n",
              "      <td>2017-04-12 16:00:27+00:00</td>\n",
              "      <td>852189679701164033</td>\n",
              "      <td>852189679701164032</td>\n",
              "      <td>This is Sailor. He has collected the best dirt...</td>\n",
              "      <td>False</td>\n",
              "      <td>[0, 135]</td>\n",
              "      <td>{'hashtags': [], 'symbols': [], 'user_mentions...</td>\n",
              "      <td>{'media': [{'id': 852189646159327233, 'id_str'...</td>\n",
              "      <td>&lt;a href=\"http://twitter.com/download/iphone\" r...</td>\n",
              "      <td>NaN</td>\n",
              "      <td>...</td>\n",
              "      <td>False</td>\n",
              "      <td>False</td>\n",
              "      <td>0.0</td>\n",
              "      <td>0.0</td>\n",
              "      <td>en</td>\n",
              "      <td>NaN</td>\n",
              "      <td>NaN</td>\n",
              "      <td>NaN</td>\n",
              "      <td>NaN</td>\n",
              "      <td>NaN</td>\n",
              "    </tr>\n",
              "    <tr>\n",
              "      <th>2557</th>\n",
              "      <td>2017-04-12 16:00:27+00:00</td>\n",
              "      <td>852189679701164033</td>\n",
              "      <td>852189679701164032</td>\n",
              "      <td>This is Sailor. He has collected the best dirt...</td>\n",
              "      <td>False</td>\n",
              "      <td>[0, 135]</td>\n",
              "      <td>{'hashtags': [], 'symbols': [], 'user_mentions...</td>\n",
              "      <td>{'media': [{'id': 852189646159327233, 'id_str'...</td>\n",
              "      <td>&lt;a href=\"http://twitter.com/download/iphone\" r...</td>\n",
              "      <td>NaN</td>\n",
              "      <td>...</td>\n",
              "      <td>False</td>\n",
              "      <td>False</td>\n",
              "      <td>0.0</td>\n",
              "      <td>0.0</td>\n",
              "      <td>en</td>\n",
              "      <td>NaN</td>\n",
              "      <td>NaN</td>\n",
              "      <td>NaN</td>\n",
              "      <td>NaN</td>\n",
              "      <td>NaN</td>\n",
              "    </tr>\n",
              "  </tbody>\n",
              "</table>\n",
              "<p>4 rows × 32 columns</p>\n",
              "</div>\n",
              "      <button class=\"colab-df-convert\" onclick=\"convertToInteractive('df-a17c9045-de29-4378-91f7-ad9af9e6e651')\"\n",
              "              title=\"Convert this dataframe to an interactive table.\"\n",
              "              style=\"display:none;\">\n",
              "        \n",
              "  <svg xmlns=\"http://www.w3.org/2000/svg\" height=\"24px\"viewBox=\"0 0 24 24\"\n",
              "       width=\"24px\">\n",
              "    <path d=\"M0 0h24v24H0V0z\" fill=\"none\"/>\n",
              "    <path d=\"M18.56 5.44l.94 2.06.94-2.06 2.06-.94-2.06-.94-.94-2.06-.94 2.06-2.06.94zm-11 1L8.5 8.5l.94-2.06 2.06-.94-2.06-.94L8.5 2.5l-.94 2.06-2.06.94zm10 10l.94 2.06.94-2.06 2.06-.94-2.06-.94-.94-2.06-.94 2.06-2.06.94z\"/><path d=\"M17.41 7.96l-1.37-1.37c-.4-.4-.92-.59-1.43-.59-.52 0-1.04.2-1.43.59L10.3 9.45l-7.72 7.72c-.78.78-.78 2.05 0 2.83L4 21.41c.39.39.9.59 1.41.59.51 0 1.02-.2 1.41-.59l7.78-7.78 2.81-2.81c.8-.78.8-2.07 0-2.86zM5.41 20L4 18.59l7.72-7.72 1.47 1.35L5.41 20z\"/>\n",
              "  </svg>\n",
              "      </button>\n",
              "      \n",
              "  <style>\n",
              "    .colab-df-container {\n",
              "      display:flex;\n",
              "      flex-wrap:wrap;\n",
              "      gap: 12px;\n",
              "    }\n",
              "\n",
              "    .colab-df-convert {\n",
              "      background-color: #E8F0FE;\n",
              "      border: none;\n",
              "      border-radius: 50%;\n",
              "      cursor: pointer;\n",
              "      display: none;\n",
              "      fill: #1967D2;\n",
              "      height: 32px;\n",
              "      padding: 0 0 0 0;\n",
              "      width: 32px;\n",
              "    }\n",
              "\n",
              "    .colab-df-convert:hover {\n",
              "      background-color: #E2EBFA;\n",
              "      box-shadow: 0px 1px 2px rgba(60, 64, 67, 0.3), 0px 1px 3px 1px rgba(60, 64, 67, 0.15);\n",
              "      fill: #174EA6;\n",
              "    }\n",
              "\n",
              "    [theme=dark] .colab-df-convert {\n",
              "      background-color: #3B4455;\n",
              "      fill: #D2E3FC;\n",
              "    }\n",
              "\n",
              "    [theme=dark] .colab-df-convert:hover {\n",
              "      background-color: #434B5C;\n",
              "      box-shadow: 0px 1px 3px 1px rgba(0, 0, 0, 0.15);\n",
              "      filter: drop-shadow(0px 1px 2px rgba(0, 0, 0, 0.3));\n",
              "      fill: #FFFFFF;\n",
              "    }\n",
              "  </style>\n",
              "\n",
              "      <script>\n",
              "        const buttonEl =\n",
              "          document.querySelector('#df-a17c9045-de29-4378-91f7-ad9af9e6e651 button.colab-df-convert');\n",
              "        buttonEl.style.display =\n",
              "          google.colab.kernel.accessAllowed ? 'block' : 'none';\n",
              "\n",
              "        async function convertToInteractive(key) {\n",
              "          const element = document.querySelector('#df-a17c9045-de29-4378-91f7-ad9af9e6e651');\n",
              "          const dataTable =\n",
              "            await google.colab.kernel.invokeFunction('convertToInteractive',\n",
              "                                                     [key], {});\n",
              "          if (!dataTable) return;\n",
              "\n",
              "          const docLinkHtml = 'Like what you see? Visit the ' +\n",
              "            '<a target=\"_blank\" href=https://colab.research.google.com/notebooks/data_table.ipynb>data table notebook</a>'\n",
              "            + ' to learn more about interactive tables.';\n",
              "          element.innerHTML = '';\n",
              "          dataTable['output_type'] = 'display_data';\n",
              "          await google.colab.output.renderOutput(dataTable, element);\n",
              "          const docLink = document.createElement('div');\n",
              "          docLink.innerHTML = docLinkHtml;\n",
              "          element.appendChild(docLink);\n",
              "        }\n",
              "      </script>\n",
              "    </div>\n",
              "  </div>\n",
              "  "
            ]
          },
          "metadata": {},
          "execution_count": 431
        }
      ]
    },
    {
      "cell_type": "code",
      "source": [
        "# Checking if there are retweets in tweet_json dataset\n",
        "df_retweeted_json = tweet_json_df[tweet_json_df['full_text'].str.contains(\"RT @\")]\n",
        "df_retweeted_json.shape"
      ],
      "metadata": {
        "colab": {
          "base_uri": "https://localhost:8080/"
        },
        "id": "mNB0uun9nptn",
        "outputId": "e84f93dd-1a88-4f73-8eb1-4b151d1ebf55"
      },
      "execution_count": 432,
      "outputs": [
        {
          "output_type": "execute_result",
          "data": {
            "text/plain": [
              "(297, 32)"
            ]
          },
          "metadata": {},
          "execution_count": 432
        }
      ]
    },
    {
      "cell_type": "code",
      "source": [
        "# Displaying retweets\n",
        "df_retweeted_json.head(3)"
      ],
      "metadata": {
        "colab": {
          "base_uri": "https://localhost:8080/",
          "height": 0
        },
        "id": "e_y2MUv1oRqv",
        "outputId": "79252afe-42d7-4f54-c50a-c7b078907bee"
      },
      "execution_count": 433,
      "outputs": [
        {
          "output_type": "execute_result",
          "data": {
            "text/plain": [
              "                  created_at                  id              id_str  \\\n",
              "32 2017-07-15 02:45:48+00:00  886054160059072513  886054160059072512   \n",
              "36 2017-07-13 01:35:06+00:00  885311592912609280  885311592912609280   \n",
              "68 2017-06-26 00:13:58+00:00  879130579576475649  879130579576475648   \n",
              "\n",
              "                                            full_text  truncated  \\\n",
              "32  RT @Athletics: 12/10 #BATP https://t.co/WxwJmv...      False   \n",
              "36  RT @dog_rates: This is Lilly. She just paralle...      False   \n",
              "68  RT @dog_rates: This is Emmy. She was adopted t...      False   \n",
              "\n",
              "   display_text_range                                           entities  \\\n",
              "32            [0, 50]  {'hashtags': [{'text': 'BATP', 'indices': [21,...   \n",
              "36           [0, 133]  {'hashtags': [], 'symbols': [], 'user_mentions...   \n",
              "68           [0, 140]  {'hashtags': [], 'symbols': [], 'user_mentions...   \n",
              "\n",
              "                                    extended_entities  \\\n",
              "32                                                NaN   \n",
              "36  {'media': [{'id': 830583314243268608, 'id_str'...   \n",
              "68                                                NaN   \n",
              "\n",
              "                                               source  in_reply_to_status_id  \\\n",
              "32  <a href=\"http://twitter.com/download/iphone\" r...                    NaN   \n",
              "36  <a href=\"http://twitter.com/download/iphone\" r...                    NaN   \n",
              "68  <a href=\"http://twitter.com/download/iphone\" r...                    NaN   \n",
              "\n",
              "    ...  favorited  retweeted  possibly_sensitive  \\\n",
              "32  ...      False      False                 0.0   \n",
              "36  ...      False      False                 0.0   \n",
              "68  ...      False      False                 NaN   \n",
              "\n",
              "   possibly_sensitive_appealable lang  \\\n",
              "32                           0.0  und   \n",
              "36                           0.0   en   \n",
              "68                           NaN   en   \n",
              "\n",
              "                                     retweeted_status  quoted_status_id  \\\n",
              "32  {'created_at': 'Sat Jul 15 02:44:07 +0000 2017...      8.860534e+17   \n",
              "36  {'created_at': 'Sun Feb 12 01:04:29 +0000 2017...               NaN   \n",
              "68  {'created_at': 'Fri Jun 23 01:10:23 +0000 2017...               NaN   \n",
              "\n",
              "   quoted_status_id_str                            quoted_status_permalink  \\\n",
              "32         8.860534e+17  {'url': 'https://t.co/WxwJmvjfxo', 'expanded':...   \n",
              "36                  NaN                                                NaN   \n",
              "68                  NaN                                                NaN   \n",
              "\n",
              "    quoted_status  \n",
              "32            NaN  \n",
              "36            NaN  \n",
              "68            NaN  \n",
              "\n",
              "[3 rows x 32 columns]"
            ],
            "text/html": [
              "\n",
              "  <div id=\"df-3a89448a-0cb5-4bc2-8c4c-795282a39c67\">\n",
              "    <div class=\"colab-df-container\">\n",
              "      <div>\n",
              "<style scoped>\n",
              "    .dataframe tbody tr th:only-of-type {\n",
              "        vertical-align: middle;\n",
              "    }\n",
              "\n",
              "    .dataframe tbody tr th {\n",
              "        vertical-align: top;\n",
              "    }\n",
              "\n",
              "    .dataframe thead th {\n",
              "        text-align: right;\n",
              "    }\n",
              "</style>\n",
              "<table border=\"1\" class=\"dataframe\">\n",
              "  <thead>\n",
              "    <tr style=\"text-align: right;\">\n",
              "      <th></th>\n",
              "      <th>created_at</th>\n",
              "      <th>id</th>\n",
              "      <th>id_str</th>\n",
              "      <th>full_text</th>\n",
              "      <th>truncated</th>\n",
              "      <th>display_text_range</th>\n",
              "      <th>entities</th>\n",
              "      <th>extended_entities</th>\n",
              "      <th>source</th>\n",
              "      <th>in_reply_to_status_id</th>\n",
              "      <th>...</th>\n",
              "      <th>favorited</th>\n",
              "      <th>retweeted</th>\n",
              "      <th>possibly_sensitive</th>\n",
              "      <th>possibly_sensitive_appealable</th>\n",
              "      <th>lang</th>\n",
              "      <th>retweeted_status</th>\n",
              "      <th>quoted_status_id</th>\n",
              "      <th>quoted_status_id_str</th>\n",
              "      <th>quoted_status_permalink</th>\n",
              "      <th>quoted_status</th>\n",
              "    </tr>\n",
              "  </thead>\n",
              "  <tbody>\n",
              "    <tr>\n",
              "      <th>32</th>\n",
              "      <td>2017-07-15 02:45:48+00:00</td>\n",
              "      <td>886054160059072513</td>\n",
              "      <td>886054160059072512</td>\n",
              "      <td>RT @Athletics: 12/10 #BATP https://t.co/WxwJmv...</td>\n",
              "      <td>False</td>\n",
              "      <td>[0, 50]</td>\n",
              "      <td>{'hashtags': [{'text': 'BATP', 'indices': [21,...</td>\n",
              "      <td>NaN</td>\n",
              "      <td>&lt;a href=\"http://twitter.com/download/iphone\" r...</td>\n",
              "      <td>NaN</td>\n",
              "      <td>...</td>\n",
              "      <td>False</td>\n",
              "      <td>False</td>\n",
              "      <td>0.0</td>\n",
              "      <td>0.0</td>\n",
              "      <td>und</td>\n",
              "      <td>{'created_at': 'Sat Jul 15 02:44:07 +0000 2017...</td>\n",
              "      <td>8.860534e+17</td>\n",
              "      <td>8.860534e+17</td>\n",
              "      <td>{'url': 'https://t.co/WxwJmvjfxo', 'expanded':...</td>\n",
              "      <td>NaN</td>\n",
              "    </tr>\n",
              "    <tr>\n",
              "      <th>36</th>\n",
              "      <td>2017-07-13 01:35:06+00:00</td>\n",
              "      <td>885311592912609280</td>\n",
              "      <td>885311592912609280</td>\n",
              "      <td>RT @dog_rates: This is Lilly. She just paralle...</td>\n",
              "      <td>False</td>\n",
              "      <td>[0, 133]</td>\n",
              "      <td>{'hashtags': [], 'symbols': [], 'user_mentions...</td>\n",
              "      <td>{'media': [{'id': 830583314243268608, 'id_str'...</td>\n",
              "      <td>&lt;a href=\"http://twitter.com/download/iphone\" r...</td>\n",
              "      <td>NaN</td>\n",
              "      <td>...</td>\n",
              "      <td>False</td>\n",
              "      <td>False</td>\n",
              "      <td>0.0</td>\n",
              "      <td>0.0</td>\n",
              "      <td>en</td>\n",
              "      <td>{'created_at': 'Sun Feb 12 01:04:29 +0000 2017...</td>\n",
              "      <td>NaN</td>\n",
              "      <td>NaN</td>\n",
              "      <td>NaN</td>\n",
              "      <td>NaN</td>\n",
              "    </tr>\n",
              "    <tr>\n",
              "      <th>68</th>\n",
              "      <td>2017-06-26 00:13:58+00:00</td>\n",
              "      <td>879130579576475649</td>\n",
              "      <td>879130579576475648</td>\n",
              "      <td>RT @dog_rates: This is Emmy. She was adopted t...</td>\n",
              "      <td>False</td>\n",
              "      <td>[0, 140]</td>\n",
              "      <td>{'hashtags': [], 'symbols': [], 'user_mentions...</td>\n",
              "      <td>NaN</td>\n",
              "      <td>&lt;a href=\"http://twitter.com/download/iphone\" r...</td>\n",
              "      <td>NaN</td>\n",
              "      <td>...</td>\n",
              "      <td>False</td>\n",
              "      <td>False</td>\n",
              "      <td>NaN</td>\n",
              "      <td>NaN</td>\n",
              "      <td>en</td>\n",
              "      <td>{'created_at': 'Fri Jun 23 01:10:23 +0000 2017...</td>\n",
              "      <td>NaN</td>\n",
              "      <td>NaN</td>\n",
              "      <td>NaN</td>\n",
              "      <td>NaN</td>\n",
              "    </tr>\n",
              "  </tbody>\n",
              "</table>\n",
              "<p>3 rows × 32 columns</p>\n",
              "</div>\n",
              "      <button class=\"colab-df-convert\" onclick=\"convertToInteractive('df-3a89448a-0cb5-4bc2-8c4c-795282a39c67')\"\n",
              "              title=\"Convert this dataframe to an interactive table.\"\n",
              "              style=\"display:none;\">\n",
              "        \n",
              "  <svg xmlns=\"http://www.w3.org/2000/svg\" height=\"24px\"viewBox=\"0 0 24 24\"\n",
              "       width=\"24px\">\n",
              "    <path d=\"M0 0h24v24H0V0z\" fill=\"none\"/>\n",
              "    <path d=\"M18.56 5.44l.94 2.06.94-2.06 2.06-.94-2.06-.94-.94-2.06-.94 2.06-2.06.94zm-11 1L8.5 8.5l.94-2.06 2.06-.94-2.06-.94L8.5 2.5l-.94 2.06-2.06.94zm10 10l.94 2.06.94-2.06 2.06-.94-2.06-.94-.94-2.06-.94 2.06-2.06.94z\"/><path d=\"M17.41 7.96l-1.37-1.37c-.4-.4-.92-.59-1.43-.59-.52 0-1.04.2-1.43.59L10.3 9.45l-7.72 7.72c-.78.78-.78 2.05 0 2.83L4 21.41c.39.39.9.59 1.41.59.51 0 1.02-.2 1.41-.59l7.78-7.78 2.81-2.81c.8-.78.8-2.07 0-2.86zM5.41 20L4 18.59l7.72-7.72 1.47 1.35L5.41 20z\"/>\n",
              "  </svg>\n",
              "      </button>\n",
              "      \n",
              "  <style>\n",
              "    .colab-df-container {\n",
              "      display:flex;\n",
              "      flex-wrap:wrap;\n",
              "      gap: 12px;\n",
              "    }\n",
              "\n",
              "    .colab-df-convert {\n",
              "      background-color: #E8F0FE;\n",
              "      border: none;\n",
              "      border-radius: 50%;\n",
              "      cursor: pointer;\n",
              "      display: none;\n",
              "      fill: #1967D2;\n",
              "      height: 32px;\n",
              "      padding: 0 0 0 0;\n",
              "      width: 32px;\n",
              "    }\n",
              "\n",
              "    .colab-df-convert:hover {\n",
              "      background-color: #E2EBFA;\n",
              "      box-shadow: 0px 1px 2px rgba(60, 64, 67, 0.3), 0px 1px 3px 1px rgba(60, 64, 67, 0.15);\n",
              "      fill: #174EA6;\n",
              "    }\n",
              "\n",
              "    [theme=dark] .colab-df-convert {\n",
              "      background-color: #3B4455;\n",
              "      fill: #D2E3FC;\n",
              "    }\n",
              "\n",
              "    [theme=dark] .colab-df-convert:hover {\n",
              "      background-color: #434B5C;\n",
              "      box-shadow: 0px 1px 3px 1px rgba(0, 0, 0, 0.15);\n",
              "      filter: drop-shadow(0px 1px 2px rgba(0, 0, 0, 0.3));\n",
              "      fill: #FFFFFF;\n",
              "    }\n",
              "  </style>\n",
              "\n",
              "      <script>\n",
              "        const buttonEl =\n",
              "          document.querySelector('#df-3a89448a-0cb5-4bc2-8c4c-795282a39c67 button.colab-df-convert');\n",
              "        buttonEl.style.display =\n",
              "          google.colab.kernel.accessAllowed ? 'block' : 'none';\n",
              "\n",
              "        async function convertToInteractive(key) {\n",
              "          const element = document.querySelector('#df-3a89448a-0cb5-4bc2-8c4c-795282a39c67');\n",
              "          const dataTable =\n",
              "            await google.colab.kernel.invokeFunction('convertToInteractive',\n",
              "                                                     [key], {});\n",
              "          if (!dataTable) return;\n",
              "\n",
              "          const docLinkHtml = 'Like what you see? Visit the ' +\n",
              "            '<a target=\"_blank\" href=https://colab.research.google.com/notebooks/data_table.ipynb>data table notebook</a>'\n",
              "            + ' to learn more about interactive tables.';\n",
              "          element.innerHTML = '';\n",
              "          dataTable['output_type'] = 'display_data';\n",
              "          await google.colab.output.renderOutput(dataTable, element);\n",
              "          const docLink = document.createElement('div');\n",
              "          docLink.innerHTML = docLinkHtml;\n",
              "          element.appendChild(docLink);\n",
              "        }\n",
              "      </script>\n",
              "    </div>\n",
              "  </div>\n",
              "  "
            ]
          },
          "metadata": {},
          "execution_count": 433
        }
      ]
    },
    {
      "cell_type": "markdown",
      "source": [
        "* There are retweets in the tweet_json dataset, which require cleaning"
      ],
      "metadata": {
        "id": "HERvuXCsmzom"
      }
    },
    {
      "cell_type": "markdown",
      "metadata": {
        "id": "DyoEdePP45rI"
      },
      "source": [
        "### **Quality Issues**\n",
        "1. The identifier (ID) column name in tweet_json dataset (id) is not corresponding to the ID name in both the twitter_archive and image_pred datasets (tweet_id) [*Consistency Issue*]\n",
        "\n",
        "2. Some of the breed names in p1, p2, p3 in the image_pred dataset columns are having the first letter as lowercase [*Consistency Issue*]\n",
        "\n",
        "3. The timestamp column in twitter_archive dataset is of datatype \"object\"; while the created_at column in the tweet_json dataset is of datatype \"datetime64\" [*Validity Issue*]\n",
        "\n",
        "4. The \"id\" column in the tweet_json dataset has a lot of duplicated values [*Validity Issue*]\n",
        "\n",
        "5. The image_pred dataset has missing records, as compared to the twitter_archive dataset (2075 instead of 2356) [*Completeness Issue*]\n",
        "\n",
        "6. There are values in the rating_denominator column in twitter_archive dataset which are greater/lesser than 10. However, the rating_denominator should always be 10 (maximum in the dataset is 170, minimum is 0) [*Accuracy Issue*]\n",
        "\n",
        "7. There are retweets in both the twitter_archive dataset and the tweet_json dataset, which require cleaning [*Validity Issue*]\n",
        "\n",
        "8. Some of the records in twitter_archive dataset are having \"None\" in the name column [*Accuracy Issue*]"
      ]
    },
    {
      "cell_type": "markdown",
      "metadata": {
        "extensions": {
          "jupyter_dashboards": {
            "version": 1,
            "views": {
              "grid_default": {
                "col": 0,
                "height": 7,
                "hidden": false,
                "row": 40,
                "width": 12
              },
              "report_default": {
                "hidden": false
              }
            }
          }
        },
        "id": "-DU5O76l45rJ"
      },
      "source": [
        "### **Tidiness Issues**\n",
        "1. The dog stages (doggo, puppo, pupper, fluffy) in twitter_archive dataset are in separate columns instead of one column\n",
        "\n",
        "2. There are irrelevant columns in twitter_archive dataset:\n",
        "> 'in_reply_to_status_id', 'in_reply_to_user_id', 'source', 'retweeted_status_id', 'retweeted_status_user_id', 'retweeted_status_timestamp'\n",
        "\n",
        "3. There are irrelevant columns in tweet_json dataset:\n",
        "> 'truncated', 'display_text_range', 'entities', 'extended_entities','source', 'in_reply_to_status_id', 'in_reply_to_status_id_str', 'in_reply_to_user_id', 'in_reply_to_user_id_str', 'in_reply_to_screen_name', 'possibly_sensitive', 'possibly_sensitive_appealable', 'lang', 'retweeted_status', 'quoted_status_id', 'quoted_status_id_str', 'quoted_status_permalink', 'quoted_status'\n",
        "\n",
        "4. There are three separate dataframes (twitter_archive, image_pred, tweet_json) from the 3 datasets, which require merging"
      ]
    },
    {
      "cell_type": "markdown",
      "metadata": {
        "extensions": {
          "jupyter_dashboards": {
            "version": 1,
            "views": {
              "grid_default": {
                "col": 4,
                "height": 4,
                "hidden": false,
                "row": 32,
                "width": 4
              },
              "report_default": {
                "hidden": false
              }
            }
          }
        },
        "id": "A6kttt5N45rK"
      },
      "source": [
        "# Cleaning Data\n",
        "In this section, clean **all** of the issues you documented while assessing. \n",
        "\n",
        "**Note:** Make a copy of the original data before cleaning. Cleaning includes merging individual pieces of data according to the rules of [tidy data](https://cran.r-project.org/web/packages/tidyr/vignettes/tidy-data.html). The result should be a high-quality and tidy master pandas DataFrame (or DataFrames, if appropriate)."
      ]
    },
    {
      "cell_type": "code",
      "execution_count": 434,
      "metadata": {
        "id": "w6lLL9mU45rL"
      },
      "outputs": [],
      "source": [
        "# Make copies of original pieces of data\n",
        "\n",
        "twitter_clean_df = twitter_archive_df.copy() # twitter archive dataset\n",
        "images_clean_df = image_pred_df.copy() # image predictions dataset\n",
        "json_clean_df = tweet_json_df.copy() # tweet json dataset"
      ]
    },
    {
      "cell_type": "markdown",
      "source": [
        "## Cleaning Data Quality Issues"
      ],
      "metadata": {
        "id": "bNOHV--y5-gK"
      }
    },
    {
      "cell_type": "markdown",
      "metadata": {
        "id": "_UzcgPrU45rL"
      },
      "source": [
        "### Issue #1: Inconsistent Identifier (ID) column names in twitter_archive and tweet_json Datasets [*Consistency Issue*]"
      ]
    },
    {
      "cell_type": "markdown",
      "metadata": {
        "id": "_JJtgRSF45rM"
      },
      "source": [
        "#### Define:\n",
        "* The identifier (ID) column name in tweet_json dataset (id) is not corresponding to the ID name in both the twitter_archive and image_pred datasets (tweet_id) [*Consistency Issue*]\n",
        "\n",
        "* Cleaning is by renaming id column of tweet_json dataset to match that of the twitter_archive dataset"
      ]
    },
    {
      "cell_type": "markdown",
      "metadata": {
        "id": "dF84QH6L45rN"
      },
      "source": [
        "#### Code"
      ]
    },
    {
      "cell_type": "code",
      "source": [
        "json_clean_df.columns"
      ],
      "metadata": {
        "colab": {
          "base_uri": "https://localhost:8080/"
        },
        "id": "NV1_og2k9Fg1",
        "outputId": "49c5e8ca-84ab-41ee-c564-0bc577948fef"
      },
      "execution_count": 435,
      "outputs": [
        {
          "output_type": "execute_result",
          "data": {
            "text/plain": [
              "Index(['created_at', 'id', 'id_str', 'full_text', 'truncated',\n",
              "       'display_text_range', 'entities', 'extended_entities', 'source',\n",
              "       'in_reply_to_status_id', 'in_reply_to_status_id_str',\n",
              "       'in_reply_to_user_id', 'in_reply_to_user_id_str',\n",
              "       'in_reply_to_screen_name', 'user', 'geo', 'coordinates', 'place',\n",
              "       'contributors', 'is_quote_status', 'retweet_count', 'favorite_count',\n",
              "       'favorited', 'retweeted', 'possibly_sensitive',\n",
              "       'possibly_sensitive_appealable', 'lang', 'retweeted_status',\n",
              "       'quoted_status_id', 'quoted_status_id_str', 'quoted_status_permalink',\n",
              "       'quoted_status'],\n",
              "      dtype='object')"
            ]
          },
          "metadata": {},
          "execution_count": 435
        }
      ]
    },
    {
      "cell_type": "code",
      "source": [
        "twitter_clean_df.columns"
      ],
      "metadata": {
        "colab": {
          "base_uri": "https://localhost:8080/"
        },
        "id": "3ePSZqOX9Mb6",
        "outputId": "7d1ba8ee-8a27-4bdb-f096-c24e32e727d9"
      },
      "execution_count": 436,
      "outputs": [
        {
          "output_type": "execute_result",
          "data": {
            "text/plain": [
              "Index(['tweet_id', 'in_reply_to_status_id', 'in_reply_to_user_id', 'timestamp',\n",
              "       'source', 'text', 'retweeted_status_id', 'retweeted_status_user_id',\n",
              "       'retweeted_status_timestamp', 'expanded_urls', 'rating_numerator',\n",
              "       'rating_denominator', 'name', 'doggo', 'floofer', 'pupper', 'puppo'],\n",
              "      dtype='object')"
            ]
          },
          "metadata": {},
          "execution_count": 436
        }
      ]
    },
    {
      "cell_type": "code",
      "execution_count": 437,
      "metadata": {
        "id": "zyp3Y9Bp45rN"
      },
      "outputs": [],
      "source": [
        "# Rename \"id\" column to \"tweet_id\"\n",
        "json_clean_df.rename(columns = {'id':'tweet_id'}, inplace = True)"
      ]
    },
    {
      "cell_type": "markdown",
      "metadata": {
        "id": "XqHwAYE745rO"
      },
      "source": [
        "#### Test"
      ]
    },
    {
      "cell_type": "code",
      "execution_count": 438,
      "metadata": {
        "id": "Q59Oka9k45rQ",
        "colab": {
          "base_uri": "https://localhost:8080/"
        },
        "outputId": "355c98ed-3d57-4219-ea97-f58a23006429"
      },
      "outputs": [
        {
          "output_type": "stream",
          "name": "stdout",
          "text": [
            "After renaming 'id' column:\n",
            " Index(['created_at', 'tweet_id', 'id_str', 'full_text', 'truncated',\n",
            "       'display_text_range', 'entities', 'extended_entities', 'source',\n",
            "       'in_reply_to_status_id', 'in_reply_to_status_id_str',\n",
            "       'in_reply_to_user_id', 'in_reply_to_user_id_str',\n",
            "       'in_reply_to_screen_name', 'user', 'geo', 'coordinates', 'place',\n",
            "       'contributors', 'is_quote_status', 'retweet_count', 'favorite_count',\n",
            "       'favorited', 'retweeted', 'possibly_sensitive',\n",
            "       'possibly_sensitive_appealable', 'lang', 'retweeted_status',\n",
            "       'quoted_status_id', 'quoted_status_id_str', 'quoted_status_permalink',\n",
            "       'quoted_status'],\n",
            "      dtype='object')\n"
          ]
        }
      ],
      "source": [
        "# After renaming the columns\n",
        "print(\"After renaming 'id' column:\\n\", json_clean_df.columns)"
      ]
    },
    {
      "cell_type": "markdown",
      "source": [
        "* Column successfully renamed from \"id\" to \"tweet_id\""
      ],
      "metadata": {
        "id": "bvS70nMR-BbR"
      }
    },
    {
      "cell_type": "markdown",
      "metadata": {
        "id": "4NEfF_mn-tLM"
      },
      "source": [
        "### Issue #2: Breed names having lowercase first letters in p1,p2,p3 columns of image_pred dataset [*Consistency Issue*]"
      ]
    },
    {
      "cell_type": "markdown",
      "metadata": {
        "collapsed": true,
        "extensions": {
          "jupyter_dashboards": {
            "version": 1,
            "views": {
              "grid_default": {
                "hidden": true
              },
              "report_default": {
                "hidden": true
              }
            }
          }
        },
        "id": "YjPT_7Mh-tLN"
      },
      "source": [
        "#### Define\n",
        "* Some of the breed names in p1, p2, p3 in the image_pred dataset columns are having the first letter as lowercase [*Consistency Issue*]\n",
        "* Cleaning is by making all the breed names to have the first letter as uppercase in the p1, p2 and p3 columns"
      ]
    },
    {
      "cell_type": "markdown",
      "metadata": {
        "id": "1ocNpSs3-tLO"
      },
      "source": [
        "#### Code"
      ]
    },
    {
      "cell_type": "code",
      "execution_count": 439,
      "metadata": {
        "id": "GR83mUDL-tLO",
        "colab": {
          "base_uri": "https://localhost:8080/",
          "height": 0
        },
        "outputId": "11f8e590-e465-40f9-a997-45e099a7617f"
      },
      "outputs": [
        {
          "output_type": "execute_result",
          "data": {
            "text/plain": [
              "                tweet_id                                          jpg_url  \\\n",
              "250   670691627984359425  https://pbs.twimg.com/media/CU7GehOUYAA9nn-.jpg   \n",
              "608   680070545539371008  https://pbs.twimg.com/media/CW-dU34WQAANBGy.jpg   \n",
              "1923  857029823797047296  https://pbs.twimg.com/media/C-TIEwMW0AEjb55.jpg   \n",
              "1017  709918798883774466  https://pbs.twimg.com/media/CdojYQmW8AApv4h.jpg   \n",
              "1293  751598357617971201  https://pbs.twimg.com/media/Cm42t5vXEAAv4CS.jpg   \n",
              "\n",
              "      img_num                 p1   p1_conf  p1_dog                  p2  \\\n",
              "250         1  Shetland_sheepdog  0.071124    True        home_theater   \n",
              "608         1          earthstar  0.127701   False            Shih-Tzu   \n",
              "1923        2   golden_retriever  0.968623    True  Labrador_retriever   \n",
              "1017        2           Pembroke  0.956222    True            Cardigan   \n",
              "1293        1         toy_poodle  0.757756    True    miniature_poodle   \n",
              "\n",
              "       p2_conf  p2_dog                              p3   p3_conf  p3_dog  \n",
              "250   0.068398   False  American_Staffordshire_terrier  0.066964    True  \n",
              "608   0.121811    True                          bubble  0.117820   False  \n",
              "1923  0.010325    True                          Saluki  0.004148    True  \n",
              "1017  0.020727    True                       Chihuahua  0.007912    True  \n",
              "1293  0.035150    True              Scottish_deerhound  0.027698    True  "
            ],
            "text/html": [
              "\n",
              "  <div id=\"df-042af8d1-7875-48d2-a05d-6ffce8562bb8\">\n",
              "    <div class=\"colab-df-container\">\n",
              "      <div>\n",
              "<style scoped>\n",
              "    .dataframe tbody tr th:only-of-type {\n",
              "        vertical-align: middle;\n",
              "    }\n",
              "\n",
              "    .dataframe tbody tr th {\n",
              "        vertical-align: top;\n",
              "    }\n",
              "\n",
              "    .dataframe thead th {\n",
              "        text-align: right;\n",
              "    }\n",
              "</style>\n",
              "<table border=\"1\" class=\"dataframe\">\n",
              "  <thead>\n",
              "    <tr style=\"text-align: right;\">\n",
              "      <th></th>\n",
              "      <th>tweet_id</th>\n",
              "      <th>jpg_url</th>\n",
              "      <th>img_num</th>\n",
              "      <th>p1</th>\n",
              "      <th>p1_conf</th>\n",
              "      <th>p1_dog</th>\n",
              "      <th>p2</th>\n",
              "      <th>p2_conf</th>\n",
              "      <th>p2_dog</th>\n",
              "      <th>p3</th>\n",
              "      <th>p3_conf</th>\n",
              "      <th>p3_dog</th>\n",
              "    </tr>\n",
              "  </thead>\n",
              "  <tbody>\n",
              "    <tr>\n",
              "      <th>250</th>\n",
              "      <td>670691627984359425</td>\n",
              "      <td>https://pbs.twimg.com/media/CU7GehOUYAA9nn-.jpg</td>\n",
              "      <td>1</td>\n",
              "      <td>Shetland_sheepdog</td>\n",
              "      <td>0.071124</td>\n",
              "      <td>True</td>\n",
              "      <td>home_theater</td>\n",
              "      <td>0.068398</td>\n",
              "      <td>False</td>\n",
              "      <td>American_Staffordshire_terrier</td>\n",
              "      <td>0.066964</td>\n",
              "      <td>True</td>\n",
              "    </tr>\n",
              "    <tr>\n",
              "      <th>608</th>\n",
              "      <td>680070545539371008</td>\n",
              "      <td>https://pbs.twimg.com/media/CW-dU34WQAANBGy.jpg</td>\n",
              "      <td>1</td>\n",
              "      <td>earthstar</td>\n",
              "      <td>0.127701</td>\n",
              "      <td>False</td>\n",
              "      <td>Shih-Tzu</td>\n",
              "      <td>0.121811</td>\n",
              "      <td>True</td>\n",
              "      <td>bubble</td>\n",
              "      <td>0.117820</td>\n",
              "      <td>False</td>\n",
              "    </tr>\n",
              "    <tr>\n",
              "      <th>1923</th>\n",
              "      <td>857029823797047296</td>\n",
              "      <td>https://pbs.twimg.com/media/C-TIEwMW0AEjb55.jpg</td>\n",
              "      <td>2</td>\n",
              "      <td>golden_retriever</td>\n",
              "      <td>0.968623</td>\n",
              "      <td>True</td>\n",
              "      <td>Labrador_retriever</td>\n",
              "      <td>0.010325</td>\n",
              "      <td>True</td>\n",
              "      <td>Saluki</td>\n",
              "      <td>0.004148</td>\n",
              "      <td>True</td>\n",
              "    </tr>\n",
              "    <tr>\n",
              "      <th>1017</th>\n",
              "      <td>709918798883774466</td>\n",
              "      <td>https://pbs.twimg.com/media/CdojYQmW8AApv4h.jpg</td>\n",
              "      <td>2</td>\n",
              "      <td>Pembroke</td>\n",
              "      <td>0.956222</td>\n",
              "      <td>True</td>\n",
              "      <td>Cardigan</td>\n",
              "      <td>0.020727</td>\n",
              "      <td>True</td>\n",
              "      <td>Chihuahua</td>\n",
              "      <td>0.007912</td>\n",
              "      <td>True</td>\n",
              "    </tr>\n",
              "    <tr>\n",
              "      <th>1293</th>\n",
              "      <td>751598357617971201</td>\n",
              "      <td>https://pbs.twimg.com/media/Cm42t5vXEAAv4CS.jpg</td>\n",
              "      <td>1</td>\n",
              "      <td>toy_poodle</td>\n",
              "      <td>0.757756</td>\n",
              "      <td>True</td>\n",
              "      <td>miniature_poodle</td>\n",
              "      <td>0.035150</td>\n",
              "      <td>True</td>\n",
              "      <td>Scottish_deerhound</td>\n",
              "      <td>0.027698</td>\n",
              "      <td>True</td>\n",
              "    </tr>\n",
              "  </tbody>\n",
              "</table>\n",
              "</div>\n",
              "      <button class=\"colab-df-convert\" onclick=\"convertToInteractive('df-042af8d1-7875-48d2-a05d-6ffce8562bb8')\"\n",
              "              title=\"Convert this dataframe to an interactive table.\"\n",
              "              style=\"display:none;\">\n",
              "        \n",
              "  <svg xmlns=\"http://www.w3.org/2000/svg\" height=\"24px\"viewBox=\"0 0 24 24\"\n",
              "       width=\"24px\">\n",
              "    <path d=\"M0 0h24v24H0V0z\" fill=\"none\"/>\n",
              "    <path d=\"M18.56 5.44l.94 2.06.94-2.06 2.06-.94-2.06-.94-.94-2.06-.94 2.06-2.06.94zm-11 1L8.5 8.5l.94-2.06 2.06-.94-2.06-.94L8.5 2.5l-.94 2.06-2.06.94zm10 10l.94 2.06.94-2.06 2.06-.94-2.06-.94-.94-2.06-.94 2.06-2.06.94z\"/><path d=\"M17.41 7.96l-1.37-1.37c-.4-.4-.92-.59-1.43-.59-.52 0-1.04.2-1.43.59L10.3 9.45l-7.72 7.72c-.78.78-.78 2.05 0 2.83L4 21.41c.39.39.9.59 1.41.59.51 0 1.02-.2 1.41-.59l7.78-7.78 2.81-2.81c.8-.78.8-2.07 0-2.86zM5.41 20L4 18.59l7.72-7.72 1.47 1.35L5.41 20z\"/>\n",
              "  </svg>\n",
              "      </button>\n",
              "      \n",
              "  <style>\n",
              "    .colab-df-container {\n",
              "      display:flex;\n",
              "      flex-wrap:wrap;\n",
              "      gap: 12px;\n",
              "    }\n",
              "\n",
              "    .colab-df-convert {\n",
              "      background-color: #E8F0FE;\n",
              "      border: none;\n",
              "      border-radius: 50%;\n",
              "      cursor: pointer;\n",
              "      display: none;\n",
              "      fill: #1967D2;\n",
              "      height: 32px;\n",
              "      padding: 0 0 0 0;\n",
              "      width: 32px;\n",
              "    }\n",
              "\n",
              "    .colab-df-convert:hover {\n",
              "      background-color: #E2EBFA;\n",
              "      box-shadow: 0px 1px 2px rgba(60, 64, 67, 0.3), 0px 1px 3px 1px rgba(60, 64, 67, 0.15);\n",
              "      fill: #174EA6;\n",
              "    }\n",
              "\n",
              "    [theme=dark] .colab-df-convert {\n",
              "      background-color: #3B4455;\n",
              "      fill: #D2E3FC;\n",
              "    }\n",
              "\n",
              "    [theme=dark] .colab-df-convert:hover {\n",
              "      background-color: #434B5C;\n",
              "      box-shadow: 0px 1px 3px 1px rgba(0, 0, 0, 0.15);\n",
              "      filter: drop-shadow(0px 1px 2px rgba(0, 0, 0, 0.3));\n",
              "      fill: #FFFFFF;\n",
              "    }\n",
              "  </style>\n",
              "\n",
              "      <script>\n",
              "        const buttonEl =\n",
              "          document.querySelector('#df-042af8d1-7875-48d2-a05d-6ffce8562bb8 button.colab-df-convert');\n",
              "        buttonEl.style.display =\n",
              "          google.colab.kernel.accessAllowed ? 'block' : 'none';\n",
              "\n",
              "        async function convertToInteractive(key) {\n",
              "          const element = document.querySelector('#df-042af8d1-7875-48d2-a05d-6ffce8562bb8');\n",
              "          const dataTable =\n",
              "            await google.colab.kernel.invokeFunction('convertToInteractive',\n",
              "                                                     [key], {});\n",
              "          if (!dataTable) return;\n",
              "\n",
              "          const docLinkHtml = 'Like what you see? Visit the ' +\n",
              "            '<a target=\"_blank\" href=https://colab.research.google.com/notebooks/data_table.ipynb>data table notebook</a>'\n",
              "            + ' to learn more about interactive tables.';\n",
              "          element.innerHTML = '';\n",
              "          dataTable['output_type'] = 'display_data';\n",
              "          await google.colab.output.renderOutput(dataTable, element);\n",
              "          const docLink = document.createElement('div');\n",
              "          docLink.innerHTML = docLinkHtml;\n",
              "          element.appendChild(docLink);\n",
              "        }\n",
              "      </script>\n",
              "    </div>\n",
              "  </div>\n",
              "  "
            ]
          },
          "metadata": {},
          "execution_count": 439
        }
      ],
      "source": [
        "# Checking sample rows\n",
        "images_clean_df.sample(5)"
      ]
    },
    {
      "cell_type": "code",
      "source": [
        "# Change first letter for breed names in p1, p2, p3 columns\n",
        "images_clean_df['p1'] = images_clean_df['p1'].str.title() #p1 column\n",
        "images_clean_df['p2'] = images_clean_df['p2'].str.title() #p2 column\n",
        "images_clean_df['p3'] = images_clean_df['p3'].str.title() #p3 column"
      ],
      "metadata": {
        "id": "eHYJA4qsklyI"
      },
      "execution_count": 440,
      "outputs": []
    },
    {
      "cell_type": "markdown",
      "metadata": {
        "id": "KL25OOaU-tLP"
      },
      "source": [
        "#### Test"
      ]
    },
    {
      "cell_type": "code",
      "source": [
        "# Checking sample rows\n",
        "images_clean_df.sample(5)"
      ],
      "metadata": {
        "colab": {
          "base_uri": "https://localhost:8080/",
          "height": 0
        },
        "id": "--I4g8bVlIb6",
        "outputId": "c07d37fc-7f20-43db-b6d6-98b8da721782"
      },
      "execution_count": 441,
      "outputs": [
        {
          "output_type": "execute_result",
          "data": {
            "text/plain": [
              "                tweet_id                                          jpg_url  \\\n",
              "1026  710833117892898816  https://pbs.twimg.com/media/Cd1i8qvUkAE-Jlr.jpg   \n",
              "34    666435652385423360  https://pbs.twimg.com/media/CT-nsTQWEAEkyDn.jpg   \n",
              "708   685198997565345792  https://pbs.twimg.com/media/CYJQxvJW8AAkkws.jpg   \n",
              "1887  847971574464610304  https://pbs.twimg.com/media/C8SZH1EWAAAIRRF.jpg   \n",
              "246   670474236058800128  https://pbs.twimg.com/media/CU4AwqQWUAAEgE2.jpg   \n",
              "\n",
              "      img_num                        p1   p1_conf  p1_dog         p2  \\\n",
              "1026        1                  Pembroke  0.803742    True   Cardigan   \n",
              "34          1  Chesapeake_Bay_Retriever  0.184130    True  Chain_Saw   \n",
              "708         1                Dishwasher  0.888829   False      Stove   \n",
              "1887        1                Coffee_Mug  0.633652   False        Cup   \n",
              "246         1                      Wool  0.070076   False    Siamang   \n",
              "\n",
              "       p2_conf  p2_dog                    p3   p3_conf  p3_dog  \n",
              "1026  0.189712    True       German_Shepherd  0.001746    True  \n",
              "34    0.056775   False           Power_Drill  0.036763   False  \n",
              "708   0.013411   False  Old_English_Sheepdog  0.009671    True  \n",
              "1887  0.273392   False         Toilet_Tissue  0.066656   False  \n",
              "246   0.062536   False               Gorilla  0.058894   False  "
            ],
            "text/html": [
              "\n",
              "  <div id=\"df-7ce13f3e-e87a-42d7-a92d-882cb2e11867\">\n",
              "    <div class=\"colab-df-container\">\n",
              "      <div>\n",
              "<style scoped>\n",
              "    .dataframe tbody tr th:only-of-type {\n",
              "        vertical-align: middle;\n",
              "    }\n",
              "\n",
              "    .dataframe tbody tr th {\n",
              "        vertical-align: top;\n",
              "    }\n",
              "\n",
              "    .dataframe thead th {\n",
              "        text-align: right;\n",
              "    }\n",
              "</style>\n",
              "<table border=\"1\" class=\"dataframe\">\n",
              "  <thead>\n",
              "    <tr style=\"text-align: right;\">\n",
              "      <th></th>\n",
              "      <th>tweet_id</th>\n",
              "      <th>jpg_url</th>\n",
              "      <th>img_num</th>\n",
              "      <th>p1</th>\n",
              "      <th>p1_conf</th>\n",
              "      <th>p1_dog</th>\n",
              "      <th>p2</th>\n",
              "      <th>p2_conf</th>\n",
              "      <th>p2_dog</th>\n",
              "      <th>p3</th>\n",
              "      <th>p3_conf</th>\n",
              "      <th>p3_dog</th>\n",
              "    </tr>\n",
              "  </thead>\n",
              "  <tbody>\n",
              "    <tr>\n",
              "      <th>1026</th>\n",
              "      <td>710833117892898816</td>\n",
              "      <td>https://pbs.twimg.com/media/Cd1i8qvUkAE-Jlr.jpg</td>\n",
              "      <td>1</td>\n",
              "      <td>Pembroke</td>\n",
              "      <td>0.803742</td>\n",
              "      <td>True</td>\n",
              "      <td>Cardigan</td>\n",
              "      <td>0.189712</td>\n",
              "      <td>True</td>\n",
              "      <td>German_Shepherd</td>\n",
              "      <td>0.001746</td>\n",
              "      <td>True</td>\n",
              "    </tr>\n",
              "    <tr>\n",
              "      <th>34</th>\n",
              "      <td>666435652385423360</td>\n",
              "      <td>https://pbs.twimg.com/media/CT-nsTQWEAEkyDn.jpg</td>\n",
              "      <td>1</td>\n",
              "      <td>Chesapeake_Bay_Retriever</td>\n",
              "      <td>0.184130</td>\n",
              "      <td>True</td>\n",
              "      <td>Chain_Saw</td>\n",
              "      <td>0.056775</td>\n",
              "      <td>False</td>\n",
              "      <td>Power_Drill</td>\n",
              "      <td>0.036763</td>\n",
              "      <td>False</td>\n",
              "    </tr>\n",
              "    <tr>\n",
              "      <th>708</th>\n",
              "      <td>685198997565345792</td>\n",
              "      <td>https://pbs.twimg.com/media/CYJQxvJW8AAkkws.jpg</td>\n",
              "      <td>1</td>\n",
              "      <td>Dishwasher</td>\n",
              "      <td>0.888829</td>\n",
              "      <td>False</td>\n",
              "      <td>Stove</td>\n",
              "      <td>0.013411</td>\n",
              "      <td>False</td>\n",
              "      <td>Old_English_Sheepdog</td>\n",
              "      <td>0.009671</td>\n",
              "      <td>True</td>\n",
              "    </tr>\n",
              "    <tr>\n",
              "      <th>1887</th>\n",
              "      <td>847971574464610304</td>\n",
              "      <td>https://pbs.twimg.com/media/C8SZH1EWAAAIRRF.jpg</td>\n",
              "      <td>1</td>\n",
              "      <td>Coffee_Mug</td>\n",
              "      <td>0.633652</td>\n",
              "      <td>False</td>\n",
              "      <td>Cup</td>\n",
              "      <td>0.273392</td>\n",
              "      <td>False</td>\n",
              "      <td>Toilet_Tissue</td>\n",
              "      <td>0.066656</td>\n",
              "      <td>False</td>\n",
              "    </tr>\n",
              "    <tr>\n",
              "      <th>246</th>\n",
              "      <td>670474236058800128</td>\n",
              "      <td>https://pbs.twimg.com/media/CU4AwqQWUAAEgE2.jpg</td>\n",
              "      <td>1</td>\n",
              "      <td>Wool</td>\n",
              "      <td>0.070076</td>\n",
              "      <td>False</td>\n",
              "      <td>Siamang</td>\n",
              "      <td>0.062536</td>\n",
              "      <td>False</td>\n",
              "      <td>Gorilla</td>\n",
              "      <td>0.058894</td>\n",
              "      <td>False</td>\n",
              "    </tr>\n",
              "  </tbody>\n",
              "</table>\n",
              "</div>\n",
              "      <button class=\"colab-df-convert\" onclick=\"convertToInteractive('df-7ce13f3e-e87a-42d7-a92d-882cb2e11867')\"\n",
              "              title=\"Convert this dataframe to an interactive table.\"\n",
              "              style=\"display:none;\">\n",
              "        \n",
              "  <svg xmlns=\"http://www.w3.org/2000/svg\" height=\"24px\"viewBox=\"0 0 24 24\"\n",
              "       width=\"24px\">\n",
              "    <path d=\"M0 0h24v24H0V0z\" fill=\"none\"/>\n",
              "    <path d=\"M18.56 5.44l.94 2.06.94-2.06 2.06-.94-2.06-.94-.94-2.06-.94 2.06-2.06.94zm-11 1L8.5 8.5l.94-2.06 2.06-.94-2.06-.94L8.5 2.5l-.94 2.06-2.06.94zm10 10l.94 2.06.94-2.06 2.06-.94-2.06-.94-.94-2.06-.94 2.06-2.06.94z\"/><path d=\"M17.41 7.96l-1.37-1.37c-.4-.4-.92-.59-1.43-.59-.52 0-1.04.2-1.43.59L10.3 9.45l-7.72 7.72c-.78.78-.78 2.05 0 2.83L4 21.41c.39.39.9.59 1.41.59.51 0 1.02-.2 1.41-.59l7.78-7.78 2.81-2.81c.8-.78.8-2.07 0-2.86zM5.41 20L4 18.59l7.72-7.72 1.47 1.35L5.41 20z\"/>\n",
              "  </svg>\n",
              "      </button>\n",
              "      \n",
              "  <style>\n",
              "    .colab-df-container {\n",
              "      display:flex;\n",
              "      flex-wrap:wrap;\n",
              "      gap: 12px;\n",
              "    }\n",
              "\n",
              "    .colab-df-convert {\n",
              "      background-color: #E8F0FE;\n",
              "      border: none;\n",
              "      border-radius: 50%;\n",
              "      cursor: pointer;\n",
              "      display: none;\n",
              "      fill: #1967D2;\n",
              "      height: 32px;\n",
              "      padding: 0 0 0 0;\n",
              "      width: 32px;\n",
              "    }\n",
              "\n",
              "    .colab-df-convert:hover {\n",
              "      background-color: #E2EBFA;\n",
              "      box-shadow: 0px 1px 2px rgba(60, 64, 67, 0.3), 0px 1px 3px 1px rgba(60, 64, 67, 0.15);\n",
              "      fill: #174EA6;\n",
              "    }\n",
              "\n",
              "    [theme=dark] .colab-df-convert {\n",
              "      background-color: #3B4455;\n",
              "      fill: #D2E3FC;\n",
              "    }\n",
              "\n",
              "    [theme=dark] .colab-df-convert:hover {\n",
              "      background-color: #434B5C;\n",
              "      box-shadow: 0px 1px 3px 1px rgba(0, 0, 0, 0.15);\n",
              "      filter: drop-shadow(0px 1px 2px rgba(0, 0, 0, 0.3));\n",
              "      fill: #FFFFFF;\n",
              "    }\n",
              "  </style>\n",
              "\n",
              "      <script>\n",
              "        const buttonEl =\n",
              "          document.querySelector('#df-7ce13f3e-e87a-42d7-a92d-882cb2e11867 button.colab-df-convert');\n",
              "        buttonEl.style.display =\n",
              "          google.colab.kernel.accessAllowed ? 'block' : 'none';\n",
              "\n",
              "        async function convertToInteractive(key) {\n",
              "          const element = document.querySelector('#df-7ce13f3e-e87a-42d7-a92d-882cb2e11867');\n",
              "          const dataTable =\n",
              "            await google.colab.kernel.invokeFunction('convertToInteractive',\n",
              "                                                     [key], {});\n",
              "          if (!dataTable) return;\n",
              "\n",
              "          const docLinkHtml = 'Like what you see? Visit the ' +\n",
              "            '<a target=\"_blank\" href=https://colab.research.google.com/notebooks/data_table.ipynb>data table notebook</a>'\n",
              "            + ' to learn more about interactive tables.';\n",
              "          element.innerHTML = '';\n",
              "          dataTable['output_type'] = 'display_data';\n",
              "          await google.colab.output.renderOutput(dataTable, element);\n",
              "          const docLink = document.createElement('div');\n",
              "          docLink.innerHTML = docLinkHtml;\n",
              "          element.appendChild(docLink);\n",
              "        }\n",
              "      </script>\n",
              "    </div>\n",
              "  </div>\n",
              "  "
            ]
          },
          "metadata": {},
          "execution_count": 441
        }
      ]
    },
    {
      "cell_type": "markdown",
      "source": [
        "* The sample rows displayed now have all breed names starting with an uppercase letter\n",
        "* This change is made accross all the records in the p1, p2, p3 columns of the image predictions dataset"
      ],
      "metadata": {
        "id": "oxyhAVg2lNTY"
      }
    },
    {
      "cell_type": "markdown",
      "metadata": {
        "id": "t1rCCsF145rS"
      },
      "source": [
        "### Issue #3: Timestamp Column in twitter_archive dataset is of datatype \"string\" instead of \"datetime\" [*Validity Issue*]"
      ]
    },
    {
      "cell_type": "markdown",
      "metadata": {
        "collapsed": true,
        "extensions": {
          "jupyter_dashboards": {
            "version": 1,
            "views": {
              "grid_default": {
                "hidden": true
              },
              "report_default": {
                "hidden": true
              }
            }
          }
        },
        "id": "3IkHUXel45rT"
      },
      "source": [
        "#### Define\n",
        "* The \"timestamp\" column in twitter_archive dataset is a String Object; instead of being a Datetime Object [*Validity Issue*]\n",
        "\n",
        "* Cleaning will require conversion of the columns values to Datetime dtype, and renaming into \"date\""
      ]
    },
    {
      "cell_type": "markdown",
      "metadata": {
        "id": "Dk8l7lXF45rT"
      },
      "source": [
        "#### Code"
      ]
    },
    {
      "cell_type": "code",
      "execution_count": 442,
      "metadata": {
        "id": "8vz0VcMo45rU",
        "colab": {
          "base_uri": "https://localhost:8080/"
        },
        "outputId": "e4599cd7-f2d9-4d4b-f830-a7012c28d62b"
      },
      "outputs": [
        {
          "output_type": "execute_result",
          "data": {
            "text/plain": [
              "tweet_id                        int64\n",
              "in_reply_to_status_id         float64\n",
              "in_reply_to_user_id           float64\n",
              "timestamp                      object\n",
              "source                         object\n",
              "text                           object\n",
              "retweeted_status_id           float64\n",
              "retweeted_status_user_id      float64\n",
              "retweeted_status_timestamp     object\n",
              "expanded_urls                  object\n",
              "rating_numerator                int64\n",
              "rating_denominator              int64\n",
              "name                           object\n",
              "doggo                          object\n",
              "floofer                        object\n",
              "pupper                         object\n",
              "puppo                          object\n",
              "dtype: object"
            ]
          },
          "metadata": {},
          "execution_count": 442
        }
      ],
      "source": [
        "# Displaying dtypes\n",
        "twitter_clean_df.dtypes"
      ]
    },
    {
      "cell_type": "code",
      "source": [
        "#value at index 5 and column 'timestamp'\n",
        "date = twitter_clean_df.at[5, 'timestamp']\n",
        "print(date)\n",
        "print(type(date))"
      ],
      "metadata": {
        "colab": {
          "base_uri": "https://localhost:8080/"
        },
        "id": "hIbQOvOr_WXl",
        "outputId": "c011e32f-f2e4-4111-cafa-dea838a642f0"
      },
      "execution_count": 443,
      "outputs": [
        {
          "output_type": "stream",
          "name": "stdout",
          "text": [
            "2017-07-29 00:08:17 +0000\n",
            "<class 'str'>\n"
          ]
        }
      ]
    },
    {
      "cell_type": "markdown",
      "source": [
        "* The timestamp column has String Objects instead of Datetime Objects"
      ],
      "metadata": {
        "id": "EqfOQUvsCmCu"
      }
    },
    {
      "cell_type": "code",
      "source": [
        "# Displaying sample to see format of timestamp\n",
        "twitter_clean_df.sample(2)"
      ],
      "metadata": {
        "colab": {
          "base_uri": "https://localhost:8080/",
          "height": 0
        },
        "id": "FfbAQdwI4OBI",
        "outputId": "290df29f-cd2c-4103-a582-c696995891d7"
      },
      "execution_count": 444,
      "outputs": [
        {
          "output_type": "execute_result",
          "data": {
            "text/plain": [
              "               tweet_id  in_reply_to_status_id  in_reply_to_user_id  \\\n",
              "363  829374341691346946                    NaN                  NaN   \n",
              "293  837820167694528512                    NaN                  NaN   \n",
              "\n",
              "                     timestamp  \\\n",
              "363  2017-02-08 17:00:26 +0000   \n",
              "293  2017-03-04 00:21:08 +0000   \n",
              "\n",
              "                                                source  \\\n",
              "363  <a href=\"http://twitter.com/download/iphone\" r...   \n",
              "293  <a href=\"http://twitter.com/download/iphone\" r...   \n",
              "\n",
              "                                                  text  retweeted_status_id  \\\n",
              "363  This is Astrid. She's a guide doggo in trainin...                  NaN   \n",
              "293  Here's a pupper before and after being asked \"...                  NaN   \n",
              "\n",
              "     retweeted_status_user_id retweeted_status_timestamp  \\\n",
              "363                       NaN                        NaN   \n",
              "293                       NaN                        NaN   \n",
              "\n",
              "                                         expanded_urls  rating_numerator  \\\n",
              "363  https://twitter.com/dog_rates/status/829374341...                13   \n",
              "293  https://twitter.com/dog_rates/status/837820167...                12   \n",
              "\n",
              "     rating_denominator    name  doggo floofer  pupper puppo  \n",
              "363                  10  Astrid  doggo    None    None  None  \n",
              "293                  10    None   None    None  pupper  None  "
            ],
            "text/html": [
              "\n",
              "  <div id=\"df-ca127cbc-f174-4b9d-8c36-c7d9a20a3927\">\n",
              "    <div class=\"colab-df-container\">\n",
              "      <div>\n",
              "<style scoped>\n",
              "    .dataframe tbody tr th:only-of-type {\n",
              "        vertical-align: middle;\n",
              "    }\n",
              "\n",
              "    .dataframe tbody tr th {\n",
              "        vertical-align: top;\n",
              "    }\n",
              "\n",
              "    .dataframe thead th {\n",
              "        text-align: right;\n",
              "    }\n",
              "</style>\n",
              "<table border=\"1\" class=\"dataframe\">\n",
              "  <thead>\n",
              "    <tr style=\"text-align: right;\">\n",
              "      <th></th>\n",
              "      <th>tweet_id</th>\n",
              "      <th>in_reply_to_status_id</th>\n",
              "      <th>in_reply_to_user_id</th>\n",
              "      <th>timestamp</th>\n",
              "      <th>source</th>\n",
              "      <th>text</th>\n",
              "      <th>retweeted_status_id</th>\n",
              "      <th>retweeted_status_user_id</th>\n",
              "      <th>retweeted_status_timestamp</th>\n",
              "      <th>expanded_urls</th>\n",
              "      <th>rating_numerator</th>\n",
              "      <th>rating_denominator</th>\n",
              "      <th>name</th>\n",
              "      <th>doggo</th>\n",
              "      <th>floofer</th>\n",
              "      <th>pupper</th>\n",
              "      <th>puppo</th>\n",
              "    </tr>\n",
              "  </thead>\n",
              "  <tbody>\n",
              "    <tr>\n",
              "      <th>363</th>\n",
              "      <td>829374341691346946</td>\n",
              "      <td>NaN</td>\n",
              "      <td>NaN</td>\n",
              "      <td>2017-02-08 17:00:26 +0000</td>\n",
              "      <td>&lt;a href=\"http://twitter.com/download/iphone\" r...</td>\n",
              "      <td>This is Astrid. She's a guide doggo in trainin...</td>\n",
              "      <td>NaN</td>\n",
              "      <td>NaN</td>\n",
              "      <td>NaN</td>\n",
              "      <td>https://twitter.com/dog_rates/status/829374341...</td>\n",
              "      <td>13</td>\n",
              "      <td>10</td>\n",
              "      <td>Astrid</td>\n",
              "      <td>doggo</td>\n",
              "      <td>None</td>\n",
              "      <td>None</td>\n",
              "      <td>None</td>\n",
              "    </tr>\n",
              "    <tr>\n",
              "      <th>293</th>\n",
              "      <td>837820167694528512</td>\n",
              "      <td>NaN</td>\n",
              "      <td>NaN</td>\n",
              "      <td>2017-03-04 00:21:08 +0000</td>\n",
              "      <td>&lt;a href=\"http://twitter.com/download/iphone\" r...</td>\n",
              "      <td>Here's a pupper before and after being asked \"...</td>\n",
              "      <td>NaN</td>\n",
              "      <td>NaN</td>\n",
              "      <td>NaN</td>\n",
              "      <td>https://twitter.com/dog_rates/status/837820167...</td>\n",
              "      <td>12</td>\n",
              "      <td>10</td>\n",
              "      <td>None</td>\n",
              "      <td>None</td>\n",
              "      <td>None</td>\n",
              "      <td>pupper</td>\n",
              "      <td>None</td>\n",
              "    </tr>\n",
              "  </tbody>\n",
              "</table>\n",
              "</div>\n",
              "      <button class=\"colab-df-convert\" onclick=\"convertToInteractive('df-ca127cbc-f174-4b9d-8c36-c7d9a20a3927')\"\n",
              "              title=\"Convert this dataframe to an interactive table.\"\n",
              "              style=\"display:none;\">\n",
              "        \n",
              "  <svg xmlns=\"http://www.w3.org/2000/svg\" height=\"24px\"viewBox=\"0 0 24 24\"\n",
              "       width=\"24px\">\n",
              "    <path d=\"M0 0h24v24H0V0z\" fill=\"none\"/>\n",
              "    <path d=\"M18.56 5.44l.94 2.06.94-2.06 2.06-.94-2.06-.94-.94-2.06-.94 2.06-2.06.94zm-11 1L8.5 8.5l.94-2.06 2.06-.94-2.06-.94L8.5 2.5l-.94 2.06-2.06.94zm10 10l.94 2.06.94-2.06 2.06-.94-2.06-.94-.94-2.06-.94 2.06-2.06.94z\"/><path d=\"M17.41 7.96l-1.37-1.37c-.4-.4-.92-.59-1.43-.59-.52 0-1.04.2-1.43.59L10.3 9.45l-7.72 7.72c-.78.78-.78 2.05 0 2.83L4 21.41c.39.39.9.59 1.41.59.51 0 1.02-.2 1.41-.59l7.78-7.78 2.81-2.81c.8-.78.8-2.07 0-2.86zM5.41 20L4 18.59l7.72-7.72 1.47 1.35L5.41 20z\"/>\n",
              "  </svg>\n",
              "      </button>\n",
              "      \n",
              "  <style>\n",
              "    .colab-df-container {\n",
              "      display:flex;\n",
              "      flex-wrap:wrap;\n",
              "      gap: 12px;\n",
              "    }\n",
              "\n",
              "    .colab-df-convert {\n",
              "      background-color: #E8F0FE;\n",
              "      border: none;\n",
              "      border-radius: 50%;\n",
              "      cursor: pointer;\n",
              "      display: none;\n",
              "      fill: #1967D2;\n",
              "      height: 32px;\n",
              "      padding: 0 0 0 0;\n",
              "      width: 32px;\n",
              "    }\n",
              "\n",
              "    .colab-df-convert:hover {\n",
              "      background-color: #E2EBFA;\n",
              "      box-shadow: 0px 1px 2px rgba(60, 64, 67, 0.3), 0px 1px 3px 1px rgba(60, 64, 67, 0.15);\n",
              "      fill: #174EA6;\n",
              "    }\n",
              "\n",
              "    [theme=dark] .colab-df-convert {\n",
              "      background-color: #3B4455;\n",
              "      fill: #D2E3FC;\n",
              "    }\n",
              "\n",
              "    [theme=dark] .colab-df-convert:hover {\n",
              "      background-color: #434B5C;\n",
              "      box-shadow: 0px 1px 3px 1px rgba(0, 0, 0, 0.15);\n",
              "      filter: drop-shadow(0px 1px 2px rgba(0, 0, 0, 0.3));\n",
              "      fill: #FFFFFF;\n",
              "    }\n",
              "  </style>\n",
              "\n",
              "      <script>\n",
              "        const buttonEl =\n",
              "          document.querySelector('#df-ca127cbc-f174-4b9d-8c36-c7d9a20a3927 button.colab-df-convert');\n",
              "        buttonEl.style.display =\n",
              "          google.colab.kernel.accessAllowed ? 'block' : 'none';\n",
              "\n",
              "        async function convertToInteractive(key) {\n",
              "          const element = document.querySelector('#df-ca127cbc-f174-4b9d-8c36-c7d9a20a3927');\n",
              "          const dataTable =\n",
              "            await google.colab.kernel.invokeFunction('convertToInteractive',\n",
              "                                                     [key], {});\n",
              "          if (!dataTable) return;\n",
              "\n",
              "          const docLinkHtml = 'Like what you see? Visit the ' +\n",
              "            '<a target=\"_blank\" href=https://colab.research.google.com/notebooks/data_table.ipynb>data table notebook</a>'\n",
              "            + ' to learn more about interactive tables.';\n",
              "          element.innerHTML = '';\n",
              "          dataTable['output_type'] = 'display_data';\n",
              "          await google.colab.output.renderOutput(dataTable, element);\n",
              "          const docLink = document.createElement('div');\n",
              "          docLink.innerHTML = docLinkHtml;\n",
              "          element.appendChild(docLink);\n",
              "        }\n",
              "      </script>\n",
              "    </div>\n",
              "  </div>\n",
              "  "
            ]
          },
          "metadata": {},
          "execution_count": 444
        }
      ]
    },
    {
      "cell_type": "code",
      "source": [
        "# defining list of dates\n",
        "dates = []\n",
        "\n",
        "# loop for converting String to Datetime Object\n",
        "for date in twitter_clean_df['timestamp']:\n",
        "    dates.append(datetime.strptime(date, \"%Y-%m-%d %H:%M:%S +0000\").date())"
      ],
      "metadata": {
        "id": "QZPWttzIAu7u"
      },
      "execution_count": 445,
      "outputs": []
    },
    {
      "cell_type": "code",
      "source": [
        "# Confirming list of dates contains Datetime objects\n",
        "type(dates[1])"
      ],
      "metadata": {
        "colab": {
          "base_uri": "https://localhost:8080/"
        },
        "id": "NmaSiOU9_MVd",
        "outputId": "1d2ffc08-470a-47b2-bef5-cabfee5e834c"
      },
      "execution_count": 446,
      "outputs": [
        {
          "output_type": "execute_result",
          "data": {
            "text/plain": [
              "datetime.date"
            ]
          },
          "metadata": {},
          "execution_count": 446
        }
      ]
    },
    {
      "cell_type": "code",
      "source": [
        "# updating 'timestamp' column with new Datetime objects list \n",
        "twitter_clean_df['timestamp'] = dates"
      ],
      "metadata": {
        "id": "lghZfk8RDJiW"
      },
      "execution_count": 447,
      "outputs": []
    },
    {
      "cell_type": "code",
      "source": [
        "# renaming 'timestamp' column into 'date'\n",
        "twitter_clean_df.rename(columns = {'timestamp':'date'}, inplace=True)"
      ],
      "metadata": {
        "id": "CEbQ9hgSbL5f"
      },
      "execution_count": 448,
      "outputs": []
    },
    {
      "cell_type": "markdown",
      "metadata": {
        "id": "ghobfJSD45rU"
      },
      "source": [
        "#### Test"
      ]
    },
    {
      "cell_type": "code",
      "execution_count": 449,
      "metadata": {
        "id": "86onlC2145rV",
        "colab": {
          "base_uri": "https://localhost:8080/"
        },
        "outputId": "5ae55e6d-11ef-4233-fb33-971aa5ded5fd"
      },
      "outputs": [
        {
          "output_type": "execute_result",
          "data": {
            "text/plain": [
              "446     2017-01-11\n",
              "1240    2016-03-22\n",
              "594     2016-11-16\n",
              "1284    2016-03-12\n",
              "Name: date, dtype: object"
            ]
          },
          "metadata": {},
          "execution_count": 449
        }
      ],
      "source": [
        "#check column 'date'\n",
        "twitter_clean_df['date'].sample(4)"
      ]
    },
    {
      "cell_type": "code",
      "source": [
        "# Confirming value at index 5 and column 'date' is a datetime object\n",
        "date = twitter_clean_df.at[5, 'date']\n",
        "print(date)\n",
        "print(type(date))"
      ],
      "metadata": {
        "colab": {
          "base_uri": "https://localhost:8080/"
        },
        "outputId": "fafa469d-3e76-45b5-8912-1a09ebaacc05",
        "id": "5lKS23aoDcVg"
      },
      "execution_count": 450,
      "outputs": [
        {
          "output_type": "stream",
          "name": "stdout",
          "text": [
            "2017-07-29\n",
            "<class 'datetime.date'>\n"
          ]
        }
      ]
    },
    {
      "cell_type": "markdown",
      "source": [
        "* The date column elements have been converted successfully from String to Datetime objects"
      ],
      "metadata": {
        "id": "u_O3N3IqDq0e"
      }
    },
    {
      "cell_type": "markdown",
      "metadata": {
        "id": "dqasf_6O--Gd"
      },
      "source": [
        "### Issue #4 : The \"id\" column in the tweet_json dataset has a lot of duplicated values [*Validity Issue*]"
      ]
    },
    {
      "cell_type": "markdown",
      "metadata": {
        "collapsed": true,
        "extensions": {
          "jupyter_dashboards": {
            "version": 1,
            "views": {
              "grid_default": {
                "hidden": true
              },
              "report_default": {
                "hidden": true
              }
            }
          }
        },
        "id": "9acW7XKV--Gf"
      },
      "source": [
        "#### Define\n",
        "* The \"tweet_id\" column in the tweet_json dataset has a lot of duplicated values [Validity Issue]\n",
        "* There are many duplicates by tweet_id in the dataset (number of unique values (874) is less than number of records(3230) in the dataset)\n",
        "* Cleaning is by dropping the rows having duplicated tweet_id's"
      ]
    },
    {
      "cell_type": "markdown",
      "metadata": {
        "id": "RQx3yH48--Gf"
      },
      "source": [
        "#### Code"
      ]
    },
    {
      "cell_type": "code",
      "execution_count": 451,
      "metadata": {
        "id": "hWrT6yWq--Gf",
        "colab": {
          "base_uri": "https://localhost:8080/"
        },
        "outputId": "27e7f3aa-3f08-496c-ebe7-7f467b9f7f69"
      },
      "outputs": [
        {
          "output_type": "stream",
          "name": "stdout",
          "text": [
            "Shape of Dataframe :  (3230, 32)\n",
            "Number of unique values : 874\n"
          ]
        }
      ],
      "source": [
        "# counting unique values by 'tweet_id': tweet_json dataset\n",
        "n = len(pd.unique(json_clean_df['tweet_id']))\n",
        "\n",
        "print(\"Shape of Dataframe : \", json_clean_df.shape)\n",
        "print(\"Number of unique values :\", n)"
      ]
    },
    {
      "cell_type": "code",
      "source": [
        "# dropping ALL duplicate values\n",
        "json_clean_df.drop_duplicates(subset =\"tweet_id\",\n",
        "                     keep = 'first', inplace = True) # keep first value (considered as unique) and drop rest (duplicates)"
      ],
      "metadata": {
        "id": "ua57P8L_MF2z"
      },
      "execution_count": 452,
      "outputs": []
    },
    {
      "cell_type": "markdown",
      "metadata": {
        "id": "t9kPRdzq--Gg"
      },
      "source": [
        "#### Test"
      ]
    },
    {
      "cell_type": "code",
      "source": [
        "# counting unique values by 'tweet_id': tweet_json dataset\n",
        "n = len(pd.unique(json_clean_df['tweet_id']))\n",
        " \n",
        "print(\"Number of unique values :\", n)"
      ],
      "metadata": {
        "colab": {
          "base_uri": "https://localhost:8080/"
        },
        "id": "uKGIxkbONjFl",
        "outputId": "10e56cf9-5869-48d2-c111-6c7af537d34d"
      },
      "execution_count": 453,
      "outputs": [
        {
          "output_type": "stream",
          "name": "stdout",
          "text": [
            "Number of unique values : 874\n"
          ]
        }
      ]
    },
    {
      "cell_type": "code",
      "execution_count": 454,
      "metadata": {
        "id": "QUzYPBj---Gg",
        "colab": {
          "base_uri": "https://localhost:8080/"
        },
        "outputId": "3728e46a-243a-417a-ebb5-2f716c052372"
      },
      "outputs": [
        {
          "output_type": "stream",
          "name": "stdout",
          "text": [
            "Shape of Dataframe :  (874, 32)\n"
          ]
        }
      ],
      "source": [
        "# Confirming duplicates have been dropped\n",
        "print(\"Shape of Dataframe : \", json_clean_df.shape)"
      ]
    },
    {
      "cell_type": "markdown",
      "source": [
        "* The shape of the dataframe before dropping duplicates was (3230, 32). \n",
        "* After dropping the duplicated rows, the dataset remains with only unique rows by tweet_id\n",
        "* The new shape is thus (874, 32)"
      ],
      "metadata": {
        "id": "YxuX4wUNN2f2"
      }
    },
    {
      "cell_type": "markdown",
      "metadata": {
        "id": "_8cgHCxL_ALs"
      },
      "source": [
        "### Issue #5: The image predictions dataset has missing records, as compared to the twitter_archive dataset [*Completeness Issue*]"
      ]
    },
    {
      "cell_type": "markdown",
      "metadata": {
        "collapsed": true,
        "extensions": {
          "jupyter_dashboards": {
            "version": 1,
            "views": {
              "grid_default": {
                "hidden": true
              },
              "report_default": {
                "hidden": true
              }
            }
          }
        },
        "id": "7IvqeCYH_ALt"
      },
      "source": [
        "#### Define\n",
        "* The image predictions dataset has missing records, as compared to the twitter_archive dataset (2075 records instead of 2356) [*Completeness Issue*]\n",
        "* This means that there are tweets of dogs that don't have corresponding images\n",
        "* Cleaning is by only maintaining the rows in the twitter_archive dataset that have corresponding images in the image dataset\n",
        "* Thus, the excess rows in the twitter_archive dataset will be dropped"
      ]
    },
    {
      "cell_type": "markdown",
      "metadata": {
        "id": "cfi6klCz_ALu"
      },
      "source": [
        "#### Code"
      ]
    },
    {
      "cell_type": "code",
      "execution_count": 455,
      "metadata": {
        "id": "aRUbJrhb_ALv",
        "colab": {
          "base_uri": "https://localhost:8080/"
        },
        "outputId": "c50b0801-e0aa-4281-f2d5-c9e66730500f"
      },
      "outputs": [
        {
          "output_type": "execute_result",
          "data": {
            "text/plain": [
              "874"
            ]
          },
          "metadata": {},
          "execution_count": 455
        }
      ],
      "source": [
        "# Creating list of tweet_id's from json dataset \n",
        "id_list = json_clean_df['tweet_id']\n",
        "len(id_list)"
      ]
    },
    {
      "cell_type": "markdown",
      "source": [
        "* The number of tweet_ids is 874 instead of 2075, due to the removal of duplicates from the previous section (Issue #4)"
      ],
      "metadata": {
        "id": "uyDWt-ogWWIg"
      }
    },
    {
      "cell_type": "code",
      "source": [
        "# Creating new dataframe with only tweet_ids present in the json dataset\n",
        "twitter_clean_df = twitter_clean_df[twitter_clean_df['tweet_id'].isin(id_list)]\n",
        "print(twitter_clean_df.shape)"
      ],
      "metadata": {
        "colab": {
          "base_uri": "https://localhost:8080/"
        },
        "id": "rUYrDsumTztz",
        "outputId": "355f97fc-ca23-4bc2-e94f-f4a3898ffb71"
      },
      "execution_count": 456,
      "outputs": [
        {
          "output_type": "stream",
          "name": "stdout",
          "text": [
            "(874, 17)\n"
          ]
        }
      ]
    },
    {
      "cell_type": "code",
      "source": [
        "# Checking if there are duplicates\n",
        "n = len(pd.unique(twitter_clean_df['tweet_id']))\n",
        "\n",
        "print(\"Shape of Dataframe : \", twitter_clean_df.shape)\n",
        "print(\"Number of unique values :\", n)"
      ],
      "metadata": {
        "colab": {
          "base_uri": "https://localhost:8080/"
        },
        "id": "Nx8CEhGkVGeP",
        "outputId": "ba8c95a4-03b8-475d-c6d9-7122484e6586"
      },
      "execution_count": 457,
      "outputs": [
        {
          "output_type": "stream",
          "name": "stdout",
          "text": [
            "Shape of Dataframe :  (874, 17)\n",
            "Number of unique values : 874\n"
          ]
        }
      ]
    },
    {
      "cell_type": "markdown",
      "metadata": {
        "id": "cr-FlBsl_ALv"
      },
      "source": [
        "#### Test"
      ]
    },
    {
      "cell_type": "code",
      "execution_count": 458,
      "metadata": {
        "id": "j2HECxmI_ALv",
        "colab": {
          "base_uri": "https://localhost:8080/"
        },
        "outputId": "d46e341c-c6c8-4810-dbb5-cc02bcf8ce66"
      },
      "outputs": [
        {
          "output_type": "execute_result",
          "data": {
            "text/plain": [
              "874"
            ]
          },
          "metadata": {},
          "execution_count": 458
        }
      ],
      "source": [
        "# Checking number of tweet_ids in json dataset\n",
        "json_id_list = json_clean_df['tweet_id']\n",
        "len(json_id_list)"
      ]
    },
    {
      "cell_type": "code",
      "source": [
        "# Checking number of tweet_ids in twitter dataset\n",
        "twitter_id_list = twitter_clean_df['tweet_id']\n",
        "len(twitter_id_list)"
      ],
      "metadata": {
        "colab": {
          "base_uri": "https://localhost:8080/"
        },
        "id": "91vmcGffXjFg",
        "outputId": "1af914ac-4c0b-4dfe-d349-5535546f7ebb"
      },
      "execution_count": 459,
      "outputs": [
        {
          "output_type": "execute_result",
          "data": {
            "text/plain": [
              "874"
            ]
          },
          "metadata": {},
          "execution_count": 459
        }
      ]
    },
    {
      "cell_type": "code",
      "source": [
        "# Checking number of unique tweet_ids\n",
        "def unique(list1):\n",
        "    x = np.array(list1)\n",
        "    return np.unique(x)\n",
        "\n",
        "list1 = unique(twitter_id_list)\n",
        "print(\"the unique values from list is: \", len(list1))"
      ],
      "metadata": {
        "colab": {
          "base_uri": "https://localhost:8080/"
        },
        "id": "Jushp00TYpxE",
        "outputId": "e39cf967-8518-4333-c48e-6c4822e97d7d"
      },
      "execution_count": 460,
      "outputs": [
        {
          "output_type": "stream",
          "name": "stdout",
          "text": [
            "the unique values from list is:  874\n"
          ]
        }
      ]
    },
    {
      "cell_type": "code",
      "source": [
        "# checking if the two lists have same elements\n",
        "set(twitter_id_list) == set(json_id_list)"
      ],
      "metadata": {
        "colab": {
          "base_uri": "https://localhost:8080/"
        },
        "id": "cGUqzyhsZkn6",
        "outputId": "d5c89fcc-b0e2-48fd-e6db-8a8e0e4e1039"
      },
      "execution_count": 461,
      "outputs": [
        {
          "output_type": "execute_result",
          "data": {
            "text/plain": [
              "True"
            ]
          },
          "metadata": {},
          "execution_count": 461
        }
      ]
    },
    {
      "cell_type": "markdown",
      "source": [
        "* The above code blocks show that the twitter_archive dataset now only has tweets of dogs with corresponding images in the tweet_json dataset\n",
        "* Tweets of dogs without images have been dropped"
      ],
      "metadata": {
        "id": "CoYEqK86bOlN"
      }
    },
    {
      "cell_type": "markdown",
      "metadata": {
        "id": "DL_YjjFR_CCQ"
      },
      "source": [
        "### Issue #6: The rating_denominator column has values greater/less than 10 in the twitter_archive dataset [*Accuracy Issue*]"
      ]
    },
    {
      "cell_type": "markdown",
      "metadata": {
        "collapsed": true,
        "extensions": {
          "jupyter_dashboards": {
            "version": 1,
            "views": {
              "grid_default": {
                "hidden": true
              },
              "report_default": {
                "hidden": true
              }
            }
          }
        },
        "id": "C-NVPg8o_CCR"
      },
      "source": [
        "#### Define\n",
        "* There are values in the rating_denominator column in twitter_archive dataset which are greater/lesser than 10. However, the rating_denominator should always be 10 [*Accuracy Issue*]\n",
        "* Cleaning is by removing rows having denominator greater/lesser than 10"
      ]
    },
    {
      "cell_type": "markdown",
      "metadata": {
        "id": "bXHCqCKY_CCS"
      },
      "source": [
        "#### Code"
      ]
    },
    {
      "cell_type": "code",
      "execution_count": 462,
      "metadata": {
        "id": "dw1TeF0T_CCS",
        "colab": {
          "base_uri": "https://localhost:8080/"
        },
        "outputId": "e18fffa8-ba9e-45fc-bc29-d1cae6e33a92"
      },
      "outputs": [
        {
          "output_type": "execute_result",
          "data": {
            "text/plain": [
              "10    869\n",
              "0       1\n",
              "15      1\n",
              "70      1\n",
              "7       1\n",
              "50      1\n",
              "Name: rating_denominator, dtype: int64"
            ]
          },
          "metadata": {},
          "execution_count": 462
        }
      ],
      "source": [
        "# Displaying the value counts of the rating denominator\n",
        "twitter_clean_df['rating_denominator'].value_counts()"
      ]
    },
    {
      "cell_type": "code",
      "source": [
        "# Create a dataframe with rating denominators only equal to 10\n",
        "twitter_clean_df = twitter_clean_df[twitter_clean_df['rating_denominator'] ==  10]"
      ],
      "metadata": {
        "id": "anYnZzBynAYa"
      },
      "execution_count": 463,
      "outputs": []
    },
    {
      "cell_type": "code",
      "source": [
        "twitter_clean_df.shape"
      ],
      "metadata": {
        "colab": {
          "base_uri": "https://localhost:8080/"
        },
        "id": "jllFrntenfqz",
        "outputId": "65c8a563-65ac-4ba5-b7d7-4b1a7e6adc37"
      },
      "execution_count": 464,
      "outputs": [
        {
          "output_type": "execute_result",
          "data": {
            "text/plain": [
              "(869, 17)"
            ]
          },
          "metadata": {},
          "execution_count": 464
        }
      ]
    },
    {
      "cell_type": "markdown",
      "metadata": {
        "id": "n49ajAR-_CCS"
      },
      "source": [
        "#### Test"
      ]
    },
    {
      "cell_type": "code",
      "execution_count": 465,
      "metadata": {
        "id": "8RSLVJ6K_CCT",
        "colab": {
          "base_uri": "https://localhost:8080/"
        },
        "outputId": "b1babcf4-6698-42bf-d28a-f9e156ae045d"
      },
      "outputs": [
        {
          "output_type": "execute_result",
          "data": {
            "text/plain": [
              "10    869\n",
              "Name: rating_denominator, dtype: int64"
            ]
          },
          "metadata": {},
          "execution_count": 465
        }
      ],
      "source": [
        "# Displaying the value counts of the rating denominator\n",
        "twitter_clean_df['rating_denominator'].value_counts()"
      ]
    },
    {
      "cell_type": "markdown",
      "source": [
        "* The dataset now only has records with a rating_denominator value of 10 (as per the specifications)"
      ],
      "metadata": {
        "id": "igaZ3yQ2nt2l"
      }
    },
    {
      "cell_type": "markdown",
      "metadata": {
        "id": "RuV1GGeM_Fox"
      },
      "source": [
        "### Issue #7: There are retweets in both the twitter_archive and the tweet_json datasets [*Validity Issue*]"
      ]
    },
    {
      "cell_type": "markdown",
      "metadata": {
        "collapsed": true,
        "extensions": {
          "jupyter_dashboards": {
            "version": 1,
            "views": {
              "grid_default": {
                "hidden": true
              },
              "report_default": {
                "hidden": true
              }
            }
          }
        },
        "id": "HmmozIbF_Foy"
      },
      "source": [
        "#### Define\n",
        "* There are retweets in both the twitter_archive dataset and the tweet_json dataset (tweets starting with 'RT @'), which require cleaning [*Validity Issue*]\n",
        "* Cleaning is by removing the retweets, as only original tweets are desired for analysis"
      ]
    },
    {
      "cell_type": "markdown",
      "metadata": {
        "id": "cbpGc61c_Foy"
      },
      "source": [
        "#### Code"
      ]
    },
    {
      "cell_type": "code",
      "execution_count": 466,
      "metadata": {
        "id": "3X3b91CC_Foz",
        "colab": {
          "base_uri": "https://localhost:8080/"
        },
        "outputId": "3f918065-384e-448e-9326-88686e73bc57"
      },
      "outputs": [
        {
          "output_type": "execute_result",
          "data": {
            "text/plain": [
              "(148, 17)"
            ]
          },
          "metadata": {},
          "execution_count": 466
        }
      ],
      "source": [
        "# Checking if there are retweets: twitter_archive dataset\n",
        "retweets_archive_df = twitter_clean_df[twitter_clean_df['text'].str.contains(\"RT @\")]\n",
        "retweets_archive_df.shape"
      ]
    },
    {
      "cell_type": "code",
      "source": [
        "# Checking if there are retweets: tweet_json dataset\n",
        "retweets_json_df = json_clean_df[json_clean_df['full_text'].str.contains(\"RT @\")]\n",
        "retweets_json_df.shape"
      ],
      "metadata": {
        "colab": {
          "base_uri": "https://localhost:8080/"
        },
        "id": "3v0wMFgFpuer",
        "outputId": "36c39a87-ba49-4a4a-b739-30577d2501df"
      },
      "execution_count": 467,
      "outputs": [
        {
          "output_type": "execute_result",
          "data": {
            "text/plain": [
              "(148, 32)"
            ]
          },
          "metadata": {},
          "execution_count": 467
        }
      ]
    },
    {
      "cell_type": "code",
      "source": [
        "# Remove the records containing 'RT @': twitter dataset\n",
        "twitter_clean_df = twitter_clean_df[~twitter_clean_df['text'].str.contains(\"RT @\")]"
      ],
      "metadata": {
        "id": "ao5H9XfPq6aR"
      },
      "execution_count": 468,
      "outputs": []
    },
    {
      "cell_type": "code",
      "source": [
        "# Remove the records containing 'RT @': json dataset\n",
        "json_clean_df = json_clean_df[~json_clean_df['full_text'].str.contains(\"RT @\")]"
      ],
      "metadata": {
        "id": "ViL8vaeyrYct"
      },
      "execution_count": 469,
      "outputs": []
    },
    {
      "cell_type": "markdown",
      "metadata": {
        "id": "VDeK4Z-M_Fo0"
      },
      "source": [
        "#### Test"
      ]
    },
    {
      "cell_type": "code",
      "execution_count": 470,
      "metadata": {
        "id": "d1S8cIwu_Fo0",
        "colab": {
          "base_uri": "https://localhost:8080/"
        },
        "outputId": "78cbea42-0ba7-4fd9-c92d-3d905beddf00"
      },
      "outputs": [
        {
          "output_type": "execute_result",
          "data": {
            "text/plain": [
              "(0, 17)"
            ]
          },
          "metadata": {},
          "execution_count": 470
        }
      ],
      "source": [
        "# Confirming there are no retweets: twitter_archive dataset\n",
        "retweets_archive_df = twitter_clean_df[twitter_clean_df['text'].str.contains(\"RT @\")]\n",
        "retweets_archive_df.shape"
      ]
    },
    {
      "cell_type": "code",
      "source": [
        "# Confirming there are no retweets: tweet_json dataset\n",
        "retweets_json_df = json_clean_df[json_clean_df['full_text'].str.contains(\"RT @\")]\n",
        "retweets_json_df.shape"
      ],
      "metadata": {
        "colab": {
          "base_uri": "https://localhost:8080/"
        },
        "id": "oha_IvX_r1U8",
        "outputId": "b200df03-1044-436f-bd29-95e9f1f59654"
      },
      "execution_count": 471,
      "outputs": [
        {
          "output_type": "execute_result",
          "data": {
            "text/plain": [
              "(0, 32)"
            ]
          },
          "metadata": {},
          "execution_count": 471
        }
      ]
    },
    {
      "cell_type": "code",
      "source": [
        "twitter_clean_df.shape"
      ],
      "metadata": {
        "colab": {
          "base_uri": "https://localhost:8080/"
        },
        "id": "-2MQXENvseL0",
        "outputId": "7f8e2cf1-61f5-4cf9-ca7d-4575ae02c81d"
      },
      "execution_count": 472,
      "outputs": [
        {
          "output_type": "execute_result",
          "data": {
            "text/plain": [
              "(721, 17)"
            ]
          },
          "metadata": {},
          "execution_count": 472
        }
      ]
    },
    {
      "cell_type": "code",
      "source": [
        "json_clean_df.shape"
      ],
      "metadata": {
        "colab": {
          "base_uri": "https://localhost:8080/"
        },
        "id": "_Qv6JB5Fsi1t",
        "outputId": "b0ec7404-6183-446c-ce0e-3d3416b4ded1"
      },
      "execution_count": 473,
      "outputs": [
        {
          "output_type": "execute_result",
          "data": {
            "text/plain": [
              "(726, 32)"
            ]
          },
          "metadata": {},
          "execution_count": 473
        }
      ]
    },
    {
      "cell_type": "markdown",
      "source": [
        "* The records which had retweets have now been removed. We only have original tweets\n",
        "* The shapes of the datasets are now: \n",
        "> * Twitter Archive Dataset: (721, 17)\n",
        "> * Tweet Json Dataset: (726, 32)"
      ],
      "metadata": {
        "id": "8pXt6P-br-zq"
      }
    },
    {
      "cell_type": "markdown",
      "source": [
        "### Issue #8: There are missing dog names (denoted with 'None') in the twitter_archive dataset [*Accuracy Issue*]"
      ],
      "metadata": {
        "id": "TT1Pobq0s-sD"
      }
    },
    {
      "cell_type": "markdown",
      "source": [
        "#### Define\n",
        "* Some of the records in twitter_archive dataset are having \"None\" in the name column [*Accuracy Issue*]\n",
        "* By convention, a dog's name cannot be 'None'\n",
        "* Cleaning is by removing records with 'None' in the name column"
      ],
      "metadata": {
        "id": "jezIFTU8tKKs"
      }
    },
    {
      "cell_type": "markdown",
      "source": [
        "#### Code"
      ],
      "metadata": {
        "id": "_mcEceeVtNiV"
      }
    },
    {
      "cell_type": "code",
      "source": [
        "# Display total number of records having the dog's name as \"None\"\n",
        "sum(twitter_clean_df['name'] == \"None\")"
      ],
      "metadata": {
        "colab": {
          "base_uri": "https://localhost:8080/"
        },
        "id": "Mm_V_j39tQBq",
        "outputId": "03dfa99c-dd3e-41cd-e739-ec7633100c9e"
      },
      "execution_count": 474,
      "outputs": [
        {
          "output_type": "execute_result",
          "data": {
            "text/plain": [
              "175"
            ]
          },
          "metadata": {},
          "execution_count": 474
        }
      ]
    },
    {
      "cell_type": "code",
      "source": [
        "# displaying sample\n",
        "twitter_clean_df[twitter_clean_df['name'] == \"None\"].sample()"
      ],
      "metadata": {
        "colab": {
          "base_uri": "https://localhost:8080/",
          "height": 0
        },
        "id": "AI0jDfQfvAfp",
        "outputId": "31d96f93-7baa-4898-9b61-d45e3990ae01"
      },
      "execution_count": 475,
      "outputs": [
        {
          "output_type": "execute_result",
          "data": {
            "text/plain": [
              "               tweet_id  in_reply_to_status_id  in_reply_to_user_id  \\\n",
              "751  779056095788752897                    NaN                  NaN   \n",
              "\n",
              "           date                                             source  \\\n",
              "751  2016-09-22  <a href=\"http://twitter.com/download/iphone\" r...   \n",
              "\n",
              "                                                  text  retweeted_status_id  \\\n",
              "751  Everybody drop what you're doing and look at t...                  NaN   \n",
              "\n",
              "     retweeted_status_user_id retweeted_status_timestamp  \\\n",
              "751                       NaN                        NaN   \n",
              "\n",
              "                                         expanded_urls  rating_numerator  \\\n",
              "751  https://twitter.com/dog_rates/status/779056095...                13   \n",
              "\n",
              "     rating_denominator  name doggo floofer pupper puppo  \n",
              "751                  10  None  None    None   None  None  "
            ],
            "text/html": [
              "\n",
              "  <div id=\"df-fa97eaba-3bad-4ef8-84c8-60d2e485f05c\">\n",
              "    <div class=\"colab-df-container\">\n",
              "      <div>\n",
              "<style scoped>\n",
              "    .dataframe tbody tr th:only-of-type {\n",
              "        vertical-align: middle;\n",
              "    }\n",
              "\n",
              "    .dataframe tbody tr th {\n",
              "        vertical-align: top;\n",
              "    }\n",
              "\n",
              "    .dataframe thead th {\n",
              "        text-align: right;\n",
              "    }\n",
              "</style>\n",
              "<table border=\"1\" class=\"dataframe\">\n",
              "  <thead>\n",
              "    <tr style=\"text-align: right;\">\n",
              "      <th></th>\n",
              "      <th>tweet_id</th>\n",
              "      <th>in_reply_to_status_id</th>\n",
              "      <th>in_reply_to_user_id</th>\n",
              "      <th>date</th>\n",
              "      <th>source</th>\n",
              "      <th>text</th>\n",
              "      <th>retweeted_status_id</th>\n",
              "      <th>retweeted_status_user_id</th>\n",
              "      <th>retweeted_status_timestamp</th>\n",
              "      <th>expanded_urls</th>\n",
              "      <th>rating_numerator</th>\n",
              "      <th>rating_denominator</th>\n",
              "      <th>name</th>\n",
              "      <th>doggo</th>\n",
              "      <th>floofer</th>\n",
              "      <th>pupper</th>\n",
              "      <th>puppo</th>\n",
              "    </tr>\n",
              "  </thead>\n",
              "  <tbody>\n",
              "    <tr>\n",
              "      <th>751</th>\n",
              "      <td>779056095788752897</td>\n",
              "      <td>NaN</td>\n",
              "      <td>NaN</td>\n",
              "      <td>2016-09-22</td>\n",
              "      <td>&lt;a href=\"http://twitter.com/download/iphone\" r...</td>\n",
              "      <td>Everybody drop what you're doing and look at t...</td>\n",
              "      <td>NaN</td>\n",
              "      <td>NaN</td>\n",
              "      <td>NaN</td>\n",
              "      <td>https://twitter.com/dog_rates/status/779056095...</td>\n",
              "      <td>13</td>\n",
              "      <td>10</td>\n",
              "      <td>None</td>\n",
              "      <td>None</td>\n",
              "      <td>None</td>\n",
              "      <td>None</td>\n",
              "      <td>None</td>\n",
              "    </tr>\n",
              "  </tbody>\n",
              "</table>\n",
              "</div>\n",
              "      <button class=\"colab-df-convert\" onclick=\"convertToInteractive('df-fa97eaba-3bad-4ef8-84c8-60d2e485f05c')\"\n",
              "              title=\"Convert this dataframe to an interactive table.\"\n",
              "              style=\"display:none;\">\n",
              "        \n",
              "  <svg xmlns=\"http://www.w3.org/2000/svg\" height=\"24px\"viewBox=\"0 0 24 24\"\n",
              "       width=\"24px\">\n",
              "    <path d=\"M0 0h24v24H0V0z\" fill=\"none\"/>\n",
              "    <path d=\"M18.56 5.44l.94 2.06.94-2.06 2.06-.94-2.06-.94-.94-2.06-.94 2.06-2.06.94zm-11 1L8.5 8.5l.94-2.06 2.06-.94-2.06-.94L8.5 2.5l-.94 2.06-2.06.94zm10 10l.94 2.06.94-2.06 2.06-.94-2.06-.94-.94-2.06-.94 2.06-2.06.94z\"/><path d=\"M17.41 7.96l-1.37-1.37c-.4-.4-.92-.59-1.43-.59-.52 0-1.04.2-1.43.59L10.3 9.45l-7.72 7.72c-.78.78-.78 2.05 0 2.83L4 21.41c.39.39.9.59 1.41.59.51 0 1.02-.2 1.41-.59l7.78-7.78 2.81-2.81c.8-.78.8-2.07 0-2.86zM5.41 20L4 18.59l7.72-7.72 1.47 1.35L5.41 20z\"/>\n",
              "  </svg>\n",
              "      </button>\n",
              "      \n",
              "  <style>\n",
              "    .colab-df-container {\n",
              "      display:flex;\n",
              "      flex-wrap:wrap;\n",
              "      gap: 12px;\n",
              "    }\n",
              "\n",
              "    .colab-df-convert {\n",
              "      background-color: #E8F0FE;\n",
              "      border: none;\n",
              "      border-radius: 50%;\n",
              "      cursor: pointer;\n",
              "      display: none;\n",
              "      fill: #1967D2;\n",
              "      height: 32px;\n",
              "      padding: 0 0 0 0;\n",
              "      width: 32px;\n",
              "    }\n",
              "\n",
              "    .colab-df-convert:hover {\n",
              "      background-color: #E2EBFA;\n",
              "      box-shadow: 0px 1px 2px rgba(60, 64, 67, 0.3), 0px 1px 3px 1px rgba(60, 64, 67, 0.15);\n",
              "      fill: #174EA6;\n",
              "    }\n",
              "\n",
              "    [theme=dark] .colab-df-convert {\n",
              "      background-color: #3B4455;\n",
              "      fill: #D2E3FC;\n",
              "    }\n",
              "\n",
              "    [theme=dark] .colab-df-convert:hover {\n",
              "      background-color: #434B5C;\n",
              "      box-shadow: 0px 1px 3px 1px rgba(0, 0, 0, 0.15);\n",
              "      filter: drop-shadow(0px 1px 2px rgba(0, 0, 0, 0.3));\n",
              "      fill: #FFFFFF;\n",
              "    }\n",
              "  </style>\n",
              "\n",
              "      <script>\n",
              "        const buttonEl =\n",
              "          document.querySelector('#df-fa97eaba-3bad-4ef8-84c8-60d2e485f05c button.colab-df-convert');\n",
              "        buttonEl.style.display =\n",
              "          google.colab.kernel.accessAllowed ? 'block' : 'none';\n",
              "\n",
              "        async function convertToInteractive(key) {\n",
              "          const element = document.querySelector('#df-fa97eaba-3bad-4ef8-84c8-60d2e485f05c');\n",
              "          const dataTable =\n",
              "            await google.colab.kernel.invokeFunction('convertToInteractive',\n",
              "                                                     [key], {});\n",
              "          if (!dataTable) return;\n",
              "\n",
              "          const docLinkHtml = 'Like what you see? Visit the ' +\n",
              "            '<a target=\"_blank\" href=https://colab.research.google.com/notebooks/data_table.ipynb>data table notebook</a>'\n",
              "            + ' to learn more about interactive tables.';\n",
              "          element.innerHTML = '';\n",
              "          dataTable['output_type'] = 'display_data';\n",
              "          await google.colab.output.renderOutput(dataTable, element);\n",
              "          const docLink = document.createElement('div');\n",
              "          docLink.innerHTML = docLinkHtml;\n",
              "          element.appendChild(docLink);\n",
              "        }\n",
              "      </script>\n",
              "    </div>\n",
              "  </div>\n",
              "  "
            ]
          },
          "metadata": {},
          "execution_count": 475
        }
      ]
    },
    {
      "cell_type": "code",
      "source": [
        "# creating a new dataframe without records having the dog's name as \"None\"\n",
        "twitter_clean_df = twitter_clean_df[twitter_clean_df['name'] != \"None\"]"
      ],
      "metadata": {
        "id": "zwH8YHCbu2Qu"
      },
      "execution_count": 476,
      "outputs": []
    },
    {
      "cell_type": "code",
      "source": [
        "twitter_clean_df.shape"
      ],
      "metadata": {
        "colab": {
          "base_uri": "https://localhost:8080/"
        },
        "id": "MyG5UjQgvwP2",
        "outputId": "b6321fe8-33de-4d3d-beb0-44027f91f28e"
      },
      "execution_count": 477,
      "outputs": [
        {
          "output_type": "execute_result",
          "data": {
            "text/plain": [
              "(546, 17)"
            ]
          },
          "metadata": {},
          "execution_count": 477
        }
      ]
    },
    {
      "cell_type": "markdown",
      "source": [
        "#### Test"
      ],
      "metadata": {
        "id": "srbeJ6yGtQnQ"
      }
    },
    {
      "cell_type": "code",
      "source": [
        "# Checking if there are still records having the dog's name as \"None\"\n",
        "sum(twitter_clean_df['name'] == \"None\")"
      ],
      "metadata": {
        "colab": {
          "base_uri": "https://localhost:8080/"
        },
        "id": "6oVB7Wg4tSRt",
        "outputId": "4afa5f5c-c98d-4409-c2ee-3bc9814c55fd"
      },
      "execution_count": 478,
      "outputs": [
        {
          "output_type": "execute_result",
          "data": {
            "text/plain": [
              "0"
            ]
          },
          "metadata": {},
          "execution_count": 478
        }
      ]
    },
    {
      "cell_type": "markdown",
      "source": [
        "* There are now no records having the dog's name as \"None\"\n",
        "* The new shape of the twitter_archive dataset is (546, 17)"
      ],
      "metadata": {
        "id": "etJG9yqdwCqZ"
      }
    },
    {
      "cell_type": "markdown",
      "source": [
        "## Cleaning Data Tidiness Issues"
      ],
      "metadata": {
        "id": "7Faow2PZyu_b"
      }
    },
    {
      "cell_type": "markdown",
      "source": [
        "### Issue #1: Dog Stages in twitter_archive dataset are in separate columns"
      ],
      "metadata": {
        "id": "Sad9y-vi2-DZ"
      }
    },
    {
      "cell_type": "markdown",
      "source": [
        "#### Define\n",
        "\n",
        "* The dog stages (doggo, puppo, pupper, fluffy) in twitter_archive dataset are in separate columns instead of one column (Pivoted columns)\n",
        "* Cleaning is by unpivoting the columns into one column"
      ],
      "metadata": {
        "id": "zqaA056Z3Ai6"
      }
    },
    {
      "cell_type": "markdown",
      "source": [
        "#### Code"
      ],
      "metadata": {
        "id": "dy6MQQqc3EJR"
      }
    },
    {
      "cell_type": "code",
      "source": [
        "twitter_clean_df.columns"
      ],
      "metadata": {
        "colab": {
          "base_uri": "https://localhost:8080/"
        },
        "id": "0WznEWh-EpgJ",
        "outputId": "01cf0105-5eab-41be-dd7a-bb8370a38997"
      },
      "execution_count": 479,
      "outputs": [
        {
          "output_type": "execute_result",
          "data": {
            "text/plain": [
              "Index(['tweet_id', 'in_reply_to_status_id', 'in_reply_to_user_id', 'date',\n",
              "       'source', 'text', 'retweeted_status_id', 'retweeted_status_user_id',\n",
              "       'retweeted_status_timestamp', 'expanded_urls', 'rating_numerator',\n",
              "       'rating_denominator', 'name', 'doggo', 'floofer', 'pupper', 'puppo'],\n",
              "      dtype='object')"
            ]
          },
          "metadata": {},
          "execution_count": 479
        }
      ]
    },
    {
      "cell_type": "code",
      "source": [
        "# Melting columns with dog stages\n",
        "twitter_clean_df = pd.melt(\n",
        "    twitter_clean_df, id_vars = \n",
        "      ['tweet_id', 'in_reply_to_status_id', 'in_reply_to_user_id', 'date',\n",
        "       'source', 'text', 'retweeted_status_id', 'retweeted_status_user_id',\n",
        "       'retweeted_status_timestamp', 'expanded_urls', 'rating_numerator',\n",
        "       'rating_denominator', 'name'], \n",
        "       var_name= 'dog', value_name = 'dog_stage')"
      ],
      "metadata": {
        "id": "36L9bdIty3qg"
      },
      "execution_count": 480,
      "outputs": []
    },
    {
      "cell_type": "code",
      "source": [
        "twitter_clean_df.sample()"
      ],
      "metadata": {
        "colab": {
          "base_uri": "https://localhost:8080/",
          "height": 249
        },
        "id": "cRWtJW2KIF0S",
        "outputId": "55da7ca2-c815-4293-a112-9fc95b3fbfb5"
      },
      "execution_count": 481,
      "outputs": [
        {
          "output_type": "execute_result",
          "data": {
            "text/plain": [
              "               tweet_id  in_reply_to_status_id  in_reply_to_user_id  \\\n",
              "409  786963064373534720                    NaN                  NaN   \n",
              "\n",
              "           date                                             source  \\\n",
              "409  2016-10-14  <a href=\"http://twitter.com/download/iphone\" r...   \n",
              "\n",
              "                                                  text  retweeted_status_id  \\\n",
              "409  This is Rory. He's got an interview in a few m...                  NaN   \n",
              "\n",
              "     retweeted_status_user_id retweeted_status_timestamp  \\\n",
              "409                       NaN                        NaN   \n",
              "\n",
              "                                         expanded_urls  rating_numerator  \\\n",
              "409  https://twitter.com/dog_rates/status/786963064...                12   \n",
              "\n",
              "     rating_denominator  name    dog dog_stage  \n",
              "409                  10  Rory  doggo      None  "
            ],
            "text/html": [
              "\n",
              "  <div id=\"df-b436873a-ba59-4aed-9396-b15569d61b01\">\n",
              "    <div class=\"colab-df-container\">\n",
              "      <div>\n",
              "<style scoped>\n",
              "    .dataframe tbody tr th:only-of-type {\n",
              "        vertical-align: middle;\n",
              "    }\n",
              "\n",
              "    .dataframe tbody tr th {\n",
              "        vertical-align: top;\n",
              "    }\n",
              "\n",
              "    .dataframe thead th {\n",
              "        text-align: right;\n",
              "    }\n",
              "</style>\n",
              "<table border=\"1\" class=\"dataframe\">\n",
              "  <thead>\n",
              "    <tr style=\"text-align: right;\">\n",
              "      <th></th>\n",
              "      <th>tweet_id</th>\n",
              "      <th>in_reply_to_status_id</th>\n",
              "      <th>in_reply_to_user_id</th>\n",
              "      <th>date</th>\n",
              "      <th>source</th>\n",
              "      <th>text</th>\n",
              "      <th>retweeted_status_id</th>\n",
              "      <th>retweeted_status_user_id</th>\n",
              "      <th>retweeted_status_timestamp</th>\n",
              "      <th>expanded_urls</th>\n",
              "      <th>rating_numerator</th>\n",
              "      <th>rating_denominator</th>\n",
              "      <th>name</th>\n",
              "      <th>dog</th>\n",
              "      <th>dog_stage</th>\n",
              "    </tr>\n",
              "  </thead>\n",
              "  <tbody>\n",
              "    <tr>\n",
              "      <th>409</th>\n",
              "      <td>786963064373534720</td>\n",
              "      <td>NaN</td>\n",
              "      <td>NaN</td>\n",
              "      <td>2016-10-14</td>\n",
              "      <td>&lt;a href=\"http://twitter.com/download/iphone\" r...</td>\n",
              "      <td>This is Rory. He's got an interview in a few m...</td>\n",
              "      <td>NaN</td>\n",
              "      <td>NaN</td>\n",
              "      <td>NaN</td>\n",
              "      <td>https://twitter.com/dog_rates/status/786963064...</td>\n",
              "      <td>12</td>\n",
              "      <td>10</td>\n",
              "      <td>Rory</td>\n",
              "      <td>doggo</td>\n",
              "      <td>None</td>\n",
              "    </tr>\n",
              "  </tbody>\n",
              "</table>\n",
              "</div>\n",
              "      <button class=\"colab-df-convert\" onclick=\"convertToInteractive('df-b436873a-ba59-4aed-9396-b15569d61b01')\"\n",
              "              title=\"Convert this dataframe to an interactive table.\"\n",
              "              style=\"display:none;\">\n",
              "        \n",
              "  <svg xmlns=\"http://www.w3.org/2000/svg\" height=\"24px\"viewBox=\"0 0 24 24\"\n",
              "       width=\"24px\">\n",
              "    <path d=\"M0 0h24v24H0V0z\" fill=\"none\"/>\n",
              "    <path d=\"M18.56 5.44l.94 2.06.94-2.06 2.06-.94-2.06-.94-.94-2.06-.94 2.06-2.06.94zm-11 1L8.5 8.5l.94-2.06 2.06-.94-2.06-.94L8.5 2.5l-.94 2.06-2.06.94zm10 10l.94 2.06.94-2.06 2.06-.94-2.06-.94-.94-2.06-.94 2.06-2.06.94z\"/><path d=\"M17.41 7.96l-1.37-1.37c-.4-.4-.92-.59-1.43-.59-.52 0-1.04.2-1.43.59L10.3 9.45l-7.72 7.72c-.78.78-.78 2.05 0 2.83L4 21.41c.39.39.9.59 1.41.59.51 0 1.02-.2 1.41-.59l7.78-7.78 2.81-2.81c.8-.78.8-2.07 0-2.86zM5.41 20L4 18.59l7.72-7.72 1.47 1.35L5.41 20z\"/>\n",
              "  </svg>\n",
              "      </button>\n",
              "      \n",
              "  <style>\n",
              "    .colab-df-container {\n",
              "      display:flex;\n",
              "      flex-wrap:wrap;\n",
              "      gap: 12px;\n",
              "    }\n",
              "\n",
              "    .colab-df-convert {\n",
              "      background-color: #E8F0FE;\n",
              "      border: none;\n",
              "      border-radius: 50%;\n",
              "      cursor: pointer;\n",
              "      display: none;\n",
              "      fill: #1967D2;\n",
              "      height: 32px;\n",
              "      padding: 0 0 0 0;\n",
              "      width: 32px;\n",
              "    }\n",
              "\n",
              "    .colab-df-convert:hover {\n",
              "      background-color: #E2EBFA;\n",
              "      box-shadow: 0px 1px 2px rgba(60, 64, 67, 0.3), 0px 1px 3px 1px rgba(60, 64, 67, 0.15);\n",
              "      fill: #174EA6;\n",
              "    }\n",
              "\n",
              "    [theme=dark] .colab-df-convert {\n",
              "      background-color: #3B4455;\n",
              "      fill: #D2E3FC;\n",
              "    }\n",
              "\n",
              "    [theme=dark] .colab-df-convert:hover {\n",
              "      background-color: #434B5C;\n",
              "      box-shadow: 0px 1px 3px 1px rgba(0, 0, 0, 0.15);\n",
              "      filter: drop-shadow(0px 1px 2px rgba(0, 0, 0, 0.3));\n",
              "      fill: #FFFFFF;\n",
              "    }\n",
              "  </style>\n",
              "\n",
              "      <script>\n",
              "        const buttonEl =\n",
              "          document.querySelector('#df-b436873a-ba59-4aed-9396-b15569d61b01 button.colab-df-convert');\n",
              "        buttonEl.style.display =\n",
              "          google.colab.kernel.accessAllowed ? 'block' : 'none';\n",
              "\n",
              "        async function convertToInteractive(key) {\n",
              "          const element = document.querySelector('#df-b436873a-ba59-4aed-9396-b15569d61b01');\n",
              "          const dataTable =\n",
              "            await google.colab.kernel.invokeFunction('convertToInteractive',\n",
              "                                                     [key], {});\n",
              "          if (!dataTable) return;\n",
              "\n",
              "          const docLinkHtml = 'Like what you see? Visit the ' +\n",
              "            '<a target=\"_blank\" href=https://colab.research.google.com/notebooks/data_table.ipynb>data table notebook</a>'\n",
              "            + ' to learn more about interactive tables.';\n",
              "          element.innerHTML = '';\n",
              "          dataTable['output_type'] = 'display_data';\n",
              "          await google.colab.output.renderOutput(dataTable, element);\n",
              "          const docLink = document.createElement('div');\n",
              "          docLink.innerHTML = docLinkHtml;\n",
              "          element.appendChild(docLink);\n",
              "        }\n",
              "      </script>\n",
              "    </div>\n",
              "  </div>\n",
              "  "
            ]
          },
          "metadata": {},
          "execution_count": 481
        }
      ]
    },
    {
      "cell_type": "code",
      "source": [
        "#dropping the value column\n",
        "twitter_clean_df = twitter_clean_df.drop('dog', axis = 1)"
      ],
      "metadata": {
        "id": "HfjB-M11IEXS"
      },
      "execution_count": 482,
      "outputs": []
    },
    {
      "cell_type": "markdown",
      "source": [
        "#### Test"
      ],
      "metadata": {
        "id": "JpXWGmRZ3F_6"
      }
    },
    {
      "cell_type": "code",
      "source": [
        "# creating dataframe of rows with dog stages\n",
        "dog_stages_df = twitter_clean_df[twitter_clean_df['dog_stage'] != 'None']"
      ],
      "metadata": {
        "id": "9IFVCCm_3H8G"
      },
      "execution_count": 483,
      "outputs": []
    },
    {
      "cell_type": "code",
      "source": [
        "dog_stages_df.shape"
      ],
      "metadata": {
        "colab": {
          "base_uri": "https://localhost:8080/"
        },
        "id": "-A06_UDq3KWM",
        "outputId": "aaaabdb4-d7e2-43c3-f74c-b85c848b5f60"
      },
      "execution_count": 484,
      "outputs": [
        {
          "output_type": "execute_result",
          "data": {
            "text/plain": [
              "(80, 14)"
            ]
          },
          "metadata": {},
          "execution_count": 484
        }
      ]
    },
    {
      "cell_type": "code",
      "source": [
        "# Displaying sample rows with dog stages\n",
        "dog_stages_df.sample(3)"
      ],
      "metadata": {
        "colab": {
          "base_uri": "https://localhost:8080/",
          "height": 537
        },
        "id": "oCvWAlDtLvqW",
        "outputId": "29a2f258-849e-45a2-c05a-9433bd4d823e"
      },
      "execution_count": 485,
      "outputs": [
        {
          "output_type": "execute_result",
          "data": {
            "text/plain": [
              "                tweet_id  in_reply_to_status_id  in_reply_to_user_id  \\\n",
              "1127  882762694511734784                    NaN                  NaN   \n",
              "1286  833124694597443584                    NaN                  NaN   \n",
              "1115  886366144734445568                    NaN                  NaN   \n",
              "\n",
              "            date                                             source  \\\n",
              "1127  2017-07-06  <a href=\"http://twitter.com/download/iphone\" r...   \n",
              "1286  2017-02-19  <a href=\"http://twitter.com/download/iphone\" r...   \n",
              "1115  2017-07-15  <a href=\"http://twitter.com/download/iphone\" r...   \n",
              "\n",
              "                                                   text  retweeted_status_id  \\\n",
              "1127  This is Gus. He's quite the cheeky pupper. Alr...                  NaN   \n",
              "1286  This is Gidget. She's a spy pupper. Stealthy a...                  NaN   \n",
              "1115  This is Roscoe. Another pupper fallen victim t...                  NaN   \n",
              "\n",
              "      retweeted_status_user_id retweeted_status_timestamp  \\\n",
              "1127                       NaN                        NaN   \n",
              "1286                       NaN                        NaN   \n",
              "1115                       NaN                        NaN   \n",
              "\n",
              "                                          expanded_urls  rating_numerator  \\\n",
              "1127  https://twitter.com/dog_rates/status/882762694...                12   \n",
              "1286  https://twitter.com/dog_rates/status/833124694...                12   \n",
              "1115  https://twitter.com/dog_rates/status/886366144...                12   \n",
              "\n",
              "      rating_denominator    name dog_stage  \n",
              "1127                  10     Gus    pupper  \n",
              "1286                  10  Gidget    pupper  \n",
              "1115                  10  Roscoe    pupper  "
            ],
            "text/html": [
              "\n",
              "  <div id=\"df-e6a6aad3-5a5d-4fe1-b1e4-604803847c01\">\n",
              "    <div class=\"colab-df-container\">\n",
              "      <div>\n",
              "<style scoped>\n",
              "    .dataframe tbody tr th:only-of-type {\n",
              "        vertical-align: middle;\n",
              "    }\n",
              "\n",
              "    .dataframe tbody tr th {\n",
              "        vertical-align: top;\n",
              "    }\n",
              "\n",
              "    .dataframe thead th {\n",
              "        text-align: right;\n",
              "    }\n",
              "</style>\n",
              "<table border=\"1\" class=\"dataframe\">\n",
              "  <thead>\n",
              "    <tr style=\"text-align: right;\">\n",
              "      <th></th>\n",
              "      <th>tweet_id</th>\n",
              "      <th>in_reply_to_status_id</th>\n",
              "      <th>in_reply_to_user_id</th>\n",
              "      <th>date</th>\n",
              "      <th>source</th>\n",
              "      <th>text</th>\n",
              "      <th>retweeted_status_id</th>\n",
              "      <th>retweeted_status_user_id</th>\n",
              "      <th>retweeted_status_timestamp</th>\n",
              "      <th>expanded_urls</th>\n",
              "      <th>rating_numerator</th>\n",
              "      <th>rating_denominator</th>\n",
              "      <th>name</th>\n",
              "      <th>dog_stage</th>\n",
              "    </tr>\n",
              "  </thead>\n",
              "  <tbody>\n",
              "    <tr>\n",
              "      <th>1127</th>\n",
              "      <td>882762694511734784</td>\n",
              "      <td>NaN</td>\n",
              "      <td>NaN</td>\n",
              "      <td>2017-07-06</td>\n",
              "      <td>&lt;a href=\"http://twitter.com/download/iphone\" r...</td>\n",
              "      <td>This is Gus. He's quite the cheeky pupper. Alr...</td>\n",
              "      <td>NaN</td>\n",
              "      <td>NaN</td>\n",
              "      <td>NaN</td>\n",
              "      <td>https://twitter.com/dog_rates/status/882762694...</td>\n",
              "      <td>12</td>\n",
              "      <td>10</td>\n",
              "      <td>Gus</td>\n",
              "      <td>pupper</td>\n",
              "    </tr>\n",
              "    <tr>\n",
              "      <th>1286</th>\n",
              "      <td>833124694597443584</td>\n",
              "      <td>NaN</td>\n",
              "      <td>NaN</td>\n",
              "      <td>2017-02-19</td>\n",
              "      <td>&lt;a href=\"http://twitter.com/download/iphone\" r...</td>\n",
              "      <td>This is Gidget. She's a spy pupper. Stealthy a...</td>\n",
              "      <td>NaN</td>\n",
              "      <td>NaN</td>\n",
              "      <td>NaN</td>\n",
              "      <td>https://twitter.com/dog_rates/status/833124694...</td>\n",
              "      <td>12</td>\n",
              "      <td>10</td>\n",
              "      <td>Gidget</td>\n",
              "      <td>pupper</td>\n",
              "    </tr>\n",
              "    <tr>\n",
              "      <th>1115</th>\n",
              "      <td>886366144734445568</td>\n",
              "      <td>NaN</td>\n",
              "      <td>NaN</td>\n",
              "      <td>2017-07-15</td>\n",
              "      <td>&lt;a href=\"http://twitter.com/download/iphone\" r...</td>\n",
              "      <td>This is Roscoe. Another pupper fallen victim t...</td>\n",
              "      <td>NaN</td>\n",
              "      <td>NaN</td>\n",
              "      <td>NaN</td>\n",
              "      <td>https://twitter.com/dog_rates/status/886366144...</td>\n",
              "      <td>12</td>\n",
              "      <td>10</td>\n",
              "      <td>Roscoe</td>\n",
              "      <td>pupper</td>\n",
              "    </tr>\n",
              "  </tbody>\n",
              "</table>\n",
              "</div>\n",
              "      <button class=\"colab-df-convert\" onclick=\"convertToInteractive('df-e6a6aad3-5a5d-4fe1-b1e4-604803847c01')\"\n",
              "              title=\"Convert this dataframe to an interactive table.\"\n",
              "              style=\"display:none;\">\n",
              "        \n",
              "  <svg xmlns=\"http://www.w3.org/2000/svg\" height=\"24px\"viewBox=\"0 0 24 24\"\n",
              "       width=\"24px\">\n",
              "    <path d=\"M0 0h24v24H0V0z\" fill=\"none\"/>\n",
              "    <path d=\"M18.56 5.44l.94 2.06.94-2.06 2.06-.94-2.06-.94-.94-2.06-.94 2.06-2.06.94zm-11 1L8.5 8.5l.94-2.06 2.06-.94-2.06-.94L8.5 2.5l-.94 2.06-2.06.94zm10 10l.94 2.06.94-2.06 2.06-.94-2.06-.94-.94-2.06-.94 2.06-2.06.94z\"/><path d=\"M17.41 7.96l-1.37-1.37c-.4-.4-.92-.59-1.43-.59-.52 0-1.04.2-1.43.59L10.3 9.45l-7.72 7.72c-.78.78-.78 2.05 0 2.83L4 21.41c.39.39.9.59 1.41.59.51 0 1.02-.2 1.41-.59l7.78-7.78 2.81-2.81c.8-.78.8-2.07 0-2.86zM5.41 20L4 18.59l7.72-7.72 1.47 1.35L5.41 20z\"/>\n",
              "  </svg>\n",
              "      </button>\n",
              "      \n",
              "  <style>\n",
              "    .colab-df-container {\n",
              "      display:flex;\n",
              "      flex-wrap:wrap;\n",
              "      gap: 12px;\n",
              "    }\n",
              "\n",
              "    .colab-df-convert {\n",
              "      background-color: #E8F0FE;\n",
              "      border: none;\n",
              "      border-radius: 50%;\n",
              "      cursor: pointer;\n",
              "      display: none;\n",
              "      fill: #1967D2;\n",
              "      height: 32px;\n",
              "      padding: 0 0 0 0;\n",
              "      width: 32px;\n",
              "    }\n",
              "\n",
              "    .colab-df-convert:hover {\n",
              "      background-color: #E2EBFA;\n",
              "      box-shadow: 0px 1px 2px rgba(60, 64, 67, 0.3), 0px 1px 3px 1px rgba(60, 64, 67, 0.15);\n",
              "      fill: #174EA6;\n",
              "    }\n",
              "\n",
              "    [theme=dark] .colab-df-convert {\n",
              "      background-color: #3B4455;\n",
              "      fill: #D2E3FC;\n",
              "    }\n",
              "\n",
              "    [theme=dark] .colab-df-convert:hover {\n",
              "      background-color: #434B5C;\n",
              "      box-shadow: 0px 1px 3px 1px rgba(0, 0, 0, 0.15);\n",
              "      filter: drop-shadow(0px 1px 2px rgba(0, 0, 0, 0.3));\n",
              "      fill: #FFFFFF;\n",
              "    }\n",
              "  </style>\n",
              "\n",
              "      <script>\n",
              "        const buttonEl =\n",
              "          document.querySelector('#df-e6a6aad3-5a5d-4fe1-b1e4-604803847c01 button.colab-df-convert');\n",
              "        buttonEl.style.display =\n",
              "          google.colab.kernel.accessAllowed ? 'block' : 'none';\n",
              "\n",
              "        async function convertToInteractive(key) {\n",
              "          const element = document.querySelector('#df-e6a6aad3-5a5d-4fe1-b1e4-604803847c01');\n",
              "          const dataTable =\n",
              "            await google.colab.kernel.invokeFunction('convertToInteractive',\n",
              "                                                     [key], {});\n",
              "          if (!dataTable) return;\n",
              "\n",
              "          const docLinkHtml = 'Like what you see? Visit the ' +\n",
              "            '<a target=\"_blank\" href=https://colab.research.google.com/notebooks/data_table.ipynb>data table notebook</a>'\n",
              "            + ' to learn more about interactive tables.';\n",
              "          element.innerHTML = '';\n",
              "          dataTable['output_type'] = 'display_data';\n",
              "          await google.colab.output.renderOutput(dataTable, element);\n",
              "          const docLink = document.createElement('div');\n",
              "          docLink.innerHTML = docLinkHtml;\n",
              "          element.appendChild(docLink);\n",
              "        }\n",
              "      </script>\n",
              "    </div>\n",
              "  </div>\n",
              "  "
            ]
          },
          "metadata": {},
          "execution_count": 485
        }
      ]
    },
    {
      "cell_type": "code",
      "source": [
        "dog_stages_df['dog_stage'].value_counts()"
      ],
      "metadata": {
        "colab": {
          "base_uri": "https://localhost:8080/"
        },
        "id": "sFM0QzogmPFb",
        "outputId": "98d896a5-5245-467b-d95a-a9f952249724"
      },
      "execution_count": 486,
      "outputs": [
        {
          "output_type": "execute_result",
          "data": {
            "text/plain": [
              "doggo      35\n",
              "pupper     31\n",
              "puppo      12\n",
              "floofer     2\n",
              "Name: dog_stage, dtype: int64"
            ]
          },
          "metadata": {},
          "execution_count": 486
        }
      ]
    },
    {
      "cell_type": "markdown",
      "source": [
        "* The 4 dog stages columns have been merged (unpivoted) into one column: dog_stage"
      ],
      "metadata": {
        "id": "EWPSuWzMMseI"
      }
    },
    {
      "cell_type": "markdown",
      "source": [
        "### Issue #2: There are irrelevant columns in twitter_archive dataset"
      ],
      "metadata": {
        "id": "rau4ge7t3LIm"
      }
    },
    {
      "cell_type": "markdown",
      "source": [
        "#### Define\n",
        "* There are irrelevant columns in twitter data frame:\n",
        "> \"in_reply_to_status_id\", \"source\", \"in_reply_to_user_id\", \"retweeted_status_id\", \"retweeted_status_user_id\", \"retweeted_status_timestamp\""
      ],
      "metadata": {
        "id": "7arFmnxD3LIn"
      }
    },
    {
      "cell_type": "markdown",
      "source": [
        "#### Code"
      ],
      "metadata": {
        "id": "E5FYqCiX3LIn"
      }
    },
    {
      "cell_type": "code",
      "source": [
        "# Displaying columns\n",
        "twitter_clean_df.columns"
      ],
      "metadata": {
        "colab": {
          "base_uri": "https://localhost:8080/"
        },
        "id": "OxWwmQvw3LIn",
        "outputId": "02f8f811-1466-4344-ed27-aff604d4f4d5"
      },
      "execution_count": 487,
      "outputs": [
        {
          "output_type": "execute_result",
          "data": {
            "text/plain": [
              "Index(['tweet_id', 'in_reply_to_status_id', 'in_reply_to_user_id', 'date',\n",
              "       'source', 'text', 'retweeted_status_id', 'retweeted_status_user_id',\n",
              "       'retweeted_status_timestamp', 'expanded_urls', 'rating_numerator',\n",
              "       'rating_denominator', 'name', 'dog_stage'],\n",
              "      dtype='object')"
            ]
          },
          "metadata": {},
          "execution_count": 487
        }
      ]
    },
    {
      "cell_type": "code",
      "source": [
        "# Dropping the columns\n",
        "twitter_clean_df = twitter_clean_df.drop([\"in_reply_to_status_id\", \"source\", \"in_reply_to_user_id\", \"retweeted_status_id\", \"retweeted_status_user_id\", \"retweeted_status_timestamp\"] , axis=1)"
      ],
      "metadata": {
        "id": "NeSqH49rUdZy"
      },
      "execution_count": 488,
      "outputs": []
    },
    {
      "cell_type": "markdown",
      "source": [
        "#### Test"
      ],
      "metadata": {
        "id": "Ikkib08H3LIn"
      }
    },
    {
      "cell_type": "code",
      "source": [
        "# Confirming unnecessary columns have been deleted\n",
        "twitter_clean_df.columns"
      ],
      "metadata": {
        "colab": {
          "base_uri": "https://localhost:8080/"
        },
        "id": "FX2tX9dI3LIo",
        "outputId": "8b65335e-7876-40ae-ea47-2fe902097c08"
      },
      "execution_count": 489,
      "outputs": [
        {
          "output_type": "execute_result",
          "data": {
            "text/plain": [
              "Index(['tweet_id', 'date', 'text', 'expanded_urls', 'rating_numerator',\n",
              "       'rating_denominator', 'name', 'dog_stage'],\n",
              "      dtype='object')"
            ]
          },
          "metadata": {},
          "execution_count": 489
        }
      ]
    },
    {
      "cell_type": "code",
      "source": [
        ""
      ],
      "metadata": {
        "id": "ufWNfART3MUq"
      },
      "execution_count": 489,
      "outputs": []
    },
    {
      "cell_type": "markdown",
      "source": [
        "### Issue #3: There are irrelevant columns in tweet_json dataset"
      ],
      "metadata": {
        "id": "vcQP88v_3Mx5"
      }
    },
    {
      "cell_type": "markdown",
      "source": [
        "#### Define\n",
        "\n",
        "* There are irrelevant columns in tweet_json dataset:\n",
        "> 'truncated', 'display_text_range', 'entities', 'extended_entities','source', 'in_reply_to_status_id', 'in_reply_to_status_id_str', 'in_reply_to_user_id', 'in_reply_to_user_id_str', 'in_reply_to_screen_name', 'possibly_sensitive', 'possibly_sensitive_appealable', 'lang', 'retweeted_status', 'quoted_status_id', 'quoted_status_id_str', 'quoted_status_permalink', 'quoted_status'\n",
        "\n"
      ],
      "metadata": {
        "id": "lDjbhxU93Mx5"
      }
    },
    {
      "cell_type": "markdown",
      "source": [
        "#### Code"
      ],
      "metadata": {
        "id": "ZFdcHfmw3Mx6"
      }
    },
    {
      "cell_type": "code",
      "source": [
        "json_clean_df.columns"
      ],
      "metadata": {
        "colab": {
          "base_uri": "https://localhost:8080/"
        },
        "id": "8vHqNz5n3Mx6",
        "outputId": "6710c135-7ac3-40bd-9b29-1c9bd06044f4"
      },
      "execution_count": 490,
      "outputs": [
        {
          "output_type": "execute_result",
          "data": {
            "text/plain": [
              "Index(['created_at', 'tweet_id', 'id_str', 'full_text', 'truncated',\n",
              "       'display_text_range', 'entities', 'extended_entities', 'source',\n",
              "       'in_reply_to_status_id', 'in_reply_to_status_id_str',\n",
              "       'in_reply_to_user_id', 'in_reply_to_user_id_str',\n",
              "       'in_reply_to_screen_name', 'user', 'geo', 'coordinates', 'place',\n",
              "       'contributors', 'is_quote_status', 'retweet_count', 'favorite_count',\n",
              "       'favorited', 'retweeted', 'possibly_sensitive',\n",
              "       'possibly_sensitive_appealable', 'lang', 'retweeted_status',\n",
              "       'quoted_status_id', 'quoted_status_id_str', 'quoted_status_permalink',\n",
              "       'quoted_status'],\n",
              "      dtype='object')"
            ]
          },
          "metadata": {},
          "execution_count": 490
        }
      ]
    },
    {
      "cell_type": "code",
      "source": [
        "json_clean_df = json_clean_df.drop(\n",
        "    ['truncated', 'display_text_range', 'entities', 'extended_entities',\n",
        "     'source', 'in_reply_to_status_id', 'in_reply_to_status_id_str', \n",
        "     'in_reply_to_user_id', 'in_reply_to_user_id_str', 'in_reply_to_screen_name', \n",
        "     'possibly_sensitive', 'possibly_sensitive_appealable', 'lang', 'retweeted_status', \n",
        "     'quoted_status_id', 'quoted_status_id_str', 'quoted_status_permalink', 'quoted_status'],\n",
        "      axis=1)"
      ],
      "metadata": {
        "id": "dzbhwEQ9Xe__"
      },
      "execution_count": 491,
      "outputs": []
    },
    {
      "cell_type": "markdown",
      "source": [
        "#### Test"
      ],
      "metadata": {
        "id": "nKwjVw0v3Mx6"
      }
    },
    {
      "cell_type": "code",
      "source": [
        "# Confirming unnecessary columns have been deleted\n",
        "json_clean_df.columns"
      ],
      "metadata": {
        "colab": {
          "base_uri": "https://localhost:8080/"
        },
        "id": "xkDF1l2a3Mx7",
        "outputId": "df73e504-d0fc-4f4a-eb28-c0dfb8ea3cfe"
      },
      "execution_count": 492,
      "outputs": [
        {
          "output_type": "execute_result",
          "data": {
            "text/plain": [
              "Index(['created_at', 'tweet_id', 'id_str', 'full_text', 'user', 'geo',\n",
              "       'coordinates', 'place', 'contributors', 'is_quote_status',\n",
              "       'retweet_count', 'favorite_count', 'favorited', 'retweeted'],\n",
              "      dtype='object')"
            ]
          },
          "metadata": {},
          "execution_count": 492
        }
      ]
    },
    {
      "cell_type": "markdown",
      "source": [
        "### Issue #4: There are three separate dataframes (twitter_archive, image_pred, tweet_json) from the 3 datasets"
      ],
      "metadata": {
        "id": "ZYiXPxtKYZhU"
      }
    },
    {
      "cell_type": "markdown",
      "source": [
        "#### Define\n",
        "\n",
        "* There are three separate dataframes (twitter_archive, image_pred, tweet_json) from the 3 datasets\n",
        "* The cleaned datasets need to be merged into one master dataset, using the \"tweet_id\" identifier\n",
        "* We will first merge the image_pred and twitter_archive dataframes, as we need only original tweets having images (left join)\n",
        "* The dataframe formed will then be merged with the tweet_json dataframe, so as to have the additional information about the tweets (left join)"
      ],
      "metadata": {
        "id": "4AEN5uQ1ZN-U"
      }
    },
    {
      "cell_type": "markdown",
      "source": [
        "#### Code"
      ],
      "metadata": {
        "id": "RPsvSwdVZpNG"
      }
    },
    {
      "cell_type": "code",
      "source": [
        "# Displaying columns and shape of twitter_archive dataset\n",
        "print(\"Columns: \", twitter_clean_df.columns)\n",
        "print(\"Shape: \", twitter_clean_df.shape)"
      ],
      "metadata": {
        "colab": {
          "base_uri": "https://localhost:8080/"
        },
        "id": "iKLE60x0ZzS4",
        "outputId": "efba5140-dd1f-4e09-9cd0-edc1a07b0310"
      },
      "execution_count": 493,
      "outputs": [
        {
          "output_type": "stream",
          "name": "stdout",
          "text": [
            "Columns:  Index(['tweet_id', 'date', 'text', 'expanded_urls', 'rating_numerator',\n",
            "       'rating_denominator', 'name', 'dog_stage'],\n",
            "      dtype='object')\n",
            "Shape:  (2184, 8)\n"
          ]
        }
      ]
    },
    {
      "cell_type": "code",
      "source": [
        "# Displaying columns and shape of images dataset\n",
        "print(\"Columns: \", images_clean_df.columns)\n",
        "print(\"Shape: \", images_clean_df.shape)"
      ],
      "metadata": {
        "colab": {
          "base_uri": "https://localhost:8080/"
        },
        "id": "vBv3dcAxcQyW",
        "outputId": "32a187b1-de0b-465d-e905-2f7b7d5be47d"
      },
      "execution_count": 494,
      "outputs": [
        {
          "output_type": "stream",
          "name": "stdout",
          "text": [
            "Columns:  Index(['tweet_id', 'jpg_url', 'img_num', 'p1', 'p1_conf', 'p1_dog', 'p2',\n",
            "       'p2_conf', 'p2_dog', 'p3', 'p3_conf', 'p3_dog'],\n",
            "      dtype='object')\n",
            "Shape:  (2075, 12)\n"
          ]
        }
      ]
    },
    {
      "cell_type": "code",
      "source": [
        "# Displaying columns and shape of tweet_json dataset\n",
        "print(\"Columns: \", json_clean_df.columns)\n",
        "print(\"Shape: \", json_clean_df.shape)"
      ],
      "metadata": {
        "colab": {
          "base_uri": "https://localhost:8080/"
        },
        "id": "NWOr9Xa7cRaX",
        "outputId": "a80a075f-c0bd-4413-d74e-93123c67208b"
      },
      "execution_count": 495,
      "outputs": [
        {
          "output_type": "stream",
          "name": "stdout",
          "text": [
            "Columns:  Index(['created_at', 'tweet_id', 'id_str', 'full_text', 'user', 'geo',\n",
            "       'coordinates', 'place', 'contributors', 'is_quote_status',\n",
            "       'retweet_count', 'favorite_count', 'favorited', 'retweeted'],\n",
            "      dtype='object')\n",
            "Shape:  (726, 14)\n"
          ]
        }
      ]
    },
    {
      "cell_type": "code",
      "source": [
        "# Merging Two Dataframes first: images_clean_df, twitter_clean_df \n",
        "twitter_merge_df = pd.merge(images_clean_df, twitter_clean_df, on = 'tweet_id', how='left')"
      ],
      "metadata": {
        "id": "qIT4DgXbeusv"
      },
      "execution_count": 496,
      "outputs": []
    },
    {
      "cell_type": "code",
      "source": [
        "# Displaying columns and shape of twitter_merge_df dataframe\n",
        "print(\"Columns: \", twitter_merge_df.columns)\n",
        "print(\"Shape: \", twitter_merge_df.shape)"
      ],
      "metadata": {
        "colab": {
          "base_uri": "https://localhost:8080/"
        },
        "id": "dTTvqueFg3xZ",
        "outputId": "6b5bd37a-defa-4fee-bef5-af68c50fcd6c"
      },
      "execution_count": 497,
      "outputs": [
        {
          "output_type": "stream",
          "name": "stdout",
          "text": [
            "Columns:  Index(['tweet_id', 'jpg_url', 'img_num', 'p1', 'p1_conf', 'p1_dog', 'p2',\n",
            "       'p2_conf', 'p2_dog', 'p3', 'p3_conf', 'p3_dog', 'date', 'text',\n",
            "       'expanded_urls', 'rating_numerator', 'rating_denominator', 'name',\n",
            "       'dog_stage'],\n",
            "      dtype='object')\n",
            "Shape:  (3686, 19)\n"
          ]
        }
      ]
    },
    {
      "cell_type": "markdown",
      "source": [
        "* The shape of the image_clean_df is (2075, 12); while that of the twitter_clean_df is (2184, 8)\n",
        "* The new dataframe formed (twitter_merge_df) has its shape as (3686, 19), meaning that 7 columns (excluding tweet_id) from twitter_clean_df were appended to the images_clean_df\n",
        "* Additionally, 1611 records from twitter_clean_df were appended to the images_clean_df"
      ],
      "metadata": {
        "id": "Q96CcGq3_9GM"
      }
    },
    {
      "cell_type": "code",
      "source": [
        "twitter_merge_df.tail(3)"
      ],
      "metadata": {
        "colab": {
          "base_uri": "https://localhost:8080/",
          "height": 0
        },
        "id": "3ndRL9Au_TLK",
        "outputId": "f6a6347b-8426-4f7c-a423-5a43a1a9aa85"
      },
      "execution_count": 498,
      "outputs": [
        {
          "output_type": "execute_result",
          "data": {
            "text/plain": [
              "                tweet_id                                          jpg_url  \\\n",
              "3683  892420643555336193  https://pbs.twimg.com/media/DGKD1-bXoAAIAUK.jpg   \n",
              "3684  892420643555336193  https://pbs.twimg.com/media/DGKD1-bXoAAIAUK.jpg   \n",
              "3685  892420643555336193  https://pbs.twimg.com/media/DGKD1-bXoAAIAUK.jpg   \n",
              "\n",
              "      img_num      p1   p1_conf  p1_dog     p2   p2_conf  p2_dog      p3  \\\n",
              "3683        1  Orange  0.097049   False  Bagel  0.085851   False  Banana   \n",
              "3684        1  Orange  0.097049   False  Bagel  0.085851   False  Banana   \n",
              "3685        1  Orange  0.097049   False  Bagel  0.085851   False  Banana   \n",
              "\n",
              "      p3_conf  p3_dog        date  \\\n",
              "3683  0.07611   False  2017-08-01   \n",
              "3684  0.07611   False  2017-08-01   \n",
              "3685  0.07611   False  2017-08-01   \n",
              "\n",
              "                                                   text  \\\n",
              "3683  This is Phineas. He's a mystical boy. Only eve...   \n",
              "3684  This is Phineas. He's a mystical boy. Only eve...   \n",
              "3685  This is Phineas. He's a mystical boy. Only eve...   \n",
              "\n",
              "                                          expanded_urls  rating_numerator  \\\n",
              "3683  https://twitter.com/dog_rates/status/892420643...              13.0   \n",
              "3684  https://twitter.com/dog_rates/status/892420643...              13.0   \n",
              "3685  https://twitter.com/dog_rates/status/892420643...              13.0   \n",
              "\n",
              "      rating_denominator     name dog_stage  \n",
              "3683                10.0  Phineas      None  \n",
              "3684                10.0  Phineas      None  \n",
              "3685                10.0  Phineas      None  "
            ],
            "text/html": [
              "\n",
              "  <div id=\"df-180d45b2-c864-447b-acd3-962d33eb86c3\">\n",
              "    <div class=\"colab-df-container\">\n",
              "      <div>\n",
              "<style scoped>\n",
              "    .dataframe tbody tr th:only-of-type {\n",
              "        vertical-align: middle;\n",
              "    }\n",
              "\n",
              "    .dataframe tbody tr th {\n",
              "        vertical-align: top;\n",
              "    }\n",
              "\n",
              "    .dataframe thead th {\n",
              "        text-align: right;\n",
              "    }\n",
              "</style>\n",
              "<table border=\"1\" class=\"dataframe\">\n",
              "  <thead>\n",
              "    <tr style=\"text-align: right;\">\n",
              "      <th></th>\n",
              "      <th>tweet_id</th>\n",
              "      <th>jpg_url</th>\n",
              "      <th>img_num</th>\n",
              "      <th>p1</th>\n",
              "      <th>p1_conf</th>\n",
              "      <th>p1_dog</th>\n",
              "      <th>p2</th>\n",
              "      <th>p2_conf</th>\n",
              "      <th>p2_dog</th>\n",
              "      <th>p3</th>\n",
              "      <th>p3_conf</th>\n",
              "      <th>p3_dog</th>\n",
              "      <th>date</th>\n",
              "      <th>text</th>\n",
              "      <th>expanded_urls</th>\n",
              "      <th>rating_numerator</th>\n",
              "      <th>rating_denominator</th>\n",
              "      <th>name</th>\n",
              "      <th>dog_stage</th>\n",
              "    </tr>\n",
              "  </thead>\n",
              "  <tbody>\n",
              "    <tr>\n",
              "      <th>3683</th>\n",
              "      <td>892420643555336193</td>\n",
              "      <td>https://pbs.twimg.com/media/DGKD1-bXoAAIAUK.jpg</td>\n",
              "      <td>1</td>\n",
              "      <td>Orange</td>\n",
              "      <td>0.097049</td>\n",
              "      <td>False</td>\n",
              "      <td>Bagel</td>\n",
              "      <td>0.085851</td>\n",
              "      <td>False</td>\n",
              "      <td>Banana</td>\n",
              "      <td>0.07611</td>\n",
              "      <td>False</td>\n",
              "      <td>2017-08-01</td>\n",
              "      <td>This is Phineas. He's a mystical boy. Only eve...</td>\n",
              "      <td>https://twitter.com/dog_rates/status/892420643...</td>\n",
              "      <td>13.0</td>\n",
              "      <td>10.0</td>\n",
              "      <td>Phineas</td>\n",
              "      <td>None</td>\n",
              "    </tr>\n",
              "    <tr>\n",
              "      <th>3684</th>\n",
              "      <td>892420643555336193</td>\n",
              "      <td>https://pbs.twimg.com/media/DGKD1-bXoAAIAUK.jpg</td>\n",
              "      <td>1</td>\n",
              "      <td>Orange</td>\n",
              "      <td>0.097049</td>\n",
              "      <td>False</td>\n",
              "      <td>Bagel</td>\n",
              "      <td>0.085851</td>\n",
              "      <td>False</td>\n",
              "      <td>Banana</td>\n",
              "      <td>0.07611</td>\n",
              "      <td>False</td>\n",
              "      <td>2017-08-01</td>\n",
              "      <td>This is Phineas. He's a mystical boy. Only eve...</td>\n",
              "      <td>https://twitter.com/dog_rates/status/892420643...</td>\n",
              "      <td>13.0</td>\n",
              "      <td>10.0</td>\n",
              "      <td>Phineas</td>\n",
              "      <td>None</td>\n",
              "    </tr>\n",
              "    <tr>\n",
              "      <th>3685</th>\n",
              "      <td>892420643555336193</td>\n",
              "      <td>https://pbs.twimg.com/media/DGKD1-bXoAAIAUK.jpg</td>\n",
              "      <td>1</td>\n",
              "      <td>Orange</td>\n",
              "      <td>0.097049</td>\n",
              "      <td>False</td>\n",
              "      <td>Bagel</td>\n",
              "      <td>0.085851</td>\n",
              "      <td>False</td>\n",
              "      <td>Banana</td>\n",
              "      <td>0.07611</td>\n",
              "      <td>False</td>\n",
              "      <td>2017-08-01</td>\n",
              "      <td>This is Phineas. He's a mystical boy. Only eve...</td>\n",
              "      <td>https://twitter.com/dog_rates/status/892420643...</td>\n",
              "      <td>13.0</td>\n",
              "      <td>10.0</td>\n",
              "      <td>Phineas</td>\n",
              "      <td>None</td>\n",
              "    </tr>\n",
              "  </tbody>\n",
              "</table>\n",
              "</div>\n",
              "      <button class=\"colab-df-convert\" onclick=\"convertToInteractive('df-180d45b2-c864-447b-acd3-962d33eb86c3')\"\n",
              "              title=\"Convert this dataframe to an interactive table.\"\n",
              "              style=\"display:none;\">\n",
              "        \n",
              "  <svg xmlns=\"http://www.w3.org/2000/svg\" height=\"24px\"viewBox=\"0 0 24 24\"\n",
              "       width=\"24px\">\n",
              "    <path d=\"M0 0h24v24H0V0z\" fill=\"none\"/>\n",
              "    <path d=\"M18.56 5.44l.94 2.06.94-2.06 2.06-.94-2.06-.94-.94-2.06-.94 2.06-2.06.94zm-11 1L8.5 8.5l.94-2.06 2.06-.94-2.06-.94L8.5 2.5l-.94 2.06-2.06.94zm10 10l.94 2.06.94-2.06 2.06-.94-2.06-.94-.94-2.06-.94 2.06-2.06.94z\"/><path d=\"M17.41 7.96l-1.37-1.37c-.4-.4-.92-.59-1.43-.59-.52 0-1.04.2-1.43.59L10.3 9.45l-7.72 7.72c-.78.78-.78 2.05 0 2.83L4 21.41c.39.39.9.59 1.41.59.51 0 1.02-.2 1.41-.59l7.78-7.78 2.81-2.81c.8-.78.8-2.07 0-2.86zM5.41 20L4 18.59l7.72-7.72 1.47 1.35L5.41 20z\"/>\n",
              "  </svg>\n",
              "      </button>\n",
              "      \n",
              "  <style>\n",
              "    .colab-df-container {\n",
              "      display:flex;\n",
              "      flex-wrap:wrap;\n",
              "      gap: 12px;\n",
              "    }\n",
              "\n",
              "    .colab-df-convert {\n",
              "      background-color: #E8F0FE;\n",
              "      border: none;\n",
              "      border-radius: 50%;\n",
              "      cursor: pointer;\n",
              "      display: none;\n",
              "      fill: #1967D2;\n",
              "      height: 32px;\n",
              "      padding: 0 0 0 0;\n",
              "      width: 32px;\n",
              "    }\n",
              "\n",
              "    .colab-df-convert:hover {\n",
              "      background-color: #E2EBFA;\n",
              "      box-shadow: 0px 1px 2px rgba(60, 64, 67, 0.3), 0px 1px 3px 1px rgba(60, 64, 67, 0.15);\n",
              "      fill: #174EA6;\n",
              "    }\n",
              "\n",
              "    [theme=dark] .colab-df-convert {\n",
              "      background-color: #3B4455;\n",
              "      fill: #D2E3FC;\n",
              "    }\n",
              "\n",
              "    [theme=dark] .colab-df-convert:hover {\n",
              "      background-color: #434B5C;\n",
              "      box-shadow: 0px 1px 3px 1px rgba(0, 0, 0, 0.15);\n",
              "      filter: drop-shadow(0px 1px 2px rgba(0, 0, 0, 0.3));\n",
              "      fill: #FFFFFF;\n",
              "    }\n",
              "  </style>\n",
              "\n",
              "      <script>\n",
              "        const buttonEl =\n",
              "          document.querySelector('#df-180d45b2-c864-447b-acd3-962d33eb86c3 button.colab-df-convert');\n",
              "        buttonEl.style.display =\n",
              "          google.colab.kernel.accessAllowed ? 'block' : 'none';\n",
              "\n",
              "        async function convertToInteractive(key) {\n",
              "          const element = document.querySelector('#df-180d45b2-c864-447b-acd3-962d33eb86c3');\n",
              "          const dataTable =\n",
              "            await google.colab.kernel.invokeFunction('convertToInteractive',\n",
              "                                                     [key], {});\n",
              "          if (!dataTable) return;\n",
              "\n",
              "          const docLinkHtml = 'Like what you see? Visit the ' +\n",
              "            '<a target=\"_blank\" href=https://colab.research.google.com/notebooks/data_table.ipynb>data table notebook</a>'\n",
              "            + ' to learn more about interactive tables.';\n",
              "          element.innerHTML = '';\n",
              "          dataTable['output_type'] = 'display_data';\n",
              "          await google.colab.output.renderOutput(dataTable, element);\n",
              "          const docLink = document.createElement('div');\n",
              "          docLink.innerHTML = docLinkHtml;\n",
              "          element.appendChild(docLink);\n",
              "        }\n",
              "      </script>\n",
              "    </div>\n",
              "  </div>\n",
              "  "
            ]
          },
          "metadata": {},
          "execution_count": 498
        }
      ]
    },
    {
      "cell_type": "code",
      "source": [
        "# Merging Two Dataframes into Final Dataset: twitter_merge_df, json_clean_df\n",
        "twitter_archive_master_df = pd.merge(twitter_merge_df, json_clean_df, on = 'tweet_id', how='left')"
      ],
      "metadata": {
        "id": "N9wkznTeB2p1"
      },
      "execution_count": 499,
      "outputs": []
    },
    {
      "cell_type": "code",
      "source": [
        "# Displaying columns and shape of twitter_archive_master_df dataframe\n",
        "print(\"Columns: \", twitter_archive_master_df.columns)\n",
        "print(\"Shape: \", twitter_archive_master_df.shape)"
      ],
      "metadata": {
        "colab": {
          "base_uri": "https://localhost:8080/"
        },
        "id": "lPMcsXeMDDAk",
        "outputId": "6a832055-929d-413a-c697-fdcc5575c00a"
      },
      "execution_count": 500,
      "outputs": [
        {
          "output_type": "stream",
          "name": "stdout",
          "text": [
            "Columns:  Index(['tweet_id', 'jpg_url', 'img_num', 'p1', 'p1_conf', 'p1_dog', 'p2',\n",
            "       'p2_conf', 'p2_dog', 'p3', 'p3_conf', 'p3_dog', 'date', 'text',\n",
            "       'expanded_urls', 'rating_numerator', 'rating_denominator', 'name',\n",
            "       'dog_stage', 'created_at', 'id_str', 'full_text', 'user', 'geo',\n",
            "       'coordinates', 'place', 'contributors', 'is_quote_status',\n",
            "       'retweet_count', 'favorite_count', 'favorited', 'retweeted'],\n",
            "      dtype='object')\n",
            "Shape:  (3686, 32)\n"
          ]
        }
      ]
    },
    {
      "cell_type": "markdown",
      "source": [
        "#### Test"
      ],
      "metadata": {
        "id": "tvijlbxdZ4-M"
      }
    },
    {
      "cell_type": "code",
      "source": [
        "# Displaying columns and shape of twitter_archive_master_df dataframe\n",
        "print(\"Columns: \", twitter_archive_master_df.columns)\n",
        "print(\"Shape: \", twitter_archive_master_df.shape)"
      ],
      "metadata": {
        "id": "Jhd79RPfZ6zc",
        "colab": {
          "base_uri": "https://localhost:8080/"
        },
        "outputId": "8cab6b71-d9f8-4fd4-ef69-e5ca5cbe5650"
      },
      "execution_count": 501,
      "outputs": [
        {
          "output_type": "stream",
          "name": "stdout",
          "text": [
            "Columns:  Index(['tweet_id', 'jpg_url', 'img_num', 'p1', 'p1_conf', 'p1_dog', 'p2',\n",
            "       'p2_conf', 'p2_dog', 'p3', 'p3_conf', 'p3_dog', 'date', 'text',\n",
            "       'expanded_urls', 'rating_numerator', 'rating_denominator', 'name',\n",
            "       'dog_stage', 'created_at', 'id_str', 'full_text', 'user', 'geo',\n",
            "       'coordinates', 'place', 'contributors', 'is_quote_status',\n",
            "       'retweet_count', 'favorite_count', 'favorited', 'retweeted'],\n",
            "      dtype='object')\n",
            "Shape:  (3686, 32)\n"
          ]
        }
      ]
    },
    {
      "cell_type": "markdown",
      "source": [
        "* The shape of the twitter_merge_df dataframe is (3686, 19); while that of the json_clean_df is (726, 14)\n",
        "* The new dataframe formed (twitter_archive_master_df) has its shape as (3686, 32), meaning that 13 columns (excluding tweet_id) from json_clean_df were appended to the twitter_merge_df"
      ],
      "metadata": {
        "id": "QVJD6x2ZDmWE"
      }
    },
    {
      "cell_type": "markdown",
      "metadata": {
        "id": "SkXHi0kz45rV"
      },
      "source": [
        "## Storing Data\n",
        "Save gathered, assessed, and cleaned master dataset to a CSV file named \"twitter_archive_master.csv\"."
      ]
    },
    {
      "cell_type": "markdown",
      "metadata": {
        "collapsed": true,
        "extensions": {
          "jupyter_dashboards": {
            "version": 1,
            "views": {
              "grid_default": {
                "hidden": true
              },
              "report_default": {
                "hidden": true
              }
            }
          }
        },
        "id": "8o79kL_w-urb"
      },
      "source": [
        "#### Define\n",
        "* The final merged dataframe will be exported to a CSV file using the Pandas method to_csv()"
      ]
    },
    {
      "cell_type": "markdown",
      "metadata": {
        "id": "6IVUc7GH-urc"
      },
      "source": [
        "#### Code"
      ]
    },
    {
      "cell_type": "code",
      "source": [
        "# Displaying columns and shape of twitter_archive_master_df dataframe\n",
        "print(\"Columns: \", twitter_archive_master_df.columns)\n",
        "print(\"Shape: \", twitter_archive_master_df.shape)"
      ],
      "metadata": {
        "colab": {
          "base_uri": "https://localhost:8080/"
        },
        "id": "LRvVQ7ndO8i8",
        "outputId": "5d6122c9-67ac-4e09-8bdb-ded9659ed69f"
      },
      "execution_count": 502,
      "outputs": [
        {
          "output_type": "stream",
          "name": "stdout",
          "text": [
            "Columns:  Index(['tweet_id', 'jpg_url', 'img_num', 'p1', 'p1_conf', 'p1_dog', 'p2',\n",
            "       'p2_conf', 'p2_dog', 'p3', 'p3_conf', 'p3_dog', 'date', 'text',\n",
            "       'expanded_urls', 'rating_numerator', 'rating_denominator', 'name',\n",
            "       'dog_stage', 'created_at', 'id_str', 'full_text', 'user', 'geo',\n",
            "       'coordinates', 'place', 'contributors', 'is_quote_status',\n",
            "       'retweet_count', 'favorite_count', 'favorited', 'retweeted'],\n",
            "      dtype='object')\n",
            "Shape:  (3686, 32)\n"
          ]
        }
      ]
    },
    {
      "cell_type": "code",
      "execution_count": 503,
      "metadata": {
        "id": "7GUm_cdu-urc"
      },
      "outputs": [],
      "source": [
        "# exporting final dataframe to CSV file\n",
        "twitter_archive_master_df.to_csv(working_dir + \"twitter_archive_master.csv\", index=False)"
      ]
    },
    {
      "cell_type": "markdown",
      "metadata": {
        "id": "iTR6aDd8-urd"
      },
      "source": [
        "#### Test"
      ]
    },
    {
      "cell_type": "code",
      "execution_count": 504,
      "metadata": {
        "id": "A3hYHIRH-ure"
      },
      "outputs": [],
      "source": [
        "# reading data stored in file\n",
        "twitter_master_df = pd.read_csv(working_dir + \"twitter_archive_master.csv\")"
      ]
    },
    {
      "cell_type": "code",
      "execution_count": 505,
      "metadata": {
        "id": "BugPCBtN45rV",
        "colab": {
          "base_uri": "https://localhost:8080/"
        },
        "outputId": "12d9022c-f1ba-42f4-e5a8-107aab2cc065"
      },
      "outputs": [
        {
          "output_type": "stream",
          "name": "stdout",
          "text": [
            "Columns:  Index(['tweet_id', 'jpg_url', 'img_num', 'p1', 'p1_conf', 'p1_dog', 'p2',\n",
            "       'p2_conf', 'p2_dog', 'p3', 'p3_conf', 'p3_dog', 'date', 'text',\n",
            "       'expanded_urls', 'rating_numerator', 'rating_denominator', 'name',\n",
            "       'dog_stage', 'created_at', 'id_str', 'full_text', 'user', 'geo',\n",
            "       'coordinates', 'place', 'contributors', 'is_quote_status',\n",
            "       'retweet_count', 'favorite_count', 'favorited', 'retweeted'],\n",
            "      dtype='object')\n",
            "Shape:  (3686, 32)\n"
          ]
        }
      ],
      "source": [
        "# Displaying columns and shape of twitter_master_df dataframe\n",
        "print(\"Columns: \", twitter_master_df.columns)\n",
        "print(\"Shape: \", twitter_master_df.shape)"
      ]
    },
    {
      "cell_type": "markdown",
      "metadata": {
        "id": "woWm2c-045rV"
      },
      "source": [
        "# Analyzing and Visualizing Data\n",
        "In this section, analyze and visualize your wrangled data. You must produce at least **three (3) insights and one (1) visualization.**"
      ]
    },
    {
      "cell_type": "markdown",
      "source": [
        "### Reading Final Merged Dataset"
      ],
      "metadata": {
        "id": "AjF23xKzRnbc"
      }
    },
    {
      "cell_type": "code",
      "execution_count": 528,
      "metadata": {
        "id": "5EVWGX5dRlIo"
      },
      "outputs": [],
      "source": [
        "# reading data stored in file\n",
        "twitter_master_df = pd.read_csv(working_dir + \"twitter_archive_master.csv\")"
      ]
    },
    {
      "cell_type": "code",
      "execution_count": 529,
      "metadata": {
        "colab": {
          "base_uri": "https://localhost:8080/"
        },
        "outputId": "37c04791-c48c-40e9-c4fa-b2fdf5dd6ca5",
        "id": "N-iDkzZNRlIr"
      },
      "outputs": [
        {
          "output_type": "stream",
          "name": "stdout",
          "text": [
            "Columns:  Index(['tweet_id', 'jpg_url', 'img_num', 'p1', 'p1_conf', 'p1_dog', 'p2',\n",
            "       'p2_conf', 'p2_dog', 'p3', 'p3_conf', 'p3_dog', 'date', 'text',\n",
            "       'expanded_urls', 'rating_numerator', 'rating_denominator', 'name',\n",
            "       'dog_stage', 'created_at', 'id_str', 'full_text', 'user', 'geo',\n",
            "       'coordinates', 'place', 'contributors', 'is_quote_status',\n",
            "       'retweet_count', 'favorite_count', 'favorited', 'retweeted'],\n",
            "      dtype='object')\n",
            "Shape:  (3686, 32)\n"
          ]
        }
      ],
      "source": [
        "# Displaying columns and shape of twitter_master_df dataframe\n",
        "print(\"Columns: \", twitter_master_df.columns)\n",
        "print(\"Shape: \", twitter_master_df.shape)"
      ]
    },
    {
      "cell_type": "markdown",
      "source": [
        "### Analyzing Data"
      ],
      "metadata": {
        "id": "5WW2W-NmTE6y"
      }
    },
    {
      "cell_type": "code",
      "source": [
        "## Displaying columns and shape after dropping\n",
        "print(\"Columns: \", twitter_master_df.columns)\n",
        "print(\"Shape: \", twitter_master_df.shape)"
      ],
      "metadata": {
        "colab": {
          "base_uri": "https://localhost:8080/"
        },
        "id": "l80q-N_WRvCX",
        "outputId": "0a585f3f-ca55-417f-adee-ac4b4aa00996"
      },
      "execution_count": 530,
      "outputs": [
        {
          "output_type": "stream",
          "name": "stdout",
          "text": [
            "Columns:  Index(['tweet_id', 'jpg_url', 'img_num', 'p1', 'p1_conf', 'p1_dog', 'p2',\n",
            "       'p2_conf', 'p2_dog', 'p3', 'p3_conf', 'p3_dog', 'date', 'text',\n",
            "       'expanded_urls', 'rating_numerator', 'rating_denominator', 'name',\n",
            "       'dog_stage', 'created_at', 'id_str', 'full_text', 'user', 'geo',\n",
            "       'coordinates', 'place', 'contributors', 'is_quote_status',\n",
            "       'retweet_count', 'favorite_count', 'favorited', 'retweeted'],\n",
            "      dtype='object')\n",
            "Shape:  (3686, 32)\n"
          ]
        }
      ]
    },
    {
      "cell_type": "code",
      "source": [
        "# viewing sample rows\n",
        "twitter_master_df.sample(5)"
      ],
      "metadata": {
        "colab": {
          "base_uri": "https://localhost:8080/",
          "height": 0
        },
        "id": "XthCmRsMSVH8",
        "outputId": "88ae71ac-8554-4e22-d4e6-989c444fc45c"
      },
      "execution_count": 531,
      "outputs": [
        {
          "output_type": "execute_result",
          "data": {
            "text/plain": [
              "                tweet_id                                          jpg_url  \\\n",
              "949   704847917308362754  https://pbs.twimg.com/media/CcgfcANW4AA9hzr.jpg   \n",
              "597   679530280114372609  https://pbs.twimg.com/media/CW4tL1vWcAIw1dw.jpg   \n",
              "3407  874057562936811520  https://pbs.twimg.com/media/DCFGtdoXkAEsqIw.jpg   \n",
              "2447  815639385530101762  https://pbs.twimg.com/media/C1G7sXyWIAA10eH.jpg   \n",
              "2783  831309418084069378  https://pbs.twimg.com/media/C4lngK5VUAEVrNO.jpg   \n",
              "\n",
              "      img_num                     p1   p1_conf  p1_dog  \\\n",
              "949         1       Golden_Retriever  0.857240    True   \n",
              "597         1              Dalmatian  0.750256    True   \n",
              "3407        1  Flat-Coated_Retriever  0.832177    True   \n",
              "2447        1        German_Shepherd  0.817953    True   \n",
              "2783        1               Doberman  0.369389    True   \n",
              "\n",
              "                           p2   p2_conf  p2_dog                  p3  ...  \\\n",
              "949        Labrador_Retriever  0.135460    True     Tibetan_Mastiff  ...   \n",
              "597                    Jaguar  0.169007   False               Zebra  ...   \n",
              "3407  Black-And-Tan_Coonhound  0.040437    True        Newfoundland  ...   \n",
              "2447       Norwegian_Elkhound  0.140007    True            Malinois  ...   \n",
              "2783                   Kelpie  0.132449    True  Labrador_Retriever  ...   \n",
              "\n",
              "                                                   user  geo coordinates  \\\n",
              "949                                                 NaN  NaN         NaN   \n",
              "597                                                 NaN  NaN         NaN   \n",
              "3407  {'id': 4196983835, 'id_str': '4196983835', 'na...  NaN         NaN   \n",
              "2447  {'id': 4196983835, 'id_str': '4196983835', 'na...  NaN         NaN   \n",
              "2783  {'id': 4196983835, 'id_str': '4196983835', 'na...  NaN         NaN   \n",
              "\n",
              "     place contributors  is_quote_status  retweet_count favorite_count  \\\n",
              "949    NaN          NaN              NaN            NaN            NaN   \n",
              "597    NaN          NaN              NaN            NaN            NaN   \n",
              "3407   NaN          NaN            False         3376.0        20112.0   \n",
              "2447   NaN          NaN            False         1551.0         7824.0   \n",
              "2783   NaN          NaN            False         2270.0        11106.0   \n",
              "\n",
              "     favorited retweeted  \n",
              "949        NaN       NaN  \n",
              "597        NaN       NaN  \n",
              "3407     False     False  \n",
              "2447     False     False  \n",
              "2783     False     False  \n",
              "\n",
              "[5 rows x 32 columns]"
            ],
            "text/html": [
              "\n",
              "  <div id=\"df-9d3874f3-7715-4bdf-a9c0-6ecfdcf33c3d\">\n",
              "    <div class=\"colab-df-container\">\n",
              "      <div>\n",
              "<style scoped>\n",
              "    .dataframe tbody tr th:only-of-type {\n",
              "        vertical-align: middle;\n",
              "    }\n",
              "\n",
              "    .dataframe tbody tr th {\n",
              "        vertical-align: top;\n",
              "    }\n",
              "\n",
              "    .dataframe thead th {\n",
              "        text-align: right;\n",
              "    }\n",
              "</style>\n",
              "<table border=\"1\" class=\"dataframe\">\n",
              "  <thead>\n",
              "    <tr style=\"text-align: right;\">\n",
              "      <th></th>\n",
              "      <th>tweet_id</th>\n",
              "      <th>jpg_url</th>\n",
              "      <th>img_num</th>\n",
              "      <th>p1</th>\n",
              "      <th>p1_conf</th>\n",
              "      <th>p1_dog</th>\n",
              "      <th>p2</th>\n",
              "      <th>p2_conf</th>\n",
              "      <th>p2_dog</th>\n",
              "      <th>p3</th>\n",
              "      <th>...</th>\n",
              "      <th>user</th>\n",
              "      <th>geo</th>\n",
              "      <th>coordinates</th>\n",
              "      <th>place</th>\n",
              "      <th>contributors</th>\n",
              "      <th>is_quote_status</th>\n",
              "      <th>retweet_count</th>\n",
              "      <th>favorite_count</th>\n",
              "      <th>favorited</th>\n",
              "      <th>retweeted</th>\n",
              "    </tr>\n",
              "  </thead>\n",
              "  <tbody>\n",
              "    <tr>\n",
              "      <th>949</th>\n",
              "      <td>704847917308362754</td>\n",
              "      <td>https://pbs.twimg.com/media/CcgfcANW4AA9hzr.jpg</td>\n",
              "      <td>1</td>\n",
              "      <td>Golden_Retriever</td>\n",
              "      <td>0.857240</td>\n",
              "      <td>True</td>\n",
              "      <td>Labrador_Retriever</td>\n",
              "      <td>0.135460</td>\n",
              "      <td>True</td>\n",
              "      <td>Tibetan_Mastiff</td>\n",
              "      <td>...</td>\n",
              "      <td>NaN</td>\n",
              "      <td>NaN</td>\n",
              "      <td>NaN</td>\n",
              "      <td>NaN</td>\n",
              "      <td>NaN</td>\n",
              "      <td>NaN</td>\n",
              "      <td>NaN</td>\n",
              "      <td>NaN</td>\n",
              "      <td>NaN</td>\n",
              "      <td>NaN</td>\n",
              "    </tr>\n",
              "    <tr>\n",
              "      <th>597</th>\n",
              "      <td>679530280114372609</td>\n",
              "      <td>https://pbs.twimg.com/media/CW4tL1vWcAIw1dw.jpg</td>\n",
              "      <td>1</td>\n",
              "      <td>Dalmatian</td>\n",
              "      <td>0.750256</td>\n",
              "      <td>True</td>\n",
              "      <td>Jaguar</td>\n",
              "      <td>0.169007</td>\n",
              "      <td>False</td>\n",
              "      <td>Zebra</td>\n",
              "      <td>...</td>\n",
              "      <td>NaN</td>\n",
              "      <td>NaN</td>\n",
              "      <td>NaN</td>\n",
              "      <td>NaN</td>\n",
              "      <td>NaN</td>\n",
              "      <td>NaN</td>\n",
              "      <td>NaN</td>\n",
              "      <td>NaN</td>\n",
              "      <td>NaN</td>\n",
              "      <td>NaN</td>\n",
              "    </tr>\n",
              "    <tr>\n",
              "      <th>3407</th>\n",
              "      <td>874057562936811520</td>\n",
              "      <td>https://pbs.twimg.com/media/DCFGtdoXkAEsqIw.jpg</td>\n",
              "      <td>1</td>\n",
              "      <td>Flat-Coated_Retriever</td>\n",
              "      <td>0.832177</td>\n",
              "      <td>True</td>\n",
              "      <td>Black-And-Tan_Coonhound</td>\n",
              "      <td>0.040437</td>\n",
              "      <td>True</td>\n",
              "      <td>Newfoundland</td>\n",
              "      <td>...</td>\n",
              "      <td>{'id': 4196983835, 'id_str': '4196983835', 'na...</td>\n",
              "      <td>NaN</td>\n",
              "      <td>NaN</td>\n",
              "      <td>NaN</td>\n",
              "      <td>NaN</td>\n",
              "      <td>False</td>\n",
              "      <td>3376.0</td>\n",
              "      <td>20112.0</td>\n",
              "      <td>False</td>\n",
              "      <td>False</td>\n",
              "    </tr>\n",
              "    <tr>\n",
              "      <th>2447</th>\n",
              "      <td>815639385530101762</td>\n",
              "      <td>https://pbs.twimg.com/media/C1G7sXyWIAA10eH.jpg</td>\n",
              "      <td>1</td>\n",
              "      <td>German_Shepherd</td>\n",
              "      <td>0.817953</td>\n",
              "      <td>True</td>\n",
              "      <td>Norwegian_Elkhound</td>\n",
              "      <td>0.140007</td>\n",
              "      <td>True</td>\n",
              "      <td>Malinois</td>\n",
              "      <td>...</td>\n",
              "      <td>{'id': 4196983835, 'id_str': '4196983835', 'na...</td>\n",
              "      <td>NaN</td>\n",
              "      <td>NaN</td>\n",
              "      <td>NaN</td>\n",
              "      <td>NaN</td>\n",
              "      <td>False</td>\n",
              "      <td>1551.0</td>\n",
              "      <td>7824.0</td>\n",
              "      <td>False</td>\n",
              "      <td>False</td>\n",
              "    </tr>\n",
              "    <tr>\n",
              "      <th>2783</th>\n",
              "      <td>831309418084069378</td>\n",
              "      <td>https://pbs.twimg.com/media/C4lngK5VUAEVrNO.jpg</td>\n",
              "      <td>1</td>\n",
              "      <td>Doberman</td>\n",
              "      <td>0.369389</td>\n",
              "      <td>True</td>\n",
              "      <td>Kelpie</td>\n",
              "      <td>0.132449</td>\n",
              "      <td>True</td>\n",
              "      <td>Labrador_Retriever</td>\n",
              "      <td>...</td>\n",
              "      <td>{'id': 4196983835, 'id_str': '4196983835', 'na...</td>\n",
              "      <td>NaN</td>\n",
              "      <td>NaN</td>\n",
              "      <td>NaN</td>\n",
              "      <td>NaN</td>\n",
              "      <td>False</td>\n",
              "      <td>2270.0</td>\n",
              "      <td>11106.0</td>\n",
              "      <td>False</td>\n",
              "      <td>False</td>\n",
              "    </tr>\n",
              "  </tbody>\n",
              "</table>\n",
              "<p>5 rows × 32 columns</p>\n",
              "</div>\n",
              "      <button class=\"colab-df-convert\" onclick=\"convertToInteractive('df-9d3874f3-7715-4bdf-a9c0-6ecfdcf33c3d')\"\n",
              "              title=\"Convert this dataframe to an interactive table.\"\n",
              "              style=\"display:none;\">\n",
              "        \n",
              "  <svg xmlns=\"http://www.w3.org/2000/svg\" height=\"24px\"viewBox=\"0 0 24 24\"\n",
              "       width=\"24px\">\n",
              "    <path d=\"M0 0h24v24H0V0z\" fill=\"none\"/>\n",
              "    <path d=\"M18.56 5.44l.94 2.06.94-2.06 2.06-.94-2.06-.94-.94-2.06-.94 2.06-2.06.94zm-11 1L8.5 8.5l.94-2.06 2.06-.94-2.06-.94L8.5 2.5l-.94 2.06-2.06.94zm10 10l.94 2.06.94-2.06 2.06-.94-2.06-.94-.94-2.06-.94 2.06-2.06.94z\"/><path d=\"M17.41 7.96l-1.37-1.37c-.4-.4-.92-.59-1.43-.59-.52 0-1.04.2-1.43.59L10.3 9.45l-7.72 7.72c-.78.78-.78 2.05 0 2.83L4 21.41c.39.39.9.59 1.41.59.51 0 1.02-.2 1.41-.59l7.78-7.78 2.81-2.81c.8-.78.8-2.07 0-2.86zM5.41 20L4 18.59l7.72-7.72 1.47 1.35L5.41 20z\"/>\n",
              "  </svg>\n",
              "      </button>\n",
              "      \n",
              "  <style>\n",
              "    .colab-df-container {\n",
              "      display:flex;\n",
              "      flex-wrap:wrap;\n",
              "      gap: 12px;\n",
              "    }\n",
              "\n",
              "    .colab-df-convert {\n",
              "      background-color: #E8F0FE;\n",
              "      border: none;\n",
              "      border-radius: 50%;\n",
              "      cursor: pointer;\n",
              "      display: none;\n",
              "      fill: #1967D2;\n",
              "      height: 32px;\n",
              "      padding: 0 0 0 0;\n",
              "      width: 32px;\n",
              "    }\n",
              "\n",
              "    .colab-df-convert:hover {\n",
              "      background-color: #E2EBFA;\n",
              "      box-shadow: 0px 1px 2px rgba(60, 64, 67, 0.3), 0px 1px 3px 1px rgba(60, 64, 67, 0.15);\n",
              "      fill: #174EA6;\n",
              "    }\n",
              "\n",
              "    [theme=dark] .colab-df-convert {\n",
              "      background-color: #3B4455;\n",
              "      fill: #D2E3FC;\n",
              "    }\n",
              "\n",
              "    [theme=dark] .colab-df-convert:hover {\n",
              "      background-color: #434B5C;\n",
              "      box-shadow: 0px 1px 3px 1px rgba(0, 0, 0, 0.15);\n",
              "      filter: drop-shadow(0px 1px 2px rgba(0, 0, 0, 0.3));\n",
              "      fill: #FFFFFF;\n",
              "    }\n",
              "  </style>\n",
              "\n",
              "      <script>\n",
              "        const buttonEl =\n",
              "          document.querySelector('#df-9d3874f3-7715-4bdf-a9c0-6ecfdcf33c3d button.colab-df-convert');\n",
              "        buttonEl.style.display =\n",
              "          google.colab.kernel.accessAllowed ? 'block' : 'none';\n",
              "\n",
              "        async function convertToInteractive(key) {\n",
              "          const element = document.querySelector('#df-9d3874f3-7715-4bdf-a9c0-6ecfdcf33c3d');\n",
              "          const dataTable =\n",
              "            await google.colab.kernel.invokeFunction('convertToInteractive',\n",
              "                                                     [key], {});\n",
              "          if (!dataTable) return;\n",
              "\n",
              "          const docLinkHtml = 'Like what you see? Visit the ' +\n",
              "            '<a target=\"_blank\" href=https://colab.research.google.com/notebooks/data_table.ipynb>data table notebook</a>'\n",
              "            + ' to learn more about interactive tables.';\n",
              "          element.innerHTML = '';\n",
              "          dataTable['output_type'] = 'display_data';\n",
              "          await google.colab.output.renderOutput(dataTable, element);\n",
              "          const docLink = document.createElement('div');\n",
              "          docLink.innerHTML = docLinkHtml;\n",
              "          element.appendChild(docLink);\n",
              "        }\n",
              "      </script>\n",
              "    </div>\n",
              "  </div>\n",
              "  "
            ]
          },
          "metadata": {},
          "execution_count": 531
        }
      ]
    },
    {
      "cell_type": "code",
      "source": [
        "# Displaying info\n",
        "twitter_master_df.info()"
      ],
      "metadata": {
        "colab": {
          "base_uri": "https://localhost:8080/"
        },
        "id": "Vw8pyEbDShKG",
        "outputId": "cfff0f7d-4c0d-4402-839d-f85ef1c87260"
      },
      "execution_count": 532,
      "outputs": [
        {
          "output_type": "stream",
          "name": "stdout",
          "text": [
            "<class 'pandas.core.frame.DataFrame'>\n",
            "RangeIndex: 3686 entries, 0 to 3685\n",
            "Data columns (total 32 columns):\n",
            " #   Column              Non-Null Count  Dtype  \n",
            "---  ------              --------------  -----  \n",
            " 0   tweet_id            3686 non-null   int64  \n",
            " 1   jpg_url             3686 non-null   object \n",
            " 2   img_num             3686 non-null   int64  \n",
            " 3   p1                  3686 non-null   object \n",
            " 4   p1_conf             3686 non-null   float64\n",
            " 5   p1_dog              3686 non-null   bool   \n",
            " 6   p2                  3686 non-null   object \n",
            " 7   p2_conf             3686 non-null   float64\n",
            " 8   p2_dog              3686 non-null   bool   \n",
            " 9   p3                  3686 non-null   object \n",
            " 10  p3_conf             3686 non-null   float64\n",
            " 11  p3_dog              3686 non-null   bool   \n",
            " 12  date                2148 non-null   object \n",
            " 13  text                2148 non-null   object \n",
            " 14  expanded_urls       2148 non-null   object \n",
            " 15  rating_numerator    2148 non-null   float64\n",
            " 16  rating_denominator  2148 non-null   float64\n",
            " 17  name                2148 non-null   object \n",
            " 18  dog_stage           2148 non-null   object \n",
            " 19  created_at          2266 non-null   object \n",
            " 20  id_str              2266 non-null   float64\n",
            " 21  full_text           2266 non-null   object \n",
            " 22  user                2266 non-null   object \n",
            " 23  geo                 0 non-null      float64\n",
            " 24  coordinates         0 non-null      float64\n",
            " 25  place               4 non-null      object \n",
            " 26  contributors        0 non-null      float64\n",
            " 27  is_quote_status     2266 non-null   object \n",
            " 28  retweet_count       2266 non-null   float64\n",
            " 29  favorite_count      2266 non-null   float64\n",
            " 30  favorited           2266 non-null   object \n",
            " 31  retweeted           2266 non-null   object \n",
            "dtypes: bool(3), float64(11), int64(2), object(16)\n",
            "memory usage: 846.0+ KB\n"
          ]
        }
      ]
    },
    {
      "cell_type": "code",
      "execution_count": 533,
      "metadata": {
        "colab": {
          "base_uri": "https://localhost:8080/"
        },
        "outputId": "a18f74eb-53d4-459c-b302-f36440f9071c",
        "id": "N4457rk2X8cm"
      },
      "outputs": [
        {
          "output_type": "stream",
          "name": "stdout",
          "text": [
            "Shape of Dataframe :  (3686, 32)\n",
            "Number of duplicate values : 1534\n"
          ]
        }
      ],
      "source": [
        "# counting duplicate values\n",
        "n_duplicate = sum(twitter_master_df.duplicated())\n",
        "\n",
        "print(\"Shape of Dataframe : \", twitter_master_df.shape)\n",
        "print(\"Number of duplicate values :\", n_duplicate)"
      ]
    },
    {
      "cell_type": "code",
      "source": [
        "# counting all values in dataframe\n",
        "n_total = len(twitter_master_df['tweet_id'].tolist())\n",
        "\n",
        "print(\"Number of all values :\", n_total)"
      ],
      "metadata": {
        "colab": {
          "base_uri": "https://localhost:8080/"
        },
        "id": "Vx-JisjPZ3bs",
        "outputId": "f03b8108-2763-4c33-ce58-e487ff3093e8"
      },
      "execution_count": 534,
      "outputs": [
        {
          "output_type": "stream",
          "name": "stdout",
          "text": [
            "Number of all values : 3686\n"
          ]
        }
      ]
    },
    {
      "cell_type": "code",
      "source": [
        "# Number of unique values\n",
        "n_unique = n_total - n_duplicate\n",
        "\n",
        "print(\"Number of unique values :\", n_unique)"
      ],
      "metadata": {
        "colab": {
          "base_uri": "https://localhost:8080/"
        },
        "id": "Re7Ge8Z4aDz0",
        "outputId": "d09792f3-9dce-4632-950b-b9f893c3bc1d"
      },
      "execution_count": 535,
      "outputs": [
        {
          "output_type": "stream",
          "name": "stdout",
          "text": [
            "Number of unique values : 2152\n"
          ]
        }
      ]
    },
    {
      "cell_type": "code",
      "source": [
        "# Dropping duplicates\n",
        "twitter_master_df = twitter_master_df.drop_duplicates()\n",
        "\n",
        "#confirm duplicates removed\n",
        "sum(twitter_master_df.duplicated())"
      ],
      "metadata": {
        "colab": {
          "base_uri": "https://localhost:8080/"
        },
        "id": "z-ARynJgrIKG",
        "outputId": "df846cdd-5181-4a5a-f66d-bcd64256c6db"
      },
      "execution_count": 536,
      "outputs": [
        {
          "output_type": "execute_result",
          "data": {
            "text/plain": [
              "0"
            ]
          },
          "metadata": {},
          "execution_count": 536
        }
      ]
    },
    {
      "cell_type": "markdown",
      "source": [
        "* There are no duplicates in the dataframe now"
      ],
      "metadata": {
        "id": "WokX0YJ9vYHn"
      }
    },
    {
      "cell_type": "code",
      "source": [
        "## Displaying columns and shape after dropping\n",
        "print(\"Columns: \", twitter_master_df.columns)\n",
        "print(\"Shape: \", twitter_master_df.shape)"
      ],
      "metadata": {
        "colab": {
          "base_uri": "https://localhost:8080/"
        },
        "id": "Cl1mPAeDXoPQ",
        "outputId": "b9a24143-008a-40d4-a74c-6656e531549a"
      },
      "execution_count": 537,
      "outputs": [
        {
          "output_type": "stream",
          "name": "stdout",
          "text": [
            "Columns:  Index(['tweet_id', 'jpg_url', 'img_num', 'p1', 'p1_conf', 'p1_dog', 'p2',\n",
            "       'p2_conf', 'p2_dog', 'p3', 'p3_conf', 'p3_dog', 'date', 'text',\n",
            "       'expanded_urls', 'rating_numerator', 'rating_denominator', 'name',\n",
            "       'dog_stage', 'created_at', 'id_str', 'full_text', 'user', 'geo',\n",
            "       'coordinates', 'place', 'contributors', 'is_quote_status',\n",
            "       'retweet_count', 'favorite_count', 'favorited', 'retweeted'],\n",
            "      dtype='object')\n",
            "Shape:  (2152, 32)\n"
          ]
        }
      ]
    },
    {
      "cell_type": "code",
      "source": [
        "# Displaying descriptive statistics\n",
        "twitter_master_df.describe()"
      ],
      "metadata": {
        "colab": {
          "base_uri": "https://localhost:8080/",
          "height": 0
        },
        "id": "yZSNxxoKcqbD",
        "outputId": "cf8f66c3-7d81-4d2a-a0a5-82604e6a85ac"
      },
      "execution_count": 538,
      "outputs": [
        {
          "output_type": "execute_result",
          "data": {
            "text/plain": [
              "           tweet_id      img_num      p1_conf       p2_conf       p3_conf  \\\n",
              "count  2.152000e+03  2152.000000  2152.000000  2.152000e+03  2.152000e+03   \n",
              "mean   7.414470e+17     1.214219     0.597757  1.347325e-01  5.980576e-02   \n",
              "std    6.877968e+16     0.575433     0.270923  1.013837e-01  5.091378e-02   \n",
              "min    6.660209e+17     1.000000     0.044333  1.011300e-08  1.740170e-10   \n",
              "25%    6.769493e+17     1.000000     0.368636  5.345650e-02  1.587760e-02   \n",
              "50%    7.172346e+17     1.000000     0.596458  1.174550e-01  4.896370e-02   \n",
              "75%    7.986673e+17     1.000000     0.848400  1.964295e-01  9.130702e-02   \n",
              "max    8.924206e+17     4.000000     1.000000  4.880140e-01  2.734190e-01   \n",
              "\n",
              "       rating_numerator  rating_denominator        id_str  geo  coordinates  \\\n",
              "count        614.000000               614.0  7.320000e+02  0.0          0.0   \n",
              "mean          12.159609                10.0  8.210796e+17  NaN          NaN   \n",
              "std            2.928278                 0.0  3.815912e+16  NaN          NaN   \n",
              "min            3.000000                10.0  7.164391e+17  NaN          NaN   \n",
              "25%           11.000000                10.0  7.883537e+17  NaN          NaN   \n",
              "50%           12.000000                10.0  8.194677e+17  NaN          NaN   \n",
              "75%           13.000000                10.0  8.508715e+17  NaN          NaN   \n",
              "max           75.000000                10.0  8.924206e+17  NaN          NaN   \n",
              "\n",
              "       contributors  retweet_count  favorite_count  \n",
              "count           0.0     732.000000      732.000000  \n",
              "mean            NaN    4234.131148    16383.315574  \n",
              "std             NaN    4829.490684    13712.367286  \n",
              "min             NaN     141.000000     1714.000000  \n",
              "25%             NaN    1893.750000     8161.750000  \n",
              "50%             NaN    2874.500000    12481.500000  \n",
              "75%             NaN    4535.250000    19975.000000  \n",
              "max             NaN   51647.000000   124079.000000  "
            ],
            "text/html": [
              "\n",
              "  <div id=\"df-ca877516-32e5-457e-984c-eb96e530ffce\">\n",
              "    <div class=\"colab-df-container\">\n",
              "      <div>\n",
              "<style scoped>\n",
              "    .dataframe tbody tr th:only-of-type {\n",
              "        vertical-align: middle;\n",
              "    }\n",
              "\n",
              "    .dataframe tbody tr th {\n",
              "        vertical-align: top;\n",
              "    }\n",
              "\n",
              "    .dataframe thead th {\n",
              "        text-align: right;\n",
              "    }\n",
              "</style>\n",
              "<table border=\"1\" class=\"dataframe\">\n",
              "  <thead>\n",
              "    <tr style=\"text-align: right;\">\n",
              "      <th></th>\n",
              "      <th>tweet_id</th>\n",
              "      <th>img_num</th>\n",
              "      <th>p1_conf</th>\n",
              "      <th>p2_conf</th>\n",
              "      <th>p3_conf</th>\n",
              "      <th>rating_numerator</th>\n",
              "      <th>rating_denominator</th>\n",
              "      <th>id_str</th>\n",
              "      <th>geo</th>\n",
              "      <th>coordinates</th>\n",
              "      <th>contributors</th>\n",
              "      <th>retweet_count</th>\n",
              "      <th>favorite_count</th>\n",
              "    </tr>\n",
              "  </thead>\n",
              "  <tbody>\n",
              "    <tr>\n",
              "      <th>count</th>\n",
              "      <td>2.152000e+03</td>\n",
              "      <td>2152.000000</td>\n",
              "      <td>2152.000000</td>\n",
              "      <td>2.152000e+03</td>\n",
              "      <td>2.152000e+03</td>\n",
              "      <td>614.000000</td>\n",
              "      <td>614.0</td>\n",
              "      <td>7.320000e+02</td>\n",
              "      <td>0.0</td>\n",
              "      <td>0.0</td>\n",
              "      <td>0.0</td>\n",
              "      <td>732.000000</td>\n",
              "      <td>732.000000</td>\n",
              "    </tr>\n",
              "    <tr>\n",
              "      <th>mean</th>\n",
              "      <td>7.414470e+17</td>\n",
              "      <td>1.214219</td>\n",
              "      <td>0.597757</td>\n",
              "      <td>1.347325e-01</td>\n",
              "      <td>5.980576e-02</td>\n",
              "      <td>12.159609</td>\n",
              "      <td>10.0</td>\n",
              "      <td>8.210796e+17</td>\n",
              "      <td>NaN</td>\n",
              "      <td>NaN</td>\n",
              "      <td>NaN</td>\n",
              "      <td>4234.131148</td>\n",
              "      <td>16383.315574</td>\n",
              "    </tr>\n",
              "    <tr>\n",
              "      <th>std</th>\n",
              "      <td>6.877968e+16</td>\n",
              "      <td>0.575433</td>\n",
              "      <td>0.270923</td>\n",
              "      <td>1.013837e-01</td>\n",
              "      <td>5.091378e-02</td>\n",
              "      <td>2.928278</td>\n",
              "      <td>0.0</td>\n",
              "      <td>3.815912e+16</td>\n",
              "      <td>NaN</td>\n",
              "      <td>NaN</td>\n",
              "      <td>NaN</td>\n",
              "      <td>4829.490684</td>\n",
              "      <td>13712.367286</td>\n",
              "    </tr>\n",
              "    <tr>\n",
              "      <th>min</th>\n",
              "      <td>6.660209e+17</td>\n",
              "      <td>1.000000</td>\n",
              "      <td>0.044333</td>\n",
              "      <td>1.011300e-08</td>\n",
              "      <td>1.740170e-10</td>\n",
              "      <td>3.000000</td>\n",
              "      <td>10.0</td>\n",
              "      <td>7.164391e+17</td>\n",
              "      <td>NaN</td>\n",
              "      <td>NaN</td>\n",
              "      <td>NaN</td>\n",
              "      <td>141.000000</td>\n",
              "      <td>1714.000000</td>\n",
              "    </tr>\n",
              "    <tr>\n",
              "      <th>25%</th>\n",
              "      <td>6.769493e+17</td>\n",
              "      <td>1.000000</td>\n",
              "      <td>0.368636</td>\n",
              "      <td>5.345650e-02</td>\n",
              "      <td>1.587760e-02</td>\n",
              "      <td>11.000000</td>\n",
              "      <td>10.0</td>\n",
              "      <td>7.883537e+17</td>\n",
              "      <td>NaN</td>\n",
              "      <td>NaN</td>\n",
              "      <td>NaN</td>\n",
              "      <td>1893.750000</td>\n",
              "      <td>8161.750000</td>\n",
              "    </tr>\n",
              "    <tr>\n",
              "      <th>50%</th>\n",
              "      <td>7.172346e+17</td>\n",
              "      <td>1.000000</td>\n",
              "      <td>0.596458</td>\n",
              "      <td>1.174550e-01</td>\n",
              "      <td>4.896370e-02</td>\n",
              "      <td>12.000000</td>\n",
              "      <td>10.0</td>\n",
              "      <td>8.194677e+17</td>\n",
              "      <td>NaN</td>\n",
              "      <td>NaN</td>\n",
              "      <td>NaN</td>\n",
              "      <td>2874.500000</td>\n",
              "      <td>12481.500000</td>\n",
              "    </tr>\n",
              "    <tr>\n",
              "      <th>75%</th>\n",
              "      <td>7.986673e+17</td>\n",
              "      <td>1.000000</td>\n",
              "      <td>0.848400</td>\n",
              "      <td>1.964295e-01</td>\n",
              "      <td>9.130702e-02</td>\n",
              "      <td>13.000000</td>\n",
              "      <td>10.0</td>\n",
              "      <td>8.508715e+17</td>\n",
              "      <td>NaN</td>\n",
              "      <td>NaN</td>\n",
              "      <td>NaN</td>\n",
              "      <td>4535.250000</td>\n",
              "      <td>19975.000000</td>\n",
              "    </tr>\n",
              "    <tr>\n",
              "      <th>max</th>\n",
              "      <td>8.924206e+17</td>\n",
              "      <td>4.000000</td>\n",
              "      <td>1.000000</td>\n",
              "      <td>4.880140e-01</td>\n",
              "      <td>2.734190e-01</td>\n",
              "      <td>75.000000</td>\n",
              "      <td>10.0</td>\n",
              "      <td>8.924206e+17</td>\n",
              "      <td>NaN</td>\n",
              "      <td>NaN</td>\n",
              "      <td>NaN</td>\n",
              "      <td>51647.000000</td>\n",
              "      <td>124079.000000</td>\n",
              "    </tr>\n",
              "  </tbody>\n",
              "</table>\n",
              "</div>\n",
              "      <button class=\"colab-df-convert\" onclick=\"convertToInteractive('df-ca877516-32e5-457e-984c-eb96e530ffce')\"\n",
              "              title=\"Convert this dataframe to an interactive table.\"\n",
              "              style=\"display:none;\">\n",
              "        \n",
              "  <svg xmlns=\"http://www.w3.org/2000/svg\" height=\"24px\"viewBox=\"0 0 24 24\"\n",
              "       width=\"24px\">\n",
              "    <path d=\"M0 0h24v24H0V0z\" fill=\"none\"/>\n",
              "    <path d=\"M18.56 5.44l.94 2.06.94-2.06 2.06-.94-2.06-.94-.94-2.06-.94 2.06-2.06.94zm-11 1L8.5 8.5l.94-2.06 2.06-.94-2.06-.94L8.5 2.5l-.94 2.06-2.06.94zm10 10l.94 2.06.94-2.06 2.06-.94-2.06-.94-.94-2.06-.94 2.06-2.06.94z\"/><path d=\"M17.41 7.96l-1.37-1.37c-.4-.4-.92-.59-1.43-.59-.52 0-1.04.2-1.43.59L10.3 9.45l-7.72 7.72c-.78.78-.78 2.05 0 2.83L4 21.41c.39.39.9.59 1.41.59.51 0 1.02-.2 1.41-.59l7.78-7.78 2.81-2.81c.8-.78.8-2.07 0-2.86zM5.41 20L4 18.59l7.72-7.72 1.47 1.35L5.41 20z\"/>\n",
              "  </svg>\n",
              "      </button>\n",
              "      \n",
              "  <style>\n",
              "    .colab-df-container {\n",
              "      display:flex;\n",
              "      flex-wrap:wrap;\n",
              "      gap: 12px;\n",
              "    }\n",
              "\n",
              "    .colab-df-convert {\n",
              "      background-color: #E8F0FE;\n",
              "      border: none;\n",
              "      border-radius: 50%;\n",
              "      cursor: pointer;\n",
              "      display: none;\n",
              "      fill: #1967D2;\n",
              "      height: 32px;\n",
              "      padding: 0 0 0 0;\n",
              "      width: 32px;\n",
              "    }\n",
              "\n",
              "    .colab-df-convert:hover {\n",
              "      background-color: #E2EBFA;\n",
              "      box-shadow: 0px 1px 2px rgba(60, 64, 67, 0.3), 0px 1px 3px 1px rgba(60, 64, 67, 0.15);\n",
              "      fill: #174EA6;\n",
              "    }\n",
              "\n",
              "    [theme=dark] .colab-df-convert {\n",
              "      background-color: #3B4455;\n",
              "      fill: #D2E3FC;\n",
              "    }\n",
              "\n",
              "    [theme=dark] .colab-df-convert:hover {\n",
              "      background-color: #434B5C;\n",
              "      box-shadow: 0px 1px 3px 1px rgba(0, 0, 0, 0.15);\n",
              "      filter: drop-shadow(0px 1px 2px rgba(0, 0, 0, 0.3));\n",
              "      fill: #FFFFFF;\n",
              "    }\n",
              "  </style>\n",
              "\n",
              "      <script>\n",
              "        const buttonEl =\n",
              "          document.querySelector('#df-ca877516-32e5-457e-984c-eb96e530ffce button.colab-df-convert');\n",
              "        buttonEl.style.display =\n",
              "          google.colab.kernel.accessAllowed ? 'block' : 'none';\n",
              "\n",
              "        async function convertToInteractive(key) {\n",
              "          const element = document.querySelector('#df-ca877516-32e5-457e-984c-eb96e530ffce');\n",
              "          const dataTable =\n",
              "            await google.colab.kernel.invokeFunction('convertToInteractive',\n",
              "                                                     [key], {});\n",
              "          if (!dataTable) return;\n",
              "\n",
              "          const docLinkHtml = 'Like what you see? Visit the ' +\n",
              "            '<a target=\"_blank\" href=https://colab.research.google.com/notebooks/data_table.ipynb>data table notebook</a>'\n",
              "            + ' to learn more about interactive tables.';\n",
              "          element.innerHTML = '';\n",
              "          dataTable['output_type'] = 'display_data';\n",
              "          await google.colab.output.renderOutput(dataTable, element);\n",
              "          const docLink = document.createElement('div');\n",
              "          docLink.innerHTML = docLinkHtml;\n",
              "          element.appendChild(docLink);\n",
              "        }\n",
              "      </script>\n",
              "    </div>\n",
              "  </div>\n",
              "  "
            ]
          },
          "metadata": {},
          "execution_count": 538
        }
      ]
    },
    {
      "cell_type": "markdown",
      "source": [
        "* The dogs with the highest and lowest ratings have a rating_numerator value of 75 and 3; respectively\n",
        "* The tweets with the highest and lowest retweets have a retweet_count of 51647 and 141; respectively\n",
        "* The tweets favorited the most and the least have a favorite_count of 124079 and 1714; respectively"
      ],
      "metadata": {
        "id": "TyLBpMyGdIv7"
      }
    },
    {
      "cell_type": "code",
      "source": [
        "twitter_master_df.info()"
      ],
      "metadata": {
        "colab": {
          "base_uri": "https://localhost:8080/"
        },
        "id": "xbiHN2Rpr-FZ",
        "outputId": "1dc7847d-b36e-4343-a118-f0f286879610"
      },
      "execution_count": 539,
      "outputs": [
        {
          "output_type": "stream",
          "name": "stdout",
          "text": [
            "<class 'pandas.core.frame.DataFrame'>\n",
            "Int64Index: 2152 entries, 0 to 3682\n",
            "Data columns (total 32 columns):\n",
            " #   Column              Non-Null Count  Dtype  \n",
            "---  ------              --------------  -----  \n",
            " 0   tweet_id            2152 non-null   int64  \n",
            " 1   jpg_url             2152 non-null   object \n",
            " 2   img_num             2152 non-null   int64  \n",
            " 3   p1                  2152 non-null   object \n",
            " 4   p1_conf             2152 non-null   float64\n",
            " 5   p1_dog              2152 non-null   bool   \n",
            " 6   p2                  2152 non-null   object \n",
            " 7   p2_conf             2152 non-null   float64\n",
            " 8   p2_dog              2152 non-null   bool   \n",
            " 9   p3                  2152 non-null   object \n",
            " 10  p3_conf             2152 non-null   float64\n",
            " 11  p3_dog              2152 non-null   bool   \n",
            " 12  date                614 non-null    object \n",
            " 13  text                614 non-null    object \n",
            " 14  expanded_urls       614 non-null    object \n",
            " 15  rating_numerator    614 non-null    float64\n",
            " 16  rating_denominator  614 non-null    float64\n",
            " 17  name                614 non-null    object \n",
            " 18  dog_stage           614 non-null    object \n",
            " 19  created_at          732 non-null    object \n",
            " 20  id_str              732 non-null    float64\n",
            " 21  full_text           732 non-null    object \n",
            " 22  user                732 non-null    object \n",
            " 23  geo                 0 non-null      float64\n",
            " 24  coordinates         0 non-null      float64\n",
            " 25  place               1 non-null      object \n",
            " 26  contributors        0 non-null      float64\n",
            " 27  is_quote_status     732 non-null    object \n",
            " 28  retweet_count       732 non-null    float64\n",
            " 29  favorite_count      732 non-null    float64\n",
            " 30  favorited           732 non-null    object \n",
            " 31  retweeted           732 non-null    object \n",
            "dtypes: bool(3), float64(11), int64(2), object(16)\n",
            "memory usage: 510.7+ KB\n"
          ]
        }
      ]
    },
    {
      "cell_type": "markdown",
      "metadata": {
        "id": "nl4OZY-Q45rW"
      },
      "source": [
        "### Insights:\n",
        "1. The dataset read has 3686 rows and 32 columns\n",
        "\n",
        "2. There are 1534 duplicated records; and 2152 unique records\n",
        "\n",
        "3. The dataset now has 2152 rows and 32 columns; after dropping the duplicated values\n",
        "\n",
        "4. The dogs with the highest ratings have a rating_numerator value of 75; and the dogs with the lowest ratings have a rating_numerator value of 3\n",
        "\n",
        "5. The tweets with the highest retweets have a retweet_count of 51647; and the tweets with the lowest retweets have a retweet_count of 141\n",
        "\n",
        "6. The tweets favorited the most have a favorite_count of 124079; and the tweets favorited the least have a favorite_count of 1714"
      ]
    },
    {
      "cell_type": "markdown",
      "metadata": {
        "collapsed": true,
        "id": "0jXqLD0K45rW"
      },
      "source": [
        "### Visualizations"
      ]
    },
    {
      "cell_type": "markdown",
      "source": [
        "#### 1. Histogram of Rating Numerator Values"
      ],
      "metadata": {
        "id": "pR0sdqEohpJ5"
      }
    },
    {
      "cell_type": "code",
      "execution_count": 540,
      "metadata": {
        "id": "CaBpOqfV45rX",
        "colab": {
          "base_uri": "https://localhost:8080/",
          "height": 295
        },
        "outputId": "0f90486d-8a85-4584-e310-99508f24c22d"
      },
      "outputs": [
        {
          "output_type": "display_data",
          "data": {
            "text/plain": [
              "<Figure size 432x288 with 1 Axes>"
            ],
            "image/png": "[encoded data removed]"
          },
          "metadata": {
            "needs_background": "light"
          }
        }
      ],
      "source": [
        "# Plotting distribution of rating numerators between 3 and 75\n",
        "plt.hist(twitter_master_df['rating_numerator'], range = (3, 75));\n",
        "plt.xlabel('Rating Numerator Values')\n",
        "plt.ylabel('Frequency of Values')\n",
        "plt.title('Histogram showing Distribution of Rating Numerator Values')\n",
        "plt.show()"
      ]
    },
    {
      "cell_type": "markdown",
      "source": [
        "* The histogram of the distribution of rating numerator values shows that the distribution is left-skewed\n",
        "* Hence, majority of the ratings are between values 5 and 15\n",
        "* There are a few outlier values (around 30 and 70)"
      ],
      "metadata": {
        "id": "DQhg4YY7iRCV"
      }
    },
    {
      "cell_type": "markdown",
      "source": [
        "#### 2. Scatter Plot of Retweets vs Favorites"
      ],
      "metadata": {
        "id": "cOaoqvVz4OJu"
      }
    },
    {
      "cell_type": "code",
      "source": [
        "# Scatter plot of retweets vs favorites\n",
        "plt.scatter(twitter_master_df['retweet_count'], twitter_master_df['favorite_count'])\n",
        "plt.title('Retweets vs. Favorites')\n",
        "plt.xlabel('Retweets')\n",
        "plt.ylabel('Favorites')\n",
        "plt.show()"
      ],
      "metadata": {
        "colab": {
          "base_uri": "https://localhost:8080/",
          "height": 295
        },
        "id": "PBHZDFzSc-dG",
        "outputId": "ddb395e8-2976-401d-8119-bca2f81de04f"
      },
      "execution_count": 550,
      "outputs": [
        {
          "output_type": "display_data",
          "data": {
            "text/plain": [
              "<Figure size 432x288 with 1 Axes>"
            ],
            "image/png": "[encoded data removed]"
          },
          "metadata": {
            "needs_background": "light"
          }
        }
      ]
    },
    {
      "cell_type": "markdown",
      "source": [
        "* The scatter plot of Retweets vs Favorites shows that there is a strong positive correlation between the two variables\n",
        "* This implies that the tweet of a dog which was added to favorites is likely to be retweeted, and vice versa"
      ],
      "metadata": {
        "id": "Z2FOmAot4mD9"
      }
    },
    {
      "cell_type": "markdown",
      "metadata": {
        "id": "g-Xerevi88PT"
      },
      "source": [
        "#### 3. Horizontal Bar Chart of Dog Stages Counts"
      ]
    },
    {
      "cell_type": "code",
      "execution_count": 541,
      "metadata": {
        "id": "e8xzGBEz88PT"
      },
      "outputs": [],
      "source": [
        "# Function to plot horizontal bar chart\n",
        "\n",
        "def draw_horizontal_bar(data_series, title):\n",
        "  ax = data_series.plot(kind=\"barh\", figsize=(10, 6), color='#86bf91', zorder=2, width=0.85)\n",
        "  ax.set_title(title, weight='bold', size=12)\n",
        "  # Draw vertical axis lines\n",
        "  vals = ax.get_xticks()\n",
        "  for tick in vals:\n",
        "    ax.axvline(x=tick, linestyle='dashed', alpha=0.4, color='#eeeeee', zorder=1)\n",
        "    "
      ]
    },
    {
      "cell_type": "code",
      "source": [
        "# Displaying unique value counts of dog_stage column\n",
        "twitter_master_df['dog_stage'].value_counts()"
      ],
      "metadata": {
        "colab": {
          "base_uri": "https://localhost:8080/"
        },
        "id": "1zCvpMBqogb6",
        "outputId": "d2adee73-865b-4cca-c5df-7064e92a493b"
      },
      "execution_count": 542,
      "outputs": [
        {
          "output_type": "execute_result",
          "data": {
            "text/plain": [
              "None       537\n",
              "doggo       34\n",
              "pupper      30\n",
              "puppo       11\n",
              "floofer      2\n",
              "Name: dog_stage, dtype: int64"
            ]
          },
          "metadata": {},
          "execution_count": 542
        }
      ]
    },
    {
      "cell_type": "code",
      "source": [
        "# Creating Dataframe of records where dog stage is not \"None\"\n",
        "dog_stage_df = twitter_master_df[twitter_master_df['dog_stage'] != \"None\"]\n",
        "dog_stage_df.shape"
      ],
      "metadata": {
        "colab": {
          "base_uri": "https://localhost:8080/"
        },
        "id": "k21T_qdimXUg",
        "outputId": "5b62b851-5192-4b02-fc57-e19b01acde9c"
      },
      "execution_count": 543,
      "outputs": [
        {
          "output_type": "execute_result",
          "data": {
            "text/plain": [
              "(1615, 32)"
            ]
          },
          "metadata": {},
          "execution_count": 543
        }
      ]
    },
    {
      "cell_type": "code",
      "execution_count": 544,
      "metadata": {
        "scrolled": true,
        "id": "vAljxDYo88PU",
        "outputId": "8ffc49ba-004d-41c5-af04-ba2327815c68",
        "colab": {
          "base_uri": "https://localhost:8080/",
          "height": 390
        }
      },
      "outputs": [
        {
          "output_type": "display_data",
          "data": {
            "text/plain": [
              "<Figure size 720x432 with 1 Axes>"
            ],
            "image/png": "[encoded data removed]"
          },
          "metadata": {
            "needs_background": "light"
          }
        }
      ],
      "source": [
        "# Calling function to draw chart\n",
        "draw_horizontal_bar(dog_stage_df['dog_stage'].value_counts().sort_values(), 'Number of Dogs Per Dog Stage')"
      ]
    },
    {
      "cell_type": "markdown",
      "metadata": {
        "id": "axsuzrah88PU"
      },
      "source": [
        "* The \"doggo\" stage has the highest number of dogs in the dataset; followed by \"pupper\", and \"puppo\"\n",
        "* The \"floofer\" stage has the least number of dogs"
      ]
    }
  ],
  "metadata": {
    "extensions": {
      "jupyter_dashboards": {
        "activeView": "report_default",
        "version": 1,
        "views": {
          "grid_default": {
            "cellMargin": 10,
            "defaultCellHeight": 20,
            "maxColumns": 12,
            "name": "grid",
            "type": "grid"
          },
          "report_default": {
            "name": "report",
            "type": "report"
          }
        }
      }
    },
    "kernelspec": {
      "display_name": "Python 3",
      "language": "python",
      "name": "python3"
    },
    "language_info": {
      "codemirror_mode": {
        "name": "ipython",
        "version": 3
      },
      "file_extension": ".py",
      "mimetype": "text/x-python",
      "name": "python",
      "nbconvert_exporter": "python",
      "pygments_lexer": "ipython3",
      "version": "3.6.3"
    },
    "colab": {
      "name": "wrangle_act.ipynb",
      "provenance": [],
      "collapsed_sections": [
        "fKzuGwY55x9i",
        "tTEfNh9m45rE",
        "WRZ5eU8moj23",
        "P4RiLNXIZh89",
        "HyS4ySj9ovNc",
        "MM7rGVqDpgOK",
        "RMcfm-EEJd5Y",
        "I7u5hrM8OX5F",
        "xMY6PLra1AyR",
        "_UzcgPrU45rL",
        "4NEfF_mn-tLM",
        "YjPT_7Mh-tLN",
        "t1rCCsF145rS",
        "dqasf_6O--Gd",
        "_8cgHCxL_ALs",
        "DL_YjjFR_CCQ",
        "bXHCqCKY_CCS",
        "RuV1GGeM_Fox",
        "TT1Pobq0s-sD",
        "rau4ge7t3LIm",
        "vcQP88v_3Mx5",
        "ZYiXPxtKYZhU",
        "8o79kL_w-urb",
        "AjF23xKzRnbc",
        "5WW2W-NmTE6y"
      ]
    }
  },
  "nbformat": 4,
  "nbformat_minor": 0
}